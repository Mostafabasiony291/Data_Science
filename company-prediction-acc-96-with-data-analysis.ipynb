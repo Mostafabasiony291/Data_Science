{
 "cells": [
  {
   "cell_type": "markdown",
   "id": "b3876fac",
   "metadata": {
    "papermill": {
     "duration": 0.049118,
     "end_time": "2025-03-13T15:16:20.451403",
     "exception": false,
     "start_time": "2025-03-13T15:16:20.402285",
     "status": "completed"
    },
    "tags": []
   },
   "source": [
    "# Import Libraries"
   ]
  },
  {
   "cell_type": "code",
   "execution_count": 1,
   "id": "31a29641",
   "metadata": {
    "execution": {
     "iopub.execute_input": "2025-03-13T15:16:20.543421Z",
     "iopub.status.busy": "2025-03-13T15:16:20.542840Z",
     "iopub.status.idle": "2025-03-13T15:16:25.721846Z",
     "shell.execute_reply": "2025-03-13T15:16:25.720828Z"
    },
    "papermill": {
     "duration": 5.225848,
     "end_time": "2025-03-13T15:16:25.723486",
     "exception": false,
     "start_time": "2025-03-13T15:16:20.497638",
     "status": "completed"
    },
    "tags": []
   },
   "outputs": [
    {
     "data": {
      "text/html": [
       "        <script type=\"text/javascript\">\n",
       "        window.PlotlyConfig = {MathJaxConfig: 'local'};\n",
       "        if (window.MathJax && window.MathJax.Hub && window.MathJax.Hub.Config) {window.MathJax.Hub.Config({SVG: {font: \"STIX-Web\"}});}\n",
       "        if (typeof require !== 'undefined') {\n",
       "        require.undef(\"plotly\");\n",
       "        requirejs.config({\n",
       "            paths: {\n",
       "                'plotly': ['https://cdn.plot.ly/plotly-2.35.2.min']\n",
       "            }\n",
       "        });\n",
       "        require(['plotly'], function(Plotly) {\n",
       "            window._Plotly = Plotly;\n",
       "        });\n",
       "        }\n",
       "        </script>\n",
       "        "
      ]
     },
     "metadata": {},
     "output_type": "display_data"
    }
   ],
   "source": [
    "import pandas as pd \n",
    "import numpy as np \n",
    "import matplotlib.pyplot as plt \n",
    "import seaborn as sns \n",
    "import plotly.express as px\n",
    "from sklearn.preprocessing import LabelEncoder, StandardScaler\n",
    "from sklearn.decomposition import PCA\n",
    "from sklearn.model_selection import train_test_split\n",
    "from sklearn.ensemble import RandomForestClassifier, GradientBoostingClassifier\n",
    "from sklearn.linear_model import LogisticRegression\n",
    "from sklearn.svm import SVC\n",
    "from sklearn.neighbors import KNeighborsClassifier\n",
    "from sklearn.metrics import accuracy_score, classification_report,confusion_matrix\n",
    "from plotly.offline import init_notebook_mode\n",
    "init_notebook_mode(connected=True)\n",
    "import plotly.io as pio\n",
    "import warnings\n",
    "warnings.filterwarnings('ignore')"
   ]
  },
  {
   "cell_type": "markdown",
   "id": "3b79226a",
   "metadata": {
    "papermill": {
     "duration": 0.044235,
     "end_time": "2025-03-13T15:16:25.812494",
     "exception": false,
     "start_time": "2025-03-13T15:16:25.768259",
     "status": "completed"
    },
    "tags": []
   },
   "source": [
    "# Explore Data"
   ]
  },
  {
   "cell_type": "markdown",
   "id": "5cc646e4",
   "metadata": {
    "papermill": {
     "duration": 0.044349,
     "end_time": "2025-03-13T15:16:25.900569",
     "exception": false,
     "start_time": "2025-03-13T15:16:25.856220",
     "status": "completed"
    },
    "tags": []
   },
   "source": [
    "### Loading Company Data from Excel File Using Pandas"
   ]
  },
  {
   "cell_type": "code",
   "execution_count": 2,
   "id": "4812db6e",
   "metadata": {
    "execution": {
     "iopub.execute_input": "2025-03-13T15:16:25.991385Z",
     "iopub.status.busy": "2025-03-13T15:16:25.990996Z",
     "iopub.status.idle": "2025-03-13T15:16:30.239612Z",
     "shell.execute_reply": "2025-03-13T15:16:30.238598Z"
    },
    "papermill": {
     "duration": 4.296185,
     "end_time": "2025-03-13T15:16:30.241456",
     "exception": false,
     "start_time": "2025-03-13T15:16:25.945271",
     "status": "completed"
    },
    "tags": []
   },
   "outputs": [],
   "source": [
    "df=pd.read_excel(\"/kaggle/input/company/company_data.xlsx\")"
   ]
  },
  {
   "cell_type": "markdown",
   "id": "b1e94b51",
   "metadata": {
    "papermill": {
     "duration": 0.0969,
     "end_time": "2025-03-13T15:16:30.382835",
     "exception": false,
     "start_time": "2025-03-13T15:16:30.285935",
     "status": "completed"
    },
    "tags": []
   },
   "source": [
    "### Previewing the First Five Rows of the Company Dataset"
   ]
  },
  {
   "cell_type": "code",
   "execution_count": 3,
   "id": "7264b8e1",
   "metadata": {
    "execution": {
     "iopub.execute_input": "2025-03-13T15:16:30.474218Z",
     "iopub.status.busy": "2025-03-13T15:16:30.473589Z",
     "iopub.status.idle": "2025-03-13T15:16:30.512216Z",
     "shell.execute_reply": "2025-03-13T15:16:30.511148Z"
    },
    "papermill": {
     "duration": 0.08537,
     "end_time": "2025-03-13T15:16:30.513884",
     "exception": false,
     "start_time": "2025-03-13T15:16:30.428514",
     "status": "completed"
    },
    "tags": []
   },
   "outputs": [
    {
     "data": {
      "text/html": [
       "<div>\n",
       "<style scoped>\n",
       "    .dataframe tbody tr th:only-of-type {\n",
       "        vertical-align: middle;\n",
       "    }\n",
       "\n",
       "    .dataframe tbody tr th {\n",
       "        vertical-align: top;\n",
       "    }\n",
       "\n",
       "    .dataframe thead th {\n",
       "        text-align: right;\n",
       "    }\n",
       "</style>\n",
       "<table border=\"1\" class=\"dataframe\">\n",
       "  <thead>\n",
       "    <tr style=\"text-align: right;\">\n",
       "      <th></th>\n",
       "      <th>Order ID</th>\n",
       "      <th>Order Date</th>\n",
       "      <th>Unit Cost</th>\n",
       "      <th>Price</th>\n",
       "      <th>Order Qty</th>\n",
       "      <th>Cost of Sales</th>\n",
       "      <th>Sales</th>\n",
       "      <th>Profit</th>\n",
       "      <th>Channel</th>\n",
       "      <th>Promotion Name</th>\n",
       "      <th>Product Name</th>\n",
       "      <th>Manufacturer</th>\n",
       "      <th>Product Sub Category</th>\n",
       "      <th>Product Category</th>\n",
       "      <th>Region</th>\n",
       "      <th>City</th>\n",
       "      <th>Country</th>\n",
       "    </tr>\n",
       "  </thead>\n",
       "  <tbody>\n",
       "    <tr>\n",
       "      <th>0</th>\n",
       "      <td>7077</td>\n",
       "      <td>2017-09-13</td>\n",
       "      <td>76.094968</td>\n",
       "      <td>304.00</td>\n",
       "      <td>9</td>\n",
       "      <td>684.854710</td>\n",
       "      <td>2714.7200</td>\n",
       "      <td>2029.865290</td>\n",
       "      <td>Store</td>\n",
       "      <td>European Spring Promotion</td>\n",
       "      <td>Contoso SLR Camera M143 Grey</td>\n",
       "      <td>Contoso, Ltd</td>\n",
       "      <td>Digital SLR Cameras</td>\n",
       "      <td>Cameras and camcorders</td>\n",
       "      <td>Europe</td>\n",
       "      <td>Moscow</td>\n",
       "      <td>Russia</td>\n",
       "    </tr>\n",
       "    <tr>\n",
       "      <th>1</th>\n",
       "      <td>117</td>\n",
       "      <td>2016-08-20</td>\n",
       "      <td>7.491753</td>\n",
       "      <td>12.99</td>\n",
       "      <td>4</td>\n",
       "      <td>29.967011</td>\n",
       "      <td>50.1414</td>\n",
       "      <td>20.174389</td>\n",
       "      <td>Store</td>\n",
       "      <td>European Spring Promotion</td>\n",
       "      <td>Contoso 512MB MP3 Player E51 Blue</td>\n",
       "      <td>Contoso, Ltd</td>\n",
       "      <td>MP4&amp;MP3</td>\n",
       "      <td>Audio</td>\n",
       "      <td>Europe</td>\n",
       "      <td>Moscow</td>\n",
       "      <td>Russia</td>\n",
       "    </tr>\n",
       "    <tr>\n",
       "      <th>2</th>\n",
       "      <td>7018</td>\n",
       "      <td>2016-07-08</td>\n",
       "      <td>10.122338</td>\n",
       "      <td>159.99</td>\n",
       "      <td>9</td>\n",
       "      <td>91.101039</td>\n",
       "      <td>1395.1128</td>\n",
       "      <td>1304.011761</td>\n",
       "      <td>Store</td>\n",
       "      <td>European Spring Promotion</td>\n",
       "      <td>Contoso DVD 9-Inch Player Portable M300 Silver</td>\n",
       "      <td>Contoso, Ltd</td>\n",
       "      <td>Movie DVD</td>\n",
       "      <td>Music, Movies and Audio Books</td>\n",
       "      <td>Europe</td>\n",
       "      <td>Moscow</td>\n",
       "      <td>Russia</td>\n",
       "    </tr>\n",
       "    <tr>\n",
       "      <th>3</th>\n",
       "      <td>140</td>\n",
       "      <td>2018-08-11</td>\n",
       "      <td>0.576153</td>\n",
       "      <td>25.69</td>\n",
       "      <td>18</td>\n",
       "      <td>10.370759</td>\n",
       "      <td>462.4200</td>\n",
       "      <td>452.049241</td>\n",
       "      <td>Store</td>\n",
       "      <td>North America Spring Promotion</td>\n",
       "      <td>NT Bluetooth Stereo Headphones E52 Pink</td>\n",
       "      <td>Northwind Traders</td>\n",
       "      <td>Bluetooth Headphones</td>\n",
       "      <td>Audio</td>\n",
       "      <td>North America</td>\n",
       "      <td>Bellevue</td>\n",
       "      <td>United States</td>\n",
       "    </tr>\n",
       "    <tr>\n",
       "      <th>4</th>\n",
       "      <td>491</td>\n",
       "      <td>2017-07-15</td>\n",
       "      <td>108.508777</td>\n",
       "      <td>304.00</td>\n",
       "      <td>9</td>\n",
       "      <td>976.578991</td>\n",
       "      <td>2614.4000</td>\n",
       "      <td>1637.821009</td>\n",
       "      <td>Online</td>\n",
       "      <td>Asian Spring Promotion</td>\n",
       "      <td>Contoso SLR Camera M143 Grey</td>\n",
       "      <td>Contoso, Ltd</td>\n",
       "      <td>Digital SLR Cameras</td>\n",
       "      <td>Cameras and camcorders</td>\n",
       "      <td>Asia</td>\n",
       "      <td>Beijing</td>\n",
       "      <td>China</td>\n",
       "    </tr>\n",
       "  </tbody>\n",
       "</table>\n",
       "</div>"
      ],
      "text/plain": [
       "   Order ID Order Date   Unit Cost   Price  Order Qty  Cost of Sales  \\\n",
       "0      7077 2017-09-13   76.094968  304.00          9     684.854710   \n",
       "1       117 2016-08-20    7.491753   12.99          4      29.967011   \n",
       "2      7018 2016-07-08   10.122338  159.99          9      91.101039   \n",
       "3       140 2018-08-11    0.576153   25.69         18      10.370759   \n",
       "4       491 2017-07-15  108.508777  304.00          9     976.578991   \n",
       "\n",
       "       Sales       Profit Channel                  Promotion Name  \\\n",
       "0  2714.7200  2029.865290   Store       European Spring Promotion   \n",
       "1    50.1414    20.174389   Store       European Spring Promotion   \n",
       "2  1395.1128  1304.011761   Store       European Spring Promotion   \n",
       "3   462.4200   452.049241   Store  North America Spring Promotion   \n",
       "4  2614.4000  1637.821009  Online          Asian Spring Promotion   \n",
       "\n",
       "                                     Product Name       Manufacturer  \\\n",
       "0                    Contoso SLR Camera M143 Grey       Contoso, Ltd   \n",
       "1               Contoso 512MB MP3 Player E51 Blue       Contoso, Ltd   \n",
       "2  Contoso DVD 9-Inch Player Portable M300 Silver       Contoso, Ltd   \n",
       "3         NT Bluetooth Stereo Headphones E52 Pink  Northwind Traders   \n",
       "4                    Contoso SLR Camera M143 Grey       Contoso, Ltd   \n",
       "\n",
       "   Product Sub Category               Product Category         Region  \\\n",
       "0   Digital SLR Cameras        Cameras and camcorders          Europe   \n",
       "1               MP4&MP3                          Audio         Europe   \n",
       "2             Movie DVD  Music, Movies and Audio Books         Europe   \n",
       "3  Bluetooth Headphones                          Audio  North America   \n",
       "4   Digital SLR Cameras        Cameras and camcorders            Asia   \n",
       "\n",
       "       City        Country  \n",
       "0    Moscow         Russia  \n",
       "1    Moscow         Russia  \n",
       "2    Moscow         Russia  \n",
       "3  Bellevue  United States  \n",
       "4   Beijing          China  "
      ]
     },
     "execution_count": 3,
     "metadata": {},
     "output_type": "execute_result"
    }
   ],
   "source": [
    "df.head()"
   ]
  },
  {
   "cell_type": "markdown",
   "id": "b1489517",
   "metadata": {
    "papermill": {
     "duration": 0.044693,
     "end_time": "2025-03-13T15:16:30.604369",
     "exception": false,
     "start_time": "2025-03-13T15:16:30.559676",
     "status": "completed"
    },
    "tags": []
   },
   "source": [
    "### Getting the Dimensions of the Company Dataset (Rows, Columns)\n"
   ]
  },
  {
   "cell_type": "code",
   "execution_count": 4,
   "id": "dfab5f33",
   "metadata": {
    "execution": {
     "iopub.execute_input": "2025-03-13T15:16:30.697273Z",
     "iopub.status.busy": "2025-03-13T15:16:30.696861Z",
     "iopub.status.idle": "2025-03-13T15:16:30.702771Z",
     "shell.execute_reply": "2025-03-13T15:16:30.701882Z"
    },
    "papermill": {
     "duration": 0.053479,
     "end_time": "2025-03-13T15:16:30.704433",
     "exception": false,
     "start_time": "2025-03-13T15:16:30.650954",
     "status": "completed"
    },
    "tags": []
   },
   "outputs": [
    {
     "data": {
      "text/plain": [
       "(15000, 17)"
      ]
     },
     "execution_count": 4,
     "metadata": {},
     "output_type": "execute_result"
    }
   ],
   "source": [
    "df.shape"
   ]
  },
  {
   "cell_type": "markdown",
   "id": "af6290e2",
   "metadata": {
    "papermill": {
     "duration": 0.044702,
     "end_time": "2025-03-13T15:16:30.794375",
     "exception": false,
     "start_time": "2025-03-13T15:16:30.749673",
     "status": "completed"
    },
    "tags": []
   },
   "source": [
    "### Listing All Column Names in the Company Dataset"
   ]
  },
  {
   "cell_type": "code",
   "execution_count": 5,
   "id": "b2c5c815",
   "metadata": {
    "execution": {
     "iopub.execute_input": "2025-03-13T15:16:30.887775Z",
     "iopub.status.busy": "2025-03-13T15:16:30.887417Z",
     "iopub.status.idle": "2025-03-13T15:16:30.893680Z",
     "shell.execute_reply": "2025-03-13T15:16:30.892650Z"
    },
    "papermill": {
     "duration": 0.054029,
     "end_time": "2025-03-13T15:16:30.895319",
     "exception": false,
     "start_time": "2025-03-13T15:16:30.841290",
     "status": "completed"
    },
    "tags": []
   },
   "outputs": [
    {
     "data": {
      "text/plain": [
       "Index(['Order ID', 'Order Date', 'Unit Cost', 'Price', 'Order Qty',\n",
       "       'Cost of Sales', 'Sales', 'Profit', 'Channel', 'Promotion Name',\n",
       "       'Product Name', 'Manufacturer', 'Product Sub Category',\n",
       "       'Product Category', 'Region', 'City', 'Country'],\n",
       "      dtype='object')"
      ]
     },
     "execution_count": 5,
     "metadata": {},
     "output_type": "execute_result"
    }
   ],
   "source": [
    "df.columns"
   ]
  },
  {
   "cell_type": "markdown",
   "id": "dbbbec62",
   "metadata": {
    "papermill": {
     "duration": 0.045106,
     "end_time": "2025-03-13T15:16:30.986342",
     "exception": false,
     "start_time": "2025-03-13T15:16:30.941236",
     "status": "completed"
    },
    "tags": []
   },
   "source": [
    "### Displaying Dataset Summary: Data Types & Missing Values"
   ]
  },
  {
   "cell_type": "code",
   "execution_count": 6,
   "id": "7743ea11",
   "metadata": {
    "execution": {
     "iopub.execute_input": "2025-03-13T15:16:31.079680Z",
     "iopub.status.busy": "2025-03-13T15:16:31.079314Z",
     "iopub.status.idle": "2025-03-13T15:16:31.111775Z",
     "shell.execute_reply": "2025-03-13T15:16:31.110450Z"
    },
    "papermill": {
     "duration": 0.081249,
     "end_time": "2025-03-13T15:16:31.113511",
     "exception": false,
     "start_time": "2025-03-13T15:16:31.032262",
     "status": "completed"
    },
    "tags": []
   },
   "outputs": [
    {
     "name": "stdout",
     "output_type": "stream",
     "text": [
      "<class 'pandas.core.frame.DataFrame'>\n",
      "RangeIndex: 15000 entries, 0 to 14999\n",
      "Data columns (total 17 columns):\n",
      " #   Column                Non-Null Count  Dtype         \n",
      "---  ------                --------------  -----         \n",
      " 0   Order ID              15000 non-null  int64         \n",
      " 1   Order Date            15000 non-null  datetime64[ns]\n",
      " 2   Unit Cost             15000 non-null  float64       \n",
      " 3   Price                 15000 non-null  float64       \n",
      " 4   Order Qty             15000 non-null  int64         \n",
      " 5   Cost of Sales         15000 non-null  float64       \n",
      " 6   Sales                 15000 non-null  float64       \n",
      " 7   Profit                15000 non-null  float64       \n",
      " 8   Channel               15000 non-null  object        \n",
      " 9   Promotion Name        15000 non-null  object        \n",
      " 10  Product Name          15000 non-null  object        \n",
      " 11  Manufacturer          15000 non-null  object        \n",
      " 12  Product Sub Category  15000 non-null  object        \n",
      " 13  Product Category      15000 non-null  object        \n",
      " 14  Region                15000 non-null  object        \n",
      " 15  City                  15000 non-null  object        \n",
      " 16  Country               15000 non-null  object        \n",
      "dtypes: datetime64[ns](1), float64(5), int64(2), object(9)\n",
      "memory usage: 1.9+ MB\n"
     ]
    }
   ],
   "source": [
    "df.info()"
   ]
  },
  {
   "cell_type": "markdown",
   "id": "973969c0",
   "metadata": {
    "papermill": {
     "duration": 0.044957,
     "end_time": "2025-03-13T15:16:31.204259",
     "exception": false,
     "start_time": "2025-03-13T15:16:31.159302",
     "status": "completed"
    },
    "tags": []
   },
   "source": [
    "### Checking for Missing Values in the Company Dataset"
   ]
  },
  {
   "cell_type": "code",
   "execution_count": 7,
   "id": "6b73d3ae",
   "metadata": {
    "execution": {
     "iopub.execute_input": "2025-03-13T15:16:31.296006Z",
     "iopub.status.busy": "2025-03-13T15:16:31.295613Z",
     "iopub.status.idle": "2025-03-13T15:16:31.311739Z",
     "shell.execute_reply": "2025-03-13T15:16:31.310787Z"
    },
    "papermill": {
     "duration": 0.063836,
     "end_time": "2025-03-13T15:16:31.313483",
     "exception": false,
     "start_time": "2025-03-13T15:16:31.249647",
     "status": "completed"
    },
    "tags": []
   },
   "outputs": [
    {
     "data": {
      "text/plain": [
       "Order ID                0\n",
       "Order Date              0\n",
       "Unit Cost               0\n",
       "Price                   0\n",
       "Order Qty               0\n",
       "Cost of Sales           0\n",
       "Sales                   0\n",
       "Profit                  0\n",
       "Channel                 0\n",
       "Promotion Name          0\n",
       "Product Name            0\n",
       "Manufacturer            0\n",
       "Product Sub Category    0\n",
       "Product Category        0\n",
       "Region                  0\n",
       "City                    0\n",
       "Country                 0\n",
       "dtype: int64"
      ]
     },
     "execution_count": 7,
     "metadata": {},
     "output_type": "execute_result"
    }
   ],
   "source": [
    "df.isnull().sum()"
   ]
  },
  {
   "cell_type": "markdown",
   "id": "d5a2d584",
   "metadata": {
    "papermill": {
     "duration": 0.045796,
     "end_time": "2025-03-13T15:16:31.404670",
     "exception": false,
     "start_time": "2025-03-13T15:16:31.358874",
     "status": "completed"
    },
    "tags": []
   },
   "source": [
    "### Checking for Duplicate Rows in the Company Dataset"
   ]
  },
  {
   "cell_type": "code",
   "execution_count": 8,
   "id": "adc223a1",
   "metadata": {
    "execution": {
     "iopub.execute_input": "2025-03-13T15:16:31.496286Z",
     "iopub.status.busy": "2025-03-13T15:16:31.495880Z",
     "iopub.status.idle": "2025-03-13T15:16:31.517173Z",
     "shell.execute_reply": "2025-03-13T15:16:31.516156Z"
    },
    "papermill": {
     "duration": 0.0688,
     "end_time": "2025-03-13T15:16:31.518748",
     "exception": false,
     "start_time": "2025-03-13T15:16:31.449948",
     "status": "completed"
    },
    "tags": []
   },
   "outputs": [
    {
     "data": {
      "text/plain": [
       "0"
      ]
     },
     "execution_count": 8,
     "metadata": {},
     "output_type": "execute_result"
    }
   ],
   "source": [
    "df.duplicated().sum()"
   ]
  },
  {
   "cell_type": "markdown",
   "id": "769e1e6f",
   "metadata": {
    "papermill": {
     "duration": 0.044961,
     "end_time": "2025-03-13T15:16:31.610176",
     "exception": false,
     "start_time": "2025-03-13T15:16:31.565215",
     "status": "completed"
    },
    "tags": []
   },
   "source": [
    "### Removing the 'Order ID' Column and Displaying Updated Data"
   ]
  },
  {
   "cell_type": "code",
   "execution_count": 9,
   "id": "621c27d9",
   "metadata": {
    "execution": {
     "iopub.execute_input": "2025-03-13T15:16:31.701732Z",
     "iopub.status.busy": "2025-03-13T15:16:31.701360Z",
     "iopub.status.idle": "2025-03-13T15:16:31.723029Z",
     "shell.execute_reply": "2025-03-13T15:16:31.722011Z"
    },
    "papermill": {
     "duration": 0.069236,
     "end_time": "2025-03-13T15:16:31.724645",
     "exception": false,
     "start_time": "2025-03-13T15:16:31.655409",
     "status": "completed"
    },
    "tags": []
   },
   "outputs": [
    {
     "data": {
      "text/html": [
       "<div>\n",
       "<style scoped>\n",
       "    .dataframe tbody tr th:only-of-type {\n",
       "        vertical-align: middle;\n",
       "    }\n",
       "\n",
       "    .dataframe tbody tr th {\n",
       "        vertical-align: top;\n",
       "    }\n",
       "\n",
       "    .dataframe thead th {\n",
       "        text-align: right;\n",
       "    }\n",
       "</style>\n",
       "<table border=\"1\" class=\"dataframe\">\n",
       "  <thead>\n",
       "    <tr style=\"text-align: right;\">\n",
       "      <th></th>\n",
       "      <th>Order Date</th>\n",
       "      <th>Unit Cost</th>\n",
       "      <th>Price</th>\n",
       "      <th>Order Qty</th>\n",
       "      <th>Cost of Sales</th>\n",
       "      <th>Sales</th>\n",
       "      <th>Profit</th>\n",
       "      <th>Channel</th>\n",
       "      <th>Promotion Name</th>\n",
       "      <th>Product Name</th>\n",
       "      <th>Manufacturer</th>\n",
       "      <th>Product Sub Category</th>\n",
       "      <th>Product Category</th>\n",
       "      <th>Region</th>\n",
       "      <th>City</th>\n",
       "      <th>Country</th>\n",
       "    </tr>\n",
       "  </thead>\n",
       "  <tbody>\n",
       "    <tr>\n",
       "      <th>0</th>\n",
       "      <td>2017-09-13</td>\n",
       "      <td>76.094968</td>\n",
       "      <td>304.00</td>\n",
       "      <td>9</td>\n",
       "      <td>684.854710</td>\n",
       "      <td>2714.7200</td>\n",
       "      <td>2029.865290</td>\n",
       "      <td>Store</td>\n",
       "      <td>European Spring Promotion</td>\n",
       "      <td>Contoso SLR Camera M143 Grey</td>\n",
       "      <td>Contoso, Ltd</td>\n",
       "      <td>Digital SLR Cameras</td>\n",
       "      <td>Cameras and camcorders</td>\n",
       "      <td>Europe</td>\n",
       "      <td>Moscow</td>\n",
       "      <td>Russia</td>\n",
       "    </tr>\n",
       "    <tr>\n",
       "      <th>1</th>\n",
       "      <td>2016-08-20</td>\n",
       "      <td>7.491753</td>\n",
       "      <td>12.99</td>\n",
       "      <td>4</td>\n",
       "      <td>29.967011</td>\n",
       "      <td>50.1414</td>\n",
       "      <td>20.174389</td>\n",
       "      <td>Store</td>\n",
       "      <td>European Spring Promotion</td>\n",
       "      <td>Contoso 512MB MP3 Player E51 Blue</td>\n",
       "      <td>Contoso, Ltd</td>\n",
       "      <td>MP4&amp;MP3</td>\n",
       "      <td>Audio</td>\n",
       "      <td>Europe</td>\n",
       "      <td>Moscow</td>\n",
       "      <td>Russia</td>\n",
       "    </tr>\n",
       "    <tr>\n",
       "      <th>2</th>\n",
       "      <td>2016-07-08</td>\n",
       "      <td>10.122338</td>\n",
       "      <td>159.99</td>\n",
       "      <td>9</td>\n",
       "      <td>91.101039</td>\n",
       "      <td>1395.1128</td>\n",
       "      <td>1304.011761</td>\n",
       "      <td>Store</td>\n",
       "      <td>European Spring Promotion</td>\n",
       "      <td>Contoso DVD 9-Inch Player Portable M300 Silver</td>\n",
       "      <td>Contoso, Ltd</td>\n",
       "      <td>Movie DVD</td>\n",
       "      <td>Music, Movies and Audio Books</td>\n",
       "      <td>Europe</td>\n",
       "      <td>Moscow</td>\n",
       "      <td>Russia</td>\n",
       "    </tr>\n",
       "    <tr>\n",
       "      <th>3</th>\n",
       "      <td>2018-08-11</td>\n",
       "      <td>0.576153</td>\n",
       "      <td>25.69</td>\n",
       "      <td>18</td>\n",
       "      <td>10.370759</td>\n",
       "      <td>462.4200</td>\n",
       "      <td>452.049241</td>\n",
       "      <td>Store</td>\n",
       "      <td>North America Spring Promotion</td>\n",
       "      <td>NT Bluetooth Stereo Headphones E52 Pink</td>\n",
       "      <td>Northwind Traders</td>\n",
       "      <td>Bluetooth Headphones</td>\n",
       "      <td>Audio</td>\n",
       "      <td>North America</td>\n",
       "      <td>Bellevue</td>\n",
       "      <td>United States</td>\n",
       "    </tr>\n",
       "    <tr>\n",
       "      <th>4</th>\n",
       "      <td>2017-07-15</td>\n",
       "      <td>108.508777</td>\n",
       "      <td>304.00</td>\n",
       "      <td>9</td>\n",
       "      <td>976.578991</td>\n",
       "      <td>2614.4000</td>\n",
       "      <td>1637.821009</td>\n",
       "      <td>Online</td>\n",
       "      <td>Asian Spring Promotion</td>\n",
       "      <td>Contoso SLR Camera M143 Grey</td>\n",
       "      <td>Contoso, Ltd</td>\n",
       "      <td>Digital SLR Cameras</td>\n",
       "      <td>Cameras and camcorders</td>\n",
       "      <td>Asia</td>\n",
       "      <td>Beijing</td>\n",
       "      <td>China</td>\n",
       "    </tr>\n",
       "  </tbody>\n",
       "</table>\n",
       "</div>"
      ],
      "text/plain": [
       "  Order Date   Unit Cost   Price  Order Qty  Cost of Sales      Sales  \\\n",
       "0 2017-09-13   76.094968  304.00          9     684.854710  2714.7200   \n",
       "1 2016-08-20    7.491753   12.99          4      29.967011    50.1414   \n",
       "2 2016-07-08   10.122338  159.99          9      91.101039  1395.1128   \n",
       "3 2018-08-11    0.576153   25.69         18      10.370759   462.4200   \n",
       "4 2017-07-15  108.508777  304.00          9     976.578991  2614.4000   \n",
       "\n",
       "        Profit Channel                  Promotion Name  \\\n",
       "0  2029.865290   Store       European Spring Promotion   \n",
       "1    20.174389   Store       European Spring Promotion   \n",
       "2  1304.011761   Store       European Spring Promotion   \n",
       "3   452.049241   Store  North America Spring Promotion   \n",
       "4  1637.821009  Online          Asian Spring Promotion   \n",
       "\n",
       "                                     Product Name       Manufacturer  \\\n",
       "0                    Contoso SLR Camera M143 Grey       Contoso, Ltd   \n",
       "1               Contoso 512MB MP3 Player E51 Blue       Contoso, Ltd   \n",
       "2  Contoso DVD 9-Inch Player Portable M300 Silver       Contoso, Ltd   \n",
       "3         NT Bluetooth Stereo Headphones E52 Pink  Northwind Traders   \n",
       "4                    Contoso SLR Camera M143 Grey       Contoso, Ltd   \n",
       "\n",
       "   Product Sub Category               Product Category         Region  \\\n",
       "0   Digital SLR Cameras        Cameras and camcorders          Europe   \n",
       "1               MP4&MP3                          Audio         Europe   \n",
       "2             Movie DVD  Music, Movies and Audio Books         Europe   \n",
       "3  Bluetooth Headphones                          Audio  North America   \n",
       "4   Digital SLR Cameras        Cameras and camcorders            Asia   \n",
       "\n",
       "       City        Country  \n",
       "0    Moscow         Russia  \n",
       "1    Moscow         Russia  \n",
       "2    Moscow         Russia  \n",
       "3  Bellevue  United States  \n",
       "4   Beijing          China  "
      ]
     },
     "execution_count": 9,
     "metadata": {},
     "output_type": "execute_result"
    }
   ],
   "source": [
    "df.drop(columns='Order ID',inplace=True)\n",
    "df.head()"
   ]
  },
  {
   "cell_type": "markdown",
   "id": "e08dbde7",
   "metadata": {
    "papermill": {
     "duration": 0.045229,
     "end_time": "2025-03-13T15:16:31.815733",
     "exception": false,
     "start_time": "2025-03-13T15:16:31.770504",
     "status": "completed"
    },
    "tags": []
   },
   "source": [
    "### Converting 'Order Date' to Datetime Format and Extracting the Year"
   ]
  },
  {
   "cell_type": "code",
   "execution_count": 10,
   "id": "87c64e37",
   "metadata": {
    "execution": {
     "iopub.execute_input": "2025-03-13T15:16:31.908771Z",
     "iopub.status.busy": "2025-03-13T15:16:31.908399Z",
     "iopub.status.idle": "2025-03-13T15:16:31.923837Z",
     "shell.execute_reply": "2025-03-13T15:16:31.922965Z"
    },
    "papermill": {
     "duration": 0.063704,
     "end_time": "2025-03-13T15:16:31.925660",
     "exception": false,
     "start_time": "2025-03-13T15:16:31.861956",
     "status": "completed"
    },
    "tags": []
   },
   "outputs": [],
   "source": [
    "df[\"Order Date\"] = pd.to_datetime(df[\"Order Date\"])\n",
    "df[\"Year\"] = df[\"Order Date\"].dt.year\n"
   ]
  },
  {
   "cell_type": "markdown",
   "id": "4fb13665",
   "metadata": {
    "papermill": {
     "duration": 0.045195,
     "end_time": "2025-03-13T15:16:32.016606",
     "exception": false,
     "start_time": "2025-03-13T15:16:31.971411",
     "status": "completed"
    },
    "tags": []
   },
   "source": [
    "### Generating a Heatmap to Visualize the Correlation Matrix of Numerical Features"
   ]
  },
  {
   "cell_type": "code",
   "execution_count": 11,
   "id": "c3ffff5f",
   "metadata": {
    "execution": {
     "iopub.execute_input": "2025-03-13T15:16:32.109565Z",
     "iopub.status.busy": "2025-03-13T15:16:32.109230Z",
     "iopub.status.idle": "2025-03-13T15:16:32.551573Z",
     "shell.execute_reply": "2025-03-13T15:16:32.550413Z"
    },
    "papermill": {
     "duration": 0.491476,
     "end_time": "2025-03-13T15:16:32.553504",
     "exception": false,
     "start_time": "2025-03-13T15:16:32.062028",
     "status": "completed"
    },
    "tags": []
   },
   "outputs": [
    {
     "data": {
      "image/png": "[encoded data removed]",
      "text/plain": [
       "<Figure size 640x480 with 2 Axes>"
      ]
     },
     "metadata": {},
     "output_type": "display_data"
    }
   ],
   "source": [
    "correlation_matrix = df.corr(numeric_only=True)\n",
    "sns.heatmap(correlation_matrix, annot=True, fmt=\".2f\", cmap='coolwarm', square=True, cbar_kws={\"shrink\": .8})\n",
    "plt.show()"
   ]
  },
  {
   "cell_type": "markdown",
   "id": "09c27770",
   "metadata": {
    "papermill": {
     "duration": 0.047956,
     "end_time": "2025-03-13T15:16:32.649670",
     "exception": false,
     "start_time": "2025-03-13T15:16:32.601714",
     "status": "completed"
    },
    "tags": []
   },
   "source": [
    "### Generating Summary Statistics for Numerical Columns in the Dataset\n"
   ]
  },
  {
   "cell_type": "code",
   "execution_count": 12,
   "id": "9afc9a6b",
   "metadata": {
    "execution": {
     "iopub.execute_input": "2025-03-13T15:16:32.747168Z",
     "iopub.status.busy": "2025-03-13T15:16:32.746762Z",
     "iopub.status.idle": "2025-03-13T15:16:32.781260Z",
     "shell.execute_reply": "2025-03-13T15:16:32.780258Z"
    },
    "papermill": {
     "duration": 0.085343,
     "end_time": "2025-03-13T15:16:32.782914",
     "exception": false,
     "start_time": "2025-03-13T15:16:32.697571",
     "status": "completed"
    },
    "tags": []
   },
   "outputs": [
    {
     "data": {
      "text/html": [
       "<div>\n",
       "<style scoped>\n",
       "    .dataframe tbody tr th:only-of-type {\n",
       "        vertical-align: middle;\n",
       "    }\n",
       "\n",
       "    .dataframe tbody tr th {\n",
       "        vertical-align: top;\n",
       "    }\n",
       "\n",
       "    .dataframe thead th {\n",
       "        text-align: right;\n",
       "    }\n",
       "</style>\n",
       "<table border=\"1\" class=\"dataframe\">\n",
       "  <thead>\n",
       "    <tr style=\"text-align: right;\">\n",
       "      <th></th>\n",
       "      <th>Order Date</th>\n",
       "      <th>Unit Cost</th>\n",
       "      <th>Price</th>\n",
       "      <th>Order Qty</th>\n",
       "      <th>Cost of Sales</th>\n",
       "      <th>Sales</th>\n",
       "      <th>Profit</th>\n",
       "      <th>Year</th>\n",
       "    </tr>\n",
       "  </thead>\n",
       "  <tbody>\n",
       "    <tr>\n",
       "      <th>count</th>\n",
       "      <td>15000</td>\n",
       "      <td>15000.000000</td>\n",
       "      <td>15000.000000</td>\n",
       "      <td>15000.000000</td>\n",
       "      <td>15000.000000</td>\n",
       "      <td>15000.000000</td>\n",
       "      <td>15000.000000</td>\n",
       "      <td>15000.000000</td>\n",
       "    </tr>\n",
       "    <tr>\n",
       "      <th>mean</th>\n",
       "      <td>2017-09-29 02:00:23.040000</td>\n",
       "      <td>124.425132</td>\n",
       "      <td>296.514697</td>\n",
       "      <td>16.741733</td>\n",
       "      <td>1586.954833</td>\n",
       "      <td>3692.783986</td>\n",
       "      <td>2105.829152</td>\n",
       "      <td>2017.237000</td>\n",
       "    </tr>\n",
       "    <tr>\n",
       "      <th>min</th>\n",
       "      <td>2016-06-02 00:00:00</td>\n",
       "      <td>0.001576</td>\n",
       "      <td>0.950000</td>\n",
       "      <td>4.000000</td>\n",
       "      <td>0.015756</td>\n",
       "      <td>4.750000</td>\n",
       "      <td>-838.426733</td>\n",
       "      <td>2016.000000</td>\n",
       "    </tr>\n",
       "    <tr>\n",
       "      <th>25%</th>\n",
       "      <td>2016-12-24 00:00:00</td>\n",
       "      <td>16.847345</td>\n",
       "      <td>59.000000</td>\n",
       "      <td>9.000000</td>\n",
       "      <td>189.677420</td>\n",
       "      <td>645.000000</td>\n",
       "      <td>242.198732</td>\n",
       "      <td>2016.000000</td>\n",
       "    </tr>\n",
       "    <tr>\n",
       "      <th>50%</th>\n",
       "      <td>2017-08-17 00:00:00</td>\n",
       "      <td>69.688876</td>\n",
       "      <td>205.000000</td>\n",
       "      <td>10.000000</td>\n",
       "      <td>752.752320</td>\n",
       "      <td>2301.175750</td>\n",
       "      <td>1012.683637</td>\n",
       "      <td>2017.000000</td>\n",
       "    </tr>\n",
       "    <tr>\n",
       "      <th>75%</th>\n",
       "      <td>2018-06-18 00:00:00</td>\n",
       "      <td>164.348636</td>\n",
       "      <td>366.000000</td>\n",
       "      <td>13.000000</td>\n",
       "      <td>2006.030237</td>\n",
       "      <td>4767.720000</td>\n",
       "      <td>2573.128436</td>\n",
       "      <td>2018.000000</td>\n",
       "    </tr>\n",
       "    <tr>\n",
       "      <th>max</th>\n",
       "      <td>2019-06-02 00:00:00</td>\n",
       "      <td>1896.133845</td>\n",
       "      <td>2899.990000</td>\n",
       "      <td>1560.000000</td>\n",
       "      <td>42991.137192</td>\n",
       "      <td>78312.000000</td>\n",
       "      <td>55692.569522</td>\n",
       "      <td>2019.000000</td>\n",
       "    </tr>\n",
       "    <tr>\n",
       "      <th>std</th>\n",
       "      <td>NaN</td>\n",
       "      <td>163.569912</td>\n",
       "      <td>345.985232</td>\n",
       "      <td>43.490032</td>\n",
       "      <td>2408.961430</td>\n",
       "      <td>4917.886955</td>\n",
       "      <td>3387.145437</td>\n",
       "      <td>0.955663</td>\n",
       "    </tr>\n",
       "  </tbody>\n",
       "</table>\n",
       "</div>"
      ],
      "text/plain": [
       "                       Order Date     Unit Cost         Price     Order Qty  \\\n",
       "count                       15000  15000.000000  15000.000000  15000.000000   \n",
       "mean   2017-09-29 02:00:23.040000    124.425132    296.514697     16.741733   \n",
       "min           2016-06-02 00:00:00      0.001576      0.950000      4.000000   \n",
       "25%           2016-12-24 00:00:00     16.847345     59.000000      9.000000   \n",
       "50%           2017-08-17 00:00:00     69.688876    205.000000     10.000000   \n",
       "75%           2018-06-18 00:00:00    164.348636    366.000000     13.000000   \n",
       "max           2019-06-02 00:00:00   1896.133845   2899.990000   1560.000000   \n",
       "std                           NaN    163.569912    345.985232     43.490032   \n",
       "\n",
       "       Cost of Sales         Sales        Profit          Year  \n",
       "count   15000.000000  15000.000000  15000.000000  15000.000000  \n",
       "mean     1586.954833   3692.783986   2105.829152   2017.237000  \n",
       "min         0.015756      4.750000   -838.426733   2016.000000  \n",
       "25%       189.677420    645.000000    242.198732   2016.000000  \n",
       "50%       752.752320   2301.175750   1012.683637   2017.000000  \n",
       "75%      2006.030237   4767.720000   2573.128436   2018.000000  \n",
       "max     42991.137192  78312.000000  55692.569522   2019.000000  \n",
       "std      2408.961430   4917.886955   3387.145437      0.955663  "
      ]
     },
     "execution_count": 12,
     "metadata": {},
     "output_type": "execute_result"
    }
   ],
   "source": [
    "df.describe()"
   ]
  },
  {
   "cell_type": "markdown",
   "id": "f262bff6",
   "metadata": {
    "papermill": {
     "duration": 0.049071,
     "end_time": "2025-03-13T15:16:32.881561",
     "exception": false,
     "start_time": "2025-03-13T15:16:32.832490",
     "status": "completed"
    },
    "tags": []
   },
   "source": [
    "# Data Analysis and Visualization"
   ]
  },
  {
   "cell_type": "markdown",
   "id": "828ccc3f",
   "metadata": {
    "papermill": {
     "duration": 0.048154,
     "end_time": "2025-03-13T15:16:32.978879",
     "exception": false,
     "start_time": "2025-03-13T15:16:32.930725",
     "status": "completed"
    },
    "tags": []
   },
   "source": [
    "### Annual Order Trends: Yearly Order Volume Analysis"
   ]
  },
  {
   "cell_type": "code",
   "execution_count": 13,
   "id": "93950fe9",
   "metadata": {
    "execution": {
     "iopub.execute_input": "2025-03-13T15:16:33.078857Z",
     "iopub.status.busy": "2025-03-13T15:16:33.078415Z",
     "iopub.status.idle": "2025-03-13T15:16:35.165005Z",
     "shell.execute_reply": "2025-03-13T15:16:35.163776Z"
    },
    "papermill": {
     "duration": 2.138955,
     "end_time": "2025-03-13T15:16:35.166991",
     "exception": false,
     "start_time": "2025-03-13T15:16:33.028036",
     "status": "completed"
    },
    "tags": []
   },
   "outputs": [
    {
     "data": {
      "text/html": [
       "<iframe\n",
       "    scrolling=\"no\"\n",
       "    width=\"920px\"\n",
       "    height=\"520\"\n",
       "    src=\"iframe_figures/figure_13.html\"\n",
       "    frameborder=\"0\"\n",
       "    allowfullscreen\n",
       "></iframe>\n"
      ]
     },
     "metadata": {},
     "output_type": "display_data"
    }
   ],
   "source": [
    "pio.renderers.default = 'iframe'\n",
    "orders_per_year = df['Order Date'].dt.year.value_counts().sort_index()\n",
    "\n",
    "orders_df = orders_per_year.reset_index()\n",
    "orders_df.columns = [\"Year\", \"Orders Count\"]\n",
    "\n",
    "fig = px.bar(\n",
    "    orders_df, \n",
    "    x=\"Year\", \n",
    "    y=\"Orders Count\", \n",
    "    title=\"Number of Orders Per Year\",\n",
    "    text=\"Orders Count\",  \n",
    "    color=\"Orders Count\",  \n",
    "    color_continuous_scale=\"viridis\", \n",
    "    width=900,  \n",
    "    height=500  \n",
    ")\n",
    "\n",
    "fig.update_traces(texttemplate='%{text}', textposition='outside')\n",
    "\n",
    "fig.show()\n"
   ]
  },
  {
   "cell_type": "markdown",
   "id": "fc091680",
   "metadata": {
    "papermill": {
     "duration": 0.065889,
     "end_time": "2025-03-13T15:16:35.284110",
     "exception": false,
     "start_time": "2025-03-13T15:16:35.218221",
     "status": "completed"
    },
    "tags": []
   },
   "source": [
    "### Monthly Order Distribution: Insights into Sales Trends\n",
    "\n",
    "\n",
    "\n",
    "\n",
    "\n",
    "\n"
   ]
  },
  {
   "cell_type": "code",
   "execution_count": 14,
   "id": "cd07a926",
   "metadata": {
    "execution": {
     "iopub.execute_input": "2025-03-13T15:16:35.394177Z",
     "iopub.status.busy": "2025-03-13T15:16:35.393682Z",
     "iopub.status.idle": "2025-03-13T15:16:35.527556Z",
     "shell.execute_reply": "2025-03-13T15:16:35.526229Z"
    },
    "papermill": {
     "duration": 0.186969,
     "end_time": "2025-03-13T15:16:35.529898",
     "exception": false,
     "start_time": "2025-03-13T15:16:35.342929",
     "status": "completed"
    },
    "tags": []
   },
   "outputs": [
    {
     "data": {
      "text/html": [
       "<iframe\n",
       "    scrolling=\"no\"\n",
       "    width=\"520px\"\n",
       "    height=\"520\"\n",
       "    src=\"iframe_figures/figure_14.html\"\n",
       "    frameborder=\"0\"\n",
       "    allowfullscreen\n",
       "></iframe>\n"
      ]
     },
     "metadata": {},
     "output_type": "display_data"
    }
   ],
   "source": [
    "orders_per_month = df['Order Date'].dt.month.value_counts().sort_index()\n",
    "\n",
    "orders_df = orders_per_month.reset_index()\n",
    "orders_df.columns = [\"Month\", \"Orders Count\"]\n",
    "\n",
    "fig = px.pie(\n",
    "    orders_df, \n",
    "    names=\"Month\", \n",
    "    values=\"Orders Count\", \n",
    "    title=\"Orders Per Month\", \n",
    "    hole=0.3,  \n",
    "    color_discrete_sequence=px.colors.sequential.Plasma  \n",
    ")\n",
    "\n",
    "fig.update_traces(textinfo=\"percent+label\")  \n",
    "fig.update_layout(height=500, width=500)\n",
    "\n",
    "fig.show()\n"
   ]
  },
  {
   "cell_type": "markdown",
   "id": "61d52b06",
   "metadata": {
    "papermill": {
     "duration": 0.049456,
     "end_time": "2025-03-13T15:16:35.635203",
     "exception": false,
     "start_time": "2025-03-13T15:16:35.585747",
     "status": "completed"
    },
    "tags": []
   },
   "source": [
    "### Distribution of Sales Channels in the Dataset"
   ]
  },
  {
   "cell_type": "code",
   "execution_count": 15,
   "id": "d54dcb93",
   "metadata": {
    "execution": {
     "iopub.execute_input": "2025-03-13T15:16:35.735804Z",
     "iopub.status.busy": "2025-03-13T15:16:35.735469Z",
     "iopub.status.idle": "2025-03-13T15:16:35.852490Z",
     "shell.execute_reply": "2025-03-13T15:16:35.851288Z"
    },
    "papermill": {
     "duration": 0.16963,
     "end_time": "2025-03-13T15:16:35.854462",
     "exception": false,
     "start_time": "2025-03-13T15:16:35.684832",
     "status": "completed"
    },
    "tags": []
   },
   "outputs": [
    {
     "name": "stdout",
     "output_type": "stream",
     "text": [
      "Channel\n",
      "Store       9981\n",
      "Online      2351\n",
      "Reseller    1784\n",
      "Catalog      884\n",
      "Name: count, dtype: int64\n",
      "-------------------------------------------------------------------------------------------------------------------\n"
     ]
    },
    {
     "data": {
      "text/html": [
       "<iframe\n",
       "    scrolling=\"no\"\n",
       "    width=\"100%\"\n",
       "    height=\"545px\"\n",
       "    src=\"iframe_figures/figure_15.html\"\n",
       "    frameborder=\"0\"\n",
       "    allowfullscreen\n",
       "></iframe>\n"
      ]
     },
     "metadata": {},
     "output_type": "display_data"
    }
   ],
   "source": [
    "cahnnel_count=df[\"Channel\"].value_counts()\n",
    "print(cahnnel_count)\n",
    "print(\"-\"*115)\n",
    "\n",
    "cahnnel_count=px.bar(cahnnel_count,color=cahnnel_count)\n",
    "cahnnel_count.show()"
   ]
  },
  {
   "cell_type": "markdown",
   "id": "1a33b03d",
   "metadata": {
    "papermill": {
     "duration": 0.049982,
     "end_time": "2025-03-13T15:16:35.962494",
     "exception": false,
     "start_time": "2025-03-13T15:16:35.912512",
     "status": "completed"
    },
    "tags": []
   },
   "source": [
    "### Total Profit by Sales Channel"
   ]
  },
  {
   "cell_type": "code",
   "execution_count": 16,
   "id": "f49681c5",
   "metadata": {
    "execution": {
     "iopub.execute_input": "2025-03-13T15:16:36.064139Z",
     "iopub.status.busy": "2025-03-13T15:16:36.063735Z",
     "iopub.status.idle": "2025-03-13T15:16:36.075645Z",
     "shell.execute_reply": "2025-03-13T15:16:36.074512Z"
    },
    "papermill": {
     "duration": 0.065375,
     "end_time": "2025-03-13T15:16:36.077585",
     "exception": false,
     "start_time": "2025-03-13T15:16:36.012210",
     "status": "completed"
    },
    "tags": []
   },
   "outputs": [
    {
     "data": {
      "text/plain": [
       "Channel\n",
       "Store       1.804928e+07\n",
       "Online      6.529717e+06\n",
       "Reseller    4.112546e+06\n",
       "Catalog     2.895895e+06\n",
       "Name: Profit, dtype: float64"
      ]
     },
     "execution_count": 16,
     "metadata": {},
     "output_type": "execute_result"
    }
   ],
   "source": [
    "cahnnel_profit=df.groupby(\"Channel\")[\"Profit\"].sum().sort_values(ascending=False)\n",
    "cahnnel_profit"
   ]
  },
  {
   "cell_type": "markdown",
   "id": "01b4e7fd",
   "metadata": {
    "papermill": {
     "duration": 0.050712,
     "end_time": "2025-03-13T15:16:36.183955",
     "exception": false,
     "start_time": "2025-03-13T15:16:36.133243",
     "status": "completed"
    },
    "tags": []
   },
   "source": [
    "### Visualizing Total Profit by Sales Channel"
   ]
  },
  {
   "cell_type": "code",
   "execution_count": 17,
   "id": "e4e221f8",
   "metadata": {
    "execution": {
     "iopub.execute_input": "2025-03-13T15:16:36.284805Z",
     "iopub.status.busy": "2025-03-13T15:16:36.284324Z",
     "iopub.status.idle": "2025-03-13T15:16:36.394240Z",
     "shell.execute_reply": "2025-03-13T15:16:36.393172Z"
    },
    "papermill": {
     "duration": 0.162462,
     "end_time": "2025-03-13T15:16:36.395970",
     "exception": false,
     "start_time": "2025-03-13T15:16:36.233508",
     "status": "completed"
    },
    "tags": []
   },
   "outputs": [
    {
     "data": {
      "text/html": [
       "<iframe\n",
       "    scrolling=\"no\"\n",
       "    width=\"100%\"\n",
       "    height=\"545px\"\n",
       "    src=\"iframe_figures/figure_17.html\"\n",
       "    frameborder=\"0\"\n",
       "    allowfullscreen\n",
       "></iframe>\n"
      ]
     },
     "metadata": {},
     "output_type": "display_data"
    }
   ],
   "source": [
    "cahnnel_profit=px.bar(cahnnel_profit,color=cahnnel_profit,title=\"Total Profit by Sales Channel\")\n",
    "cahnnel_profit.show()"
   ]
  },
  {
   "cell_type": "markdown",
   "id": "822c4d40",
   "metadata": {
    "papermill": {
     "duration": 0.050701,
     "end_time": "2025-03-13T15:16:36.552023",
     "exception": false,
     "start_time": "2025-03-13T15:16:36.501322",
     "status": "completed"
    },
    "tags": []
   },
   "source": [
    "* 1️⃣ The Store channel is the most profitable, generating 18M+ in total profit, significantly higher than other channels.\n",
    "* 2️⃣ Online sales are the second most profitable, with 6.5M in total profit, indicating strong digital performance.\n",
    "* 3️⃣ Reseller and Catalog channels contribute the least, with 4.1M and 2.9M in profit, respectively.\n",
    "* 4️⃣ The Store channel dominates in profitability, suggesting that in-person sales are a key revenue driver.\n",
    "*  5️⃣ Improving the Online channel further through better marketing or promotions could help increase its profitability"
   ]
  },
  {
   "cell_type": "markdown",
   "id": "5132f4c8",
   "metadata": {
    "papermill": {
     "duration": 0.048575,
     "end_time": "2025-03-13T15:16:36.649869",
     "exception": false,
     "start_time": "2025-03-13T15:16:36.601294",
     "status": "completed"
    },
    "tags": []
   },
   "source": [
    "### Average Sales Per Order by Sales Channel"
   ]
  },
  {
   "cell_type": "code",
   "execution_count": 18,
   "id": "1d5d4a40",
   "metadata": {
    "execution": {
     "iopub.execute_input": "2025-03-13T15:16:36.749352Z",
     "iopub.status.busy": "2025-03-13T15:16:36.748951Z",
     "iopub.status.idle": "2025-03-13T15:16:36.760271Z",
     "shell.execute_reply": "2025-03-13T15:16:36.759164Z"
    },
    "papermill": {
     "duration": 0.063104,
     "end_time": "2025-03-13T15:16:36.762003",
     "exception": false,
     "start_time": "2025-03-13T15:16:36.698899",
     "status": "completed"
    },
    "tags": []
   },
   "outputs": [
    {
     "data": {
      "text/plain": [
       "Channel\n",
       "Catalog     5656.438273\n",
       "Online      4891.623699\n",
       "Reseller    4019.402352\n",
       "Store       3178.103120\n",
       "Name: Sales, dtype: float64"
      ]
     },
     "execution_count": 18,
     "metadata": {},
     "output_type": "execute_result"
    }
   ],
   "source": [
    "cahnnel_sales=df.groupby(\"Channel\")[\"Sales\"].mean()\n",
    "cahnnel_sales"
   ]
  },
  {
   "cell_type": "markdown",
   "id": "ec94cc9d",
   "metadata": {
    "papermill": {
     "duration": 0.049154,
     "end_time": "2025-03-13T15:16:36.860795",
     "exception": false,
     "start_time": "2025-03-13T15:16:36.811641",
     "status": "completed"
    },
    "tags": []
   },
   "source": [
    "*  1️⃣ The Store channel has the highest average sales per order, meaning customers tend to spend more per purchase in physical stores.\n",
    "🔹 Actionable Insight: Invest in improving the in-store experience and personalized upselling strategies.\n",
    "\n",
    "* 2️⃣ Online sales have moderate average sales per order, showing potential for growth.\n",
    "🔹 Actionable Insight: Enhance digital marketing efforts, optimize the website, and introduce bundling offers to increase online sales per transaction.\n",
    "\n",
    "* 3️⃣ Reseller and Catalog channels have the lowest average sales per order, indicating lower transaction values.\n",
    "🔹 Actionable Insight: Offer incentives or discounts for bulk purchases in these channels to boost revenue.\n",
    "\n",
    "* 4️⃣ Cross-checking with profit data is essential, as high sales do not always mean high profits.\n",
    "🔹 Actionable Insight: Analyze profit margins per channel to prioritize the most profitable sales strategies."
   ]
  },
  {
   "cell_type": "code",
   "execution_count": 19,
   "id": "037356bf",
   "metadata": {
    "execution": {
     "iopub.execute_input": "2025-03-13T15:16:36.961547Z",
     "iopub.status.busy": "2025-03-13T15:16:36.961182Z",
     "iopub.status.idle": "2025-03-13T15:16:37.064180Z",
     "shell.execute_reply": "2025-03-13T15:16:37.063088Z"
    },
    "papermill": {
     "duration": 0.156178,
     "end_time": "2025-03-13T15:16:37.065873",
     "exception": false,
     "start_time": "2025-03-13T15:16:36.909695",
     "status": "completed"
    },
    "tags": []
   },
   "outputs": [
    {
     "data": {
      "text/html": [
       "<iframe\n",
       "    scrolling=\"no\"\n",
       "    width=\"100%\"\n",
       "    height=\"545px\"\n",
       "    src=\"iframe_figures/figure_19.html\"\n",
       "    frameborder=\"0\"\n",
       "    allowfullscreen\n",
       "></iframe>\n"
      ]
     },
     "metadata": {},
     "output_type": "display_data"
    }
   ],
   "source": [
    "cahnnel_sales=px.bar(cahnnel_sales,color=cahnnel_sales,title=\"Sales Distribution by Channel\")\n",
    "cahnnel_sales.show()"
   ]
  },
  {
   "cell_type": "markdown",
   "id": "e4c60252",
   "metadata": {
    "papermill": {
     "duration": 0.048706,
     "end_time": "2025-03-13T15:16:37.164800",
     "exception": false,
     "start_time": "2025-03-13T15:16:37.116094",
     "status": "completed"
    },
    "tags": []
   },
   "source": [
    "\n",
    "* 1️⃣ The Store channel has the highest average sales per order, meaning customers tend to spend more per purchase in physical stores. 🔹 Actionable Insight: Invest in improving the in-store experience and personalized upselling strategies.\n",
    "\n",
    "* 2️⃣ Online sales have moderate average sales per order, showing potential for growth.\n",
    "\n",
    "  🔹 Actionable Insight: Enhance digital marketing efforts, optimize the website, and introduce bundling offers to increase online sales per transaction.\n",
    "\n",
    "* 3️⃣ Reseller and Catalog channels have the lowest average sales per order, indicating lower transaction values.\n",
    "\n",
    "  🔹 Actionable Insight: Offer incentives or discounts for bulk purchases in these channels to boost revenue.\n",
    "\n",
    "* 4️⃣ Cross-checking with profit data is essential, as high sales do not always mean high profits.\n",
    "\n",
    " 🔹 Actionable Insight: Analyze profit margins per channel to prioritize the most profitable sales strategies.\n"
   ]
  },
  {
   "cell_type": "markdown",
   "id": "8ec1e296",
   "metadata": {
    "papermill": {
     "duration": 0.049808,
     "end_time": "2025-03-13T15:16:37.265428",
     "exception": false,
     "start_time": "2025-03-13T15:16:37.215620",
     "status": "completed"
    },
    "tags": []
   },
   "source": [
    "### Order Distribution Across Regions"
   ]
  },
  {
   "cell_type": "code",
   "execution_count": 20,
   "id": "986b9566",
   "metadata": {
    "execution": {
     "iopub.execute_input": "2025-03-13T15:16:37.365614Z",
     "iopub.status.busy": "2025-03-13T15:16:37.365256Z",
     "iopub.status.idle": "2025-03-13T15:16:37.473360Z",
     "shell.execute_reply": "2025-03-13T15:16:37.472183Z"
    },
    "papermill": {
     "duration": 0.159518,
     "end_time": "2025-03-13T15:16:37.474913",
     "exception": false,
     "start_time": "2025-03-13T15:16:37.315395",
     "status": "completed"
    },
    "tags": []
   },
   "outputs": [
    {
     "name": "stdout",
     "output_type": "stream",
     "text": [
      "Region\n",
      "North America    8869\n",
      "Europe           3081\n",
      "Asia             3050\n",
      "Name: count, dtype: int64\n",
      "-------------------------------------------------------------------------------------------------------------------\n"
     ]
    },
    {
     "data": {
      "text/html": [
       "<iframe\n",
       "    scrolling=\"no\"\n",
       "    width=\"100%\"\n",
       "    height=\"545px\"\n",
       "    src=\"iframe_figures/figure_20.html\"\n",
       "    frameborder=\"0\"\n",
       "    allowfullscreen\n",
       "></iframe>\n"
      ]
     },
     "metadata": {},
     "output_type": "display_data"
    }
   ],
   "source": [
    "Region_counts=df[\"Region\"].value_counts()\n",
    "print(Region_counts)\n",
    "print(\"-\"*115)\n",
    "Region_counts=px.bar(Region_counts,color=Region_counts)\n",
    "Region_counts.show()"
   ]
  },
  {
   "cell_type": "markdown",
   "id": "4dafc013",
   "metadata": {
    "papermill": {
     "duration": 0.050123,
     "end_time": "2025-03-13T15:16:37.574974",
     "exception": false,
     "start_time": "2025-03-13T15:16:37.524851",
     "status": "completed"
    },
    "tags": []
   },
   "source": [
    "* 1️⃣ The region with the highest number of orders dominates the market, indicating strong demand and potential for further investment.\n",
    "* 2️⃣ Regions with lower order counts may need targeted marketing efforts to boost sales.\n",
    "* 3️⃣ Expanding logistics and distribution in high-performing regions could enhance delivery efficiency and customer satisfaction.\n",
    "* 4️⃣ Analyzing regional demand trends helps in optimizing inventory allocation and ensuring the right products are available in the right locations.\n"
   ]
  },
  {
   "cell_type": "markdown",
   "id": "82368641",
   "metadata": {
    "papermill": {
     "duration": 0.048939,
     "end_time": "2025-03-13T15:16:37.674490",
     "exception": false,
     "start_time": "2025-03-13T15:16:37.625551",
     "status": "completed"
    },
    "tags": []
   },
   "source": [
    "### Sales Channel Distribution Across Regions"
   ]
  },
  {
   "cell_type": "code",
   "execution_count": 21,
   "id": "25e0d0a3",
   "metadata": {
    "execution": {
     "iopub.execute_input": "2025-03-13T15:16:37.774872Z",
     "iopub.status.busy": "2025-03-13T15:16:37.774499Z",
     "iopub.status.idle": "2025-03-13T15:16:37.803464Z",
     "shell.execute_reply": "2025-03-13T15:16:37.802454Z"
    },
    "papermill": {
     "duration": 0.081181,
     "end_time": "2025-03-13T15:16:37.805120",
     "exception": false,
     "start_time": "2025-03-13T15:16:37.723939",
     "status": "completed"
    },
    "tags": []
   },
   "outputs": [
    {
     "data": {
      "text/html": [
       "<div>\n",
       "<style scoped>\n",
       "    .dataframe tbody tr th:only-of-type {\n",
       "        vertical-align: middle;\n",
       "    }\n",
       "\n",
       "    .dataframe tbody tr th {\n",
       "        vertical-align: top;\n",
       "    }\n",
       "\n",
       "    .dataframe thead th {\n",
       "        text-align: right;\n",
       "    }\n",
       "</style>\n",
       "<table border=\"1\" class=\"dataframe\">\n",
       "  <thead>\n",
       "    <tr style=\"text-align: right;\">\n",
       "      <th>Channel</th>\n",
       "      <th>Catalog</th>\n",
       "      <th>Online</th>\n",
       "      <th>Reseller</th>\n",
       "      <th>Store</th>\n",
       "    </tr>\n",
       "    <tr>\n",
       "      <th>Region</th>\n",
       "      <th></th>\n",
       "      <th></th>\n",
       "      <th></th>\n",
       "      <th></th>\n",
       "    </tr>\n",
       "  </thead>\n",
       "  <tbody>\n",
       "    <tr>\n",
       "      <th>Asia</th>\n",
       "      <td>0</td>\n",
       "      <td>758</td>\n",
       "      <td>615</td>\n",
       "      <td>1677</td>\n",
       "    </tr>\n",
       "    <tr>\n",
       "      <th>Europe</th>\n",
       "      <td>0</td>\n",
       "      <td>758</td>\n",
       "      <td>571</td>\n",
       "      <td>1752</td>\n",
       "    </tr>\n",
       "    <tr>\n",
       "      <th>North America</th>\n",
       "      <td>884</td>\n",
       "      <td>835</td>\n",
       "      <td>598</td>\n",
       "      <td>6552</td>\n",
       "    </tr>\n",
       "  </tbody>\n",
       "</table>\n",
       "</div>"
      ],
      "text/plain": [
       "Channel        Catalog  Online  Reseller  Store\n",
       "Region                                         \n",
       "Asia                 0     758       615   1677\n",
       "Europe               0     758       571   1752\n",
       "North America      884     835       598   6552"
      ]
     },
     "execution_count": 21,
     "metadata": {},
     "output_type": "execute_result"
    }
   ],
   "source": [
    "channel_region=pd.crosstab( df[\"Region\"],df[\"Channel\"])\n",
    "channel_region"
   ]
  },
  {
   "cell_type": "code",
   "execution_count": 22,
   "id": "24572a1f",
   "metadata": {
    "execution": {
     "iopub.execute_input": "2025-03-13T15:16:37.906475Z",
     "iopub.status.busy": "2025-03-13T15:16:37.906104Z",
     "iopub.status.idle": "2025-03-13T15:16:38.055478Z",
     "shell.execute_reply": "2025-03-13T15:16:38.054207Z"
    },
    "papermill": {
     "duration": 0.201149,
     "end_time": "2025-03-13T15:16:38.057321",
     "exception": false,
     "start_time": "2025-03-13T15:16:37.856172",
     "status": "completed"
    },
    "tags": []
   },
   "outputs": [
    {
     "data": {
      "text/html": [
       "<iframe\n",
       "    scrolling=\"no\"\n",
       "    width=\"820px\"\n",
       "    height=\"520\"\n",
       "    src=\"iframe_figures/figure_22.html\"\n",
       "    frameborder=\"0\"\n",
       "    allowfullscreen\n",
       "></iframe>\n"
      ]
     },
     "metadata": {},
     "output_type": "display_data"
    }
   ],
   "source": [
    "channel_region = channel_region.reset_index().melt(id_vars=\"Region\", var_name=\"Channel\", value_name=\"Sales\")\n",
    "fig = px.bar(\n",
    "    channel_region,\n",
    "    x='Region',           \n",
    "    y='Sales',            \n",
    "    color='Channel',     \n",
    "    title=\"Distribution of Sales Channels Across Regions\",\n",
    "    labels={'Sales': 'Total Sales', 'Region': 'Region'},  \n",
    "    barmode='group',    \n",
    "    height=500,         \n",
    "    width=800           \n",
    ")\n",
    "\n",
    "fig.update_layout(\n",
    "    xaxis_tickangle=-45,      \n",
    "    plot_bgcolor='white',    \n",
    "    font=dict(family='Arial'),  \n",
    "    hoverlabel=dict(           \n",
    "        bgcolor=\"white\",\n",
    "        font_size=12,\n",
    "        font_family=\"Arial\"\n",
    "    )\n",
    ")\n",
    "\n",
    "fig.update_traces(\n",
    "    texttemplate='%{y}',    \n",
    "    textposition='outside'  \n",
    ")\n",
    "\n",
    "fig.show()\n"
   ]
  },
  {
   "cell_type": "markdown",
   "id": "72249f8b",
   "metadata": {
    "papermill": {
     "duration": 0.049342,
     "end_time": "2025-03-13T15:16:38.157296",
     "exception": false,
     "start_time": "2025-03-13T15:16:38.107954",
     "status": "completed"
    },
    "tags": []
   },
   "source": [
    "* 1️⃣ Some regions rely heavily on specific sales channels, showing variations in customer purchasing behavior.\n",
    "\n",
    "  🔹 Actionable Insight: Tailor marketing strategies per region—focus on online advertising in regions with low digital sales and enhance in-store promotions where physical sales dominate.\n",
    "\n",
    "* 2️⃣ Regions with strong in-store sales but weak online sales represent a digital growth opportunity.\n",
    "\n",
    "  🔹 Actionable Insight: Invest in localized online campaigns, improve delivery options, and introduce regionalized discounts to boost e-commerce adoption.\n",
    "\n",
    "* 3️⃣ Reseller and catalog-based sales are strong in certain areas, suggesting a preference for bulk or business-oriented purchases.\n",
    "\n",
    "   🔹 Actionable Insight: Strengthen partnerships with resellers, offer bulk order incentives, and optimize supply chain logistics for these high-performing regions.\n",
    "\n",
    "* 4️⃣ Balancing channel distribution across regions can enhance profitability and operational efficiency.\n",
    "\n",
    "   🔹 Actionable Insight: Use data-driven inventory management to allocate stock efficiently across regions and channels, reducing costs and maximizing sales potential."
   ]
  },
  {
   "cell_type": "markdown",
   "id": "9798387d",
   "metadata": {
    "papermill": {
     "duration": 0.04983,
     "end_time": "2025-03-13T15:16:38.257565",
     "exception": false,
     "start_time": "2025-03-13T15:16:38.207735",
     "status": "completed"
    },
    "tags": []
   },
   "source": [
    "### Sales Performance by Channel and Region"
   ]
  },
  {
   "cell_type": "code",
   "execution_count": 23,
   "id": "5d30eb56",
   "metadata": {
    "execution": {
     "iopub.execute_input": "2025-03-13T15:16:38.358658Z",
     "iopub.status.busy": "2025-03-13T15:16:38.358268Z",
     "iopub.status.idle": "2025-03-13T15:16:38.470807Z",
     "shell.execute_reply": "2025-03-13T15:16:38.469792Z"
    },
    "papermill": {
     "duration": 0.165252,
     "end_time": "2025-03-13T15:16:38.472723",
     "exception": false,
     "start_time": "2025-03-13T15:16:38.307471",
     "status": "completed"
    },
    "tags": []
   },
   "outputs": [
    {
     "data": {
      "text/html": [
       "<iframe\n",
       "    scrolling=\"no\"\n",
       "    width=\"100%\"\n",
       "    height=\"545px\"\n",
       "    src=\"iframe_figures/figure_23.html\"\n",
       "    frameborder=\"0\"\n",
       "    allowfullscreen\n",
       "></iframe>\n"
      ]
     },
     "metadata": {},
     "output_type": "display_data"
    }
   ],
   "source": [
    "channel_region = df.groupby([\"Channel\", \"Region\"])[\"Sales\"].sum().reset_index()\n",
    "\n",
    "fig = px.bar(channel_region, x=\"Region\", y=\"Sales\", color=\"Channel\", title=\"Sales by Channel and Region\")\n",
    "fig.show()"
   ]
  },
  {
   "cell_type": "markdown",
   "id": "727de090",
   "metadata": {
    "papermill": {
     "duration": 0.049542,
     "end_time": "2025-03-13T15:16:38.572659",
     "exception": false,
     "start_time": "2025-03-13T15:16:38.523117",
     "status": "completed"
    },
    "tags": []
   },
   "source": [
    "* 1️⃣ Some regions contribute significantly more to total sales, indicating strong demand in specific areas.\n",
    "\n",
    "    🔹 Actionable Insight: Focus marketing and distribution efforts in high-performing regions to maximize sales impact.\n",
    "\n",
    "* 2️⃣ Certain sales channels dominate in specific regions, showing customer preferences based on location.\n",
    "\n",
    "    🔹 Actionable Insight: Enhance the presence of underperforming channels in regions where they have lower market share, such as promoting online sales in regions where physical stores dominate.\n",
    "\n",
    "* 3️⃣ Online sales may vary significantly by region, highlighting digital adoption differences.\n",
    "\n",
    "    🔹 Actionable Insight: Optimize e-commerce strategies, such as localized advertising, faster delivery options, or exclusive regional online promotions.\n",
    "\n",
    "* 4️⃣ Regions with lower sales across all channels indicate untapped potential.\n",
    "\n",
    "    🔹 Actionable Insight: Conduct market research to understand barriers and implement region-specific promotions or partnerships to drive engagement."
   ]
  },
  {
   "cell_type": "markdown",
   "id": "69c326c3",
   "metadata": {
    "papermill": {
     "duration": 0.053092,
     "end_time": "2025-03-13T15:16:38.691474",
     "exception": false,
     "start_time": "2025-03-13T15:16:38.638382",
     "status": "completed"
    },
    "tags": []
   },
   "source": [
    "### Top Sales Channel Per Year"
   ]
  },
  {
   "cell_type": "code",
   "execution_count": 24,
   "id": "aa84ab67",
   "metadata": {
    "execution": {
     "iopub.execute_input": "2025-03-13T15:16:38.792584Z",
     "iopub.status.busy": "2025-03-13T15:16:38.792208Z",
     "iopub.status.idle": "2025-03-13T15:16:38.810275Z",
     "shell.execute_reply": "2025-03-13T15:16:38.809189Z"
    },
    "papermill": {
     "duration": 0.070583,
     "end_time": "2025-03-13T15:16:38.811970",
     "exception": false,
     "start_time": "2025-03-13T15:16:38.741387",
     "status": "completed"
    },
    "tags": []
   },
   "outputs": [
    {
     "data": {
      "text/html": [
       "<div>\n",
       "<style scoped>\n",
       "    .dataframe tbody tr th:only-of-type {\n",
       "        vertical-align: middle;\n",
       "    }\n",
       "\n",
       "    .dataframe tbody tr th {\n",
       "        vertical-align: top;\n",
       "    }\n",
       "\n",
       "    .dataframe thead th {\n",
       "        text-align: right;\n",
       "    }\n",
       "</style>\n",
       "<table border=\"1\" class=\"dataframe\">\n",
       "  <thead>\n",
       "    <tr style=\"text-align: right;\">\n",
       "      <th></th>\n",
       "      <th>Year</th>\n",
       "      <th>Channel</th>\n",
       "      <th>Sales</th>\n",
       "    </tr>\n",
       "  </thead>\n",
       "  <tbody>\n",
       "    <tr>\n",
       "      <th>7</th>\n",
       "      <td>2017</td>\n",
       "      <td>Store</td>\n",
       "      <td>1.073805e+07</td>\n",
       "    </tr>\n",
       "    <tr>\n",
       "      <th>11</th>\n",
       "      <td>2018</td>\n",
       "      <td>Store</td>\n",
       "      <td>9.568865e+06</td>\n",
       "    </tr>\n",
       "    <tr>\n",
       "      <th>3</th>\n",
       "      <td>2016</td>\n",
       "      <td>Store</td>\n",
       "      <td>7.412802e+06</td>\n",
       "    </tr>\n",
       "    <tr>\n",
       "      <th>15</th>\n",
       "      <td>2019</td>\n",
       "      <td>Store</td>\n",
       "      <td>4.000930e+06</td>\n",
       "    </tr>\n",
       "  </tbody>\n",
       "</table>\n",
       "</div>"
      ],
      "text/plain": [
       "    Year Channel         Sales\n",
       "7   2017   Store  1.073805e+07\n",
       "11  2018   Store  9.568865e+06\n",
       "3   2016   Store  7.412802e+06\n",
       "15  2019   Store  4.000930e+06"
      ]
     },
     "execution_count": 24,
     "metadata": {},
     "output_type": "execute_result"
    }
   ],
   "source": [
    "\n",
    "sales_per_channel = df.groupby([\"Year\", \"Channel\"])[\"Sales\"].sum().reset_index()\n",
    "\n",
    "top_channel_per_year = sales_per_channel.loc[sales_per_channel.groupby(\"Year\")[\"Sales\"].idxmax()]\n",
    "\n",
    "\n",
    "top_channel_per_year=top_channel_per_year.sort_values(by=\"Sales\", ascending=False)\n",
    "top_channel_per_year"
   ]
  },
  {
   "cell_type": "markdown",
   "id": "4ca8359d",
   "metadata": {
    "papermill": {
     "duration": 0.049254,
     "end_time": "2025-03-13T15:16:38.912144",
     "exception": false,
     "start_time": "2025-03-13T15:16:38.862890",
     "status": "completed"
    },
    "tags": []
   },
   "source": [
    "* 1️⃣ Certain sales channels consistently generate the highest revenue each year, showing their dominance in the market.\n",
    "\n",
    "    🔹 Actionable Insight: Invest more resources into these high-performing channels to sustain and expand their market share.\n",
    "\n",
    "* 2️⃣ Sales trends indicate shifts in consumer behavior over time, with some channels gaining or losing dominance.\n",
    "\n",
    "    🔹 Actionable Insight: Monitor yearly trends to anticipate changes in customer preferences and adapt strategies accordingly.\n",
    "\n",
    "* 3️⃣ Emerging channels in specific years may indicate growth potential, suggesting changing shopping habits.\n",
    "\n",
    "    🔹 Actionable Insight: Strengthen marketing efforts and infrastructure for growing channels to maximize their potential.\n",
    "\n",
    "* 4️⃣ If online sales are increasing over time, this signals a need for better digital customer experiences.\n",
    "\n",
    "    🔹Actionable Insight: Optimize e-commerce platforms, improve logistics, and enhance digital marketing strategies."
   ]
  },
  {
   "cell_type": "markdown",
   "id": "d2dc428d",
   "metadata": {
    "papermill": {
     "duration": 0.050273,
     "end_time": "2025-03-13T15:16:39.014138",
     "exception": false,
     "start_time": "2025-03-13T15:16:38.963865",
     "status": "completed"
    },
    "tags": []
   },
   "source": [
    "### Unique Products in the Dataset"
   ]
  },
  {
   "cell_type": "code",
   "execution_count": 25,
   "id": "ba6e0b03",
   "metadata": {
    "execution": {
     "iopub.execute_input": "2025-03-13T15:16:39.117565Z",
     "iopub.status.busy": "2025-03-13T15:16:39.117169Z",
     "iopub.status.idle": "2025-03-13T15:16:39.124834Z",
     "shell.execute_reply": "2025-03-13T15:16:39.123848Z"
    },
    "papermill": {
     "duration": 0.061189,
     "end_time": "2025-03-13T15:16:39.126556",
     "exception": false,
     "start_time": "2025-03-13T15:16:39.065367",
     "status": "completed"
    },
    "tags": []
   },
   "outputs": [
    {
     "data": {
      "text/plain": [
       "array(['Contoso SLR Camera M143 Grey',\n",
       "       'Contoso 512MB MP3 Player E51 Blue',\n",
       "       'Contoso DVD 9-Inch Player Portable M300 Silver', ...,\n",
       "       'Contoso Rechargeable Battery Pack E310 Black',\n",
       "       'Contoso 4-Line Corded Cordless Telephone M203 Grey',\n",
       "       'Contoso 16GB Mp5 Player M1600 Red'], dtype=object)"
      ]
     },
     "execution_count": 25,
     "metadata": {},
     "output_type": "execute_result"
    }
   ],
   "source": [
    "df[\"Product Name\"].unique()"
   ]
  },
  {
   "cell_type": "markdown",
   "id": "b83135b1",
   "metadata": {
    "papermill": {
     "duration": 0.051081,
     "end_time": "2025-03-13T15:16:39.228419",
     "exception": false,
     "start_time": "2025-03-13T15:16:39.177338",
     "status": "completed"
    },
    "tags": []
   },
   "source": [
    "### Top-Selling Product"
   ]
  },
  {
   "cell_type": "code",
   "execution_count": 26,
   "id": "f1b32c4a",
   "metadata": {
    "execution": {
     "iopub.execute_input": "2025-03-13T15:16:39.330102Z",
     "iopub.status.busy": "2025-03-13T15:16:39.329703Z",
     "iopub.status.idle": "2025-03-13T15:16:39.341040Z",
     "shell.execute_reply": "2025-03-13T15:16:39.339987Z"
    },
    "papermill": {
     "duration": 0.064149,
     "end_time": "2025-03-13T15:16:39.342635",
     "exception": false,
     "start_time": "2025-03-13T15:16:39.278486",
     "status": "completed"
    },
    "tags": []
   },
   "outputs": [
    {
     "data": {
      "text/html": [
       "<div>\n",
       "<style scoped>\n",
       "    .dataframe tbody tr th:only-of-type {\n",
       "        vertical-align: middle;\n",
       "    }\n",
       "\n",
       "    .dataframe tbody tr th {\n",
       "        vertical-align: top;\n",
       "    }\n",
       "\n",
       "    .dataframe thead th {\n",
       "        text-align: right;\n",
       "    }\n",
       "</style>\n",
       "<table border=\"1\" class=\"dataframe\">\n",
       "  <thead>\n",
       "    <tr style=\"text-align: right;\">\n",
       "      <th></th>\n",
       "      <th>Product Name</th>\n",
       "      <th>Sales</th>\n",
       "    </tr>\n",
       "  </thead>\n",
       "  <tbody>\n",
       "    <tr>\n",
       "      <th>9853</th>\n",
       "      <td>Fabrikam Independent Filmmaker 1/3'' 8.5mm X20...</td>\n",
       "      <td>78312.0</td>\n",
       "    </tr>\n",
       "  </tbody>\n",
       "</table>\n",
       "</div>"
      ],
      "text/plain": [
       "                                           Product Name    Sales\n",
       "9853  Fabrikam Independent Filmmaker 1/3'' 8.5mm X20...  78312.0"
      ]
     },
     "execution_count": 26,
     "metadata": {},
     "output_type": "execute_result"
    }
   ],
   "source": [
    "df[[\"Product Name\",\"Sales\"]][df[\"Sales\"]==df[\"Sales\"].max()]"
   ]
  },
  {
   "cell_type": "markdown",
   "id": "aff9156f",
   "metadata": {
    "papermill": {
     "duration": 0.051735,
     "end_time": "2025-03-13T15:16:39.447404",
     "exception": false,
     "start_time": "2025-03-13T15:16:39.395669",
     "status": "completed"
    },
    "tags": []
   },
   "source": [
    "* 1️⃣ Identifying the highest-selling product helps in understanding customer preferences and demand.\n",
    "\n",
    "     🔹 Actionable Insight: Focus marketing campaigns on this product to maximize revenue and further increase sales.\n",
    "\n",
    "* 2️⃣ If the top-selling product belongs to a specific category, similar products may have high potential.\n",
    "\n",
    "     🔹 Actionable Insight: Expand product lines related to the best-seller to capitalize on its success.\n",
    "\n",
    "* 3️⃣ Analyzing the sales channel of this product can reveal the most effective sales strategy.\n",
    "\n",
    "     🔹 Actionable Insight: Strengthen the distribution and promotional efforts in the channels where this product performs best.\n",
    "\n",
    "* 4️⃣ If seasonal trends influence sales, adjusting stock levels accordingly can prevent shortages.\n",
    "\n",
    "     🔹 Actionable Insight: Use historical sales data to forecast demand and optimize inventory planning"
   ]
  },
  {
   "cell_type": "markdown",
   "id": "60a0a6d4",
   "metadata": {
    "papermill": {
     "duration": 0.050721,
     "end_time": "2025-03-13T15:16:39.548711",
     "exception": false,
     "start_time": "2025-03-13T15:16:39.497990",
     "status": "completed"
    },
    "tags": []
   },
   "source": [
    "### Lowest-Selling Product"
   ]
  },
  {
   "cell_type": "code",
   "execution_count": 27,
   "id": "4d810896",
   "metadata": {
    "execution": {
     "iopub.execute_input": "2025-03-13T15:16:39.650940Z",
     "iopub.status.busy": "2025-03-13T15:16:39.650564Z",
     "iopub.status.idle": "2025-03-13T15:16:39.660991Z",
     "shell.execute_reply": "2025-03-13T15:16:39.660128Z"
    },
    "papermill": {
     "duration": 0.063131,
     "end_time": "2025-03-13T15:16:39.662537",
     "exception": false,
     "start_time": "2025-03-13T15:16:39.599406",
     "status": "completed"
    },
    "tags": []
   },
   "outputs": [
    {
     "data": {
      "text/html": [
       "<div>\n",
       "<style scoped>\n",
       "    .dataframe tbody tr th:only-of-type {\n",
       "        vertical-align: middle;\n",
       "    }\n",
       "\n",
       "    .dataframe tbody tr th {\n",
       "        vertical-align: top;\n",
       "    }\n",
       "\n",
       "    .dataframe thead th {\n",
       "        text-align: right;\n",
       "    }\n",
       "</style>\n",
       "<table border=\"1\" class=\"dataframe\">\n",
       "  <thead>\n",
       "    <tr style=\"text-align: right;\">\n",
       "      <th></th>\n",
       "      <th>Product Name</th>\n",
       "      <th>Sales</th>\n",
       "    </tr>\n",
       "  </thead>\n",
       "  <tbody>\n",
       "    <tr>\n",
       "      <th>1247</th>\n",
       "      <td>SV USB Data Cable E600 Black</td>\n",
       "      <td>4.75</td>\n",
       "    </tr>\n",
       "  </tbody>\n",
       "</table>\n",
       "</div>"
      ],
      "text/plain": [
       "                      Product Name  Sales\n",
       "1247  SV USB Data Cable E600 Black   4.75"
      ]
     },
     "execution_count": 27,
     "metadata": {},
     "output_type": "execute_result"
    }
   ],
   "source": [
    "df[[\"Product Name\",\"Sales\"]][df[\"Sales\"]==df[\"Sales\"].min()]"
   ]
  },
  {
   "cell_type": "markdown",
   "id": "9e815809",
   "metadata": {
    "papermill": {
     "duration": 0.050124,
     "end_time": "2025-03-13T15:16:39.763449",
     "exception": false,
     "start_time": "2025-03-13T15:16:39.713325",
     "status": "completed"
    },
    "tags": []
   },
   "source": [
    "* 1️⃣ Identifying the lowest-selling product helps in recognizing underperforming items.\n",
    "\n",
    "     🔹 Actionable Insight: Investigate potential reasons for low sales, such as pricing, lack of marketing, or customer demand.\n",
    "\n",
    "* 2️⃣ If the product is not appealing to customers, consider rebranding, repositioning, or discontinuation.\n",
    "\n",
    "     🔹 Actionable Insight: Conduct customer feedback surveys to understand the lack of interest and make necessary improvements.\n",
    "\n"
   ]
  },
  {
   "cell_type": "markdown",
   "id": "252a5a56",
   "metadata": {
    "papermill": {
     "duration": 0.050055,
     "end_time": "2025-03-13T15:16:39.863892",
     "exception": false,
     "start_time": "2025-03-13T15:16:39.813837",
     "status": "completed"
    },
    "tags": []
   },
   "source": [
    "### Top 10 Products by Average Sales"
   ]
  },
  {
   "cell_type": "code",
   "execution_count": 28,
   "id": "aa06a8c0",
   "metadata": {
    "execution": {
     "iopub.execute_input": "2025-03-13T15:16:39.966784Z",
     "iopub.status.busy": "2025-03-13T15:16:39.966427Z",
     "iopub.status.idle": "2025-03-13T15:16:39.977232Z",
     "shell.execute_reply": "2025-03-13T15:16:39.976365Z"
    },
    "papermill": {
     "duration": 0.064323,
     "end_time": "2025-03-13T15:16:39.978735",
     "exception": false,
     "start_time": "2025-03-13T15:16:39.914412",
     "status": "completed"
    },
    "tags": []
   },
   "outputs": [
    {
     "data": {
      "text/plain": [
       "Product Name\n",
       "Adventure Works 52\" LCD HDTV X590 White                  33349.885000\n",
       "WWI Projector 1080p DLP86 Silver                         31768.537500\n",
       "Contoso Projector 1080p X980 White                       30761.826923\n",
       "Proseware Projector 1080p LCD86 White                    29826.803571\n",
       "Proseware Projector 1080p DLP86 Black                    29261.018182\n",
       "Proseware Projector 1080p DLP86 White                    28504.218750\n",
       "Fabrikam Independent Filmmaker 1/3'' 8.5mm X200 Black    27092.000000\n",
       "Contoso Projector 1080p X980 Black                       26183.250000\n",
       "Proseware Projector 1080p LCD86 Black                    25754.817857\n",
       "Contoso Projector 1080p X980 Silver                      25632.281250\n",
       "Name: Sales, dtype: float64"
      ]
     },
     "execution_count": 28,
     "metadata": {},
     "output_type": "execute_result"
    }
   ],
   "source": [
    "ProductName_avg_sales=df.groupby(\"Product Name\")[\"Sales\"].mean().sort_values(ascending=False)\n",
    "ProductName_avg_sales.head(10)"
   ]
  },
  {
   "cell_type": "code",
   "execution_count": 29,
   "id": "a8556b9c",
   "metadata": {
    "execution": {
     "iopub.execute_input": "2025-03-13T15:16:40.081036Z",
     "iopub.status.busy": "2025-03-13T15:16:40.080614Z",
     "iopub.status.idle": "2025-03-13T15:16:40.186286Z",
     "shell.execute_reply": "2025-03-13T15:16:40.185182Z"
    },
    "papermill": {
     "duration": 0.158902,
     "end_time": "2025-03-13T15:16:40.188546",
     "exception": false,
     "start_time": "2025-03-13T15:16:40.029644",
     "status": "completed"
    },
    "tags": []
   },
   "outputs": [
    {
     "data": {
      "text/html": [
       "<iframe\n",
       "    scrolling=\"no\"\n",
       "    width=\"100%\"\n",
       "    height=\"545px\"\n",
       "    src=\"iframe_figures/figure_29.html\"\n",
       "    frameborder=\"0\"\n",
       "    allowfullscreen\n",
       "></iframe>\n"
      ]
     },
     "metadata": {},
     "output_type": "display_data"
    }
   ],
   "source": [
    "ProductName_avg_sales=ProductName_avg_sales.head(10)\n",
    "ProductName_avg_sales=px.bar(ProductName_avg_sales,color=ProductName_avg_sales,title=\"Top 10 Best-Selling Products Based on Average Sales\")\n",
    "ProductName_avg_sales.show()"
   ]
  },
  {
   "cell_type": "markdown",
   "id": "158f319d",
   "metadata": {
    "papermill": {
     "duration": 0.050649,
     "end_time": "2025-03-13T15:16:40.293187",
     "exception": false,
     "start_time": "2025-03-13T15:16:40.242538",
     "status": "completed"
    },
    "tags": []
   },
   "source": [
    "* 1️⃣ The highest average sales products indicate strong customer demand and consistent performance.\n",
    "\n",
    "    🔹 Actionable Insight: Prioritize inventory management and marketing efforts for these top-performing products to maximize profitability.\n",
    "\n",
    "* 2️⃣ If certain product categories dominate the top 10, they represent a key revenue stream.\n",
    "\n",
    "    🔹 Actionable Insight: Expand product lines within these high-performing categories to capture more market share.\n"
   ]
  },
  {
   "cell_type": "markdown",
   "id": "4dbbe0c2",
   "metadata": {
    "papermill": {
     "duration": 0.05408,
     "end_time": "2025-03-13T15:16:40.398707",
     "exception": false,
     "start_time": "2025-03-13T15:16:40.344627",
     "status": "completed"
    },
    "tags": []
   },
   "source": [
    "### Top 10 Products by Total Ordered Quantity"
   ]
  },
  {
   "cell_type": "code",
   "execution_count": 30,
   "id": "0fda8e56",
   "metadata": {
    "execution": {
     "iopub.execute_input": "2025-03-13T15:16:40.506291Z",
     "iopub.status.busy": "2025-03-13T15:16:40.505826Z",
     "iopub.status.idle": "2025-03-13T15:16:40.517841Z",
     "shell.execute_reply": "2025-03-13T15:16:40.516723Z"
    },
    "papermill": {
     "duration": 0.068007,
     "end_time": "2025-03-13T15:16:40.519648",
     "exception": false,
     "start_time": "2025-03-13T15:16:40.451641",
     "status": "completed"
    },
    "tags": []
   },
   "outputs": [
    {
     "data": {
      "text/plain": [
       "Product Name\n",
       "Contoso In-Line Coupler E180 Silver                                            6780\n",
       "Headphone Adapter for Contoso Phone E130 Silver                                4680\n",
       "Contoso Rubberized Snap-On Cover Hard Case Cell Phone Protector E160 Silver    4580\n",
       "Contoso In-Line Coupler E180 White                                             4060\n",
       "Contoso Rubberized Skin BlackBerry E100 Silver                                 3560\n",
       "Cigarette Lighter Adapter for Contoso Phones E110 White                        3520\n",
       "Contoso Rubberized Snap-On Cover Hard Case Cell Phone Protector E160 Pink      3280\n",
       "Contoso Touch Stylus Pen E150 Black                                            3060\n",
       "Cigarette Lighter Adapter for Contoso Phones E110 Red                          2900\n",
       "Contoso Original K1m Li-Ion Standard Battery E170 Black                        2860\n",
       "Name: Order Qty, dtype: int64"
      ]
     },
     "execution_count": 30,
     "metadata": {},
     "output_type": "execute_result"
    }
   ],
   "source": [
    "ProductName_sum_Order_Qty=df.groupby(\"Product Name\")[\"Order Qty\"].sum().sort_values(ascending=False)\n",
    "top_ProductName_sum_Order_Qty=ProductName_sum_Order_Qty.head(10)\n",
    "top_ProductName_sum_Order_Qty"
   ]
  },
  {
   "cell_type": "code",
   "execution_count": 31,
   "id": "6b6d537c",
   "metadata": {
    "execution": {
     "iopub.execute_input": "2025-03-13T15:16:40.624216Z",
     "iopub.status.busy": "2025-03-13T15:16:40.623790Z",
     "iopub.status.idle": "2025-03-13T15:16:40.728163Z",
     "shell.execute_reply": "2025-03-13T15:16:40.727073Z"
    },
    "papermill": {
     "duration": 0.158901,
     "end_time": "2025-03-13T15:16:40.730131",
     "exception": false,
     "start_time": "2025-03-13T15:16:40.571230",
     "status": "completed"
    },
    "tags": []
   },
   "outputs": [
    {
     "data": {
      "text/html": [
       "<iframe\n",
       "    scrolling=\"no\"\n",
       "    width=\"100%\"\n",
       "    height=\"545px\"\n",
       "    src=\"iframe_figures/figure_31.html\"\n",
       "    frameborder=\"0\"\n",
       "    allowfullscreen\n",
       "></iframe>\n"
      ]
     },
     "metadata": {},
     "output_type": "display_data"
    }
   ],
   "source": [
    "ProductName_sum_Order_Qty=ProductName_sum_Order_Qty.head(10)\n",
    "top_ProductName_sum_Order_Qty=px.bar(top_ProductName_sum_Order_Qty,color=top_ProductName_sum_Order_Qty,title=\"Top 10 Products by Total Ordered Quantity\")\n",
    "top_ProductName_sum_Order_Qty.show()"
   ]
  },
  {
   "cell_type": "markdown",
   "id": "73c22c31",
   "metadata": {
    "papermill": {
     "duration": 0.051166,
     "end_time": "2025-03-13T15:16:40.832805",
     "exception": false,
     "start_time": "2025-03-13T15:16:40.781639",
     "status": "completed"
    },
    "tags": []
   },
   "source": [
    "* 1️⃣ These products have the highest total order quantities, indicating strong demand and popularity.\n",
    "\n",
    "     🔹 Actionable Insight: Ensure adequate stock levels and efficient supply chain management to prevent stockouts.\n",
    "\n",
    "* 2️⃣ If specific categories dominate the top 10, they represent a major revenue driver.\n",
    "\n",
    "     🔹 Actionable Insight: Expand product lines within these categories to capitalize on market demand.\n",
    "\n",
    "* 3️⃣ High order quantities might indicate bulk purchasing trends.\n",
    "\n",
    "     🔹 Actionable Insight: Offer bulk discounts or bundle deals to encourage larger purchases and customer retention.\n"
   ]
  },
  {
   "cell_type": "markdown",
   "id": "aaa69bd6",
   "metadata": {
    "papermill": {
     "duration": 0.056373,
     "end_time": "2025-03-13T15:16:40.940640",
     "exception": false,
     "start_time": "2025-03-13T15:16:40.884267",
     "status": "completed"
    },
    "tags": []
   },
   "source": [
    "### Most Expensive Products in the Dataset"
   ]
  },
  {
   "cell_type": "code",
   "execution_count": 32,
   "id": "0325ea79",
   "metadata": {
    "execution": {
     "iopub.execute_input": "2025-03-13T15:16:41.043889Z",
     "iopub.status.busy": "2025-03-13T15:16:41.043525Z",
     "iopub.status.idle": "2025-03-13T15:16:41.054845Z",
     "shell.execute_reply": "2025-03-13T15:16:41.053910Z"
    },
    "papermill": {
     "duration": 0.064744,
     "end_time": "2025-03-13T15:16:41.056382",
     "exception": false,
     "start_time": "2025-03-13T15:16:40.991638",
     "status": "completed"
    },
    "tags": []
   },
   "outputs": [
    {
     "data": {
      "text/html": [
       "<div>\n",
       "<style scoped>\n",
       "    .dataframe tbody tr th:only-of-type {\n",
       "        vertical-align: middle;\n",
       "    }\n",
       "\n",
       "    .dataframe tbody tr th {\n",
       "        vertical-align: top;\n",
       "    }\n",
       "\n",
       "    .dataframe thead th {\n",
       "        text-align: right;\n",
       "    }\n",
       "</style>\n",
       "<table border=\"1\" class=\"dataframe\">\n",
       "  <thead>\n",
       "    <tr style=\"text-align: right;\">\n",
       "      <th></th>\n",
       "      <th>Product Name</th>\n",
       "      <th>Price</th>\n",
       "    </tr>\n",
       "  </thead>\n",
       "  <tbody>\n",
       "    <tr>\n",
       "      <th>408</th>\n",
       "      <td>Adventure Works 52\" LCD HDTV X590 Silver</td>\n",
       "      <td>2899.99</td>\n",
       "    </tr>\n",
       "    <tr>\n",
       "      <th>410</th>\n",
       "      <td>Adventure Works 52\" LCD HDTV X590 White</td>\n",
       "      <td>2899.99</td>\n",
       "    </tr>\n",
       "    <tr>\n",
       "      <th>2057</th>\n",
       "      <td>Adventure Works 52\" LCD HDTV X590 White</td>\n",
       "      <td>2899.99</td>\n",
       "    </tr>\n",
       "    <tr>\n",
       "      <th>2322</th>\n",
       "      <td>Adventure Works 52\" LCD HDTV X590 Black</td>\n",
       "      <td>2899.99</td>\n",
       "    </tr>\n",
       "    <tr>\n",
       "      <th>3066</th>\n",
       "      <td>Adventure Works 52\" LCD HDTV X590 White</td>\n",
       "      <td>2899.99</td>\n",
       "    </tr>\n",
       "  </tbody>\n",
       "</table>\n",
       "</div>"
      ],
      "text/plain": [
       "                                  Product Name    Price\n",
       "408   Adventure Works 52\" LCD HDTV X590 Silver  2899.99\n",
       "410    Adventure Works 52\" LCD HDTV X590 White  2899.99\n",
       "2057   Adventure Works 52\" LCD HDTV X590 White  2899.99\n",
       "2322   Adventure Works 52\" LCD HDTV X590 Black  2899.99\n",
       "3066   Adventure Works 52\" LCD HDTV X590 White  2899.99"
      ]
     },
     "execution_count": 32,
     "metadata": {},
     "output_type": "execute_result"
    }
   ],
   "source": [
    "df[[\"Product Name\",\"Price\"]][df[\"Price\"]==df[\"Price\"].max()].head()"
   ]
  },
  {
   "cell_type": "markdown",
   "id": "30ba2477",
   "metadata": {
    "papermill": {
     "duration": 0.050875,
     "end_time": "2025-03-13T15:16:41.158639",
     "exception": false,
     "start_time": "2025-03-13T15:16:41.107764",
     "status": "completed"
    },
    "tags": []
   },
   "source": [
    "* 1️⃣ These products have the highest prices, indicating a premium offering.\n",
    "\n",
    "     🔹 Actionable Insight: Highlight their unique features and value proposition through premium branding and targeted marketing campaigns.\n",
    "\n",
    "* 2️⃣ High-priced products may have lower sales volumes compared to lower-priced alternatives.\n",
    "\n",
    "     🔹 Actionable Insight: Consider offering flexible payment options, discounts, or bundling strategies to attract more buyers.\n",
    "\n",
    "* 3️⃣ If these products have high margins, they can be leveraged to boost overall profitability.\n",
    "\n",
    "     🔹 Actionable Insight: Prioritize them in upselling and cross-selling strategies to maximize revenue.\n"
   ]
  },
  {
   "cell_type": "markdown",
   "id": "0635ded0",
   "metadata": {
    "papermill": {
     "duration": 0.052169,
     "end_time": "2025-03-13T15:16:41.261876",
     "exception": false,
     "start_time": "2025-03-13T15:16:41.209707",
     "status": "completed"
    },
    "tags": []
   },
   "source": [
    "### Least Expensive Products in the Dataset"
   ]
  },
  {
   "cell_type": "code",
   "execution_count": 33,
   "id": "7aa8bd4d",
   "metadata": {
    "execution": {
     "iopub.execute_input": "2025-03-13T15:16:41.365901Z",
     "iopub.status.busy": "2025-03-13T15:16:41.365530Z",
     "iopub.status.idle": "2025-03-13T15:16:41.376928Z",
     "shell.execute_reply": "2025-03-13T15:16:41.375882Z"
    },
    "papermill": {
     "duration": 0.065341,
     "end_time": "2025-03-13T15:16:41.378477",
     "exception": false,
     "start_time": "2025-03-13T15:16:41.313136",
     "status": "completed"
    },
    "tags": []
   },
   "outputs": [
    {
     "data": {
      "text/html": [
       "<div>\n",
       "<style scoped>\n",
       "    .dataframe tbody tr th:only-of-type {\n",
       "        vertical-align: middle;\n",
       "    }\n",
       "\n",
       "    .dataframe tbody tr th {\n",
       "        vertical-align: top;\n",
       "    }\n",
       "\n",
       "    .dataframe thead th {\n",
       "        text-align: right;\n",
       "    }\n",
       "</style>\n",
       "<table border=\"1\" class=\"dataframe\">\n",
       "  <thead>\n",
       "    <tr style=\"text-align: right;\">\n",
       "      <th></th>\n",
       "      <th>Product Name</th>\n",
       "      <th>Price</th>\n",
       "    </tr>\n",
       "  </thead>\n",
       "  <tbody>\n",
       "    <tr>\n",
       "      <th>446</th>\n",
       "      <td>SV USB Data Cable E600 Pink</td>\n",
       "      <td>0.95</td>\n",
       "    </tr>\n",
       "    <tr>\n",
       "      <th>447</th>\n",
       "      <td>SV USB Data Cable E600 Pink</td>\n",
       "      <td>0.95</td>\n",
       "    </tr>\n",
       "    <tr>\n",
       "      <th>1246</th>\n",
       "      <td>SV USB Data Cable E600 Black</td>\n",
       "      <td>0.95</td>\n",
       "    </tr>\n",
       "    <tr>\n",
       "      <th>1247</th>\n",
       "      <td>SV USB Data Cable E600 Black</td>\n",
       "      <td>0.95</td>\n",
       "    </tr>\n",
       "    <tr>\n",
       "      <th>1705</th>\n",
       "      <td>SV USB Data Cable E600 Silver</td>\n",
       "      <td>0.95</td>\n",
       "    </tr>\n",
       "  </tbody>\n",
       "</table>\n",
       "</div>"
      ],
      "text/plain": [
       "                       Product Name  Price\n",
       "446     SV USB Data Cable E600 Pink   0.95\n",
       "447     SV USB Data Cable E600 Pink   0.95\n",
       "1246   SV USB Data Cable E600 Black   0.95\n",
       "1247   SV USB Data Cable E600 Black   0.95\n",
       "1705  SV USB Data Cable E600 Silver   0.95"
      ]
     },
     "execution_count": 33,
     "metadata": {},
     "output_type": "execute_result"
    }
   ],
   "source": [
    "df[[\"Product Name\",\"Price\"]][df[\"Price\"]==df[\"Price\"].min()].head() "
   ]
  },
  {
   "cell_type": "markdown",
   "id": "523850ce",
   "metadata": {
    "papermill": {
     "duration": 0.050711,
     "end_time": "2025-03-13T15:16:41.481961",
     "exception": false,
     "start_time": "2025-03-13T15:16:41.431250",
     "status": "completed"
    },
    "tags": []
   },
   "source": [
    "* 1️⃣ These products have the lowest prices, which may drive high sales volumes but lower profit margins.\n",
    "\n",
    "    🔹 Actionable Insight: Analyze whether increasing the price slightly could improve profitability without significantly affecting demand.\n",
    "\n",
    "* 2️⃣ Low-priced products can serve as entry-level options to attract new customers.\n",
    "\n",
    "    🔹 Actionable Insight: Use them in promotional campaigns or bundle them with higher-margin products to increase overall revenue.\n"
   ]
  },
  {
   "cell_type": "markdown",
   "id": "b45e3762",
   "metadata": {
    "papermill": {
     "duration": 0.051876,
     "end_time": "2025-03-13T15:16:41.585727",
     "exception": false,
     "start_time": "2025-03-13T15:16:41.533851",
     "status": "completed"
    },
    "tags": []
   },
   "source": [
    "### Most Profitable Product in the Dataset"
   ]
  },
  {
   "cell_type": "code",
   "execution_count": 34,
   "id": "f96e88f1",
   "metadata": {
    "execution": {
     "iopub.execute_input": "2025-03-13T15:16:41.690318Z",
     "iopub.status.busy": "2025-03-13T15:16:41.689895Z",
     "iopub.status.idle": "2025-03-13T15:16:41.701524Z",
     "shell.execute_reply": "2025-03-13T15:16:41.700537Z"
    },
    "papermill": {
     "duration": 0.066546,
     "end_time": "2025-03-13T15:16:41.703107",
     "exception": false,
     "start_time": "2025-03-13T15:16:41.636561",
     "status": "completed"
    },
    "tags": []
   },
   "outputs": [
    {
     "data": {
      "text/html": [
       "<div>\n",
       "<style scoped>\n",
       "    .dataframe tbody tr th:only-of-type {\n",
       "        vertical-align: middle;\n",
       "    }\n",
       "\n",
       "    .dataframe tbody tr th {\n",
       "        vertical-align: top;\n",
       "    }\n",
       "\n",
       "    .dataframe thead th {\n",
       "        text-align: right;\n",
       "    }\n",
       "</style>\n",
       "<table border=\"1\" class=\"dataframe\">\n",
       "  <thead>\n",
       "    <tr style=\"text-align: right;\">\n",
       "      <th></th>\n",
       "      <th>Product Name</th>\n",
       "      <th>Profit</th>\n",
       "    </tr>\n",
       "  </thead>\n",
       "  <tbody>\n",
       "    <tr>\n",
       "      <th>9853</th>\n",
       "      <td>Fabrikam Independent Filmmaker 1/3'' 8.5mm X20...</td>\n",
       "      <td>55692.569522</td>\n",
       "    </tr>\n",
       "  </tbody>\n",
       "</table>\n",
       "</div>"
      ],
      "text/plain": [
       "                                           Product Name        Profit\n",
       "9853  Fabrikam Independent Filmmaker 1/3'' 8.5mm X20...  55692.569522"
      ]
     },
     "execution_count": 34,
     "metadata": {},
     "output_type": "execute_result"
    }
   ],
   "source": [
    "df[[\"Product Name\",\"Profit\"]][df[\"Profit\"]==df[\"Profit\"].max()]"
   ]
  },
  {
   "cell_type": "markdown",
   "id": "e84a2962",
   "metadata": {
    "papermill": {
     "duration": 0.05105,
     "end_time": "2025-03-13T15:16:41.805903",
     "exception": false,
     "start_time": "2025-03-13T15:16:41.754853",
     "status": "completed"
    },
    "tags": []
   },
   "source": [
    "* 1️⃣ This product generates the highest profit, making it a key revenue driver for the company.\n",
    "\n",
    "     🔹 Actionable Insight: Prioritize its marketing, ensure high visibility across sales channels, and maintain optimal stock levels.\n",
    "\n",
    "* 2️⃣ High profitability could be due to high sales volume, high margins, or both.\n",
    "\n",
    "     🔹 Actionable Insight: Analyze whether increasing production or expanding distribution can further maximize profits.\n"
   ]
  },
  {
   "cell_type": "markdown",
   "id": "125d7d8c",
   "metadata": {
    "papermill": {
     "duration": 0.050789,
     "end_time": "2025-03-13T15:16:41.908026",
     "exception": false,
     "start_time": "2025-03-13T15:16:41.857237",
     "status": "completed"
    },
    "tags": []
   },
   "source": [
    "### Least Profitable Product in the Dataset"
   ]
  },
  {
   "cell_type": "code",
   "execution_count": 35,
   "id": "099b9ad9",
   "metadata": {
    "execution": {
     "iopub.execute_input": "2025-03-13T15:16:42.013243Z",
     "iopub.status.busy": "2025-03-13T15:16:42.012814Z",
     "iopub.status.idle": "2025-03-13T15:16:42.024003Z",
     "shell.execute_reply": "2025-03-13T15:16:42.022820Z"
    },
    "papermill": {
     "duration": 0.065629,
     "end_time": "2025-03-13T15:16:42.025932",
     "exception": false,
     "start_time": "2025-03-13T15:16:41.960303",
     "status": "completed"
    },
    "tags": []
   },
   "outputs": [
    {
     "data": {
      "text/html": [
       "<div>\n",
       "<style scoped>\n",
       "    .dataframe tbody tr th:only-of-type {\n",
       "        vertical-align: middle;\n",
       "    }\n",
       "\n",
       "    .dataframe tbody tr th {\n",
       "        vertical-align: top;\n",
       "    }\n",
       "\n",
       "    .dataframe thead th {\n",
       "        text-align: right;\n",
       "    }\n",
       "</style>\n",
       "<table border=\"1\" class=\"dataframe\">\n",
       "  <thead>\n",
       "    <tr style=\"text-align: right;\">\n",
       "      <th></th>\n",
       "      <th>Product Name</th>\n",
       "      <th>Profit</th>\n",
       "    </tr>\n",
       "  </thead>\n",
       "  <tbody>\n",
       "    <tr>\n",
       "      <th>10740</th>\n",
       "      <td>WWI Projector 480p DLP12 Black</td>\n",
       "      <td>-838.426733</td>\n",
       "    </tr>\n",
       "  </tbody>\n",
       "</table>\n",
       "</div>"
      ],
      "text/plain": [
       "                         Product Name      Profit\n",
       "10740  WWI Projector 480p DLP12 Black -838.426733"
      ]
     },
     "execution_count": 35,
     "metadata": {},
     "output_type": "execute_result"
    }
   ],
   "source": [
    "df[[\"Product Name\",\"Profit\"]][df[\"Profit\"]==df[\"Profit\"].min()]"
   ]
  },
  {
   "cell_type": "markdown",
   "id": "d32ad48d",
   "metadata": {
    "papermill": {
     "duration": 0.051319,
     "end_time": "2025-03-13T15:16:42.129695",
     "exception": false,
     "start_time": "2025-03-13T15:16:42.078376",
     "status": "completed"
    },
    "tags": []
   },
   "source": [
    "* 1️⃣ This product generates the lowest profit, which may indicate high costs, low pricing, or poor demand.\n",
    "\n",
    "    🔹 Actionable Insight: Perform a cost analysis to determine if production, logistics, or pricing adjustments can improve profitability.\n",
    "\n",
    "* 2️⃣ If sales volume is high but profit is low, the product may be underpriced.\n",
    "\n",
    "    🔹 Actionable Insight: Consider a strategic price increase or introduce premium versions to improve margins.\n",
    "\n",
    "* 3️⃣ Low profitability could be due to high returns, discounts, or seasonal demand.\n",
    "\n",
    "    🔹 Actionable Insight: Evaluate whether reducing discounts, optimizing promotions, or repositioning the product could enhance its financial performance.\n",
    "\n",
    "* 4️⃣ If this product is essential for customer retention, it might serve a strategic role despite low profitability.\n",
    "\n",
    "    🔹 Actionable Insight: Bundle it with higher-margin products or offer it as a loss leader to drive overall sales growth."
   ]
  },
  {
   "cell_type": "markdown",
   "id": "9ff53b67",
   "metadata": {
    "papermill": {
     "duration": 0.05597,
     "end_time": "2025-03-13T15:16:42.238315",
     "exception": false,
     "start_time": "2025-03-13T15:16:42.182345",
     "status": "completed"
    },
    "tags": []
   },
   "source": [
    "### Most Expensive Product to Produce (Highest Cost of Sales)"
   ]
  },
  {
   "cell_type": "code",
   "execution_count": 36,
   "id": "ab22e013",
   "metadata": {
    "execution": {
     "iopub.execute_input": "2025-03-13T15:16:42.344932Z",
     "iopub.status.busy": "2025-03-13T15:16:42.344547Z",
     "iopub.status.idle": "2025-03-13T15:16:42.356025Z",
     "shell.execute_reply": "2025-03-13T15:16:42.354902Z"
    },
    "papermill": {
     "duration": 0.06749,
     "end_time": "2025-03-13T15:16:42.357691",
     "exception": false,
     "start_time": "2025-03-13T15:16:42.290201",
     "status": "completed"
    },
    "tags": []
   },
   "outputs": [
    {
     "data": {
      "text/html": [
       "<div>\n",
       "<style scoped>\n",
       "    .dataframe tbody tr th:only-of-type {\n",
       "        vertical-align: middle;\n",
       "    }\n",
       "\n",
       "    .dataframe tbody tr th {\n",
       "        vertical-align: top;\n",
       "    }\n",
       "\n",
       "    .dataframe thead th {\n",
       "        text-align: right;\n",
       "    }\n",
       "</style>\n",
       "<table border=\"1\" class=\"dataframe\">\n",
       "  <thead>\n",
       "    <tr style=\"text-align: right;\">\n",
       "      <th></th>\n",
       "      <th>Product Name</th>\n",
       "      <th>Cost of Sales</th>\n",
       "    </tr>\n",
       "  </thead>\n",
       "  <tbody>\n",
       "    <tr>\n",
       "      <th>7071</th>\n",
       "      <td>Proseware Projector 1080p DLP86 Black</td>\n",
       "      <td>42991.137192</td>\n",
       "    </tr>\n",
       "  </tbody>\n",
       "</table>\n",
       "</div>"
      ],
      "text/plain": [
       "                               Product Name  Cost of Sales\n",
       "7071  Proseware Projector 1080p DLP86 Black   42991.137192"
      ]
     },
     "execution_count": 36,
     "metadata": {},
     "output_type": "execute_result"
    }
   ],
   "source": [
    "df[[\"Product Name\",\"Cost of Sales\"]][df[\"Cost of Sales\"]==df[\"Cost of Sales\"].max()]"
   ]
  },
  {
   "cell_type": "markdown",
   "id": "6abad206",
   "metadata": {
    "papermill": {
     "duration": 0.053651,
     "end_time": "2025-03-13T15:16:42.463968",
     "exception": false,
     "start_time": "2025-03-13T15:16:42.410317",
     "status": "completed"
    },
    "tags": []
   },
   "source": [
    "* 1️⃣ This product has the highest cost of sales, which may impact overall profitability.\n",
    "\n",
    "   🔹 Actionable Insight: Conduct a cost breakdown analysis to identify areas where production, material, or operational costs can be reduced.\n",
    "\n",
    "* 2️⃣ If high costs are due to expensive raw materials, consider alternative suppliers.\n",
    "\n",
    "   🔹 Actionable Insight: Negotiate better deals with suppliers or explore alternative materials that maintain quality while reducing expenses.\n",
    "\n",
    "* 3️⃣ If this product generates high revenue despite its cost, it may still be valuable.\n",
    "\n",
    "   🔹 Actionable Insight: Evaluate whether increasing its price slightly would maintain demand while improving profit margins.\n",
    "\n",
    "* 4️⃣ High production costs may indicate inefficiencies in the manufacturing or supply chain process.\n",
    "\n",
    "   🔹 Actionable Insight: Implement process optimizations, automation, or bulk purchasing strategies to lower costs."
   ]
  },
  {
   "cell_type": "markdown",
   "id": "b5aab41a",
   "metadata": {
    "papermill": {
     "duration": 0.052607,
     "end_time": "2025-03-13T15:16:42.568754",
     "exception": false,
     "start_time": "2025-03-13T15:16:42.516147",
     "status": "completed"
    },
    "tags": []
   },
   "source": [
    "### Lowest Cost of Sales Products"
   ]
  },
  {
   "cell_type": "code",
   "execution_count": 37,
   "id": "a104429d",
   "metadata": {
    "execution": {
     "iopub.execute_input": "2025-03-13T15:16:42.675638Z",
     "iopub.status.busy": "2025-03-13T15:16:42.675282Z",
     "iopub.status.idle": "2025-03-13T15:16:42.686115Z",
     "shell.execute_reply": "2025-03-13T15:16:42.685021Z"
    },
    "papermill": {
     "duration": 0.066033,
     "end_time": "2025-03-13T15:16:42.687670",
     "exception": false,
     "start_time": "2025-03-13T15:16:42.621637",
     "status": "completed"
    },
    "tags": []
   },
   "outputs": [
    {
     "data": {
      "text/html": [
       "<div>\n",
       "<style scoped>\n",
       "    .dataframe tbody tr th:only-of-type {\n",
       "        vertical-align: middle;\n",
       "    }\n",
       "\n",
       "    .dataframe tbody tr th {\n",
       "        vertical-align: top;\n",
       "    }\n",
       "\n",
       "    .dataframe thead th {\n",
       "        text-align: right;\n",
       "    }\n",
       "</style>\n",
       "<table border=\"1\" class=\"dataframe\">\n",
       "  <thead>\n",
       "    <tr style=\"text-align: right;\">\n",
       "      <th></th>\n",
       "      <th>Product Name</th>\n",
       "      <th>Cost of Sales</th>\n",
       "    </tr>\n",
       "  </thead>\n",
       "  <tbody>\n",
       "    <tr>\n",
       "      <th>4739</th>\n",
       "      <td>Contoso 512MB MP3 Player E51 Blue</td>\n",
       "      <td>0.015756</td>\n",
       "    </tr>\n",
       "  </tbody>\n",
       "</table>\n",
       "</div>"
      ],
      "text/plain": [
       "                           Product Name  Cost of Sales\n",
       "4739  Contoso 512MB MP3 Player E51 Blue       0.015756"
      ]
     },
     "execution_count": 37,
     "metadata": {},
     "output_type": "execute_result"
    }
   ],
   "source": [
    "df[[\"Product Name\",\"Cost of Sales\"]][df[\"Cost of Sales\"]==df[\"Cost of Sales\"].min()]"
   ]
  },
  {
   "cell_type": "markdown",
   "id": "4ae73675",
   "metadata": {
    "papermill": {
     "duration": 0.0537,
     "end_time": "2025-03-13T15:16:42.795980",
     "exception": false,
     "start_time": "2025-03-13T15:16:42.742280",
     "status": "completed"
    },
    "tags": []
   },
   "source": [
    "* 1️⃣ These products have the lowest cost of sales, making them potentially high-margin items.\n",
    "\n",
    "    🔹 Actionable Insight: Prioritize their promotion and sales efforts to maximize overall profitability.\n",
    "\n",
    "* 2️⃣ If these products also generate high sales volume, they can be key drivers of revenue.\n",
    "\n",
    "    🔹 Actionable Insight: Consider bundling them with other products or offering discounts to increase their market share.\n",
    "\n",
    "* 3️⃣ Low production costs may indicate an opportunity to scale up production efficiently.\n",
    "\n",
    "    🔹 Actionable Insight: Evaluate whether increasing production or expanding distribution channels can drive more revenue without significantly raising costs.\n",
    "\n",
    "* 4️⃣ If these products are underperforming despite their low cost, they may lack demand.\n",
    "\n",
    "    🔹 Actionable Insight: Conduct market research to understand customer needs and adjust marketing strategies accordingly."
   ]
  },
  {
   "cell_type": "markdown",
   "id": "e5a0669f",
   "metadata": {
    "papermill": {
     "duration": 0.053681,
     "end_time": "2025-03-13T15:16:42.903127",
     "exception": false,
     "start_time": "2025-03-13T15:16:42.849446",
     "status": "completed"
    },
    "tags": []
   },
   "source": [
    "### Top-Selling Products Each Year"
   ]
  },
  {
   "cell_type": "code",
   "execution_count": 38,
   "id": "d7395174",
   "metadata": {
    "execution": {
     "iopub.execute_input": "2025-03-13T15:16:43.009429Z",
     "iopub.status.busy": "2025-03-13T15:16:43.009015Z",
     "iopub.status.idle": "2025-03-13T15:16:43.028891Z",
     "shell.execute_reply": "2025-03-13T15:16:43.027847Z"
    },
    "papermill": {
     "duration": 0.07516,
     "end_time": "2025-03-13T15:16:43.030567",
     "exception": false,
     "start_time": "2025-03-13T15:16:42.955407",
     "status": "completed"
    },
    "tags": []
   },
   "outputs": [
    {
     "data": {
      "text/html": [
       "<div>\n",
       "<style scoped>\n",
       "    .dataframe tbody tr th:only-of-type {\n",
       "        vertical-align: middle;\n",
       "    }\n",
       "\n",
       "    .dataframe tbody tr th {\n",
       "        vertical-align: top;\n",
       "    }\n",
       "\n",
       "    .dataframe thead th {\n",
       "        text-align: right;\n",
       "    }\n",
       "</style>\n",
       "<table border=\"1\" class=\"dataframe\">\n",
       "  <thead>\n",
       "    <tr style=\"text-align: right;\">\n",
       "      <th></th>\n",
       "      <th>Year</th>\n",
       "      <th>Product Name</th>\n",
       "      <th>Sales</th>\n",
       "    </tr>\n",
       "  </thead>\n",
       "  <tbody>\n",
       "    <tr>\n",
       "      <th>2990</th>\n",
       "      <td>2018</td>\n",
       "      <td>Contoso Projector 1080p X980 Black</td>\n",
       "      <td>201730.50</td>\n",
       "    </tr>\n",
       "    <tr>\n",
       "      <th>2030</th>\n",
       "      <td>2017</td>\n",
       "      <td>Proseware Projector 1080p DLP86 Black</td>\n",
       "      <td>194422.20</td>\n",
       "    </tr>\n",
       "    <tr>\n",
       "      <th>765</th>\n",
       "      <td>2016</td>\n",
       "      <td>Proseware Projector 1080p LCD86 White</td>\n",
       "      <td>175452.75</td>\n",
       "    </tr>\n",
       "    <tr>\n",
       "      <th>4285</th>\n",
       "      <td>2019</td>\n",
       "      <td>Contoso Projector 1080p X980 White</td>\n",
       "      <td>82620.00</td>\n",
       "    </tr>\n",
       "  </tbody>\n",
       "</table>\n",
       "</div>"
      ],
      "text/plain": [
       "      Year                           Product Name      Sales\n",
       "2990  2018     Contoso Projector 1080p X980 Black  201730.50\n",
       "2030  2017  Proseware Projector 1080p DLP86 Black  194422.20\n",
       "765   2016  Proseware Projector 1080p LCD86 White  175452.75\n",
       "4285  2019     Contoso Projector 1080p X980 White   82620.00"
      ]
     },
     "execution_count": 38,
     "metadata": {},
     "output_type": "execute_result"
    }
   ],
   "source": [
    "sales_per_ProductName = df.groupby([\"Year\", \"Product Name\"])[\"Sales\"].sum().reset_index()\n",
    "\n",
    "top_ProductName_per_year = sales_per_ProductName.loc[sales_per_ProductName.groupby(\"Year\")[\"Sales\"].idxmax()]\n",
    "\n",
    "top_ProductName_per_year=top_ProductName_per_year.sort_values(by=\"Sales\", ascending=False)\n",
    "top_ProductName_per_year"
   ]
  },
  {
   "cell_type": "markdown",
   "id": "bbc16e37",
   "metadata": {
    "papermill": {
     "duration": 0.052487,
     "end_time": "2025-03-13T15:16:43.137038",
     "exception": false,
     "start_time": "2025-03-13T15:16:43.084551",
     "status": "completed"
    },
    "tags": []
   },
   "source": [
    "* 1️⃣ These products have consistently achieved the highest sales in their respective years, making them key revenue drivers.\n",
    "\n",
    "     🔹 Actionable Insight: Maintain high inventory levels for these products to prevent stockouts and meet demand efficiently.\n",
    "\n",
    "* 2️⃣ Sales trends can reveal whether certain products are seasonal or consistently in demand.\n",
    "\n",
    "     🔹 Actionable Insight: Use historical data to predict future demand and optimize production and marketing strategies accordingly.\n",
    "\n",
    "* 3️⃣ If a product consistently appears as a top seller across multiple years, it may have strong brand loyalty.\n",
    "\n",
    "     🔹 Actionable Insight: Invest in branding and customer engagement campaigns to reinforce its market position and drive repeat purchases.\n"
   ]
  },
  {
   "cell_type": "markdown",
   "id": "18823dd7",
   "metadata": {
    "papermill": {
     "duration": 0.052783,
     "end_time": "2025-03-13T15:16:43.241945",
     "exception": false,
     "start_time": "2025-03-13T15:16:43.189162",
     "status": "completed"
    },
    "tags": []
   },
   "source": [
    "### Top-Selling Products by Region"
   ]
  },
  {
   "cell_type": "code",
   "execution_count": 39,
   "id": "c404c0ab",
   "metadata": {
    "execution": {
     "iopub.execute_input": "2025-03-13T15:16:43.349013Z",
     "iopub.status.busy": "2025-03-13T15:16:43.348622Z",
     "iopub.status.idle": "2025-03-13T15:16:43.368431Z",
     "shell.execute_reply": "2025-03-13T15:16:43.367307Z"
    },
    "papermill": {
     "duration": 0.07524,
     "end_time": "2025-03-13T15:16:43.370221",
     "exception": false,
     "start_time": "2025-03-13T15:16:43.294981",
     "status": "completed"
    },
    "tags": []
   },
   "outputs": [
    {
     "data": {
      "text/html": [
       "<div>\n",
       "<style scoped>\n",
       "    .dataframe tbody tr th:only-of-type {\n",
       "        vertical-align: middle;\n",
       "    }\n",
       "\n",
       "    .dataframe tbody tr th {\n",
       "        vertical-align: top;\n",
       "    }\n",
       "\n",
       "    .dataframe thead th {\n",
       "        text-align: right;\n",
       "    }\n",
       "</style>\n",
       "<table border=\"1\" class=\"dataframe\">\n",
       "  <thead>\n",
       "    <tr style=\"text-align: right;\">\n",
       "      <th></th>\n",
       "      <th>Region</th>\n",
       "      <th>Product Name</th>\n",
       "      <th>Sales</th>\n",
       "    </tr>\n",
       "  </thead>\n",
       "  <tbody>\n",
       "    <tr>\n",
       "      <th>3214</th>\n",
       "      <td>North America</td>\n",
       "      <td>Contoso Projector 1080p X980 Black</td>\n",
       "      <td>285383.25</td>\n",
       "    </tr>\n",
       "    <tr>\n",
       "      <th>943</th>\n",
       "      <td>Asia</td>\n",
       "      <td>Proseware Projector 1080p LCD86 Black</td>\n",
       "      <td>139191.75</td>\n",
       "    </tr>\n",
       "    <tr>\n",
       "      <th>2246</th>\n",
       "      <td>Europe</td>\n",
       "      <td>Proseware Projector 720p DLP56 Silver</td>\n",
       "      <td>95764.14</td>\n",
       "    </tr>\n",
       "  </tbody>\n",
       "</table>\n",
       "</div>"
      ],
      "text/plain": [
       "             Region                           Product Name      Sales\n",
       "3214  North America     Contoso Projector 1080p X980 Black  285383.25\n",
       "943            Asia  Proseware Projector 1080p LCD86 Black  139191.75\n",
       "2246         Europe  Proseware Projector 720p DLP56 Silver   95764.14"
      ]
     },
     "execution_count": 39,
     "metadata": {},
     "output_type": "execute_result"
    }
   ],
   "source": [
    "sales_per_ProductName = df.groupby([\"Region\", \"Product Name\"])[\"Sales\"].sum().reset_index()\n",
    "\n",
    "top_ProductName_per_Region = sales_per_ProductName.loc[sales_per_ProductName.groupby(\"Region\")[\"Sales\"].idxmax()]\n",
    "\n",
    "top_ProductName_per_Region=top_ProductName_per_Region.sort_values(by=\"Sales\", ascending=False)\n",
    "top_ProductName_per_Region"
   ]
  },
  {
   "cell_type": "markdown",
   "id": "7c07d363",
   "metadata": {
    "papermill": {
     "duration": 0.054919,
     "end_time": "2025-03-13T15:16:43.477852",
     "exception": false,
     "start_time": "2025-03-13T15:16:43.422933",
     "status": "completed"
    },
    "tags": []
   },
   "source": [
    "* 1️⃣ Each region has a best-selling product, indicating varying consumer preferences across different locations.\n",
    "\n",
    "     🔹 Actionable Insight: Customize marketing strategies for each region by promoting the top-performing products that align with local demand.\n",
    "\n",
    "* 2️⃣ High sales concentration in certain products suggests strong brand loyalty in those regions.\n",
    "\n",
    "     🔹 Actionable Insight: Strengthen customer engagement through region-specific promotions, partnerships, and exclusive deals.\n",
    "\n",
    "* 3️⃣ If a product dominates sales in multiple regions, it could be a company-wide bestseller.\n",
    "\n",
    "     🔹 Actionable Insight: Increase production and distribution efforts to ensure availability in more markets and maximize revenue potential.\n"
   ]
  },
  {
   "cell_type": "markdown",
   "id": "0442f355",
   "metadata": {
    "papermill": {
     "duration": 0.052128,
     "end_time": "2025-03-13T15:16:43.583703",
     "exception": false,
     "start_time": "2025-03-13T15:16:43.531575",
     "status": "completed"
    },
    "tags": []
   },
   "source": [
    "### Best-Selling Products by Category and Sub-Category"
   ]
  },
  {
   "cell_type": "code",
   "execution_count": 40,
   "id": "382ab869",
   "metadata": {
    "execution": {
     "iopub.execute_input": "2025-03-13T15:16:43.690588Z",
     "iopub.status.busy": "2025-03-13T15:16:43.690238Z",
     "iopub.status.idle": "2025-03-13T15:16:43.743385Z",
     "shell.execute_reply": "2025-03-13T15:16:43.742158Z"
    },
    "papermill": {
     "duration": 0.108668,
     "end_time": "2025-03-13T15:16:43.745125",
     "exception": false,
     "start_time": "2025-03-13T15:16:43.636457",
     "status": "completed"
    },
    "tags": []
   },
   "outputs": [
    {
     "data": {
      "text/html": [
       "<div>\n",
       "<style scoped>\n",
       "    .dataframe tbody tr th:only-of-type {\n",
       "        vertical-align: middle;\n",
       "    }\n",
       "\n",
       "    .dataframe tbody tr th {\n",
       "        vertical-align: top;\n",
       "    }\n",
       "\n",
       "    .dataframe thead th {\n",
       "        text-align: right;\n",
       "    }\n",
       "</style>\n",
       "<table border=\"1\" class=\"dataframe\">\n",
       "  <thead>\n",
       "    <tr style=\"text-align: right;\">\n",
       "      <th></th>\n",
       "      <th>Product Category</th>\n",
       "      <th>Product Sub Category</th>\n",
       "      <th>Product Name</th>\n",
       "      <th>Order Qty</th>\n",
       "    </tr>\n",
       "  </thead>\n",
       "  <tbody>\n",
       "    <tr>\n",
       "      <th>0</th>\n",
       "      <td>Audio</td>\n",
       "      <td>Bluetooth Headphones</td>\n",
       "      <td>NT Bluetooth Stereo Headphones E52 Pink</td>\n",
       "      <td>200</td>\n",
       "    </tr>\n",
       "    <tr>\n",
       "      <th>1</th>\n",
       "      <td>Audio</td>\n",
       "      <td>MP4&amp;MP3</td>\n",
       "      <td>Contoso 8GB Clock &amp; Radio MP3 Player X850 Blue</td>\n",
       "      <td>205</td>\n",
       "    </tr>\n",
       "    <tr>\n",
       "      <th>2</th>\n",
       "      <td>Audio</td>\n",
       "      <td>Recording Pen</td>\n",
       "      <td>WWI 1GB Pulse Smart pen E50 White</td>\n",
       "      <td>176</td>\n",
       "    </tr>\n",
       "    <tr>\n",
       "      <th>3</th>\n",
       "      <td>Cameras and camcorders</td>\n",
       "      <td>Camcorders</td>\n",
       "      <td>Fabrikam Social Videographer 1/2\" 3mm E300 Blue</td>\n",
       "      <td>283</td>\n",
       "    </tr>\n",
       "    <tr>\n",
       "      <th>4</th>\n",
       "      <td>Cameras and camcorders</td>\n",
       "      <td>Cameras &amp; Camcorders Accessories</td>\n",
       "      <td>Contoso Lens Adapter M450 Black</td>\n",
       "      <td>210</td>\n",
       "    </tr>\n",
       "    <tr>\n",
       "      <th>5</th>\n",
       "      <td>Cameras and camcorders</td>\n",
       "      <td>Digital Cameras</td>\n",
       "      <td>A. Datum Compact Digital Camera M200 Orange</td>\n",
       "      <td>237</td>\n",
       "    </tr>\n",
       "    <tr>\n",
       "      <th>6</th>\n",
       "      <td>Cameras and camcorders</td>\n",
       "      <td>Digital SLR Cameras</td>\n",
       "      <td>A. Datum SLR Camera 35\" X358 Orange</td>\n",
       "      <td>273</td>\n",
       "    </tr>\n",
       "    <tr>\n",
       "      <th>7</th>\n",
       "      <td>Cell phones</td>\n",
       "      <td>Cell phones Accessories</td>\n",
       "      <td>Contoso In-Line Coupler E180 Silver</td>\n",
       "      <td>6780</td>\n",
       "    </tr>\n",
       "    <tr>\n",
       "      <th>8</th>\n",
       "      <td>Cell phones</td>\n",
       "      <td>Home &amp; Office Phones</td>\n",
       "      <td>Contoso Private Automatic Branch Exchange M65 ...</td>\n",
       "      <td>245</td>\n",
       "    </tr>\n",
       "    <tr>\n",
       "      <th>9</th>\n",
       "      <td>Cell phones</td>\n",
       "      <td>Smart phones &amp; PDAs</td>\n",
       "      <td>The Phone Company Smart phones 160x160 M26 Gold</td>\n",
       "      <td>216</td>\n",
       "    </tr>\n",
       "    <tr>\n",
       "      <th>10</th>\n",
       "      <td>Cell phones</td>\n",
       "      <td>Touch Screen Phones</td>\n",
       "      <td>Contoso Touch Screen Phones SAW/On-wall M806 B...</td>\n",
       "      <td>242</td>\n",
       "    </tr>\n",
       "    <tr>\n",
       "      <th>11</th>\n",
       "      <td>Computers</td>\n",
       "      <td>Computers Accessories</td>\n",
       "      <td>SV Keyboard E10 White</td>\n",
       "      <td>279</td>\n",
       "    </tr>\n",
       "    <tr>\n",
       "      <th>12</th>\n",
       "      <td>Computers</td>\n",
       "      <td>Desktops</td>\n",
       "      <td>Adventure Works Desktop PC1.80 ED182 White</td>\n",
       "      <td>580</td>\n",
       "    </tr>\n",
       "    <tr>\n",
       "      <th>13</th>\n",
       "      <td>Computers</td>\n",
       "      <td>Laptops</td>\n",
       "      <td>Proseware Laptop16 M610 White</td>\n",
       "      <td>256</td>\n",
       "    </tr>\n",
       "    <tr>\n",
       "      <th>14</th>\n",
       "      <td>Computers</td>\n",
       "      <td>Monitors</td>\n",
       "      <td>Proseware CRT15 E10 White</td>\n",
       "      <td>225</td>\n",
       "    </tr>\n",
       "    <tr>\n",
       "      <th>15</th>\n",
       "      <td>Computers</td>\n",
       "      <td>Printers, Scanners &amp; Fax</td>\n",
       "      <td>Proseware Ink Jet Fax Machine E100 White</td>\n",
       "      <td>307</td>\n",
       "    </tr>\n",
       "    <tr>\n",
       "      <th>16</th>\n",
       "      <td>Computers</td>\n",
       "      <td>Projectors &amp; Screens</td>\n",
       "      <td>Contoso Screen 100in E010 White</td>\n",
       "      <td>288</td>\n",
       "    </tr>\n",
       "    <tr>\n",
       "      <th>17</th>\n",
       "      <td>Music, Movies and Audio Books</td>\n",
       "      <td>Movie DVD</td>\n",
       "      <td>SV DVD 7-Inch Player Portable E200 Black</td>\n",
       "      <td>265</td>\n",
       "    </tr>\n",
       "    <tr>\n",
       "      <th>18</th>\n",
       "      <td>TV and Video</td>\n",
       "      <td>Car Video</td>\n",
       "      <td>SV Car Video TFT7 M7002 Silver</td>\n",
       "      <td>223</td>\n",
       "    </tr>\n",
       "    <tr>\n",
       "      <th>19</th>\n",
       "      <td>TV and Video</td>\n",
       "      <td>Home Theater System</td>\n",
       "      <td>Contoso Home Theater System 2.1 Channel M1210 ...</td>\n",
       "      <td>294</td>\n",
       "    </tr>\n",
       "    <tr>\n",
       "      <th>20</th>\n",
       "      <td>TV and Video</td>\n",
       "      <td>Televisions</td>\n",
       "      <td>Adventure Works 42\" LCD HDTV M55 Black</td>\n",
       "      <td>264</td>\n",
       "    </tr>\n",
       "    <tr>\n",
       "      <th>21</th>\n",
       "      <td>TV and Video</td>\n",
       "      <td>VCD &amp; DVD</td>\n",
       "      <td>SV 16xDVD M320 Black</td>\n",
       "      <td>174</td>\n",
       "    </tr>\n",
       "  </tbody>\n",
       "</table>\n",
       "</div>"
      ],
      "text/plain": [
       "                 Product Category              Product Sub Category  \\\n",
       "0                           Audio              Bluetooth Headphones   \n",
       "1                           Audio                           MP4&MP3   \n",
       "2                           Audio                     Recording Pen   \n",
       "3         Cameras and camcorders                         Camcorders   \n",
       "4         Cameras and camcorders   Cameras & Camcorders Accessories   \n",
       "5         Cameras and camcorders                    Digital Cameras   \n",
       "6         Cameras and camcorders                Digital SLR Cameras   \n",
       "7                     Cell phones           Cell phones Accessories   \n",
       "8                     Cell phones              Home & Office Phones   \n",
       "9                     Cell phones              Smart phones & PDAs    \n",
       "10                    Cell phones              Touch Screen Phones    \n",
       "11                      Computers             Computers Accessories   \n",
       "12                      Computers                          Desktops   \n",
       "13                      Computers                           Laptops   \n",
       "14                      Computers                          Monitors   \n",
       "15                      Computers          Printers, Scanners & Fax   \n",
       "16                      Computers              Projectors & Screens   \n",
       "17  Music, Movies and Audio Books                         Movie DVD   \n",
       "18                   TV and Video                         Car Video   \n",
       "19                   TV and Video               Home Theater System   \n",
       "20                   TV and Video                       Televisions   \n",
       "21                   TV and Video                         VCD & DVD   \n",
       "\n",
       "                                         Product Name  Order Qty  \n",
       "0             NT Bluetooth Stereo Headphones E52 Pink        200  \n",
       "1      Contoso 8GB Clock & Radio MP3 Player X850 Blue        205  \n",
       "2                   WWI 1GB Pulse Smart pen E50 White        176  \n",
       "3     Fabrikam Social Videographer 1/2\" 3mm E300 Blue        283  \n",
       "4                     Contoso Lens Adapter M450 Black        210  \n",
       "5         A. Datum Compact Digital Camera M200 Orange        237  \n",
       "6                 A. Datum SLR Camera 35\" X358 Orange        273  \n",
       "7                 Contoso In-Line Coupler E180 Silver       6780  \n",
       "8   Contoso Private Automatic Branch Exchange M65 ...        245  \n",
       "9     The Phone Company Smart phones 160x160 M26 Gold        216  \n",
       "10  Contoso Touch Screen Phones SAW/On-wall M806 B...        242  \n",
       "11                              SV Keyboard E10 White        279  \n",
       "12         Adventure Works Desktop PC1.80 ED182 White        580  \n",
       "13                      Proseware Laptop16 M610 White        256  \n",
       "14                          Proseware CRT15 E10 White        225  \n",
       "15           Proseware Ink Jet Fax Machine E100 White        307  \n",
       "16                    Contoso Screen 100in E010 White        288  \n",
       "17           SV DVD 7-Inch Player Portable E200 Black        265  \n",
       "18                     SV Car Video TFT7 M7002 Silver        223  \n",
       "19  Contoso Home Theater System 2.1 Channel M1210 ...        294  \n",
       "20             Adventure Works 42\" LCD HDTV M55 Black        264  \n",
       "21                               SV 16xDVD M320 Black        174  "
      ]
     },
     "execution_count": 40,
     "metadata": {},
     "output_type": "execute_result"
    }
   ],
   "source": [
    "product_counts = df.groupby(['Product Category', 'Product Sub Category', 'Product Name'])['Order Qty'].sum().reset_index()\n",
    "\n",
    "top_5_products_per_category = product_counts.groupby(['Product Category', 'Product Sub Category']).apply(lambda x: x.nlargest(1, 'Order Qty')).reset_index(drop=True)\n",
    "\n",
    "top_5_products_per_category\n"
   ]
  },
  {
   "cell_type": "markdown",
   "id": "3ad5d92d",
   "metadata": {
    "papermill": {
     "duration": 0.05272,
     "end_time": "2025-03-13T15:16:43.851225",
     "exception": false,
     "start_time": "2025-03-13T15:16:43.798505",
     "status": "completed"
    },
    "tags": []
   },
   "source": [
    "### Top Performing Products: Highest Profit Items in Each Category & Sub-Category"
   ]
  },
  {
   "cell_type": "code",
   "execution_count": 41,
   "id": "0bf23777",
   "metadata": {
    "execution": {
     "iopub.execute_input": "2025-03-13T15:16:43.958698Z",
     "iopub.status.busy": "2025-03-13T15:16:43.958327Z",
     "iopub.status.idle": "2025-03-13T15:16:44.015123Z",
     "shell.execute_reply": "2025-03-13T15:16:44.014023Z"
    },
    "papermill": {
     "duration": 0.11212,
     "end_time": "2025-03-13T15:16:44.016762",
     "exception": false,
     "start_time": "2025-03-13T15:16:43.904642",
     "status": "completed"
    },
    "tags": []
   },
   "outputs": [
    {
     "data": {
      "text/html": [
       "<div>\n",
       "<style scoped>\n",
       "    .dataframe tbody tr th:only-of-type {\n",
       "        vertical-align: middle;\n",
       "    }\n",
       "\n",
       "    .dataframe tbody tr th {\n",
       "        vertical-align: top;\n",
       "    }\n",
       "\n",
       "    .dataframe thead th {\n",
       "        text-align: right;\n",
       "    }\n",
       "</style>\n",
       "<table border=\"1\" class=\"dataframe\">\n",
       "  <thead>\n",
       "    <tr style=\"text-align: right;\">\n",
       "      <th></th>\n",
       "      <th>Product Category</th>\n",
       "      <th>Product Sub Category</th>\n",
       "      <th>Product Name</th>\n",
       "      <th>Profit</th>\n",
       "    </tr>\n",
       "  </thead>\n",
       "  <tbody>\n",
       "    <tr>\n",
       "      <th>0</th>\n",
       "      <td>Audio</td>\n",
       "      <td>Bluetooth Headphones</td>\n",
       "      <td>WWI Wireless Transmitter and Bluetooth Headpho...</td>\n",
       "      <td>11026.161229</td>\n",
       "    </tr>\n",
       "    <tr>\n",
       "      <th>1</th>\n",
       "      <td>Audio</td>\n",
       "      <td>MP4&amp;MP3</td>\n",
       "      <td>Contoso 8GB Clock &amp; Radio MP3 Player X850 Green</td>\n",
       "      <td>43766.089285</td>\n",
       "    </tr>\n",
       "    <tr>\n",
       "      <th>2</th>\n",
       "      <td>Audio</td>\n",
       "      <td>Recording Pen</td>\n",
       "      <td>WWI 2GB Pulse Smart pen M100 Blue</td>\n",
       "      <td>20081.896735</td>\n",
       "    </tr>\n",
       "    <tr>\n",
       "      <th>3</th>\n",
       "      <td>Cameras and camcorders</td>\n",
       "      <td>Camcorders</td>\n",
       "      <td>Fabrikam Independent Filmmaker 1\" 25mm X400 Blue</td>\n",
       "      <td>188427.745768</td>\n",
       "    </tr>\n",
       "    <tr>\n",
       "      <th>4</th>\n",
       "      <td>Cameras and camcorders</td>\n",
       "      <td>Cameras &amp; Camcorders Accessories</td>\n",
       "      <td>Contoso Telephoto Conversion Lens X400 White</td>\n",
       "      <td>16551.619753</td>\n",
       "    </tr>\n",
       "    <tr>\n",
       "      <th>5</th>\n",
       "      <td>Cameras and camcorders</td>\n",
       "      <td>Digital Cameras</td>\n",
       "      <td>A. Datum Super-zoom Digital Camera X300 Silver</td>\n",
       "      <td>36963.104199</td>\n",
       "    </tr>\n",
       "    <tr>\n",
       "      <th>6</th>\n",
       "      <td>Cameras and camcorders</td>\n",
       "      <td>Digital SLR Cameras</td>\n",
       "      <td>A. Datum SLR Camera 35\" X358 Orange</td>\n",
       "      <td>128283.559206</td>\n",
       "    </tr>\n",
       "    <tr>\n",
       "      <th>7</th>\n",
       "      <td>Cell phones</td>\n",
       "      <td>Cell phones Accessories</td>\n",
       "      <td>Contoso Bluetooth Active Headphones L15 White</td>\n",
       "      <td>78179.479427</td>\n",
       "    </tr>\n",
       "    <tr>\n",
       "      <th>8</th>\n",
       "      <td>Cell phones</td>\n",
       "      <td>Home &amp; Office Phones</td>\n",
       "      <td>Contoso Integrated Business Phone With card L1...</td>\n",
       "      <td>5947.846621</td>\n",
       "    </tr>\n",
       "    <tr>\n",
       "      <th>9</th>\n",
       "      <td>Cell phones</td>\n",
       "      <td>Smart phones &amp; PDAs</td>\n",
       "      <td>The Phone Company PDA Phone 4.7 inches L360 Black</td>\n",
       "      <td>48136.698452</td>\n",
       "    </tr>\n",
       "    <tr>\n",
       "      <th>10</th>\n",
       "      <td>Cell phones</td>\n",
       "      <td>Touch Screen Phones</td>\n",
       "      <td>The Phone Company Touch Screen Phone 1600 TFT-...</td>\n",
       "      <td>68763.665587</td>\n",
       "    </tr>\n",
       "    <tr>\n",
       "      <th>11</th>\n",
       "      <td>Computers</td>\n",
       "      <td>Computers Accessories</td>\n",
       "      <td>Contoso Laptop Keyboard X105 Silver</td>\n",
       "      <td>18917.122535</td>\n",
       "    </tr>\n",
       "    <tr>\n",
       "      <th>12</th>\n",
       "      <td>Computers</td>\n",
       "      <td>Desktops</td>\n",
       "      <td>Adventure Works Desktop PC1.80 ED182 White</td>\n",
       "      <td>145904.691277</td>\n",
       "    </tr>\n",
       "    <tr>\n",
       "      <th>13</th>\n",
       "      <td>Computers</td>\n",
       "      <td>Laptops</td>\n",
       "      <td>WWI Laptop19W X0196 Blue</td>\n",
       "      <td>182459.400941</td>\n",
       "    </tr>\n",
       "    <tr>\n",
       "      <th>14</th>\n",
       "      <td>Computers</td>\n",
       "      <td>Monitors</td>\n",
       "      <td>WWI LCD24 X300 Black</td>\n",
       "      <td>116236.398851</td>\n",
       "    </tr>\n",
       "    <tr>\n",
       "      <th>15</th>\n",
       "      <td>Computers</td>\n",
       "      <td>Printers, Scanners &amp; Fax</td>\n",
       "      <td>Proseware Professional Quality Plain-Paper Fax...</td>\n",
       "      <td>32407.778357</td>\n",
       "    </tr>\n",
       "    <tr>\n",
       "      <th>16</th>\n",
       "      <td>Computers</td>\n",
       "      <td>Projectors &amp; Screens</td>\n",
       "      <td>Contoso Projector 1080p X980 White</td>\n",
       "      <td>320513.293546</td>\n",
       "    </tr>\n",
       "    <tr>\n",
       "      <th>17</th>\n",
       "      <td>Music, Movies and Audio Books</td>\n",
       "      <td>Movie DVD</td>\n",
       "      <td>Contoso DVD 15-Inch Player Portable L200 Silver</td>\n",
       "      <td>46256.811013</td>\n",
       "    </tr>\n",
       "    <tr>\n",
       "      <th>18</th>\n",
       "      <td>TV and Video</td>\n",
       "      <td>Car Video</td>\n",
       "      <td>SV Car Video LCD9.2W X9281 Brown</td>\n",
       "      <td>60738.168706</td>\n",
       "    </tr>\n",
       "    <tr>\n",
       "      <th>19</th>\n",
       "      <td>TV and Video</td>\n",
       "      <td>Home Theater System</td>\n",
       "      <td>Contoso Home Theater System 7.1 Channel M1700 ...</td>\n",
       "      <td>144055.273702</td>\n",
       "    </tr>\n",
       "    <tr>\n",
       "      <th>20</th>\n",
       "      <td>TV and Video</td>\n",
       "      <td>Televisions</td>\n",
       "      <td>Adventure Works 42\" LCD HDTV M55 Black</td>\n",
       "      <td>90646.032315</td>\n",
       "    </tr>\n",
       "    <tr>\n",
       "      <th>21</th>\n",
       "      <td>TV and Video</td>\n",
       "      <td>VCD &amp; DVD</td>\n",
       "      <td>SV 16xDVD M320 Black</td>\n",
       "      <td>11987.488321</td>\n",
       "    </tr>\n",
       "  </tbody>\n",
       "</table>\n",
       "</div>"
      ],
      "text/plain": [
       "                 Product Category              Product Sub Category  \\\n",
       "0                           Audio              Bluetooth Headphones   \n",
       "1                           Audio                           MP4&MP3   \n",
       "2                           Audio                     Recording Pen   \n",
       "3         Cameras and camcorders                         Camcorders   \n",
       "4         Cameras and camcorders   Cameras & Camcorders Accessories   \n",
       "5         Cameras and camcorders                    Digital Cameras   \n",
       "6         Cameras and camcorders                Digital SLR Cameras   \n",
       "7                     Cell phones           Cell phones Accessories   \n",
       "8                     Cell phones              Home & Office Phones   \n",
       "9                     Cell phones              Smart phones & PDAs    \n",
       "10                    Cell phones              Touch Screen Phones    \n",
       "11                      Computers             Computers Accessories   \n",
       "12                      Computers                          Desktops   \n",
       "13                      Computers                           Laptops   \n",
       "14                      Computers                          Monitors   \n",
       "15                      Computers          Printers, Scanners & Fax   \n",
       "16                      Computers              Projectors & Screens   \n",
       "17  Music, Movies and Audio Books                         Movie DVD   \n",
       "18                   TV and Video                         Car Video   \n",
       "19                   TV and Video               Home Theater System   \n",
       "20                   TV and Video                       Televisions   \n",
       "21                   TV and Video                         VCD & DVD   \n",
       "\n",
       "                                         Product Name         Profit  \n",
       "0   WWI Wireless Transmitter and Bluetooth Headpho...   11026.161229  \n",
       "1     Contoso 8GB Clock & Radio MP3 Player X850 Green   43766.089285  \n",
       "2                   WWI 2GB Pulse Smart pen M100 Blue   20081.896735  \n",
       "3    Fabrikam Independent Filmmaker 1\" 25mm X400 Blue  188427.745768  \n",
       "4        Contoso Telephoto Conversion Lens X400 White   16551.619753  \n",
       "5      A. Datum Super-zoom Digital Camera X300 Silver   36963.104199  \n",
       "6                 A. Datum SLR Camera 35\" X358 Orange  128283.559206  \n",
       "7       Contoso Bluetooth Active Headphones L15 White   78179.479427  \n",
       "8   Contoso Integrated Business Phone With card L1...    5947.846621  \n",
       "9   The Phone Company PDA Phone 4.7 inches L360 Black   48136.698452  \n",
       "10  The Phone Company Touch Screen Phone 1600 TFT-...   68763.665587  \n",
       "11                Contoso Laptop Keyboard X105 Silver   18917.122535  \n",
       "12         Adventure Works Desktop PC1.80 ED182 White  145904.691277  \n",
       "13                           WWI Laptop19W X0196 Blue  182459.400941  \n",
       "14                               WWI LCD24 X300 Black  116236.398851  \n",
       "15  Proseware Professional Quality Plain-Paper Fax...   32407.778357  \n",
       "16                 Contoso Projector 1080p X980 White  320513.293546  \n",
       "17    Contoso DVD 15-Inch Player Portable L200 Silver   46256.811013  \n",
       "18                   SV Car Video LCD9.2W X9281 Brown   60738.168706  \n",
       "19  Contoso Home Theater System 7.1 Channel M1700 ...  144055.273702  \n",
       "20             Adventure Works 42\" LCD HDTV M55 Black   90646.032315  \n",
       "21                               SV 16xDVD M320 Black   11987.488321  "
      ]
     },
     "execution_count": 41,
     "metadata": {},
     "output_type": "execute_result"
    }
   ],
   "source": [
    "product_counts = df.groupby(['Product Category', 'Product Sub Category', 'Product Name'])['Profit'].sum().reset_index()\n",
    "\n",
    "top_5_products_per_category = product_counts.groupby(['Product Category', 'Product Sub Category']).apply(lambda x: x.nlargest(1, 'Profit')).reset_index(drop=True)\n",
    "\n",
    "top_5_products_per_category\n"
   ]
  },
  {
   "cell_type": "markdown",
   "id": "19ff3550",
   "metadata": {
    "papermill": {
     "duration": 0.052528,
     "end_time": "2025-03-13T15:16:44.124085",
     "exception": false,
     "start_time": "2025-03-13T15:16:44.071557",
     "status": "completed"
    },
    "tags": []
   },
   "source": [
    "### Manufacturer Distribution in Sales"
   ]
  },
  {
   "cell_type": "code",
   "execution_count": 42,
   "id": "8eb18c92",
   "metadata": {
    "execution": {
     "iopub.execute_input": "2025-03-13T15:16:44.232697Z",
     "iopub.status.busy": "2025-03-13T15:16:44.232301Z",
     "iopub.status.idle": "2025-03-13T15:16:44.341169Z",
     "shell.execute_reply": "2025-03-13T15:16:44.339960Z"
    },
    "papermill": {
     "duration": 0.165662,
     "end_time": "2025-03-13T15:16:44.343262",
     "exception": false,
     "start_time": "2025-03-13T15:16:44.177600",
     "status": "completed"
    },
    "tags": []
   },
   "outputs": [
    {
     "name": "stdout",
     "output_type": "stream",
     "text": [
      "Manufacturer\n",
      "Contoso, Ltd            4891\n",
      "Proseware, Inc.         1639\n",
      "Fabrikam, Inc.          1605\n",
      "Southridge Video        1540\n",
      "A. Datum Corporation    1342\n",
      "The Phone Company       1314\n",
      "Adventure Works         1125\n",
      "Wide World Importers     990\n",
      "Litware, Inc.            348\n",
      "Northwind Traders        206\n",
      "Name: count, dtype: int64\n",
      "-------------------------------------------------------------------------------------------------------------------\n"
     ]
    },
    {
     "data": {
      "text/html": [
       "<iframe\n",
       "    scrolling=\"no\"\n",
       "    width=\"100%\"\n",
       "    height=\"545px\"\n",
       "    src=\"iframe_figures/figure_42.html\"\n",
       "    frameborder=\"0\"\n",
       "    allowfullscreen\n",
       "></iframe>\n"
      ]
     },
     "metadata": {},
     "output_type": "display_data"
    }
   ],
   "source": [
    "Manufacturer_counts=df[\"Manufacturer\"].value_counts()\n",
    "print(Manufacturer_counts)\n",
    "print(\"-\"*115)\n",
    "Manufacturer_counts=px.bar(Manufacturer_counts,color=Manufacturer_counts)\n",
    "Manufacturer_counts.show()"
   ]
  },
  {
   "cell_type": "markdown",
   "id": "ad24a365",
   "metadata": {
    "papermill": {
     "duration": 0.057876,
     "end_time": "2025-03-13T15:16:44.461412",
     "exception": false,
     "start_time": "2025-03-13T15:16:44.403536",
     "status": "completed"
    },
    "tags": []
   },
   "source": [
    "* 1️⃣ Some manufacturers dominate the market share, while others contribute less.\n",
    "\n",
    "     🔹 Actionable Insight: Strengthen relationships with top-performing manufacturers to ensure consistent supply and explore better pricing or bulk purchase deals.\n",
    "\n",
    "* 2️⃣ Manufacturers with lower counts may have growth potential if their products are well-received.\n",
    "\n",
    "     🔹 Actionable Insight: Identify high-potential manufacturers and collaborate on marketing efforts to increase their sales presence.\n",
    "\n",
    "* 3️⃣ A heavy reliance on a few manufacturers poses a supply chain risk.\n",
    "\n",
    "     🔹 Actionable Insight: Diversify supplier partnerships to minimize disruptions and ensure product availability in case of shortages.\n"
   ]
  },
  {
   "cell_type": "markdown",
   "id": "428167f9",
   "metadata": {
    "papermill": {
     "duration": 0.059361,
     "end_time": "2025-03-13T15:16:44.583306",
     "exception": false,
     "start_time": "2025-03-13T15:16:44.523945",
     "status": "completed"
    },
    "tags": []
   },
   "source": [
    "### Top-Selling Manufacturers by Region"
   ]
  },
  {
   "cell_type": "code",
   "execution_count": 43,
   "id": "eceec78a",
   "metadata": {
    "execution": {
     "iopub.execute_input": "2025-03-13T15:16:44.690647Z",
     "iopub.status.busy": "2025-03-13T15:16:44.690285Z",
     "iopub.status.idle": "2025-03-13T15:16:44.706844Z",
     "shell.execute_reply": "2025-03-13T15:16:44.705833Z"
    },
    "papermill": {
     "duration": 0.072313,
     "end_time": "2025-03-13T15:16:44.708570",
     "exception": false,
     "start_time": "2025-03-13T15:16:44.636257",
     "status": "completed"
    },
    "tags": []
   },
   "outputs": [
    {
     "data": {
      "text/html": [
       "<div>\n",
       "<style scoped>\n",
       "    .dataframe tbody tr th:only-of-type {\n",
       "        vertical-align: middle;\n",
       "    }\n",
       "\n",
       "    .dataframe tbody tr th {\n",
       "        vertical-align: top;\n",
       "    }\n",
       "\n",
       "    .dataframe thead th {\n",
       "        text-align: right;\n",
       "    }\n",
       "</style>\n",
       "<table border=\"1\" class=\"dataframe\">\n",
       "  <thead>\n",
       "    <tr style=\"text-align: right;\">\n",
       "      <th></th>\n",
       "      <th>Region</th>\n",
       "      <th>Manufacturer</th>\n",
       "      <th>Sales</th>\n",
       "    </tr>\n",
       "  </thead>\n",
       "  <tbody>\n",
       "    <tr>\n",
       "      <th>23</th>\n",
       "      <td>North America</td>\n",
       "      <td>Fabrikam, Inc.</td>\n",
       "      <td>7.277240e+06</td>\n",
       "    </tr>\n",
       "    <tr>\n",
       "      <th>3</th>\n",
       "      <td>Asia</td>\n",
       "      <td>Fabrikam, Inc.</td>\n",
       "      <td>2.665951e+06</td>\n",
       "    </tr>\n",
       "    <tr>\n",
       "      <th>13</th>\n",
       "      <td>Europe</td>\n",
       "      <td>Fabrikam, Inc.</td>\n",
       "      <td>2.111090e+06</td>\n",
       "    </tr>\n",
       "  </tbody>\n",
       "</table>\n",
       "</div>"
      ],
      "text/plain": [
       "           Region    Manufacturer         Sales\n",
       "23  North America  Fabrikam, Inc.  7.277240e+06\n",
       "3            Asia  Fabrikam, Inc.  2.665951e+06\n",
       "13         Europe  Fabrikam, Inc.  2.111090e+06"
      ]
     },
     "execution_count": 43,
     "metadata": {},
     "output_type": "execute_result"
    }
   ],
   "source": [
    "sales_per_Manufacturer = df.groupby([\"Region\", \"Manufacturer\"])[\"Sales\"].sum().reset_index()\n",
    "\n",
    "top_Manufacturer_per_Region = sales_per_Manufacturer.loc[sales_per_Manufacturer.groupby(\"Region\")[\"Sales\"].idxmax()]\n",
    "\n",
    "top_Manufacturer_per_Region=top_Manufacturer_per_Region.sort_values(by=\"Sales\", ascending=False)\n",
    "top_Manufacturer_per_Region"
   ]
  },
  {
   "cell_type": "markdown",
   "id": "66a85c4a",
   "metadata": {
    "papermill": {
     "duration": 0.052493,
     "end_time": "2025-03-13T15:16:44.814397",
     "exception": false,
     "start_time": "2025-03-13T15:16:44.761904",
     "status": "completed"
    },
    "tags": []
   },
   "source": [
    "* 1️⃣ Each region has a leading manufacturer, indicating regional brand preferences.\n",
    "\n",
    "    🔹 Actionable Insight: Strengthen partnerships with top manufacturers in each region by negotiating better deals, exclusive products, or co-branded promotions.\n",
    "\n",
    "* 2️⃣ Some manufacturers dominate multiple regions, suggesting strong nationwide or global demand.\n",
    "\n",
    "    🔹 Actionable Insight: Expand distribution for these manufacturers and explore additional product lines to capture a larger market share.\n",
    "\n",
    "* 3️⃣ Underperforming manufacturers in specific regions may need localized marketing support.\n",
    "\n",
    "    🔹 Actionable Insight: Develop targeted advertising campaigns, regional promotions, or localized product modifications to boost their sales.\n",
    "\n"
   ]
  },
  {
   "cell_type": "markdown",
   "id": "4a3985ec",
   "metadata": {
    "papermill": {
     "duration": 0.052847,
     "end_time": "2025-03-13T15:16:44.920837",
     "exception": false,
     "start_time": "2025-03-13T15:16:44.867990",
     "status": "completed"
    },
    "tags": []
   },
   "source": [
    "### Top-Selling Manufacturers by Year"
   ]
  },
  {
   "cell_type": "code",
   "execution_count": 44,
   "id": "220e34fd",
   "metadata": {
    "execution": {
     "iopub.execute_input": "2025-03-13T15:16:45.028904Z",
     "iopub.status.busy": "2025-03-13T15:16:45.028551Z",
     "iopub.status.idle": "2025-03-13T15:16:45.044095Z",
     "shell.execute_reply": "2025-03-13T15:16:45.043036Z"
    },
    "papermill": {
     "duration": 0.072116,
     "end_time": "2025-03-13T15:16:45.045771",
     "exception": false,
     "start_time": "2025-03-13T15:16:44.973655",
     "status": "completed"
    },
    "tags": []
   },
   "outputs": [
    {
     "data": {
      "text/html": [
       "<div>\n",
       "<style scoped>\n",
       "    .dataframe tbody tr th:only-of-type {\n",
       "        vertical-align: middle;\n",
       "    }\n",
       "\n",
       "    .dataframe tbody tr th {\n",
       "        vertical-align: top;\n",
       "    }\n",
       "\n",
       "    .dataframe thead th {\n",
       "        text-align: right;\n",
       "    }\n",
       "</style>\n",
       "<table border=\"1\" class=\"dataframe\">\n",
       "  <thead>\n",
       "    <tr style=\"text-align: right;\">\n",
       "      <th></th>\n",
       "      <th>Year</th>\n",
       "      <th>Manufacturer</th>\n",
       "      <th>Sales</th>\n",
       "    </tr>\n",
       "  </thead>\n",
       "  <tbody>\n",
       "    <tr>\n",
       "      <th>13</th>\n",
       "      <td>2017</td>\n",
       "      <td>Fabrikam, Inc.</td>\n",
       "      <td>4.199447e+06</td>\n",
       "    </tr>\n",
       "    <tr>\n",
       "      <th>23</th>\n",
       "      <td>2018</td>\n",
       "      <td>Fabrikam, Inc.</td>\n",
       "      <td>3.672586e+06</td>\n",
       "    </tr>\n",
       "    <tr>\n",
       "      <th>3</th>\n",
       "      <td>2016</td>\n",
       "      <td>Fabrikam, Inc.</td>\n",
       "      <td>2.588957e+06</td>\n",
       "    </tr>\n",
       "    <tr>\n",
       "      <th>33</th>\n",
       "      <td>2019</td>\n",
       "      <td>Fabrikam, Inc.</td>\n",
       "      <td>1.593292e+06</td>\n",
       "    </tr>\n",
       "  </tbody>\n",
       "</table>\n",
       "</div>"
      ],
      "text/plain": [
       "    Year    Manufacturer         Sales\n",
       "13  2017  Fabrikam, Inc.  4.199447e+06\n",
       "23  2018  Fabrikam, Inc.  3.672586e+06\n",
       "3   2016  Fabrikam, Inc.  2.588957e+06\n",
       "33  2019  Fabrikam, Inc.  1.593292e+06"
      ]
     },
     "execution_count": 44,
     "metadata": {},
     "output_type": "execute_result"
    }
   ],
   "source": [
    "sales_per_Manufacturer = df.groupby([\"Year\", \"Manufacturer\"])[\"Sales\"].sum().reset_index()\n",
    "\n",
    "top_Manufacturer_per_Year = sales_per_Manufacturer.loc[sales_per_Manufacturer.groupby(\"Year\")[\"Sales\"].idxmax()]\n",
    "\n",
    "top_Manufacturer_per_Year=top_Manufacturer_per_Year.sort_values(by=\"Sales\", ascending=False)\n",
    "top_Manufacturer_per_Year"
   ]
  },
  {
   "cell_type": "markdown",
   "id": "0b8f4a0b",
   "metadata": {
    "papermill": {
     "duration": 0.053403,
     "end_time": "2025-03-13T15:16:45.154306",
     "exception": false,
     "start_time": "2025-03-13T15:16:45.100903",
     "status": "completed"
    },
    "tags": []
   },
   "source": [
    "* 1️⃣ Certain manufacturers consistently dominate sales across multiple years, indicating strong brand loyalty and demand.\n",
    "\n",
    "     🔹 Actionable Insight: Strengthen long-term contracts with these manufacturers, negotiate better pricing, and expand their product lines to maximize revenue.\n",
    "\n",
    "* 2️⃣ Year-over-year shifts in top manufacturers suggest evolving market trends and consumer preferences.\n",
    "\n",
    "     🔹 Actionable Insight: Regularly analyze sales trends and adapt procurement strategies to align with changing customer demands.\n",
    "\n",
    "* 3️⃣ New manufacturers emerging as top sellers in recent years highlight potential growth opportunities.\n",
    "\n",
    "     🔹 Actionable Insight: Identify rising manufacturers and invest in co-marketing campaigns, exclusive deals, or early partnership advantages to gain a competitive edge.\n",
    "\n",
    "* 4️⃣ Manufacturers that dominated in previous years but declined recently may indicate market saturation or product obsolescence.\n",
    "\n",
    "     🔹 Actionable Insight: Assess product performance, refresh marketing strategies, or explore product innovations to regain lost market share."
   ]
  },
  {
   "cell_type": "markdown",
   "id": "5588c17e",
   "metadata": {
    "papermill": {
     "duration": 0.054847,
     "end_time": "2025-03-13T15:16:45.262543",
     "exception": false,
     "start_time": "2025-03-13T15:16:45.207696",
     "status": "completed"
    },
    "tags": []
   },
   "source": [
    "### Yearly Sales Distribution Across Manufacturers"
   ]
  },
  {
   "cell_type": "code",
   "execution_count": 45,
   "id": "06c75067",
   "metadata": {
    "execution": {
     "iopub.execute_input": "2025-03-13T15:16:45.371103Z",
     "iopub.status.busy": "2025-03-13T15:16:45.370687Z",
     "iopub.status.idle": "2025-03-13T15:16:45.390837Z",
     "shell.execute_reply": "2025-03-13T15:16:45.389567Z"
    },
    "papermill": {
     "duration": 0.076937,
     "end_time": "2025-03-13T15:16:45.392537",
     "exception": false,
     "start_time": "2025-03-13T15:16:45.315600",
     "status": "completed"
    },
    "tags": []
   },
   "outputs": [
    {
     "data": {
      "text/html": [
       "<div>\n",
       "<style scoped>\n",
       "    .dataframe tbody tr th:only-of-type {\n",
       "        vertical-align: middle;\n",
       "    }\n",
       "\n",
       "    .dataframe tbody tr th {\n",
       "        vertical-align: top;\n",
       "    }\n",
       "\n",
       "    .dataframe thead th {\n",
       "        text-align: right;\n",
       "    }\n",
       "</style>\n",
       "<table border=\"1\" class=\"dataframe\">\n",
       "  <thead>\n",
       "    <tr style=\"text-align: right;\">\n",
       "      <th>Manufacturer</th>\n",
       "      <th>A. Datum Corporation</th>\n",
       "      <th>Adventure Works</th>\n",
       "      <th>Contoso, Ltd</th>\n",
       "      <th>Fabrikam, Inc.</th>\n",
       "      <th>Litware, Inc.</th>\n",
       "      <th>Northwind Traders</th>\n",
       "      <th>Proseware, Inc.</th>\n",
       "      <th>Southridge Video</th>\n",
       "      <th>The Phone Company</th>\n",
       "      <th>Wide World Importers</th>\n",
       "    </tr>\n",
       "    <tr>\n",
       "      <th>Year</th>\n",
       "      <th></th>\n",
       "      <th></th>\n",
       "      <th></th>\n",
       "      <th></th>\n",
       "      <th></th>\n",
       "      <th></th>\n",
       "      <th></th>\n",
       "      <th></th>\n",
       "      <th></th>\n",
       "      <th></th>\n",
       "    </tr>\n",
       "  </thead>\n",
       "  <tbody>\n",
       "    <tr>\n",
       "      <th>2016</th>\n",
       "      <td>399</td>\n",
       "      <td>224</td>\n",
       "      <td>1304</td>\n",
       "      <td>375</td>\n",
       "      <td>51</td>\n",
       "      <td>27</td>\n",
       "      <td>468</td>\n",
       "      <td>430</td>\n",
       "      <td>370</td>\n",
       "      <td>211</td>\n",
       "    </tr>\n",
       "    <tr>\n",
       "      <th>2017</th>\n",
       "      <td>489</td>\n",
       "      <td>375</td>\n",
       "      <td>1793</td>\n",
       "      <td>559</td>\n",
       "      <td>134</td>\n",
       "      <td>77</td>\n",
       "      <td>571</td>\n",
       "      <td>563</td>\n",
       "      <td>509</td>\n",
       "      <td>291</td>\n",
       "    </tr>\n",
       "    <tr>\n",
       "      <th>2018</th>\n",
       "      <td>332</td>\n",
       "      <td>366</td>\n",
       "      <td>1299</td>\n",
       "      <td>461</td>\n",
       "      <td>119</td>\n",
       "      <td>76</td>\n",
       "      <td>450</td>\n",
       "      <td>402</td>\n",
       "      <td>312</td>\n",
       "      <td>329</td>\n",
       "    </tr>\n",
       "    <tr>\n",
       "      <th>2019</th>\n",
       "      <td>122</td>\n",
       "      <td>160</td>\n",
       "      <td>495</td>\n",
       "      <td>210</td>\n",
       "      <td>44</td>\n",
       "      <td>26</td>\n",
       "      <td>150</td>\n",
       "      <td>145</td>\n",
       "      <td>123</td>\n",
       "      <td>159</td>\n",
       "    </tr>\n",
       "  </tbody>\n",
       "</table>\n",
       "</div>"
      ],
      "text/plain": [
       "Manufacturer  A. Datum Corporation  Adventure Works  Contoso, Ltd  \\\n",
       "Year                                                                \n",
       "2016                           399              224          1304   \n",
       "2017                           489              375          1793   \n",
       "2018                           332              366          1299   \n",
       "2019                           122              160           495   \n",
       "\n",
       "Manufacturer  Fabrikam, Inc.  Litware, Inc.  Northwind Traders  \\\n",
       "Year                                                             \n",
       "2016                     375             51                 27   \n",
       "2017                     559            134                 77   \n",
       "2018                     461            119                 76   \n",
       "2019                     210             44                 26   \n",
       "\n",
       "Manufacturer  Proseware, Inc.  Southridge Video  The Phone Company  \\\n",
       "Year                                                                 \n",
       "2016                      468               430                370   \n",
       "2017                      571               563                509   \n",
       "2018                      450               402                312   \n",
       "2019                      150               145                123   \n",
       "\n",
       "Manufacturer  Wide World Importers  \n",
       "Year                                \n",
       "2016                           211  \n",
       "2017                           291  \n",
       "2018                           329  \n",
       "2019                           159  "
      ]
     },
     "execution_count": 45,
     "metadata": {},
     "output_type": "execute_result"
    }
   ],
   "source": [
    "Manufacturer_Year=pd.crosstab(df[\"Year\"],df[\"Manufacturer\"])\n",
    "Manufacturer_Year"
   ]
  },
  {
   "cell_type": "code",
   "execution_count": 46,
   "id": "4f6fd487",
   "metadata": {
    "execution": {
     "iopub.execute_input": "2025-03-13T15:16:45.504413Z",
     "iopub.status.busy": "2025-03-13T15:16:45.504001Z",
     "iopub.status.idle": "2025-03-13T15:16:45.644778Z",
     "shell.execute_reply": "2025-03-13T15:16:45.643785Z"
    },
    "papermill": {
     "duration": 0.199157,
     "end_time": "2025-03-13T15:16:45.646476",
     "exception": false,
     "start_time": "2025-03-13T15:16:45.447319",
     "status": "completed"
    },
    "tags": []
   },
   "outputs": [
    {
     "data": {
      "text/html": [
       "<iframe\n",
       "    scrolling=\"no\"\n",
       "    width=\"100%\"\n",
       "    height=\"545px\"\n",
       "    src=\"iframe_figures/figure_46.html\"\n",
       "    frameborder=\"0\"\n",
       "    allowfullscreen\n",
       "></iframe>\n"
      ]
     },
     "metadata": {},
     "output_type": "display_data"
    }
   ],
   "source": [
    "fig = px.bar(Manufacturer_Year, barmode='group',title=\"Yearly Sales Performance Across Manufacturers\")\n",
    "fig.show()"
   ]
  },
  {
   "cell_type": "markdown",
   "id": "cf11c4a7",
   "metadata": {
    "papermill": {
     "duration": 0.055319,
     "end_time": "2025-03-13T15:16:45.756278",
     "exception": false,
     "start_time": "2025-03-13T15:16:45.700959",
     "status": "completed"
    },
    "tags": []
   },
   "source": [
    "* 1️⃣ Certain manufacturers have maintained a strong presence across multiple years, indicating consistent demand.\n",
    "\n",
    "     🔹 Actionable Insight: Strengthen supplier agreements with these manufacturers to ensure stable inventory and negotiate better pricing.\n",
    "\n",
    "* 2️⃣ Some manufacturers have seen significant growth in recent years, highlighting emerging market trends.\n",
    "\n",
    "     🔹 Actionable Insight: Invest in marketing campaigns and expand partnerships with these growing manufacturers to capitalize on their increasing demand.\n",
    "\n",
    "* 3️⃣ A decline in sales for certain manufacturers over the years may indicate reduced customer interest or product obsolescence.\n",
    "\n",
    "     🔹 Actionable Insight: Analyze reasons for the decline (pricing, competition, or quality issues) and develop strategies such as promotions or product revamps to regain market traction.\n",
    "\n",
    "* 4️⃣ New manufacturers appearing in recent years suggest potential opportunities for diversification.\n",
    "\n",
    "     🔹 Actionable Insight: Identify promising new manufacturers and explore collaborations, exclusive deals, or product expansions to increase revenue streams."
   ]
  },
  {
   "cell_type": "markdown",
   "id": "75daec7f",
   "metadata": {
    "papermill": {
     "duration": 0.05462,
     "end_time": "2025-03-13T15:16:45.865226",
     "exception": false,
     "start_time": "2025-03-13T15:16:45.810606",
     "status": "completed"
    },
    "tags": []
   },
   "source": [
    "### Top-Selling Product Category for Each Manufacturer"
   ]
  },
  {
   "cell_type": "code",
   "execution_count": 47,
   "id": "73d9c1f0",
   "metadata": {
    "execution": {
     "iopub.execute_input": "2025-03-13T15:16:45.975243Z",
     "iopub.status.busy": "2025-03-13T15:16:45.974828Z",
     "iopub.status.idle": "2025-03-13T15:16:45.992278Z",
     "shell.execute_reply": "2025-03-13T15:16:45.991187Z"
    },
    "papermill": {
     "duration": 0.074432,
     "end_time": "2025-03-13T15:16:45.993941",
     "exception": false,
     "start_time": "2025-03-13T15:16:45.919509",
     "status": "completed"
    },
    "tags": []
   },
   "outputs": [
    {
     "data": {
      "text/html": [
       "<div>\n",
       "<style scoped>\n",
       "    .dataframe tbody tr th:only-of-type {\n",
       "        vertical-align: middle;\n",
       "    }\n",
       "\n",
       "    .dataframe tbody tr th {\n",
       "        vertical-align: top;\n",
       "    }\n",
       "\n",
       "    .dataframe thead th {\n",
       "        text-align: right;\n",
       "    }\n",
       "</style>\n",
       "<table border=\"1\" class=\"dataframe\">\n",
       "  <thead>\n",
       "    <tr style=\"text-align: right;\">\n",
       "      <th></th>\n",
       "      <th>Manufacturer</th>\n",
       "      <th>Product Category</th>\n",
       "      <th>Sales</th>\n",
       "    </tr>\n",
       "  </thead>\n",
       "  <tbody>\n",
       "    <tr>\n",
       "      <th>9</th>\n",
       "      <td>Fabrikam, Inc.</td>\n",
       "      <td>Cameras and camcorders</td>\n",
       "      <td>1.047594e+07</td>\n",
       "    </tr>\n",
       "    <tr>\n",
       "      <th>13</th>\n",
       "      <td>Proseware, Inc.</td>\n",
       "      <td>Computers</td>\n",
       "      <td>5.996829e+06</td>\n",
       "    </tr>\n",
       "    <tr>\n",
       "      <th>1</th>\n",
       "      <td>Adventure Works</td>\n",
       "      <td>Computers</td>\n",
       "      <td>5.403362e+06</td>\n",
       "    </tr>\n",
       "    <tr>\n",
       "      <th>19</th>\n",
       "      <td>Wide World Importers</td>\n",
       "      <td>Computers</td>\n",
       "      <td>5.268061e+06</td>\n",
       "    </tr>\n",
       "    <tr>\n",
       "      <th>0</th>\n",
       "      <td>A. Datum Corporation</td>\n",
       "      <td>Cameras and camcorders</td>\n",
       "      <td>4.404982e+06</td>\n",
       "    </tr>\n",
       "    <tr>\n",
       "      <th>17</th>\n",
       "      <td>The Phone Company</td>\n",
       "      <td>Cell phones</td>\n",
       "      <td>4.386164e+06</td>\n",
       "    </tr>\n",
       "    <tr>\n",
       "      <th>6</th>\n",
       "      <td>Contoso, Ltd</td>\n",
       "      <td>Computers</td>\n",
       "      <td>2.774946e+06</td>\n",
       "    </tr>\n",
       "    <tr>\n",
       "      <th>16</th>\n",
       "      <td>Southridge Video</td>\n",
       "      <td>TV and Video</td>\n",
       "      <td>2.305530e+06</td>\n",
       "    </tr>\n",
       "    <tr>\n",
       "      <th>11</th>\n",
       "      <td>Litware, Inc.</td>\n",
       "      <td>TV and Video</td>\n",
       "      <td>2.134837e+06</td>\n",
       "    </tr>\n",
       "    <tr>\n",
       "      <th>12</th>\n",
       "      <td>Northwind Traders</td>\n",
       "      <td>Audio</td>\n",
       "      <td>1.365720e+05</td>\n",
       "    </tr>\n",
       "  </tbody>\n",
       "</table>\n",
       "</div>"
      ],
      "text/plain": [
       "            Manufacturer         Product Category         Sales\n",
       "9         Fabrikam, Inc.  Cameras and camcorders   1.047594e+07\n",
       "13       Proseware, Inc.                Computers  5.996829e+06\n",
       "1        Adventure Works                Computers  5.403362e+06\n",
       "19  Wide World Importers                Computers  5.268061e+06\n",
       "0   A. Datum Corporation  Cameras and camcorders   4.404982e+06\n",
       "17     The Phone Company              Cell phones  4.386164e+06\n",
       "6           Contoso, Ltd                Computers  2.774946e+06\n",
       "16      Southridge Video             TV and Video  2.305530e+06\n",
       "11         Litware, Inc.             TV and Video  2.134837e+06\n",
       "12     Northwind Traders                    Audio  1.365720e+05"
      ]
     },
     "execution_count": 47,
     "metadata": {},
     "output_type": "execute_result"
    }
   ],
   "source": [
    "sales_per_category = df.groupby([\"Manufacturer\", \"Product Category\"])[\"Sales\"].sum().reset_index()\n",
    "\n",
    "\n",
    "top_category_per_manufacturer = sales_per_category.loc[\n",
    "    sales_per_category.groupby(\"Manufacturer\")[\"Sales\"].idxmax()]\n",
    "\n",
    "top_category_per_manufacturer = top_category_per_manufacturer.sort_values(by=\"Sales\", ascending=False)\n",
    "\n",
    "top_category_per_manufacturer\n"
   ]
  },
  {
   "cell_type": "markdown",
   "id": "1fb07966",
   "metadata": {
    "papermill": {
     "duration": 0.054531,
     "end_time": "2025-03-13T15:16:46.103542",
     "exception": false,
     "start_time": "2025-03-13T15:16:46.049011",
     "status": "completed"
    },
    "tags": []
   },
   "source": [
    "* 1️⃣ Each manufacturer has a dominant product category contributing the most to sales.\n",
    "\n",
    "    🔹 Actionable Insight: Focus marketing efforts and inventory stocking on these high-performing categories to maximize revenue.\n",
    "\n",
    "* 2️⃣ Some manufacturers specialize in specific categories, while others distribute sales across multiple product lines.\n",
    "\n",
    "    🔹 Actionable Insight: Identify category-specific leaders and explore cross-selling opportunities between manufacturers to expand product offerings.\n",
    "\n",
    "* 3️⃣ Sales concentration in a single category for some manufacturers may indicate reliance on a limited market segment.\n",
    "\n",
    "    🔹 Actionable Insight: Encourage diversification by collaborating with manufacturers to introduce new product lines and reduce business risks.\n",
    "\n",
    "* 4️⃣ Certain categories dominate overall sales across multiple manufacturers, showing strong market demand.\n",
    "\n",
    "    🔹 Actionable Insight: Invest in expanding these categories, enhance supplier relationships, and explore premium or budget-friendly variations.\n"
   ]
  },
  {
   "cell_type": "markdown",
   "id": "6d5def52",
   "metadata": {
    "papermill": {
     "duration": 0.054702,
     "end_time": "2025-03-13T15:16:46.212238",
     "exception": false,
     "start_time": "2025-03-13T15:16:46.157536",
     "status": "completed"
    },
    "tags": []
   },
   "source": [
    "### Manufacturer vs. Product Category Sales Distribution"
   ]
  },
  {
   "cell_type": "code",
   "execution_count": 48,
   "id": "92d48ed0",
   "metadata": {
    "execution": {
     "iopub.execute_input": "2025-03-13T15:16:46.323768Z",
     "iopub.status.busy": "2025-03-13T15:16:46.323401Z",
     "iopub.status.idle": "2025-03-13T15:16:46.342970Z",
     "shell.execute_reply": "2025-03-13T15:16:46.341976Z"
    },
    "papermill": {
     "duration": 0.077161,
     "end_time": "2025-03-13T15:16:46.344647",
     "exception": false,
     "start_time": "2025-03-13T15:16:46.267486",
     "status": "completed"
    },
    "tags": []
   },
   "outputs": [
    {
     "data": {
      "text/html": [
       "<div>\n",
       "<style scoped>\n",
       "    .dataframe tbody tr th:only-of-type {\n",
       "        vertical-align: middle;\n",
       "    }\n",
       "\n",
       "    .dataframe tbody tr th {\n",
       "        vertical-align: top;\n",
       "    }\n",
       "\n",
       "    .dataframe thead th {\n",
       "        text-align: right;\n",
       "    }\n",
       "</style>\n",
       "<table border=\"1\" class=\"dataframe\">\n",
       "  <thead>\n",
       "    <tr style=\"text-align: right;\">\n",
       "      <th>Product Category</th>\n",
       "      <th>Audio</th>\n",
       "      <th>Cameras and camcorders</th>\n",
       "      <th>Cell phones</th>\n",
       "      <th>Computers</th>\n",
       "      <th>Music, Movies and Audio Books</th>\n",
       "      <th>TV and Video</th>\n",
       "    </tr>\n",
       "    <tr>\n",
       "      <th>Manufacturer</th>\n",
       "      <th></th>\n",
       "      <th></th>\n",
       "      <th></th>\n",
       "      <th></th>\n",
       "      <th></th>\n",
       "      <th></th>\n",
       "    </tr>\n",
       "  </thead>\n",
       "  <tbody>\n",
       "    <tr>\n",
       "      <th>A. Datum Corporation</th>\n",
       "      <td>0</td>\n",
       "      <td>1342</td>\n",
       "      <td>0</td>\n",
       "      <td>0</td>\n",
       "      <td>0</td>\n",
       "      <td>0</td>\n",
       "    </tr>\n",
       "    <tr>\n",
       "      <th>Adventure Works</th>\n",
       "      <td>0</td>\n",
       "      <td>0</td>\n",
       "      <td>0</td>\n",
       "      <td>776</td>\n",
       "      <td>0</td>\n",
       "      <td>349</td>\n",
       "    </tr>\n",
       "    <tr>\n",
       "      <th>Contoso, Ltd</th>\n",
       "      <td>308</td>\n",
       "      <td>856</td>\n",
       "      <td>1295</td>\n",
       "      <td>1520</td>\n",
       "      <td>412</td>\n",
       "      <td>500</td>\n",
       "    </tr>\n",
       "    <tr>\n",
       "      <th>Fabrikam, Inc.</th>\n",
       "      <td>0</td>\n",
       "      <td>1392</td>\n",
       "      <td>0</td>\n",
       "      <td>213</td>\n",
       "      <td>0</td>\n",
       "      <td>0</td>\n",
       "    </tr>\n",
       "    <tr>\n",
       "      <th>Litware, Inc.</th>\n",
       "      <td>0</td>\n",
       "      <td>0</td>\n",
       "      <td>0</td>\n",
       "      <td>0</td>\n",
       "      <td>0</td>\n",
       "      <td>348</td>\n",
       "    </tr>\n",
       "    <tr>\n",
       "      <th>Northwind Traders</th>\n",
       "      <td>206</td>\n",
       "      <td>0</td>\n",
       "      <td>0</td>\n",
       "      <td>0</td>\n",
       "      <td>0</td>\n",
       "      <td>0</td>\n",
       "    </tr>\n",
       "    <tr>\n",
       "      <th>Proseware, Inc.</th>\n",
       "      <td>0</td>\n",
       "      <td>0</td>\n",
       "      <td>0</td>\n",
       "      <td>1639</td>\n",
       "      <td>0</td>\n",
       "      <td>0</td>\n",
       "    </tr>\n",
       "    <tr>\n",
       "      <th>Southridge Video</th>\n",
       "      <td>0</td>\n",
       "      <td>0</td>\n",
       "      <td>0</td>\n",
       "      <td>439</td>\n",
       "      <td>420</td>\n",
       "      <td>681</td>\n",
       "    </tr>\n",
       "    <tr>\n",
       "      <th>The Phone Company</th>\n",
       "      <td>0</td>\n",
       "      <td>0</td>\n",
       "      <td>1314</td>\n",
       "      <td>0</td>\n",
       "      <td>0</td>\n",
       "      <td>0</td>\n",
       "    </tr>\n",
       "    <tr>\n",
       "      <th>Wide World Importers</th>\n",
       "      <td>218</td>\n",
       "      <td>0</td>\n",
       "      <td>0</td>\n",
       "      <td>772</td>\n",
       "      <td>0</td>\n",
       "      <td>0</td>\n",
       "    </tr>\n",
       "  </tbody>\n",
       "</table>\n",
       "</div>"
      ],
      "text/plain": [
       "Product Category      Audio  Cameras and camcorders   Cell phones  Computers  \\\n",
       "Manufacturer                                                                   \n",
       "A. Datum Corporation      0                     1342            0          0   \n",
       "Adventure Works           0                        0            0        776   \n",
       "Contoso, Ltd            308                      856         1295       1520   \n",
       "Fabrikam, Inc.            0                     1392            0        213   \n",
       "Litware, Inc.             0                        0            0          0   \n",
       "Northwind Traders       206                        0            0          0   \n",
       "Proseware, Inc.           0                        0            0       1639   \n",
       "Southridge Video          0                        0            0        439   \n",
       "The Phone Company         0                        0         1314          0   \n",
       "Wide World Importers    218                        0            0        772   \n",
       "\n",
       "Product Category      Music, Movies and Audio Books  TV and Video  \n",
       "Manufacturer                                                       \n",
       "A. Datum Corporation                              0             0  \n",
       "Adventure Works                                   0           349  \n",
       "Contoso, Ltd                                    412           500  \n",
       "Fabrikam, Inc.                                    0             0  \n",
       "Litware, Inc.                                     0           348  \n",
       "Northwind Traders                                 0             0  \n",
       "Proseware, Inc.                                   0             0  \n",
       "Southridge Video                                420           681  \n",
       "The Phone Company                                 0             0  \n",
       "Wide World Importers                              0             0  "
      ]
     },
     "execution_count": 48,
     "metadata": {},
     "output_type": "execute_result"
    }
   ],
   "source": [
    "Manufacturer_ProductCategory=pd.crosstab(df[\"Manufacturer\"],df[\"Product Category\"])\n",
    "Manufacturer_ProductCategory"
   ]
  },
  {
   "cell_type": "code",
   "execution_count": 49,
   "id": "129d7f8b",
   "metadata": {
    "execution": {
     "iopub.execute_input": "2025-03-13T15:16:46.458116Z",
     "iopub.status.busy": "2025-03-13T15:16:46.457703Z",
     "iopub.status.idle": "2025-03-13T15:16:46.582117Z",
     "shell.execute_reply": "2025-03-13T15:16:46.580816Z"
    },
    "papermill": {
     "duration": 0.184555,
     "end_time": "2025-03-13T15:16:46.584043",
     "exception": false,
     "start_time": "2025-03-13T15:16:46.399488",
     "status": "completed"
    },
    "tags": []
   },
   "outputs": [
    {
     "data": {
      "text/html": [
       "<iframe\n",
       "    scrolling=\"no\"\n",
       "    width=\"100%\"\n",
       "    height=\"545px\"\n",
       "    src=\"iframe_figures/figure_49.html\"\n",
       "    frameborder=\"0\"\n",
       "    allowfullscreen\n",
       "></iframe>\n"
      ]
     },
     "metadata": {},
     "output_type": "display_data"
    }
   ],
   "source": [
    "fig = px.bar(Manufacturer_ProductCategory, barmode='group',title=\"Manufacturer vs. Product Category Sales Distribution\")\n",
    "fig.show()"
   ]
  },
  {
   "cell_type": "markdown",
   "id": "96c34b57",
   "metadata": {
    "papermill": {
     "duration": 0.054002,
     "end_time": "2025-03-13T15:16:46.693102",
     "exception": false,
     "start_time": "2025-03-13T15:16:46.639100",
     "status": "completed"
    },
    "tags": []
   },
   "source": [
    "* 1️⃣ Some manufacturers focus on specific product categories, while others diversify across multiple categories.\n",
    "\n",
    "     🔹 Actionable Insight: Identify category-specialized manufacturers for exclusive partnerships and leverage diversified manufacturers for bulk procurement.\n",
    "\n",
    "* 2️⃣ High concentration of sales in certain product categories across multiple manufacturers suggests strong market demand.\n",
    "\n",
    "     🔹 Actionable Insight: Increase stock levels and expand promotional efforts for these high-performing categories.\n",
    "\n",
    "* 3️⃣ Underrepresented categories among manufacturers may indicate untapped market potential or low demand.\n",
    "\n",
    "     🔹 Actionable Insight: Conduct market research to determine if investing in these categories could yield profitable opportunities.\n",
    "\n",
    "* 4️⃣ Certain manufacturers dominate in multiple product categories, showcasing their strong market presence.\n",
    "\n",
    "     🔹 Actionable Insight: Strengthen long-term contracts with these key manufacturers to maintain competitive advantage.\n",
    "\n"
   ]
  },
  {
   "cell_type": "markdown",
   "id": "915bc72c",
   "metadata": {
    "papermill": {
     "duration": 0.053839,
     "end_time": "2025-03-13T15:16:46.801310",
     "exception": false,
     "start_time": "2025-03-13T15:16:46.747471",
     "status": "completed"
    },
    "tags": []
   },
   "source": [
    "### Manufacturer Presence Across Regions"
   ]
  },
  {
   "cell_type": "code",
   "execution_count": 50,
   "id": "33d20853",
   "metadata": {
    "execution": {
     "iopub.execute_input": "2025-03-13T15:16:46.911255Z",
     "iopub.status.busy": "2025-03-13T15:16:46.910785Z",
     "iopub.status.idle": "2025-03-13T15:16:46.931951Z",
     "shell.execute_reply": "2025-03-13T15:16:46.930920Z"
    },
    "papermill": {
     "duration": 0.077817,
     "end_time": "2025-03-13T15:16:46.933732",
     "exception": false,
     "start_time": "2025-03-13T15:16:46.855915",
     "status": "completed"
    },
    "tags": []
   },
   "outputs": [
    {
     "data": {
      "text/html": [
       "<div>\n",
       "<style scoped>\n",
       "    .dataframe tbody tr th:only-of-type {\n",
       "        vertical-align: middle;\n",
       "    }\n",
       "\n",
       "    .dataframe tbody tr th {\n",
       "        vertical-align: top;\n",
       "    }\n",
       "\n",
       "    .dataframe thead th {\n",
       "        text-align: right;\n",
       "    }\n",
       "</style>\n",
       "<table border=\"1\" class=\"dataframe\">\n",
       "  <thead>\n",
       "    <tr style=\"text-align: right;\">\n",
       "      <th>Manufacturer</th>\n",
       "      <th>A. Datum Corporation</th>\n",
       "      <th>Adventure Works</th>\n",
       "      <th>Contoso, Ltd</th>\n",
       "      <th>Fabrikam, Inc.</th>\n",
       "      <th>Litware, Inc.</th>\n",
       "      <th>Northwind Traders</th>\n",
       "      <th>Proseware, Inc.</th>\n",
       "      <th>Southridge Video</th>\n",
       "      <th>The Phone Company</th>\n",
       "      <th>Wide World Importers</th>\n",
       "    </tr>\n",
       "    <tr>\n",
       "      <th>Region</th>\n",
       "      <th></th>\n",
       "      <th></th>\n",
       "      <th></th>\n",
       "      <th></th>\n",
       "      <th></th>\n",
       "      <th></th>\n",
       "      <th></th>\n",
       "      <th></th>\n",
       "      <th></th>\n",
       "      <th></th>\n",
       "    </tr>\n",
       "  </thead>\n",
       "  <tbody>\n",
       "    <tr>\n",
       "      <th>Asia</th>\n",
       "      <td>294</td>\n",
       "      <td>229</td>\n",
       "      <td>980</td>\n",
       "      <td>323</td>\n",
       "      <td>73</td>\n",
       "      <td>40</td>\n",
       "      <td>323</td>\n",
       "      <td>296</td>\n",
       "      <td>260</td>\n",
       "      <td>232</td>\n",
       "    </tr>\n",
       "    <tr>\n",
       "      <th>Europe</th>\n",
       "      <td>248</td>\n",
       "      <td>230</td>\n",
       "      <td>1004</td>\n",
       "      <td>335</td>\n",
       "      <td>74</td>\n",
       "      <td>39</td>\n",
       "      <td>348</td>\n",
       "      <td>317</td>\n",
       "      <td>271</td>\n",
       "      <td>215</td>\n",
       "    </tr>\n",
       "    <tr>\n",
       "      <th>North America</th>\n",
       "      <td>800</td>\n",
       "      <td>666</td>\n",
       "      <td>2907</td>\n",
       "      <td>947</td>\n",
       "      <td>201</td>\n",
       "      <td>127</td>\n",
       "      <td>968</td>\n",
       "      <td>927</td>\n",
       "      <td>783</td>\n",
       "      <td>543</td>\n",
       "    </tr>\n",
       "  </tbody>\n",
       "</table>\n",
       "</div>"
      ],
      "text/plain": [
       "Manufacturer   A. Datum Corporation  Adventure Works  Contoso, Ltd  \\\n",
       "Region                                                               \n",
       "Asia                            294              229           980   \n",
       "Europe                          248              230          1004   \n",
       "North America                   800              666          2907   \n",
       "\n",
       "Manufacturer   Fabrikam, Inc.  Litware, Inc.  Northwind Traders  \\\n",
       "Region                                                            \n",
       "Asia                      323             73                 40   \n",
       "Europe                    335             74                 39   \n",
       "North America             947            201                127   \n",
       "\n",
       "Manufacturer   Proseware, Inc.  Southridge Video  The Phone Company  \\\n",
       "Region                                                                \n",
       "Asia                       323               296                260   \n",
       "Europe                     348               317                271   \n",
       "North America              968               927                783   \n",
       "\n",
       "Manufacturer   Wide World Importers  \n",
       "Region                               \n",
       "Asia                            232  \n",
       "Europe                          215  \n",
       "North America                   543  "
      ]
     },
     "execution_count": 50,
     "metadata": {},
     "output_type": "execute_result"
    }
   ],
   "source": [
    "Manufacturer_Region=pd.crosstab(df[\"Region\"],df[\"Manufacturer\"])\n",
    "Manufacturer_Region"
   ]
  },
  {
   "cell_type": "code",
   "execution_count": 51,
   "id": "3ebaebdd",
   "metadata": {
    "execution": {
     "iopub.execute_input": "2025-03-13T15:16:47.044447Z",
     "iopub.status.busy": "2025-03-13T15:16:47.044022Z",
     "iopub.status.idle": "2025-03-13T15:16:47.180816Z",
     "shell.execute_reply": "2025-03-13T15:16:47.179517Z"
    },
    "papermill": {
     "duration": 0.193882,
     "end_time": "2025-03-13T15:16:47.182720",
     "exception": false,
     "start_time": "2025-03-13T15:16:46.988838",
     "status": "completed"
    },
    "tags": []
   },
   "outputs": [
    {
     "data": {
      "text/html": [
       "<iframe\n",
       "    scrolling=\"no\"\n",
       "    width=\"100%\"\n",
       "    height=\"545px\"\n",
       "    src=\"iframe_figures/figure_51.html\"\n",
       "    frameborder=\"0\"\n",
       "    allowfullscreen\n",
       "></iframe>\n"
      ]
     },
     "metadata": {},
     "output_type": "display_data"
    }
   ],
   "source": [
    "fig = px.bar(Manufacturer_Region, barmode='group',title=\"Manufacturer Presence Across Regions\")\n",
    "fig.show()"
   ]
  },
  {
   "cell_type": "markdown",
   "id": "182516c1",
   "metadata": {
    "papermill": {
     "duration": 0.055887,
     "end_time": "2025-03-13T15:16:47.294816",
     "exception": false,
     "start_time": "2025-03-13T15:16:47.238929",
     "status": "completed"
    },
    "tags": []
   },
   "source": [
    "* 1️⃣ Some manufacturers have a strong presence in specific regions, while others distribute their products more evenly.\n",
    "\n",
    "    🔹 Actionable Insight: Strengthen partnerships with regionally dominant manufacturers to ensure a steady supply chain in high-performing areas.\n",
    "\n",
    "* 2️⃣ Certain regions rely on a limited number of manufacturers, creating potential supply risks.\n",
    "\n",
    "    🔹 Actionable Insight: Diversify manufacturer partnerships in these regions to mitigate disruptions and maintain product availability.\n",
    "\n",
    "* 3️⃣ Regions with lower manufacturer representation may indicate untapped market opportunities.\n",
    "\n",
    "    🔹 Actionable Insight: Expand manufacturer presence in underrepresented regions to capture new customers and increase sales.\n",
    "\n",
    "* 4️⃣ Highly competitive regions with multiple manufacturers suggest strong market demand and competition.\n",
    "\n",
    "    🔹 Actionable Insight: Implement regional marketing strategies to differentiate products and build customer loyalty.\n",
    "\n"
   ]
  },
  {
   "cell_type": "markdown",
   "id": "647a1177",
   "metadata": {
    "papermill": {
     "duration": 0.054378,
     "end_time": "2025-03-13T15:16:47.404490",
     "exception": false,
     "start_time": "2025-03-13T15:16:47.350112",
     "status": "completed"
    },
    "tags": []
   },
   "source": [
    "### Total Order Quantity by Manufacturer"
   ]
  },
  {
   "cell_type": "code",
   "execution_count": 52,
   "id": "5830f36f",
   "metadata": {
    "execution": {
     "iopub.execute_input": "2025-03-13T15:16:47.517777Z",
     "iopub.status.busy": "2025-03-13T15:16:47.517428Z",
     "iopub.status.idle": "2025-03-13T15:16:47.528792Z",
     "shell.execute_reply": "2025-03-13T15:16:47.527825Z"
    },
    "papermill": {
     "duration": 0.070364,
     "end_time": "2025-03-13T15:16:47.530612",
     "exception": false,
     "start_time": "2025-03-13T15:16:47.460248",
     "status": "completed"
    },
    "tags": []
   },
   "outputs": [
    {
     "data": {
      "text/html": [
       "<div>\n",
       "<style scoped>\n",
       "    .dataframe tbody tr th:only-of-type {\n",
       "        vertical-align: middle;\n",
       "    }\n",
       "\n",
       "    .dataframe tbody tr th {\n",
       "        vertical-align: top;\n",
       "    }\n",
       "\n",
       "    .dataframe thead th {\n",
       "        text-align: right;\n",
       "    }\n",
       "</style>\n",
       "<table border=\"1\" class=\"dataframe\">\n",
       "  <thead>\n",
       "    <tr style=\"text-align: right;\">\n",
       "      <th></th>\n",
       "      <th>Manufacturer</th>\n",
       "      <th>Order Qty</th>\n",
       "    </tr>\n",
       "  </thead>\n",
       "  <tbody>\n",
       "    <tr>\n",
       "      <th>0</th>\n",
       "      <td>A. Datum Corporation</td>\n",
       "      <td>16601</td>\n",
       "    </tr>\n",
       "    <tr>\n",
       "      <th>1</th>\n",
       "      <td>Adventure Works</td>\n",
       "      <td>16300</td>\n",
       "    </tr>\n",
       "    <tr>\n",
       "      <th>2</th>\n",
       "      <td>Contoso, Ltd</td>\n",
       "      <td>124133</td>\n",
       "    </tr>\n",
       "    <tr>\n",
       "      <th>3</th>\n",
       "      <td>Fabrikam, Inc.</td>\n",
       "      <td>19599</td>\n",
       "    </tr>\n",
       "    <tr>\n",
       "      <th>4</th>\n",
       "      <td>Litware, Inc.</td>\n",
       "      <td>4020</td>\n",
       "    </tr>\n",
       "    <tr>\n",
       "      <th>5</th>\n",
       "      <td>Northwind Traders</td>\n",
       "      <td>2664</td>\n",
       "    </tr>\n",
       "    <tr>\n",
       "      <th>6</th>\n",
       "      <td>Proseware, Inc.</td>\n",
       "      <td>19330</td>\n",
       "    </tr>\n",
       "    <tr>\n",
       "      <th>7</th>\n",
       "      <td>Southridge Video</td>\n",
       "      <td>18339</td>\n",
       "    </tr>\n",
       "    <tr>\n",
       "      <th>8</th>\n",
       "      <td>The Phone Company</td>\n",
       "      <td>15744</td>\n",
       "    </tr>\n",
       "    <tr>\n",
       "      <th>9</th>\n",
       "      <td>Wide World Importers</td>\n",
       "      <td>14396</td>\n",
       "    </tr>\n",
       "  </tbody>\n",
       "</table>\n",
       "</div>"
      ],
      "text/plain": [
       "           Manufacturer  Order Qty\n",
       "0  A. Datum Corporation      16601\n",
       "1       Adventure Works      16300\n",
       "2          Contoso, Ltd     124133\n",
       "3        Fabrikam, Inc.      19599\n",
       "4         Litware, Inc.       4020\n",
       "5     Northwind Traders       2664\n",
       "6       Proseware, Inc.      19330\n",
       "7      Southridge Video      18339\n",
       "8     The Phone Company      15744\n",
       "9  Wide World Importers      14396"
      ]
     },
     "execution_count": 52,
     "metadata": {},
     "output_type": "execute_result"
    }
   ],
   "source": [
    "sales_per_OrderQty = df.groupby([\"Manufacturer\"])[\"Order Qty\"].sum().reset_index()\n",
    "sales_per_OrderQty"
   ]
  },
  {
   "cell_type": "code",
   "execution_count": 53,
   "id": "5f19c99b",
   "metadata": {
    "execution": {
     "iopub.execute_input": "2025-03-13T15:16:47.643492Z",
     "iopub.status.busy": "2025-03-13T15:16:47.642931Z",
     "iopub.status.idle": "2025-03-13T15:16:47.736660Z",
     "shell.execute_reply": "2025-03-13T15:16:47.735543Z"
    },
    "papermill": {
     "duration": 0.151993,
     "end_time": "2025-03-13T15:16:47.738540",
     "exception": false,
     "start_time": "2025-03-13T15:16:47.586547",
     "status": "completed"
    },
    "tags": []
   },
   "outputs": [
    {
     "data": {
      "text/html": [
       "<iframe\n",
       "    scrolling=\"no\"\n",
       "    width=\"100%\"\n",
       "    height=\"545px\"\n",
       "    src=\"iframe_figures/figure_53.html\"\n",
       "    frameborder=\"0\"\n",
       "    allowfullscreen\n",
       "></iframe>\n"
      ]
     },
     "metadata": {},
     "output_type": "display_data"
    }
   ],
   "source": [
    "fig = px.bar(sales_per_OrderQty, \n",
    "             x='Manufacturer',\n",
    "             y='Order Qty',          \n",
    "             barmode='group',         \n",
    "             title=\"Sales per Manufacturer by Order Quantity\"  \n",
    "            )\n",
    "\n",
    "fig.show()"
   ]
  },
  {
   "cell_type": "markdown",
   "id": "60fde58f",
   "metadata": {
    "papermill": {
     "duration": 0.055407,
     "end_time": "2025-03-13T15:16:47.849201",
     "exception": false,
     "start_time": "2025-03-13T15:16:47.793794",
     "status": "completed"
    },
    "tags": []
   },
   "source": [
    "* 1️⃣ Manufacturers with the highest total order quantity indicate strong demand for their products.\n",
    "\n",
    "    🔹 Actionable Insight: Strengthen relationships with these manufacturers to negotiate better pricing and ensure stock availability.\n",
    "\n",
    "* 2️⃣ Manufacturers with low order quantities may indicate underperformance or niche product offerings.\n",
    "\n",
    "    🔹 Actionable Insight: Reassess the profitability of these manufacturers and consider adjusting procurement strategies.\n",
    "\n",
    "* 3️⃣ A high order quantity doesn’t always correlate with high sales revenue.\n",
    "\n",
    "    🔹 Actionable Insight: Compare order quantities with total sales to ensure that high order volume translates into profitability.\n",
    "\n",
    "* 4️⃣ Some manufacturers may have seasonal fluctuations in order quantity.\n",
    "\n",
    "    🔹 Actionable Insight: Plan inventory management accordingly by analyzing seasonal trends and adjusting stock levels.\n"
   ]
  },
  {
   "cell_type": "markdown",
   "id": "19450ce8",
   "metadata": {
    "papermill": {
     "duration": 0.05449,
     "end_time": "2025-03-13T15:16:47.976263",
     "exception": false,
     "start_time": "2025-03-13T15:16:47.921773",
     "status": "completed"
    },
    "tags": []
   },
   "source": [
    "### Top 10 Manufacturers & Their Best Promotions - A Sales Breakdown"
   ]
  },
  {
   "cell_type": "code",
   "execution_count": 54,
   "id": "5e5ec403",
   "metadata": {
    "execution": {
     "iopub.execute_input": "2025-03-13T15:16:48.089360Z",
     "iopub.status.busy": "2025-03-13T15:16:48.088932Z",
     "iopub.status.idle": "2025-03-13T15:16:48.253095Z",
     "shell.execute_reply": "2025-03-13T15:16:48.252013Z"
    },
    "papermill": {
     "duration": 0.222616,
     "end_time": "2025-03-13T15:16:48.254846",
     "exception": false,
     "start_time": "2025-03-13T15:16:48.032230",
     "status": "completed"
    },
    "tags": []
   },
   "outputs": [
    {
     "data": {
      "text/html": [
       "<iframe\n",
       "    scrolling=\"no\"\n",
       "    width=\"1020px\"\n",
       "    height=\"620\"\n",
       "    src=\"iframe_figures/figure_54.html\"\n",
       "    frameborder=\"0\"\n",
       "    allowfullscreen\n",
       "></iframe>\n"
      ]
     },
     "metadata": {},
     "output_type": "display_data"
    }
   ],
   "source": [
    "sales_by_manufacturer = df.groupby('Manufacturer')['Sales'].sum().reset_index()\n",
    "\n",
    "top_10_manufacturers = sales_by_manufacturer.nlargest(10, 'Sales')\n",
    "\n",
    "sales_by_manufacturer_promotion = df[df['Manufacturer'].isin(top_10_manufacturers['Manufacturer'])]\\\n",
    "    .groupby(['Manufacturer', 'Promotion Name'])['Sales'].sum().reset_index()\n",
    "\n",
    "sales_by_manufacturer_promotion = sales_by_manufacturer_promotion.dropna()\n",
    "sales_by_manufacturer_promotion = sales_by_manufacturer_promotion[sales_by_manufacturer_promotion['Sales'] > 0]\n",
    "\n",
    "fig = px.bar(sales_by_manufacturer_promotion, \n",
    "             x='Manufacturer', \n",
    "             y='Sales', \n",
    "             color='Promotion Name', \n",
    "             title=\"Top 10 Manufacturers by Sales & Promotion\",\n",
    "             text='Sales',\n",
    "             height=600, width=1000)  \n",
    "\n",
    "fig.update_traces(texttemplate='%{text:.2s}', textposition='outside')\n",
    "\n",
    "fig.update_layout(\n",
    "    xaxis_title=\"Manufacturer\",\n",
    "    yaxis_title=\"Total Sales\",\n",
    "    xaxis_tickangle=-45,  \n",
    "    template=\"plotly_white\" \n",
    ")\n",
    "\n",
    "fig.show()\n"
   ]
  },
  {
   "cell_type": "markdown",
   "id": "4d57a1c1",
   "metadata": {
    "papermill": {
     "duration": 0.055169,
     "end_time": "2025-03-13T15:16:48.367412",
     "exception": false,
     "start_time": "2025-03-13T15:16:48.312243",
     "status": "completed"
    },
    "tags": []
   },
   "source": [
    "### \n",
    "1️⃣ Filtered for the top 10 manufacturers (the \"rockstars\" of the industry)\n",
    "\n",
    "2️⃣ Linked promotions to their sales performance (the hidden growth levers)\n",
    "\n",
    "3️⃣ Cleaned the data rigorously (no room for false hope – only real winners)"
   ]
  },
  {
   "cell_type": "markdown",
   "id": "dbdec969",
   "metadata": {
    "papermill": {
     "duration": 0.056776,
     "end_time": "2025-03-13T15:16:48.479703",
     "exception": false,
     "start_time": "2025-03-13T15:16:48.422927",
     "status": "completed"
    },
    "tags": []
   },
   "source": [
    "### Product Category Distribution Analysis"
   ]
  },
  {
   "cell_type": "code",
   "execution_count": 55,
   "id": "33965242",
   "metadata": {
    "execution": {
     "iopub.execute_input": "2025-03-13T15:16:48.592984Z",
     "iopub.status.busy": "2025-03-13T15:16:48.592611Z",
     "iopub.status.idle": "2025-03-13T15:16:48.683552Z",
     "shell.execute_reply": "2025-03-13T15:16:48.682670Z"
    },
    "papermill": {
     "duration": 0.14968,
     "end_time": "2025-03-13T15:16:48.685111",
     "exception": false,
     "start_time": "2025-03-13T15:16:48.535431",
     "status": "completed"
    },
    "tags": []
   },
   "outputs": [
    {
     "name": "stdout",
     "output_type": "stream",
     "text": [
      "                Product Category  count\n",
      "0                      Computers   5359\n",
      "1        Cameras and camcorders    3590\n",
      "2                    Cell phones   2609\n",
      "3                   TV and Video   1878\n",
      "4  Music, Movies and Audio Books    832\n",
      "5                          Audio    732\n",
      "-------------------------------------------------------------------------------------------------------------------\n"
     ]
    },
    {
     "data": {
      "text/html": [
       "<iframe\n",
       "    scrolling=\"no\"\n",
       "    width=\"100%\"\n",
       "    height=\"545px\"\n",
       "    src=\"iframe_figures/figure_55.html\"\n",
       "    frameborder=\"0\"\n",
       "    allowfullscreen\n",
       "></iframe>\n"
      ]
     },
     "metadata": {},
     "output_type": "display_data"
    }
   ],
   "source": [
    "ProductCategory_counts = df[\"Product Category\"].value_counts().reset_index()\n",
    "print(ProductCategory_counts)\n",
    "print(\"-\"*115)\n",
    "ProductCategory_counts.columns = ['Product Category', 'Count']  \n",
    "\n",
    "fig = px.pie(ProductCategory_counts, \n",
    "             names='Product Category',    \n",
    "             values='Count',             \n",
    "             title=\"Distribution of Product Categories\")\n",
    "\n",
    "fig.show()"
   ]
  },
  {
   "cell_type": "markdown",
   "id": "9b038f68",
   "metadata": {
    "papermill": {
     "duration": 0.056273,
     "end_time": "2025-03-13T15:16:48.797584",
     "exception": false,
     "start_time": "2025-03-13T15:16:48.741311",
     "status": "completed"
    },
    "tags": []
   },
   "source": [
    "* 1️⃣ Some product categories dominate the market in terms of quantity.\n",
    "\n",
    "    🔹 Actionable Insight: Focus on maintaining stock and improving marketing strategies for these high-demand categories to maximize revenue.\n",
    "\n",
    "* 2️⃣ Less popular product categories may indicate untapped opportunities or ineffective marketing.\n",
    "\n",
    "    🔹 Actionable Insight: Conduct customer preference analysis to determine if these products need better promotion or if they should be phased out.\n",
    "\n",
    "* 3️⃣ If a category has a high count but low profitability, it may suggest low-margin products.\n",
    "\n",
    "    🔹 Actionable Insight: Reevaluate pricing strategies or bundle products to increase profitability.\n",
    "\n",
    "* 4️⃣ A balanced distribution of product categories suggests a well-diversified portfolio, reducing dependency on a single segment.\n",
    "\n",
    "    🔹 Actionable Insight: Maintain a strategic mix of high-margin and high-demand products to ensure long-term stability.\n"
   ]
  },
  {
   "cell_type": "markdown",
   "id": "b6d92f8a",
   "metadata": {
    "papermill": {
     "duration": 0.055816,
     "end_time": "2025-03-13T15:16:48.909141",
     "exception": false,
     "start_time": "2025-03-13T15:16:48.853325",
     "status": "completed"
    },
    "tags": []
   },
   "source": [
    "### Product Category with the Highest Cost of Sales"
   ]
  },
  {
   "cell_type": "code",
   "execution_count": 56,
   "id": "8ea05434",
   "metadata": {
    "execution": {
     "iopub.execute_input": "2025-03-13T15:16:49.022011Z",
     "iopub.status.busy": "2025-03-13T15:16:49.021604Z",
     "iopub.status.idle": "2025-03-13T15:16:49.032547Z",
     "shell.execute_reply": "2025-03-13T15:16:49.031563Z"
    },
    "papermill": {
     "duration": 0.069152,
     "end_time": "2025-03-13T15:16:49.034146",
     "exception": false,
     "start_time": "2025-03-13T15:16:48.964994",
     "status": "completed"
    },
    "tags": []
   },
   "outputs": [
    {
     "data": {
      "text/html": [
       "<div>\n",
       "<style scoped>\n",
       "    .dataframe tbody tr th:only-of-type {\n",
       "        vertical-align: middle;\n",
       "    }\n",
       "\n",
       "    .dataframe tbody tr th {\n",
       "        vertical-align: top;\n",
       "    }\n",
       "\n",
       "    .dataframe thead th {\n",
       "        text-align: right;\n",
       "    }\n",
       "</style>\n",
       "<table border=\"1\" class=\"dataframe\">\n",
       "  <thead>\n",
       "    <tr style=\"text-align: right;\">\n",
       "      <th></th>\n",
       "      <th>Product Category</th>\n",
       "      <th>Cost of Sales</th>\n",
       "    </tr>\n",
       "  </thead>\n",
       "  <tbody>\n",
       "    <tr>\n",
       "      <th>7071</th>\n",
       "      <td>Computers</td>\n",
       "      <td>42991.137192</td>\n",
       "    </tr>\n",
       "  </tbody>\n",
       "</table>\n",
       "</div>"
      ],
      "text/plain": [
       "     Product Category  Cost of Sales\n",
       "7071        Computers   42991.137192"
      ]
     },
     "execution_count": 56,
     "metadata": {},
     "output_type": "execute_result"
    }
   ],
   "source": [
    "df[[\"Product Category\",\"Cost of Sales\"]][df[\"Cost of Sales\"]==df[\"Cost of Sales\"].max()]"
   ]
  },
  {
   "cell_type": "markdown",
   "id": "74665ed7",
   "metadata": {
    "papermill": {
     "duration": 0.057096,
     "end_time": "2025-03-13T15:16:49.147529",
     "exception": false,
     "start_time": "2025-03-13T15:16:49.090433",
     "status": "completed"
    },
    "tags": []
   },
   "source": [
    "* 1️⃣ The product category with the highest cost of sales indicates a significant expense in procurement or production.\n",
    "\n",
    "     🔹 Actionable Insight: Negotiate better supplier contracts or explore alternative sourcing options to reduce costs.\n",
    "\n",
    "* 2️⃣ High cost of sales does not always correlate with high profitability.\n",
    "\n",
    "     🔹 Actionable Insight: Analyze the profit margins for this category to ensure it remains financially viable. If margins are too low, consider price adjustments or cost-cutting strategies.\n",
    "\n",
    "* 3️⃣ If demand is strong despite high costs, customers may perceive this category as high-value.\n",
    "\n",
    "     🔹 Actionable Insight: Enhance branding and marketing efforts to reinforce its premium positioning.\n",
    "\n",
    "* 4️⃣ A high-cost category with fluctuating sales might indicate inconsistent demand.\n",
    "\n",
    "     🔹 Actionable Insight: Implement dynamic pricing strategies and promotions to stabilize sales.\n",
    "\n"
   ]
  },
  {
   "cell_type": "markdown",
   "id": "63572ef4",
   "metadata": {
    "papermill": {
     "duration": 0.055731,
     "end_time": "2025-03-13T15:16:49.259139",
     "exception": false,
     "start_time": "2025-03-13T15:16:49.203408",
     "status": "completed"
    },
    "tags": []
   },
   "source": [
    "### Product Category with the Lowest Cost of Sales"
   ]
  },
  {
   "cell_type": "code",
   "execution_count": 57,
   "id": "45227a86",
   "metadata": {
    "execution": {
     "iopub.execute_input": "2025-03-13T15:16:49.374814Z",
     "iopub.status.busy": "2025-03-13T15:16:49.374430Z",
     "iopub.status.idle": "2025-03-13T15:16:49.385212Z",
     "shell.execute_reply": "2025-03-13T15:16:49.384187Z"
    },
    "papermill": {
     "duration": 0.069998,
     "end_time": "2025-03-13T15:16:49.386800",
     "exception": false,
     "start_time": "2025-03-13T15:16:49.316802",
     "status": "completed"
    },
    "tags": []
   },
   "outputs": [
    {
     "data": {
      "text/html": [
       "<div>\n",
       "<style scoped>\n",
       "    .dataframe tbody tr th:only-of-type {\n",
       "        vertical-align: middle;\n",
       "    }\n",
       "\n",
       "    .dataframe tbody tr th {\n",
       "        vertical-align: top;\n",
       "    }\n",
       "\n",
       "    .dataframe thead th {\n",
       "        text-align: right;\n",
       "    }\n",
       "</style>\n",
       "<table border=\"1\" class=\"dataframe\">\n",
       "  <thead>\n",
       "    <tr style=\"text-align: right;\">\n",
       "      <th></th>\n",
       "      <th>Product Category</th>\n",
       "      <th>Cost of Sales</th>\n",
       "    </tr>\n",
       "  </thead>\n",
       "  <tbody>\n",
       "    <tr>\n",
       "      <th>4739</th>\n",
       "      <td>Audio</td>\n",
       "      <td>0.015756</td>\n",
       "    </tr>\n",
       "  </tbody>\n",
       "</table>\n",
       "</div>"
      ],
      "text/plain": [
       "     Product Category  Cost of Sales\n",
       "4739            Audio       0.015756"
      ]
     },
     "execution_count": 57,
     "metadata": {},
     "output_type": "execute_result"
    }
   ],
   "source": [
    "df[[\"Product Category\",\"Cost of Sales\"]][df[\"Cost of Sales\"]==df[\"Cost of Sales\"].min()]"
   ]
  },
  {
   "cell_type": "markdown",
   "id": "fd632ca6",
   "metadata": {
    "papermill": {
     "duration": 0.056775,
     "end_time": "2025-03-13T15:16:49.500888",
     "exception": false,
     "start_time": "2025-03-13T15:16:49.444113",
     "status": "completed"
    },
    "tags": []
   },
   "source": [
    "* 1️⃣ This product category has the lowest cost of sales, indicating a cost-effective product line.\n",
    "\n",
    "    🔹 Actionable Insight: Consider increasing marketing efforts to boost sales volume and maximize profit margins.\n",
    "\n",
    "* 2️⃣ Low-cost categories often yield high profitability if demand is strong.\n",
    "\n",
    "    🔹 Actionable Insight: Analyze its profit margins—if they are strong, scale up production and distribution.\n",
    "\n",
    "* 3️⃣ A low-cost product may indicate efficient sourcing, manufacturing, or economies of scale.\n",
    "\n",
    "    🔹 Actionable Insight: Leverage the best practices from this category to optimize costs in other categories.\n",
    "\n",
    "* 4️⃣ If demand for this category is low despite low costs, it may need better positioning or bundling with high-margin products.\n",
    "\n",
    "    🔹 Actionable Insight: Experiment with pricing strategies, upselling, or bundling to enhance sales.\n",
    "\n"
   ]
  },
  {
   "cell_type": "markdown",
   "id": "71800109",
   "metadata": {
    "papermill": {
     "duration": 0.056894,
     "end_time": "2025-03-13T15:16:49.614865",
     "exception": false,
     "start_time": "2025-03-13T15:16:49.557971",
     "status": "completed"
    },
    "tags": []
   },
   "source": [
    "### Product Category with the Highest Profit"
   ]
  },
  {
   "cell_type": "code",
   "execution_count": 58,
   "id": "0f4bf9b0",
   "metadata": {
    "execution": {
     "iopub.execute_input": "2025-03-13T15:16:49.730396Z",
     "iopub.status.busy": "2025-03-13T15:16:49.729992Z",
     "iopub.status.idle": "2025-03-13T15:16:49.740823Z",
     "shell.execute_reply": "2025-03-13T15:16:49.739950Z"
    },
    "papermill": {
     "duration": 0.070896,
     "end_time": "2025-03-13T15:16:49.742422",
     "exception": false,
     "start_time": "2025-03-13T15:16:49.671526",
     "status": "completed"
    },
    "tags": []
   },
   "outputs": [
    {
     "data": {
      "text/html": [
       "<div>\n",
       "<style scoped>\n",
       "    .dataframe tbody tr th:only-of-type {\n",
       "        vertical-align: middle;\n",
       "    }\n",
       "\n",
       "    .dataframe tbody tr th {\n",
       "        vertical-align: top;\n",
       "    }\n",
       "\n",
       "    .dataframe thead th {\n",
       "        text-align: right;\n",
       "    }\n",
       "</style>\n",
       "<table border=\"1\" class=\"dataframe\">\n",
       "  <thead>\n",
       "    <tr style=\"text-align: right;\">\n",
       "      <th></th>\n",
       "      <th>Product Category</th>\n",
       "      <th>Profit</th>\n",
       "    </tr>\n",
       "  </thead>\n",
       "  <tbody>\n",
       "    <tr>\n",
       "      <th>9853</th>\n",
       "      <td>Cameras and camcorders</td>\n",
       "      <td>55692.569522</td>\n",
       "    </tr>\n",
       "  </tbody>\n",
       "</table>\n",
       "</div>"
      ],
      "text/plain": [
       "             Product Category        Profit\n",
       "9853  Cameras and camcorders   55692.569522"
      ]
     },
     "execution_count": 58,
     "metadata": {},
     "output_type": "execute_result"
    }
   ],
   "source": [
    "df[[\"Product Category\",\"Profit\"]][df[\"Profit\"]==df[\"Profit\"].max()]"
   ]
  },
  {
   "cell_type": "markdown",
   "id": "177730dd",
   "metadata": {
    "papermill": {
     "duration": 0.0558,
     "end_time": "2025-03-13T15:16:49.855208",
     "exception": false,
     "start_time": "2025-03-13T15:16:49.799408",
     "status": "completed"
    },
    "tags": []
   },
   "source": [
    "* 1️⃣ This product category generates the highest profit, making it the most valuable revenue driver.\n",
    "\n",
    "     🔹 Actionable Insight: Invest more in marketing, promotions, and expanding its availability to maximize returns.\n",
    "\n",
    "* 2️⃣ High profit suggests strong demand, premium pricing, or cost efficiency.\n",
    "\n",
    "     🔹 Actionable Insight: Analyze why it’s performing well—whether due to pricing strategy, customer loyalty, or unique product advantages.\n",
    "\n",
    "* 3️⃣ If this category has high margins, increasing production or distribution could lead to exponential growth.\n",
    "\n",
    "     🔹 Actionable Insight: Expand partnerships, streamline supply chains, and explore new market opportunities.\n",
    "\n"
   ]
  },
  {
   "cell_type": "markdown",
   "id": "ec30c861",
   "metadata": {
    "papermill": {
     "duration": 0.056709,
     "end_time": "2025-03-13T15:16:49.969390",
     "exception": false,
     "start_time": "2025-03-13T15:16:49.912681",
     "status": "completed"
    },
    "tags": []
   },
   "source": [
    "### Product Category with the Lowest Profit"
   ]
  },
  {
   "cell_type": "code",
   "execution_count": 59,
   "id": "8dfa7f4a",
   "metadata": {
    "execution": {
     "iopub.execute_input": "2025-03-13T15:16:50.085120Z",
     "iopub.status.busy": "2025-03-13T15:16:50.084732Z",
     "iopub.status.idle": "2025-03-13T15:16:50.095248Z",
     "shell.execute_reply": "2025-03-13T15:16:50.094368Z"
    },
    "papermill": {
     "duration": 0.069815,
     "end_time": "2025-03-13T15:16:50.096629",
     "exception": false,
     "start_time": "2025-03-13T15:16:50.026814",
     "status": "completed"
    },
    "tags": []
   },
   "outputs": [
    {
     "data": {
      "text/html": [
       "<div>\n",
       "<style scoped>\n",
       "    .dataframe tbody tr th:only-of-type {\n",
       "        vertical-align: middle;\n",
       "    }\n",
       "\n",
       "    .dataframe tbody tr th {\n",
       "        vertical-align: top;\n",
       "    }\n",
       "\n",
       "    .dataframe thead th {\n",
       "        text-align: right;\n",
       "    }\n",
       "</style>\n",
       "<table border=\"1\" class=\"dataframe\">\n",
       "  <thead>\n",
       "    <tr style=\"text-align: right;\">\n",
       "      <th></th>\n",
       "      <th>Product Category</th>\n",
       "      <th>Profit</th>\n",
       "    </tr>\n",
       "  </thead>\n",
       "  <tbody>\n",
       "    <tr>\n",
       "      <th>10740</th>\n",
       "      <td>Computers</td>\n",
       "      <td>-838.426733</td>\n",
       "    </tr>\n",
       "  </tbody>\n",
       "</table>\n",
       "</div>"
      ],
      "text/plain": [
       "      Product Category      Profit\n",
       "10740        Computers -838.426733"
      ]
     },
     "execution_count": 59,
     "metadata": {},
     "output_type": "execute_result"
    }
   ],
   "source": [
    "df[[\"Product Category\",\"Profit\"]][df[\"Profit\"]==df[\"Profit\"].min()]"
   ]
  },
  {
   "cell_type": "markdown",
   "id": "83d110ef",
   "metadata": {
    "papermill": {
     "duration": 0.056266,
     "end_time": "2025-03-13T15:16:50.209565",
     "exception": false,
     "start_time": "2025-03-13T15:16:50.153299",
     "status": "completed"
    },
    "tags": []
   },
   "source": [
    "* 1️⃣ This product category is the least profitable, indicating potential issues such as high costs, low demand, or pricing inefficiencies.\n",
    "\n",
    "     🔹 Actionable Insight: Conduct a cost-benefit analysis to determine if it should be optimized, rebranded, or discontinued.\n",
    "\n",
    "* 2️⃣ High costs of sales or low pricing may be reducing profitability.\n",
    "\n",
    "     🔹 Actionable Insight: Evaluate cost-cutting measures, supplier negotiations, or price adjustments to improve margins.\n",
    "\n",
    "* 3️⃣ If demand is low, marketing efforts or product differentiation strategies might be needed.\n",
    "\n",
    "     🔹 Actionable Insight: Enhance marketing campaigns, reposition the product, or introduce unique features to attract customers.\n",
    "\n"
   ]
  },
  {
   "cell_type": "markdown",
   "id": "72bfe39c",
   "metadata": {
    "papermill": {
     "duration": 0.056758,
     "end_time": "2025-03-13T15:16:50.323126",
     "exception": false,
     "start_time": "2025-03-13T15:16:50.266368",
     "status": "completed"
    },
    "tags": []
   },
   "source": [
    "### Top-Selling Product Category"
   ]
  },
  {
   "cell_type": "code",
   "execution_count": 60,
   "id": "546a8c95",
   "metadata": {
    "execution": {
     "iopub.execute_input": "2025-03-13T15:16:50.492283Z",
     "iopub.status.busy": "2025-03-13T15:16:50.491872Z",
     "iopub.status.idle": "2025-03-13T15:16:50.503310Z",
     "shell.execute_reply": "2025-03-13T15:16:50.502202Z"
    },
    "papermill": {
     "duration": 0.125551,
     "end_time": "2025-03-13T15:16:50.504922",
     "exception": false,
     "start_time": "2025-03-13T15:16:50.379371",
     "status": "completed"
    },
    "tags": []
   },
   "outputs": [
    {
     "data": {
      "text/html": [
       "<div>\n",
       "<style scoped>\n",
       "    .dataframe tbody tr th:only-of-type {\n",
       "        vertical-align: middle;\n",
       "    }\n",
       "\n",
       "    .dataframe tbody tr th {\n",
       "        vertical-align: top;\n",
       "    }\n",
       "\n",
       "    .dataframe thead th {\n",
       "        text-align: right;\n",
       "    }\n",
       "</style>\n",
       "<table border=\"1\" class=\"dataframe\">\n",
       "  <thead>\n",
       "    <tr style=\"text-align: right;\">\n",
       "      <th></th>\n",
       "      <th>Product Category</th>\n",
       "      <th>Sales</th>\n",
       "    </tr>\n",
       "  </thead>\n",
       "  <tbody>\n",
       "    <tr>\n",
       "      <th>9853</th>\n",
       "      <td>Cameras and camcorders</td>\n",
       "      <td>78312.0</td>\n",
       "    </tr>\n",
       "  </tbody>\n",
       "</table>\n",
       "</div>"
      ],
      "text/plain": [
       "             Product Category    Sales\n",
       "9853  Cameras and camcorders   78312.0"
      ]
     },
     "execution_count": 60,
     "metadata": {},
     "output_type": "execute_result"
    }
   ],
   "source": [
    "df[[\"Product Category\",\"Sales\"]][df[\"Sales\"]==df[\"Sales\"].max()]"
   ]
  },
  {
   "cell_type": "markdown",
   "id": "0f63ce0e",
   "metadata": {
    "papermill": {
     "duration": 0.056091,
     "end_time": "2025-03-13T15:16:50.617962",
     "exception": false,
     "start_time": "2025-03-13T15:16:50.561871",
     "status": "completed"
    },
    "tags": []
   },
   "source": [
    "* 1️⃣ This product category generates the highest sales, making it a key revenue driver.\n",
    "\n",
    "     🔹 Actionable Insight: Allocate more resources to production, marketing, and distribution to maximize profits.\n",
    "\n",
    "* 2️⃣ High sales indicate strong customer demand and market acceptance.\n",
    "\n",
    "     🔹 Actionable Insight: Introduce complementary products or bundle deals to increase average order value.\n",
    "\n",
    "* 3️⃣ Understanding why this category performs well can help replicate success in other categories.\n",
    "\n",
    "     🔹 Actionable Insight: Analyze pricing, customer demographics, and marketing strategies to apply best practices across other products."
   ]
  },
  {
   "cell_type": "markdown",
   "id": "d192ac42",
   "metadata": {
    "papermill": {
     "duration": 0.057829,
     "end_time": "2025-03-13T15:16:50.732196",
     "exception": false,
     "start_time": "2025-03-13T15:16:50.674367",
     "status": "completed"
    },
    "tags": []
   },
   "source": [
    "### Lowest-Selling Product Category"
   ]
  },
  {
   "cell_type": "code",
   "execution_count": 61,
   "id": "4adfa328",
   "metadata": {
    "execution": {
     "iopub.execute_input": "2025-03-13T15:16:50.848777Z",
     "iopub.status.busy": "2025-03-13T15:16:50.848389Z",
     "iopub.status.idle": "2025-03-13T15:16:50.859245Z",
     "shell.execute_reply": "2025-03-13T15:16:50.858185Z"
    },
    "papermill": {
     "duration": 0.071758,
     "end_time": "2025-03-13T15:16:50.861141",
     "exception": false,
     "start_time": "2025-03-13T15:16:50.789383",
     "status": "completed"
    },
    "tags": []
   },
   "outputs": [
    {
     "data": {
      "text/html": [
       "<div>\n",
       "<style scoped>\n",
       "    .dataframe tbody tr th:only-of-type {\n",
       "        vertical-align: middle;\n",
       "    }\n",
       "\n",
       "    .dataframe tbody tr th {\n",
       "        vertical-align: top;\n",
       "    }\n",
       "\n",
       "    .dataframe thead th {\n",
       "        text-align: right;\n",
       "    }\n",
       "</style>\n",
       "<table border=\"1\" class=\"dataframe\">\n",
       "  <thead>\n",
       "    <tr style=\"text-align: right;\">\n",
       "      <th></th>\n",
       "      <th>Product Category</th>\n",
       "      <th>Sales</th>\n",
       "    </tr>\n",
       "  </thead>\n",
       "  <tbody>\n",
       "    <tr>\n",
       "      <th>1247</th>\n",
       "      <td>Computers</td>\n",
       "      <td>4.75</td>\n",
       "    </tr>\n",
       "  </tbody>\n",
       "</table>\n",
       "</div>"
      ],
      "text/plain": [
       "     Product Category  Sales\n",
       "1247        Computers   4.75"
      ]
     },
     "execution_count": 61,
     "metadata": {},
     "output_type": "execute_result"
    }
   ],
   "source": [
    "df[[\"Product Category\",\"Sales\"]][df[\"Sales\"]==df[\"Sales\"].min()]"
   ]
  },
  {
   "cell_type": "markdown",
   "id": "85c9fd9c",
   "metadata": {
    "papermill": {
     "duration": 0.057142,
     "end_time": "2025-03-13T15:16:50.976086",
     "exception": false,
     "start_time": "2025-03-13T15:16:50.918944",
     "status": "completed"
    },
    "tags": []
   },
   "source": [
    "* 1️⃣ This product category has the lowest sales, indicating weak market demand.\n",
    "\n",
    "     🔹 Actionable Insight: Investigate reasons such as pricing, competition, or lack of customer interest and adjust accordingly.\n",
    "\n",
    "* 2️⃣ Low sales could be due to poor visibility or ineffective marketing.\n",
    "\n",
    "     🔹 Actionable Insight: Implement targeted promotions, discounts, or advertising to boost awareness and sales.\n",
    "\n",
    "* 3️⃣ If sales remain consistently low, reconsider resource allocation.\n",
    "\n",
    "     🔹 Actionable Insight: Optimize inventory management by reducing stock levels or discontinuing the product if it's unprofitable."
   ]
  },
  {
   "cell_type": "markdown",
   "id": "ac879803",
   "metadata": {
    "papermill": {
     "duration": 0.057437,
     "end_time": "2025-03-13T15:16:51.092785",
     "exception": false,
     "start_time": "2025-03-13T15:16:51.035348",
     "status": "completed"
    },
    "tags": []
   },
   "source": [
    "### Top-Selling Product Category in Each Region"
   ]
  },
  {
   "cell_type": "code",
   "execution_count": 62,
   "id": "4e9ec183",
   "metadata": {
    "execution": {
     "iopub.execute_input": "2025-03-13T15:16:51.210576Z",
     "iopub.status.busy": "2025-03-13T15:16:51.210182Z",
     "iopub.status.idle": "2025-03-13T15:16:51.228122Z",
     "shell.execute_reply": "2025-03-13T15:16:51.226913Z"
    },
    "papermill": {
     "duration": 0.079636,
     "end_time": "2025-03-13T15:16:51.229994",
     "exception": false,
     "start_time": "2025-03-13T15:16:51.150358",
     "status": "completed"
    },
    "tags": []
   },
   "outputs": [
    {
     "data": {
      "text/html": [
       "<div>\n",
       "<style scoped>\n",
       "    .dataframe tbody tr th:only-of-type {\n",
       "        vertical-align: middle;\n",
       "    }\n",
       "\n",
       "    .dataframe tbody tr th {\n",
       "        vertical-align: top;\n",
       "    }\n",
       "\n",
       "    .dataframe thead th {\n",
       "        text-align: right;\n",
       "    }\n",
       "</style>\n",
       "<table border=\"1\" class=\"dataframe\">\n",
       "  <thead>\n",
       "    <tr style=\"text-align: right;\">\n",
       "      <th></th>\n",
       "      <th>Region</th>\n",
       "      <th>Product Category</th>\n",
       "      <th>Sales</th>\n",
       "    </tr>\n",
       "  </thead>\n",
       "  <tbody>\n",
       "    <tr>\n",
       "      <th>15</th>\n",
       "      <td>North America</td>\n",
       "      <td>Computers</td>\n",
       "      <td>1.246319e+07</td>\n",
       "    </tr>\n",
       "    <tr>\n",
       "      <th>3</th>\n",
       "      <td>Asia</td>\n",
       "      <td>Computers</td>\n",
       "      <td>4.790144e+06</td>\n",
       "    </tr>\n",
       "    <tr>\n",
       "      <th>9</th>\n",
       "      <td>Europe</td>\n",
       "      <td>Computers</td>\n",
       "      <td>4.053642e+06</td>\n",
       "    </tr>\n",
       "  </tbody>\n",
       "</table>\n",
       "</div>"
      ],
      "text/plain": [
       "           Region Product Category         Sales\n",
       "15  North America        Computers  1.246319e+07\n",
       "3            Asia        Computers  4.790144e+06\n",
       "9          Europe        Computers  4.053642e+06"
      ]
     },
     "execution_count": 62,
     "metadata": {},
     "output_type": "execute_result"
    }
   ],
   "source": [
    "sales_per_ProductCategory = df.groupby([\"Region\", \"Product Category\"])[\"Sales\"].sum().reset_index()\n",
    "\n",
    "top_ProductCategory_per_Region = sales_per_ProductCategory.loc[sales_per_ProductCategory.groupby(\"Region\")[\"Sales\"].idxmax()]\n",
    "\n",
    "top_ProductCategory_per_Region=top_ProductCategory_per_Region.sort_values(by=\"Sales\", ascending=False)\n",
    "top_ProductCategory_per_Region"
   ]
  },
  {
   "cell_type": "markdown",
   "id": "7e7eb164",
   "metadata": {
    "papermill": {
     "duration": 0.057616,
     "end_time": "2025-03-13T15:16:51.345438",
     "exception": false,
     "start_time": "2025-03-13T15:16:51.287822",
     "status": "completed"
    },
    "tags": []
   },
   "source": [
    "* 1️⃣ Different regions have varying top-performing product categories, indicating diverse market preferences.\n",
    "\n",
    "     🔹 Actionable Insight: Customize regional marketing and sales strategies to align with local demand trends.\n",
    "\n",
    "* 2️⃣ Regions with high sales in specific categories can serve as benchmarks for underperforming areas.\n",
    "\n",
    "     🔹 Actionable Insight: Analyze what works in high-performing regions and replicate successful strategies in weaker markets.\n",
    "\n",
    "* 3️⃣ Identifying top-selling categories per region helps in efficient inventory management and stock allocation.\n",
    "\n",
    "     🔹 Actionable Insight: Adjust supply chain logistics to ensure high-demand products are adequately stocked in key regions.\n"
   ]
  },
  {
   "cell_type": "markdown",
   "id": "7b41c2b9",
   "metadata": {
    "papermill": {
     "duration": 0.058047,
     "end_time": "2025-03-13T15:16:51.460592",
     "exception": false,
     "start_time": "2025-03-13T15:16:51.402545",
     "status": "completed"
    },
    "tags": []
   },
   "source": [
    "### Top-Selling Product Categories Over the Years"
   ]
  },
  {
   "cell_type": "code",
   "execution_count": 63,
   "id": "68ecd89a",
   "metadata": {
    "execution": {
     "iopub.execute_input": "2025-03-13T15:16:51.576430Z",
     "iopub.status.busy": "2025-03-13T15:16:51.575976Z",
     "iopub.status.idle": "2025-03-13T15:16:51.593408Z",
     "shell.execute_reply": "2025-03-13T15:16:51.592225Z"
    },
    "papermill": {
     "duration": 0.0773,
     "end_time": "2025-03-13T15:16:51.595292",
     "exception": false,
     "start_time": "2025-03-13T15:16:51.517992",
     "status": "completed"
    },
    "tags": []
   },
   "outputs": [
    {
     "data": {
      "text/html": [
       "<div>\n",
       "<style scoped>\n",
       "    .dataframe tbody tr th:only-of-type {\n",
       "        vertical-align: middle;\n",
       "    }\n",
       "\n",
       "    .dataframe tbody tr th {\n",
       "        vertical-align: top;\n",
       "    }\n",
       "\n",
       "    .dataframe thead th {\n",
       "        text-align: right;\n",
       "    }\n",
       "</style>\n",
       "<table border=\"1\" class=\"dataframe\">\n",
       "  <thead>\n",
       "    <tr style=\"text-align: right;\">\n",
       "      <th></th>\n",
       "      <th>Year</th>\n",
       "      <th>Product Category</th>\n",
       "      <th>Sales</th>\n",
       "    </tr>\n",
       "  </thead>\n",
       "  <tbody>\n",
       "    <tr>\n",
       "      <th>15</th>\n",
       "      <td>2018</td>\n",
       "      <td>Computers</td>\n",
       "      <td>7.052218e+06</td>\n",
       "    </tr>\n",
       "    <tr>\n",
       "      <th>9</th>\n",
       "      <td>2017</td>\n",
       "      <td>Computers</td>\n",
       "      <td>6.881090e+06</td>\n",
       "    </tr>\n",
       "    <tr>\n",
       "      <th>3</th>\n",
       "      <td>2016</td>\n",
       "      <td>Computers</td>\n",
       "      <td>4.341454e+06</td>\n",
       "    </tr>\n",
       "    <tr>\n",
       "      <th>21</th>\n",
       "      <td>2019</td>\n",
       "      <td>Computers</td>\n",
       "      <td>3.032209e+06</td>\n",
       "    </tr>\n",
       "  </tbody>\n",
       "</table>\n",
       "</div>"
      ],
      "text/plain": [
       "    Year Product Category         Sales\n",
       "15  2018        Computers  7.052218e+06\n",
       "9   2017        Computers  6.881090e+06\n",
       "3   2016        Computers  4.341454e+06\n",
       "21  2019        Computers  3.032209e+06"
      ]
     },
     "execution_count": 63,
     "metadata": {},
     "output_type": "execute_result"
    }
   ],
   "source": [
    "sales_per_ProductCategory = df.groupby([\"Year\", \"Product Category\"])[\"Sales\"].sum().reset_index()\n",
    "\n",
    "top_ProductCategory_per_Year = sales_per_ProductCategory.loc[sales_per_ProductCategory.groupby(\"Year\")[\"Sales\"].idxmax()]\n",
    "\n",
    "top_ProductCategory_per_Year=top_ProductCategory_per_Year.sort_values(by=\"Sales\", ascending=False)\n",
    "top_ProductCategory_per_Year"
   ]
  },
  {
   "cell_type": "markdown",
   "id": "2c848e48",
   "metadata": {
    "papermill": {
     "duration": 0.056723,
     "end_time": "2025-03-13T15:16:51.710093",
     "exception": false,
     "start_time": "2025-03-13T15:16:51.653370",
     "status": "completed"
    },
    "tags": []
   },
   "source": [
    "* 1️⃣ Certain product categories consistently dominate sales across multiple years.\n",
    "\n",
    "     🔹 Actionable Insight: Invest more in marketing, promotions, and supply chain efficiency for these high-performing categories.\n",
    "\n",
    "* 2️⃣ Fluctuations in top-selling categories indicate shifting consumer preferences.\n",
    "\n",
    "     🔹 Actionable Insight: Conduct regular market analysis and adapt product offerings to align with emerging trends.\n",
    "\n",
    "* 3️⃣ Understanding yearly trends helps forecast demand and optimize production planning.\n",
    "\n",
    "     🔹 Actionable Insight: Use historical sales data to predict future demand, ensuring adequate inventory levels and reducing overstock.\n"
   ]
  },
  {
   "cell_type": "markdown",
   "id": "b5ee3f85",
   "metadata": {
    "papermill": {
     "duration": 0.056565,
     "end_time": "2025-03-13T15:16:51.824603",
     "exception": false,
     "start_time": "2025-03-13T15:16:51.768038",
     "status": "completed"
    },
    "tags": []
   },
   "source": [
    "### Top-Selling Product Categories by Country"
   ]
  },
  {
   "cell_type": "code",
   "execution_count": 64,
   "id": "0d49c6d9",
   "metadata": {
    "execution": {
     "iopub.execute_input": "2025-03-13T15:16:51.941571Z",
     "iopub.status.busy": "2025-03-13T15:16:51.941176Z",
     "iopub.status.idle": "2025-03-13T15:16:51.960734Z",
     "shell.execute_reply": "2025-03-13T15:16:51.959740Z"
    },
    "papermill": {
     "duration": 0.080335,
     "end_time": "2025-03-13T15:16:51.962548",
     "exception": false,
     "start_time": "2025-03-13T15:16:51.882213",
     "status": "completed"
    },
    "tags": []
   },
   "outputs": [
    {
     "data": {
      "text/html": [
       "<div>\n",
       "<style scoped>\n",
       "    .dataframe tbody tr th:only-of-type {\n",
       "        vertical-align: middle;\n",
       "    }\n",
       "\n",
       "    .dataframe tbody tr th {\n",
       "        vertical-align: top;\n",
       "    }\n",
       "\n",
       "    .dataframe thead th {\n",
       "        text-align: right;\n",
       "    }\n",
       "</style>\n",
       "<table border=\"1\" class=\"dataframe\">\n",
       "  <thead>\n",
       "    <tr style=\"text-align: right;\">\n",
       "      <th></th>\n",
       "      <th>Country</th>\n",
       "      <th>Product Category</th>\n",
       "      <th>Sales</th>\n",
       "    </tr>\n",
       "  </thead>\n",
       "  <tbody>\n",
       "    <tr>\n",
       "      <th>189</th>\n",
       "      <td>United States</td>\n",
       "      <td>Computers</td>\n",
       "      <td>1.198304e+07</td>\n",
       "    </tr>\n",
       "    <tr>\n",
       "      <th>26</th>\n",
       "      <td>China</td>\n",
       "      <td>Computers</td>\n",
       "      <td>2.887901e+06</td>\n",
       "    </tr>\n",
       "    <tr>\n",
       "      <th>44</th>\n",
       "      <td>Germany</td>\n",
       "      <td>Computers</td>\n",
       "      <td>1.792084e+06</td>\n",
       "    </tr>\n",
       "    <tr>\n",
       "      <th>38</th>\n",
       "      <td>France</td>\n",
       "      <td>Computers</td>\n",
       "      <td>1.045719e+06</td>\n",
       "    </tr>\n",
       "    <tr>\n",
       "      <th>183</th>\n",
       "      <td>United Kingdom</td>\n",
       "      <td>Computers</td>\n",
       "      <td>5.551692e+05</td>\n",
       "    </tr>\n",
       "    <tr>\n",
       "      <th>20</th>\n",
       "      <td>Canada</td>\n",
       "      <td>Computers</td>\n",
       "      <td>4.801449e+05</td>\n",
       "    </tr>\n",
       "    <tr>\n",
       "      <th>80</th>\n",
       "      <td>Japan</td>\n",
       "      <td>Computers</td>\n",
       "      <td>3.371570e+05</td>\n",
       "    </tr>\n",
       "    <tr>\n",
       "      <th>8</th>\n",
       "      <td>Australia</td>\n",
       "      <td>Computers</td>\n",
       "      <td>2.802465e+05</td>\n",
       "    </tr>\n",
       "    <tr>\n",
       "      <th>56</th>\n",
       "      <td>India</td>\n",
       "      <td>Computers</td>\n",
       "      <td>2.349447e+05</td>\n",
       "    </tr>\n",
       "    <tr>\n",
       "      <th>62</th>\n",
       "      <td>Iran</td>\n",
       "      <td>Computers</td>\n",
       "      <td>2.145316e+05</td>\n",
       "    </tr>\n",
       "    <tr>\n",
       "      <th>175</th>\n",
       "      <td>Turkmenistan</td>\n",
       "      <td>Cameras and camcorders</td>\n",
       "      <td>1.689137e+05</td>\n",
       "    </tr>\n",
       "    <tr>\n",
       "      <th>117</th>\n",
       "      <td>Russia</td>\n",
       "      <td>Cameras and camcorders</td>\n",
       "      <td>1.646859e+05</td>\n",
       "    </tr>\n",
       "    <tr>\n",
       "      <th>97</th>\n",
       "      <td>Pakistan</td>\n",
       "      <td>Computers</td>\n",
       "      <td>1.446382e+05</td>\n",
       "    </tr>\n",
       "    <tr>\n",
       "      <th>72</th>\n",
       "      <td>Italy</td>\n",
       "      <td>Cameras and camcorders</td>\n",
       "      <td>1.285780e+05</td>\n",
       "    </tr>\n",
       "    <tr>\n",
       "      <th>159</th>\n",
       "      <td>Syria</td>\n",
       "      <td>Computers</td>\n",
       "      <td>1.228280e+05</td>\n",
       "    </tr>\n",
       "    <tr>\n",
       "      <th>136</th>\n",
       "      <td>South Korea</td>\n",
       "      <td>Computers</td>\n",
       "      <td>1.053014e+05</td>\n",
       "    </tr>\n",
       "    <tr>\n",
       "      <th>171</th>\n",
       "      <td>Thailand</td>\n",
       "      <td>Computers</td>\n",
       "      <td>9.364975e+04</td>\n",
       "    </tr>\n",
       "    <tr>\n",
       "      <th>141</th>\n",
       "      <td>Spain</td>\n",
       "      <td>Computers</td>\n",
       "      <td>8.360520e+04</td>\n",
       "    </tr>\n",
       "    <tr>\n",
       "      <th>163</th>\n",
       "      <td>Taiwan</td>\n",
       "      <td>Cameras and camcorders</td>\n",
       "      <td>7.841577e+04</td>\n",
       "    </tr>\n",
       "    <tr>\n",
       "      <th>12</th>\n",
       "      <td>Bhutan</td>\n",
       "      <td>Cameras and camcorders</td>\n",
       "      <td>7.243520e+04</td>\n",
       "    </tr>\n",
       "    <tr>\n",
       "      <th>1</th>\n",
       "      <td>Armenia</td>\n",
       "      <td>Cameras and camcorders</td>\n",
       "      <td>6.451500e+04</td>\n",
       "    </tr>\n",
       "    <tr>\n",
       "      <th>85</th>\n",
       "      <td>Kyrgyzstan</td>\n",
       "      <td>Computers</td>\n",
       "      <td>6.123626e+04</td>\n",
       "    </tr>\n",
       "    <tr>\n",
       "      <th>125</th>\n",
       "      <td>Singapore</td>\n",
       "      <td>Computers</td>\n",
       "      <td>5.532667e+04</td>\n",
       "    </tr>\n",
       "    <tr>\n",
       "      <th>105</th>\n",
       "      <td>Portugal</td>\n",
       "      <td>Cameras and camcorders</td>\n",
       "      <td>5.091705e+04</td>\n",
       "    </tr>\n",
       "    <tr>\n",
       "      <th>68</th>\n",
       "      <td>Ireland</td>\n",
       "      <td>Computers</td>\n",
       "      <td>4.985360e+04</td>\n",
       "    </tr>\n",
       "    <tr>\n",
       "      <th>89</th>\n",
       "      <td>Malta</td>\n",
       "      <td>Cameras and camcorders</td>\n",
       "      <td>4.397955e+04</td>\n",
       "    </tr>\n",
       "    <tr>\n",
       "      <th>50</th>\n",
       "      <td>Greece</td>\n",
       "      <td>Computers</td>\n",
       "      <td>3.915581e+04</td>\n",
       "    </tr>\n",
       "    <tr>\n",
       "      <th>153</th>\n",
       "      <td>Switzerland</td>\n",
       "      <td>Computers</td>\n",
       "      <td>3.749766e+04</td>\n",
       "    </tr>\n",
       "    <tr>\n",
       "      <th>195</th>\n",
       "      <td>the Netherlands</td>\n",
       "      <td>Computers</td>\n",
       "      <td>3.719793e+04</td>\n",
       "    </tr>\n",
       "    <tr>\n",
       "      <th>111</th>\n",
       "      <td>Romania</td>\n",
       "      <td>Cameras and camcorders</td>\n",
       "      <td>3.653467e+04</td>\n",
       "    </tr>\n",
       "    <tr>\n",
       "      <th>101</th>\n",
       "      <td>Poland</td>\n",
       "      <td>Cameras and camcorders</td>\n",
       "      <td>3.195880e+04</td>\n",
       "    </tr>\n",
       "    <tr>\n",
       "      <th>128</th>\n",
       "      <td>Slovenia</td>\n",
       "      <td>Cameras and camcorders</td>\n",
       "      <td>3.149138e+04</td>\n",
       "    </tr>\n",
       "    <tr>\n",
       "      <th>145</th>\n",
       "      <td>Sweden</td>\n",
       "      <td>Cameras and camcorders</td>\n",
       "      <td>3.007951e+04</td>\n",
       "    </tr>\n",
       "    <tr>\n",
       "      <th>32</th>\n",
       "      <td>Denmark</td>\n",
       "      <td>Computers</td>\n",
       "      <td>2.459926e+04</td>\n",
       "    </tr>\n",
       "  </tbody>\n",
       "</table>\n",
       "</div>"
      ],
      "text/plain": [
       "             Country         Product Category         Sales\n",
       "189    United States                Computers  1.198304e+07\n",
       "26             China                Computers  2.887901e+06\n",
       "44           Germany                Computers  1.792084e+06\n",
       "38            France                Computers  1.045719e+06\n",
       "183   United Kingdom                Computers  5.551692e+05\n",
       "20            Canada                Computers  4.801449e+05\n",
       "80             Japan                Computers  3.371570e+05\n",
       "8          Australia                Computers  2.802465e+05\n",
       "56             India                Computers  2.349447e+05\n",
       "62              Iran                Computers  2.145316e+05\n",
       "175     Turkmenistan  Cameras and camcorders   1.689137e+05\n",
       "117           Russia  Cameras and camcorders   1.646859e+05\n",
       "97          Pakistan                Computers  1.446382e+05\n",
       "72             Italy  Cameras and camcorders   1.285780e+05\n",
       "159            Syria                Computers  1.228280e+05\n",
       "136      South Korea                Computers  1.053014e+05\n",
       "171         Thailand                Computers  9.364975e+04\n",
       "141            Spain                Computers  8.360520e+04\n",
       "163           Taiwan  Cameras and camcorders   7.841577e+04\n",
       "12            Bhutan  Cameras and camcorders   7.243520e+04\n",
       "1            Armenia  Cameras and camcorders   6.451500e+04\n",
       "85        Kyrgyzstan                Computers  6.123626e+04\n",
       "125        Singapore                Computers  5.532667e+04\n",
       "105         Portugal  Cameras and camcorders   5.091705e+04\n",
       "68           Ireland                Computers  4.985360e+04\n",
       "89             Malta  Cameras and camcorders   4.397955e+04\n",
       "50            Greece                Computers  3.915581e+04\n",
       "153      Switzerland                Computers  3.749766e+04\n",
       "195  the Netherlands                Computers  3.719793e+04\n",
       "111          Romania  Cameras and camcorders   3.653467e+04\n",
       "101           Poland  Cameras and camcorders   3.195880e+04\n",
       "128         Slovenia  Cameras and camcorders   3.149138e+04\n",
       "145           Sweden  Cameras and camcorders   3.007951e+04\n",
       "32           Denmark                Computers  2.459926e+04"
      ]
     },
     "execution_count": 64,
     "metadata": {},
     "output_type": "execute_result"
    }
   ],
   "source": [
    "sales_per_ProductCategory = df.groupby([\"Country\", \"Product Category\"])[\"Sales\"].sum().reset_index()\n",
    "\n",
    "top_ProductCategory_per_Country = sales_per_ProductCategory.loc[sales_per_ProductCategory.groupby(\"Country\")[\"Sales\"].idxmax()]\n",
    "\n",
    "top_ProductCategory_per_Country=top_ProductCategory_per_Country.sort_values(by=\"Sales\", ascending=False)\n",
    "top_ProductCategory_per_Country"
   ]
  },
  {
   "cell_type": "markdown",
   "id": "445d732d",
   "metadata": {
    "papermill": {
     "duration": 0.057235,
     "end_time": "2025-03-13T15:16:52.079035",
     "exception": false,
     "start_time": "2025-03-13T15:16:52.021800",
     "status": "completed"
    },
    "tags": []
   },
   "source": [
    "* 1️⃣ Different countries have varying top-selling product categories, indicating regional preferences.\n",
    "\n",
    "    🔹 Actionable Insight: Customize marketing strategies and product availability based on country-specific demand patterns.\n",
    "\n",
    "* 2️⃣ Some countries contribute significantly higher sales than others for certain categories.\n",
    "\n",
    "    🔹 Actionable Insight: Allocate more resources (advertising, distribution, and partnerships) to these high-performing markets.\n",
    "\n",
    "* 3️⃣ Understanding country-wise sales trends can help in targeted expansion plans.\n",
    "\n",
    "    🔹 Actionable Insight: Identify underperforming regions and introduce localized promotions to boost sales in those areas."
   ]
  },
  {
   "cell_type": "markdown",
   "id": "80a32966",
   "metadata": {
    "papermill": {
     "duration": 0.058519,
     "end_time": "2025-03-13T15:16:52.195669",
     "exception": false,
     "start_time": "2025-03-13T15:16:52.137150",
     "status": "completed"
    },
    "tags": []
   },
   "source": [
    "### Most Ordered Product Categories by Country"
   ]
  },
  {
   "cell_type": "code",
   "execution_count": 65,
   "id": "1847b7c4",
   "metadata": {
    "execution": {
     "iopub.execute_input": "2025-03-13T15:16:52.313251Z",
     "iopub.status.busy": "2025-03-13T15:16:52.312852Z",
     "iopub.status.idle": "2025-03-13T15:16:52.330764Z",
     "shell.execute_reply": "2025-03-13T15:16:52.329685Z"
    },
    "papermill": {
     "duration": 0.078194,
     "end_time": "2025-03-13T15:16:52.332477",
     "exception": false,
     "start_time": "2025-03-13T15:16:52.254283",
     "status": "completed"
    },
    "tags": []
   },
   "outputs": [
    {
     "data": {
      "text/html": [
       "<div>\n",
       "<style scoped>\n",
       "    .dataframe tbody tr th:only-of-type {\n",
       "        vertical-align: middle;\n",
       "    }\n",
       "\n",
       "    .dataframe tbody tr th {\n",
       "        vertical-align: top;\n",
       "    }\n",
       "\n",
       "    .dataframe thead th {\n",
       "        text-align: right;\n",
       "    }\n",
       "</style>\n",
       "<table border=\"1\" class=\"dataframe\">\n",
       "  <thead>\n",
       "    <tr style=\"text-align: right;\">\n",
       "      <th></th>\n",
       "      <th>Country</th>\n",
       "      <th>Product Category</th>\n",
       "      <th>Order Qty</th>\n",
       "    </tr>\n",
       "  </thead>\n",
       "  <tbody>\n",
       "    <tr>\n",
       "      <th>188</th>\n",
       "      <td>United States</td>\n",
       "      <td>Cell phones</td>\n",
       "      <td>55621</td>\n",
       "    </tr>\n",
       "    <tr>\n",
       "      <th>25</th>\n",
       "      <td>China</td>\n",
       "      <td>Cell phones</td>\n",
       "      <td>14531</td>\n",
       "    </tr>\n",
       "    <tr>\n",
       "      <th>44</th>\n",
       "      <td>Germany</td>\n",
       "      <td>Computers</td>\n",
       "      <td>5850</td>\n",
       "    </tr>\n",
       "    <tr>\n",
       "      <th>37</th>\n",
       "      <td>France</td>\n",
       "      <td>Cell phones</td>\n",
       "      <td>4454</td>\n",
       "    </tr>\n",
       "    <tr>\n",
       "      <th>182</th>\n",
       "      <td>United Kingdom</td>\n",
       "      <td>Cell phones</td>\n",
       "      <td>1961</td>\n",
       "    </tr>\n",
       "    <tr>\n",
       "      <th>19</th>\n",
       "      <td>Canada</td>\n",
       "      <td>Cell phones</td>\n",
       "      <td>1923</td>\n",
       "    </tr>\n",
       "    <tr>\n",
       "      <th>79</th>\n",
       "      <td>Japan</td>\n",
       "      <td>Cell phones</td>\n",
       "      <td>1774</td>\n",
       "    </tr>\n",
       "    <tr>\n",
       "      <th>55</th>\n",
       "      <td>India</td>\n",
       "      <td>Cell phones</td>\n",
       "      <td>1154</td>\n",
       "    </tr>\n",
       "    <tr>\n",
       "      <th>135</th>\n",
       "      <td>South Korea</td>\n",
       "      <td>Cell phones</td>\n",
       "      <td>986</td>\n",
       "    </tr>\n",
       "    <tr>\n",
       "      <th>106</th>\n",
       "      <td>Portugal</td>\n",
       "      <td>Cell phones</td>\n",
       "      <td>941</td>\n",
       "    </tr>\n",
       "    <tr>\n",
       "      <th>7</th>\n",
       "      <td>Australia</td>\n",
       "      <td>Cell phones</td>\n",
       "      <td>916</td>\n",
       "    </tr>\n",
       "    <tr>\n",
       "      <th>158</th>\n",
       "      <td>Syria</td>\n",
       "      <td>Cell phones</td>\n",
       "      <td>661</td>\n",
       "    </tr>\n",
       "    <tr>\n",
       "      <th>118</th>\n",
       "      <td>Russia</td>\n",
       "      <td>Cell phones</td>\n",
       "      <td>650</td>\n",
       "    </tr>\n",
       "    <tr>\n",
       "      <th>61</th>\n",
       "      <td>Iran</td>\n",
       "      <td>Cell phones</td>\n",
       "      <td>554</td>\n",
       "    </tr>\n",
       "    <tr>\n",
       "      <th>73</th>\n",
       "      <td>Italy</td>\n",
       "      <td>Cell phones</td>\n",
       "      <td>509</td>\n",
       "    </tr>\n",
       "    <tr>\n",
       "      <th>97</th>\n",
       "      <td>Pakistan</td>\n",
       "      <td>Computers</td>\n",
       "      <td>507</td>\n",
       "    </tr>\n",
       "    <tr>\n",
       "      <th>164</th>\n",
       "      <td>Taiwan</td>\n",
       "      <td>Cell phones</td>\n",
       "      <td>504</td>\n",
       "    </tr>\n",
       "    <tr>\n",
       "      <th>170</th>\n",
       "      <td>Thailand</td>\n",
       "      <td>Cell phones</td>\n",
       "      <td>492</td>\n",
       "    </tr>\n",
       "    <tr>\n",
       "      <th>176</th>\n",
       "      <td>Turkmenistan</td>\n",
       "      <td>Cell phones</td>\n",
       "      <td>416</td>\n",
       "    </tr>\n",
       "    <tr>\n",
       "      <th>129</th>\n",
       "      <td>Slovenia</td>\n",
       "      <td>Cell phones</td>\n",
       "      <td>358</td>\n",
       "    </tr>\n",
       "    <tr>\n",
       "      <th>125</th>\n",
       "      <td>Singapore</td>\n",
       "      <td>Computers</td>\n",
       "      <td>323</td>\n",
       "    </tr>\n",
       "    <tr>\n",
       "      <th>90</th>\n",
       "      <td>Malta</td>\n",
       "      <td>Cell phones</td>\n",
       "      <td>259</td>\n",
       "    </tr>\n",
       "    <tr>\n",
       "      <th>14</th>\n",
       "      <td>Bhutan</td>\n",
       "      <td>Computers</td>\n",
       "      <td>228</td>\n",
       "    </tr>\n",
       "    <tr>\n",
       "      <th>2</th>\n",
       "      <td>Armenia</td>\n",
       "      <td>Cell phones</td>\n",
       "      <td>222</td>\n",
       "    </tr>\n",
       "    <tr>\n",
       "      <th>67</th>\n",
       "      <td>Ireland</td>\n",
       "      <td>Cell phones</td>\n",
       "      <td>212</td>\n",
       "    </tr>\n",
       "    <tr>\n",
       "      <th>85</th>\n",
       "      <td>Kyrgyzstan</td>\n",
       "      <td>Computers</td>\n",
       "      <td>202</td>\n",
       "    </tr>\n",
       "    <tr>\n",
       "      <th>194</th>\n",
       "      <td>the Netherlands</td>\n",
       "      <td>Cell phones</td>\n",
       "      <td>188</td>\n",
       "    </tr>\n",
       "    <tr>\n",
       "      <th>112</th>\n",
       "      <td>Romania</td>\n",
       "      <td>Cell phones</td>\n",
       "      <td>185</td>\n",
       "    </tr>\n",
       "    <tr>\n",
       "      <th>141</th>\n",
       "      <td>Spain</td>\n",
       "      <td>Computers</td>\n",
       "      <td>162</td>\n",
       "    </tr>\n",
       "    <tr>\n",
       "      <th>49</th>\n",
       "      <td>Greece</td>\n",
       "      <td>Cell phones</td>\n",
       "      <td>150</td>\n",
       "    </tr>\n",
       "    <tr>\n",
       "      <th>153</th>\n",
       "      <td>Switzerland</td>\n",
       "      <td>Computers</td>\n",
       "      <td>131</td>\n",
       "    </tr>\n",
       "    <tr>\n",
       "      <th>32</th>\n",
       "      <td>Denmark</td>\n",
       "      <td>Computers</td>\n",
       "      <td>126</td>\n",
       "    </tr>\n",
       "    <tr>\n",
       "      <th>147</th>\n",
       "      <td>Sweden</td>\n",
       "      <td>Computers</td>\n",
       "      <td>120</td>\n",
       "    </tr>\n",
       "    <tr>\n",
       "      <th>103</th>\n",
       "      <td>Poland</td>\n",
       "      <td>Computers</td>\n",
       "      <td>118</td>\n",
       "    </tr>\n",
       "  </tbody>\n",
       "</table>\n",
       "</div>"
      ],
      "text/plain": [
       "             Country Product Category  Order Qty\n",
       "188    United States      Cell phones      55621\n",
       "25             China      Cell phones      14531\n",
       "44           Germany        Computers       5850\n",
       "37            France      Cell phones       4454\n",
       "182   United Kingdom      Cell phones       1961\n",
       "19            Canada      Cell phones       1923\n",
       "79             Japan      Cell phones       1774\n",
       "55             India      Cell phones       1154\n",
       "135      South Korea      Cell phones        986\n",
       "106         Portugal      Cell phones        941\n",
       "7          Australia      Cell phones        916\n",
       "158            Syria      Cell phones        661\n",
       "118           Russia      Cell phones        650\n",
       "61              Iran      Cell phones        554\n",
       "73             Italy      Cell phones        509\n",
       "97          Pakistan        Computers        507\n",
       "164           Taiwan      Cell phones        504\n",
       "170         Thailand      Cell phones        492\n",
       "176     Turkmenistan      Cell phones        416\n",
       "129         Slovenia      Cell phones        358\n",
       "125        Singapore        Computers        323\n",
       "90             Malta      Cell phones        259\n",
       "14            Bhutan        Computers        228\n",
       "2            Armenia      Cell phones        222\n",
       "67           Ireland      Cell phones        212\n",
       "85        Kyrgyzstan        Computers        202\n",
       "194  the Netherlands      Cell phones        188\n",
       "112          Romania      Cell phones        185\n",
       "141            Spain        Computers        162\n",
       "49            Greece      Cell phones        150\n",
       "153      Switzerland        Computers        131\n",
       "32           Denmark        Computers        126\n",
       "147           Sweden        Computers        120\n",
       "103           Poland        Computers        118"
      ]
     },
     "execution_count": 65,
     "metadata": {},
     "output_type": "execute_result"
    }
   ],
   "source": [
    "OrderQty_per_ProductCategory = df.groupby([\"Country\", \"Product Category\"])[\"Order Qty\"].sum().reset_index()\n",
    "\n",
    "top_ProductCategory_per_Country= OrderQty_per_ProductCategory.loc[OrderQty_per_ProductCategory.groupby(\"Country\")[\"Order Qty\"].idxmax()]\n",
    "\n",
    "top_ProductCategory_per_Country=top_ProductCategory_per_Country.sort_values(by=\"Order Qty\", ascending=False)\n",
    "top_ProductCategory_per_Country"
   ]
  },
  {
   "cell_type": "markdown",
   "id": "8ef4e394",
   "metadata": {
    "papermill": {
     "duration": 0.058814,
     "end_time": "2025-03-13T15:16:52.450828",
     "exception": false,
     "start_time": "2025-03-13T15:16:52.392014",
     "status": "completed"
    },
    "tags": []
   },
   "source": [
    "* 1️⃣ Certain product categories dominate order volumes in specific countries.\n",
    "\n",
    "    🔹 Actionable Insight: Optimize inventory management and supply chain logistics to meet regional demand efficiently.\n",
    "\n",
    "* 2️⃣ High order quantities do not always correlate with high sales value, indicating bulk orders at lower prices.\n",
    "\n",
    "    🔹 Actionable Insight: Evaluate pricing strategies and consider upselling or bundling high-order products for increased revenue.\n",
    "\n",
    "* 3️⃣ Countries with lower order quantities may require targeted promotions or better distribution strategies.\n",
    "\n",
    "    🔹 Actionable Insight: Implement localized marketing campaigns or expand delivery networks to boost demand in underperforming regions."
   ]
  },
  {
   "cell_type": "markdown",
   "id": "81912393",
   "metadata": {
    "papermill": {
     "duration": 0.05977,
     "end_time": "2025-03-13T15:16:52.569739",
     "exception": false,
     "start_time": "2025-03-13T15:16:52.509969",
     "status": "completed"
    },
    "tags": []
   },
   "source": [
    "### Top Ordered Product Categories by Region"
   ]
  },
  {
   "cell_type": "code",
   "execution_count": 66,
   "id": "a5f8b963",
   "metadata": {
    "execution": {
     "iopub.execute_input": "2025-03-13T15:16:52.687550Z",
     "iopub.status.busy": "2025-03-13T15:16:52.687194Z",
     "iopub.status.idle": "2025-03-13T15:16:52.703661Z",
     "shell.execute_reply": "2025-03-13T15:16:52.702620Z"
    },
    "papermill": {
     "duration": 0.077253,
     "end_time": "2025-03-13T15:16:52.705390",
     "exception": false,
     "start_time": "2025-03-13T15:16:52.628137",
     "status": "completed"
    },
    "tags": []
   },
   "outputs": [
    {
     "data": {
      "text/html": [
       "<div>\n",
       "<style scoped>\n",
       "    .dataframe tbody tr th:only-of-type {\n",
       "        vertical-align: middle;\n",
       "    }\n",
       "\n",
       "    .dataframe tbody tr th {\n",
       "        vertical-align: top;\n",
       "    }\n",
       "\n",
       "    .dataframe thead th {\n",
       "        text-align: right;\n",
       "    }\n",
       "</style>\n",
       "<table border=\"1\" class=\"dataframe\">\n",
       "  <thead>\n",
       "    <tr style=\"text-align: right;\">\n",
       "      <th></th>\n",
       "      <th>Region</th>\n",
       "      <th>Product Category</th>\n",
       "      <th>Order Qty</th>\n",
       "    </tr>\n",
       "  </thead>\n",
       "  <tbody>\n",
       "    <tr>\n",
       "      <th>14</th>\n",
       "      <td>North America</td>\n",
       "      <td>Cell phones</td>\n",
       "      <td>57544</td>\n",
       "    </tr>\n",
       "    <tr>\n",
       "      <th>2</th>\n",
       "      <td>Asia</td>\n",
       "      <td>Cell phones</td>\n",
       "      <td>22898</td>\n",
       "    </tr>\n",
       "    <tr>\n",
       "      <th>8</th>\n",
       "      <td>Europe</td>\n",
       "      <td>Cell phones</td>\n",
       "      <td>15632</td>\n",
       "    </tr>\n",
       "  </tbody>\n",
       "</table>\n",
       "</div>"
      ],
      "text/plain": [
       "           Region Product Category  Order Qty\n",
       "14  North America      Cell phones      57544\n",
       "2            Asia      Cell phones      22898\n",
       "8          Europe      Cell phones      15632"
      ]
     },
     "execution_count": 66,
     "metadata": {},
     "output_type": "execute_result"
    }
   ],
   "source": [
    "OrderQty_per_ProductCategory = df.groupby([\"Region\", \"Product Category\"])[\"Order Qty\"].sum().reset_index()\n",
    "\n",
    "top_ProductCategory_per_Region= OrderQty_per_ProductCategory.loc[OrderQty_per_ProductCategory.groupby(\"Region\")[\"Order Qty\"].idxmax()]\n",
    "\n",
    "top_ProductCategory_per_Region=top_ProductCategory_per_Region.sort_values(by=\"Order Qty\", ascending=False)\n",
    "top_ProductCategory_per_Region"
   ]
  },
  {
   "cell_type": "markdown",
   "id": "3706f8fa",
   "metadata": {
    "papermill": {
     "duration": 0.057999,
     "end_time": "2025-03-13T15:16:52.822409",
     "exception": false,
     "start_time": "2025-03-13T15:16:52.764410",
     "status": "completed"
    },
    "tags": []
   },
   "source": [
    "* 1️⃣ Certain regions show a strong preference for specific product categories.\n",
    "\n",
    "     🔹 Actionable Insight: Align regional marketing strategies and stock allocation to meet localized demand efficiently.\n",
    "\n",
    "* 2️⃣ Regions with lower order volumes may indicate untapped market potential or logistical barriers.\n",
    "\n",
    "     🔹 Actionable Insight: Investigate potential challenges (e.g., supply chain issues, distribution gaps) and explore promotional campaigns to drive orders.\n",
    "\n",
    "* 3️⃣ If high order volumes in a region coincide with low profit margins, pricing and bundling strategies should be reassessed.\n",
    "\n",
    "     🔹 Actionable Insight: Optimize pricing models, consider volume-based discounts, or introduce premium product variations to increase profitability.\n"
   ]
  },
  {
   "cell_type": "markdown",
   "id": "818aef7f",
   "metadata": {
    "papermill": {
     "duration": 0.058497,
     "end_time": "2025-03-13T15:16:52.939355",
     "exception": false,
     "start_time": "2025-03-13T15:16:52.880858",
     "status": "completed"
    },
    "tags": []
   },
   "source": [
    "### Top Ordered Product Categories by Year"
   ]
  },
  {
   "cell_type": "code",
   "execution_count": 67,
   "id": "f2ff372a",
   "metadata": {
    "execution": {
     "iopub.execute_input": "2025-03-13T15:16:53.058464Z",
     "iopub.status.busy": "2025-03-13T15:16:53.058050Z",
     "iopub.status.idle": "2025-03-13T15:16:53.073038Z",
     "shell.execute_reply": "2025-03-13T15:16:53.072036Z"
    },
    "papermill": {
     "duration": 0.07623,
     "end_time": "2025-03-13T15:16:53.074662",
     "exception": false,
     "start_time": "2025-03-13T15:16:52.998432",
     "status": "completed"
    },
    "tags": []
   },
   "outputs": [
    {
     "data": {
      "text/html": [
       "<div>\n",
       "<style scoped>\n",
       "    .dataframe tbody tr th:only-of-type {\n",
       "        vertical-align: middle;\n",
       "    }\n",
       "\n",
       "    .dataframe tbody tr th {\n",
       "        vertical-align: top;\n",
       "    }\n",
       "\n",
       "    .dataframe thead th {\n",
       "        text-align: right;\n",
       "    }\n",
       "</style>\n",
       "<table border=\"1\" class=\"dataframe\">\n",
       "  <thead>\n",
       "    <tr style=\"text-align: right;\">\n",
       "      <th></th>\n",
       "      <th>Year</th>\n",
       "      <th>Product Category</th>\n",
       "      <th>Order Qty</th>\n",
       "    </tr>\n",
       "  </thead>\n",
       "  <tbody>\n",
       "    <tr>\n",
       "      <th>14</th>\n",
       "      <td>2018</td>\n",
       "      <td>Cell phones</td>\n",
       "      <td>34657</td>\n",
       "    </tr>\n",
       "    <tr>\n",
       "      <th>8</th>\n",
       "      <td>2017</td>\n",
       "      <td>Cell phones</td>\n",
       "      <td>26038</td>\n",
       "    </tr>\n",
       "    <tr>\n",
       "      <th>20</th>\n",
       "      <td>2019</td>\n",
       "      <td>Cell phones</td>\n",
       "      <td>20013</td>\n",
       "    </tr>\n",
       "    <tr>\n",
       "      <th>2</th>\n",
       "      <td>2016</td>\n",
       "      <td>Cell phones</td>\n",
       "      <td>15366</td>\n",
       "    </tr>\n",
       "  </tbody>\n",
       "</table>\n",
       "</div>"
      ],
      "text/plain": [
       "    Year Product Category  Order Qty\n",
       "14  2018      Cell phones      34657\n",
       "8   2017      Cell phones      26038\n",
       "20  2019      Cell phones      20013\n",
       "2   2016      Cell phones      15366"
      ]
     },
     "execution_count": 67,
     "metadata": {},
     "output_type": "execute_result"
    }
   ],
   "source": [
    "OrderQty_per_ProductCategory = df.groupby([\"Year\", \"Product Category\"])[\"Order Qty\"].sum().reset_index()\n",
    "\n",
    "top_ProductCategory_per_Year= OrderQty_per_ProductCategory.loc[OrderQty_per_ProductCategory.groupby(\"Year\")[\"Order Qty\"].idxmax()]\n",
    "\n",
    "top_ProductCategory_per_Year=top_ProductCategory_per_Year.sort_values(by=\"Order Qty\", ascending=False)\n",
    "top_ProductCategory_per_Year"
   ]
  },
  {
   "cell_type": "markdown",
   "id": "5cfdf8f3",
   "metadata": {
    "papermill": {
     "duration": 0.058941,
     "end_time": "2025-03-13T15:16:53.193211",
     "exception": false,
     "start_time": "2025-03-13T15:16:53.134270",
     "status": "completed"
    },
    "tags": []
   },
   "source": [
    "* 1️⃣ Certain product categories consistently dominate orders year after year.\n",
    "\n",
    "     🔹 Actionable Insight: Ensure steady inventory levels and supplier partnerships to meet sustained demand.\n",
    "\n",
    "* 2️⃣ Fluctuations in top-ordered categories indicate shifting consumer trends.\n",
    "\n",
    "     🔹 Actionable Insight: Analyze external factors (seasonality, market trends, competitor influence) and adjust marketing & product strategies accordingly.\n",
    "\n",
    "* 3️⃣ Newly emerging top categories present expansion opportunities.\n",
    "\n",
    "     🔹 Actionable Insight: Invest in product development, targeted advertising, and distribution enhancements to capitalize on these growing trends.\n"
   ]
  },
  {
   "cell_type": "markdown",
   "id": "e66d9b27",
   "metadata": {
    "papermill": {
     "duration": 0.060894,
     "end_time": "2025-03-13T15:16:53.313596",
     "exception": false,
     "start_time": "2025-03-13T15:16:53.252702",
     "status": "completed"
    },
    "tags": []
   },
   "source": [
    "### Product Category Distribution Across Regions"
   ]
  },
  {
   "cell_type": "code",
   "execution_count": 68,
   "id": "0ef3dffd",
   "metadata": {
    "execution": {
     "iopub.execute_input": "2025-03-13T15:16:53.435160Z",
     "iopub.status.busy": "2025-03-13T15:16:53.434750Z",
     "iopub.status.idle": "2025-03-13T15:16:53.455795Z",
     "shell.execute_reply": "2025-03-13T15:16:53.454550Z"
    },
    "papermill": {
     "duration": 0.083257,
     "end_time": "2025-03-13T15:16:53.457647",
     "exception": false,
     "start_time": "2025-03-13T15:16:53.374390",
     "status": "completed"
    },
    "tags": []
   },
   "outputs": [
    {
     "data": {
      "text/html": [
       "<div>\n",
       "<style scoped>\n",
       "    .dataframe tbody tr th:only-of-type {\n",
       "        vertical-align: middle;\n",
       "    }\n",
       "\n",
       "    .dataframe tbody tr th {\n",
       "        vertical-align: top;\n",
       "    }\n",
       "\n",
       "    .dataframe thead th {\n",
       "        text-align: right;\n",
       "    }\n",
       "</style>\n",
       "<table border=\"1\" class=\"dataframe\">\n",
       "  <thead>\n",
       "    <tr style=\"text-align: right;\">\n",
       "      <th>Product Category</th>\n",
       "      <th>Audio</th>\n",
       "      <th>Cameras and camcorders</th>\n",
       "      <th>Cell phones</th>\n",
       "      <th>Computers</th>\n",
       "      <th>Music, Movies and Audio Books</th>\n",
       "      <th>TV and Video</th>\n",
       "    </tr>\n",
       "    <tr>\n",
       "      <th>Region</th>\n",
       "      <th></th>\n",
       "      <th></th>\n",
       "      <th></th>\n",
       "      <th></th>\n",
       "      <th></th>\n",
       "      <th></th>\n",
       "    </tr>\n",
       "  </thead>\n",
       "  <tbody>\n",
       "    <tr>\n",
       "      <th>Asia</th>\n",
       "      <td>154</td>\n",
       "      <td>731</td>\n",
       "      <td>516</td>\n",
       "      <td>1114</td>\n",
       "      <td>163</td>\n",
       "      <td>372</td>\n",
       "    </tr>\n",
       "    <tr>\n",
       "      <th>Europe</th>\n",
       "      <td>161</td>\n",
       "      <td>691</td>\n",
       "      <td>549</td>\n",
       "      <td>1120</td>\n",
       "      <td>174</td>\n",
       "      <td>386</td>\n",
       "    </tr>\n",
       "    <tr>\n",
       "      <th>North America</th>\n",
       "      <td>417</td>\n",
       "      <td>2168</td>\n",
       "      <td>1544</td>\n",
       "      <td>3125</td>\n",
       "      <td>495</td>\n",
       "      <td>1120</td>\n",
       "    </tr>\n",
       "  </tbody>\n",
       "</table>\n",
       "</div>"
      ],
      "text/plain": [
       "Product Category  Audio  Cameras and camcorders   Cell phones  Computers  \\\n",
       "Region                                                                     \n",
       "Asia                154                      731          516       1114   \n",
       "Europe              161                      691          549       1120   \n",
       "North America       417                     2168         1544       3125   \n",
       "\n",
       "Product Category  Music, Movies and Audio Books  TV and Video  \n",
       "Region                                                         \n",
       "Asia                                        163           372  \n",
       "Europe                                      174           386  \n",
       "North America                               495          1120  "
      ]
     },
     "execution_count": 68,
     "metadata": {},
     "output_type": "execute_result"
    }
   ],
   "source": [
    "ProductCategory_Region=pd.crosstab(df[\"Region\"],df[\"Product Category\"])\n",
    "ProductCategory_Region"
   ]
  },
  {
   "cell_type": "code",
   "execution_count": 69,
   "id": "52b979c5",
   "metadata": {
    "execution": {
     "iopub.execute_input": "2025-03-13T15:16:53.577866Z",
     "iopub.status.busy": "2025-03-13T15:16:53.577454Z",
     "iopub.status.idle": "2025-03-13T15:16:53.701217Z",
     "shell.execute_reply": "2025-03-13T15:16:53.700154Z"
    },
    "papermill": {
     "duration": 0.186291,
     "end_time": "2025-03-13T15:16:53.702896",
     "exception": false,
     "start_time": "2025-03-13T15:16:53.516605",
     "status": "completed"
    },
    "tags": []
   },
   "outputs": [
    {
     "data": {
      "text/html": [
       "<iframe\n",
       "    scrolling=\"no\"\n",
       "    width=\"100%\"\n",
       "    height=\"545px\"\n",
       "    src=\"iframe_figures/figure_69.html\"\n",
       "    frameborder=\"0\"\n",
       "    allowfullscreen\n",
       "></iframe>\n"
      ]
     },
     "metadata": {},
     "output_type": "display_data"
    }
   ],
   "source": [
    "fig = px.bar(ProductCategory_Region, barmode='group',title=\"Regional Sales Distribution Across Product Categories\")\n",
    "fig.show()"
   ]
  },
  {
   "cell_type": "markdown",
   "id": "166014ec",
   "metadata": {
    "papermill": {
     "duration": 0.059099,
     "end_time": "2025-03-13T15:16:53.821357",
     "exception": false,
     "start_time": "2025-03-13T15:16:53.762258",
     "status": "completed"
    },
    "tags": []
   },
   "source": [
    "* 1️⃣ Some product categories perform exceptionally well in specific regions.\n",
    "\n",
    "     🔹 Actionable Insight: Focus marketing efforts and stock replenishment on high-performing regions to maximize sales.\n",
    "\n",
    "* 2️⃣ Certain regions show limited product diversity.\n",
    "\n",
    "     🔹 Actionable Insight: Explore opportunities to introduce new product categories in regions with low variety to expand market reach.\n",
    "\n",
    "* 3️⃣ Regional demand for some categories is inconsistent.\n",
    "\n",
    "     🔹 Actionable Insight: Adjust pricing, promotions, or bundling strategies to boost underperforming categories in specific regions."
   ]
  },
  {
   "cell_type": "markdown",
   "id": "237cd38c",
   "metadata": {
    "papermill": {
     "duration": 0.058327,
     "end_time": "2025-03-13T15:16:53.938568",
     "exception": false,
     "start_time": "2025-03-13T15:16:53.880241",
     "status": "completed"
    },
    "tags": []
   },
   "source": [
    "### Yearly Sales Trends Across Product Categories"
   ]
  },
  {
   "cell_type": "code",
   "execution_count": 70,
   "id": "674152f6",
   "metadata": {
    "execution": {
     "iopub.execute_input": "2025-03-13T15:16:54.112638Z",
     "iopub.status.busy": "2025-03-13T15:16:54.112266Z",
     "iopub.status.idle": "2025-03-13T15:16:54.130790Z",
     "shell.execute_reply": "2025-03-13T15:16:54.129684Z"
    },
    "papermill": {
     "duration": 0.134067,
     "end_time": "2025-03-13T15:16:54.132497",
     "exception": false,
     "start_time": "2025-03-13T15:16:53.998430",
     "status": "completed"
    },
    "tags": []
   },
   "outputs": [
    {
     "data": {
      "text/html": [
       "<div>\n",
       "<style scoped>\n",
       "    .dataframe tbody tr th:only-of-type {\n",
       "        vertical-align: middle;\n",
       "    }\n",
       "\n",
       "    .dataframe tbody tr th {\n",
       "        vertical-align: top;\n",
       "    }\n",
       "\n",
       "    .dataframe thead th {\n",
       "        text-align: right;\n",
       "    }\n",
       "</style>\n",
       "<table border=\"1\" class=\"dataframe\">\n",
       "  <thead>\n",
       "    <tr style=\"text-align: right;\">\n",
       "      <th>Product Category</th>\n",
       "      <th>Audio</th>\n",
       "      <th>Cameras and camcorders</th>\n",
       "      <th>Cell phones</th>\n",
       "      <th>Computers</th>\n",
       "      <th>Music, Movies and Audio Books</th>\n",
       "      <th>TV and Video</th>\n",
       "    </tr>\n",
       "    <tr>\n",
       "      <th>Year</th>\n",
       "      <th></th>\n",
       "      <th></th>\n",
       "      <th></th>\n",
       "      <th></th>\n",
       "      <th></th>\n",
       "      <th></th>\n",
       "    </tr>\n",
       "  </thead>\n",
       "  <tbody>\n",
       "    <tr>\n",
       "      <th>2016</th>\n",
       "      <td>122</td>\n",
       "      <td>996</td>\n",
       "      <td>735</td>\n",
       "      <td>1320</td>\n",
       "      <td>246</td>\n",
       "      <td>440</td>\n",
       "    </tr>\n",
       "    <tr>\n",
       "      <th>2017</th>\n",
       "      <td>249</td>\n",
       "      <td>1317</td>\n",
       "      <td>991</td>\n",
       "      <td>1795</td>\n",
       "      <td>302</td>\n",
       "      <td>707</td>\n",
       "    </tr>\n",
       "    <tr>\n",
       "      <th>2018</th>\n",
       "      <td>263</td>\n",
       "      <td>905</td>\n",
       "      <td>627</td>\n",
       "      <td>1598</td>\n",
       "      <td>219</td>\n",
       "      <td>534</td>\n",
       "    </tr>\n",
       "    <tr>\n",
       "      <th>2019</th>\n",
       "      <td>98</td>\n",
       "      <td>372</td>\n",
       "      <td>256</td>\n",
       "      <td>646</td>\n",
       "      <td>65</td>\n",
       "      <td>197</td>\n",
       "    </tr>\n",
       "  </tbody>\n",
       "</table>\n",
       "</div>"
      ],
      "text/plain": [
       "Product Category  Audio  Cameras and camcorders   Cell phones  Computers  \\\n",
       "Year                                                                       \n",
       "2016                122                      996          735       1320   \n",
       "2017                249                     1317          991       1795   \n",
       "2018                263                      905          627       1598   \n",
       "2019                 98                      372          256        646   \n",
       "\n",
       "Product Category  Music, Movies and Audio Books  TV and Video  \n",
       "Year                                                           \n",
       "2016                                        246           440  \n",
       "2017                                        302           707  \n",
       "2018                                        219           534  \n",
       "2019                                         65           197  "
      ]
     },
     "execution_count": 70,
     "metadata": {},
     "output_type": "execute_result"
    }
   ],
   "source": [
    "ProductCategory_Year=pd.crosstab(df[\"Year\"],df[\"Product Category\"])\n",
    "ProductCategory_Year"
   ]
  },
  {
   "cell_type": "code",
   "execution_count": 71,
   "id": "49bd0104",
   "metadata": {
    "execution": {
     "iopub.execute_input": "2025-03-13T15:16:54.252717Z",
     "iopub.status.busy": "2025-03-13T15:16:54.252303Z",
     "iopub.status.idle": "2025-03-13T15:16:54.377946Z",
     "shell.execute_reply": "2025-03-13T15:16:54.376881Z"
    },
    "papermill": {
     "duration": 0.187844,
     "end_time": "2025-03-13T15:16:54.379826",
     "exception": false,
     "start_time": "2025-03-13T15:16:54.191982",
     "status": "completed"
    },
    "tags": []
   },
   "outputs": [
    {
     "data": {
      "text/html": [
       "<iframe\n",
       "    scrolling=\"no\"\n",
       "    width=\"100%\"\n",
       "    height=\"545px\"\n",
       "    src=\"iframe_figures/figure_71.html\"\n",
       "    frameborder=\"0\"\n",
       "    allowfullscreen\n",
       "></iframe>\n"
      ]
     },
     "metadata": {},
     "output_type": "display_data"
    }
   ],
   "source": [
    "fig = px.bar(ProductCategory_Year, barmode='group',title=\"Annual Performance Comparison of Product Categories\")\n",
    "fig.show()"
   ]
  },
  {
   "cell_type": "markdown",
   "id": "f6a04bbd",
   "metadata": {
    "papermill": {
     "duration": 0.076194,
     "end_time": "2025-03-13T15:16:54.515703",
     "exception": false,
     "start_time": "2025-03-13T15:16:54.439509",
     "status": "completed"
    },
    "tags": []
   },
   "source": [
    "* 1️⃣ Certain product categories dominate sales consistently across multiple years.\n",
    "\n",
    "     🔹 Actionable Insight: Focus marketing and production efforts on these high-performing categories to maximize profitability.\n",
    "\n",
    "* 2️⃣ Some product categories experience sharp growth or decline in specific years.\n",
    "\n",
    "     🔹 Actionable Insight: Analyze market trends, customer preferences, and external factors to understand these fluctuations and adapt strategies accordingly.\n",
    "\n",
    "* 3️⃣ Categories with consistently low sales may need reevaluation.\n",
    "\n",
    "     🔹 Actionable Insight: Consider repositioning, promotional campaigns, or even discontinuation if they remain unprofitable over time."
   ]
  },
  {
   "cell_type": "markdown",
   "id": "6f61ad44",
   "metadata": {
    "papermill": {
     "duration": 0.058941,
     "end_time": "2025-03-13T15:16:54.641824",
     "exception": false,
     "start_time": "2025-03-13T15:16:54.582883",
     "status": "completed"
    },
    "tags": []
   },
   "source": [
    "### Total Order Quantity Analysis by Product Category"
   ]
  },
  {
   "cell_type": "code",
   "execution_count": 72,
   "id": "0406c650",
   "metadata": {
    "execution": {
     "iopub.execute_input": "2025-03-13T15:16:54.761476Z",
     "iopub.status.busy": "2025-03-13T15:16:54.761108Z",
     "iopub.status.idle": "2025-03-13T15:16:54.770213Z",
     "shell.execute_reply": "2025-03-13T15:16:54.769171Z"
    },
    "papermill": {
     "duration": 0.070716,
     "end_time": "2025-03-13T15:16:54.771753",
     "exception": false,
     "start_time": "2025-03-13T15:16:54.701037",
     "status": "completed"
    },
    "tags": []
   },
   "outputs": [
    {
     "data": {
      "text/plain": [
       "Product Category\n",
       "Cell phones                      96074\n",
       "Computers                        69425\n",
       "Cameras and camcorders           43893\n",
       "TV and Video                     22714\n",
       "Music, Movies and Audio Books     9953\n",
       "Audio                             9067\n",
       "Name: Order Qty, dtype: int64"
      ]
     },
     "execution_count": 72,
     "metadata": {},
     "output_type": "execute_result"
    }
   ],
   "source": [
    "total_qty_per_product = df.groupby('Product Category')['Order Qty'].sum().sort_values(ascending=False)\n",
    "total_qty_per_product\n"
   ]
  },
  {
   "cell_type": "code",
   "execution_count": 73,
   "id": "8ba70323",
   "metadata": {
    "execution": {
     "iopub.execute_input": "2025-03-13T15:16:54.892165Z",
     "iopub.status.busy": "2025-03-13T15:16:54.891742Z",
     "iopub.status.idle": "2025-03-13T15:16:54.993017Z",
     "shell.execute_reply": "2025-03-13T15:16:54.991967Z"
    },
    "papermill": {
     "duration": 0.163239,
     "end_time": "2025-03-13T15:16:54.994784",
     "exception": false,
     "start_time": "2025-03-13T15:16:54.831545",
     "status": "completed"
    },
    "tags": []
   },
   "outputs": [
    {
     "data": {
      "text/html": [
       "<iframe\n",
       "    scrolling=\"no\"\n",
       "    width=\"100%\"\n",
       "    height=\"545px\"\n",
       "    src=\"iframe_figures/figure_73.html\"\n",
       "    frameborder=\"0\"\n",
       "    allowfullscreen\n",
       "></iframe>\n"
      ]
     },
     "metadata": {},
     "output_type": "display_data"
    }
   ],
   "source": [
    "fig = px.bar(total_qty_per_product, barmode='group',title=\"Order Quantity Distribution Across Product Categories\")\n",
    "fig.show()\n"
   ]
  },
  {
   "cell_type": "markdown",
   "id": "bbe8971a",
   "metadata": {
    "papermill": {
     "duration": 0.058082,
     "end_time": "2025-03-13T15:16:55.111658",
     "exception": false,
     "start_time": "2025-03-13T15:16:55.053576",
     "status": "completed"
    },
    "tags": []
   },
   "source": [
    "* 1️⃣ High-Demand Categories: Certain product categories consistently receive the highest order quantities.\n",
    "\n",
    "     🔹 Actionable Insight: Prioritize inventory management, supply chain optimization, and targeted marketing for these high-demand products to prevent stockouts and maintain customer satisfaction.\n",
    "\n",
    "* 2️⃣ Low-Performing Categories: Some product categories have significantly lower order volumes.\n",
    "\n",
    "     🔹 Actionable Insight: Investigate whether the low sales are due to pricing, lack of awareness, or market trends, and adjust strategies accordingly (e.g., promotions, bundling, or discontinuation).\n",
    "\n",
    "* 3️⃣ Demand Forecasting: Order quantity trends indicate which categories are growing or declining over time.\n",
    "\n",
    "     🔹 Actionable Insight: Use historical order data to improve demand forecasting and optimize production planning for better cost efficiency."
   ]
  },
  {
   "cell_type": "markdown",
   "id": "1683b8ae",
   "metadata": {
    "papermill": {
     "duration": 0.059435,
     "end_time": "2025-03-13T15:16:55.230732",
     "exception": false,
     "start_time": "2025-03-13T15:16:55.171297",
     "status": "completed"
    },
    "tags": []
   },
   "source": [
    "### Number of Unique Product Sub Categories in the Dataset"
   ]
  },
  {
   "cell_type": "code",
   "execution_count": 74,
   "id": "cc35ec52",
   "metadata": {
    "execution": {
     "iopub.execute_input": "2025-03-13T15:16:55.351999Z",
     "iopub.status.busy": "2025-03-13T15:16:55.351639Z",
     "iopub.status.idle": "2025-03-13T15:16:55.358703Z",
     "shell.execute_reply": "2025-03-13T15:16:55.357703Z"
    },
    "papermill": {
     "duration": 0.068325,
     "end_time": "2025-03-13T15:16:55.360398",
     "exception": false,
     "start_time": "2025-03-13T15:16:55.292073",
     "status": "completed"
    },
    "tags": []
   },
   "outputs": [
    {
     "data": {
      "text/plain": [
       "22"
      ]
     },
     "execution_count": 74,
     "metadata": {},
     "output_type": "execute_result"
    }
   ],
   "source": [
    "df[\"Product Sub Category\"].nunique()"
   ]
  },
  {
   "cell_type": "markdown",
   "id": "fba8f895",
   "metadata": {
    "papermill": {
     "duration": 0.06184,
     "end_time": "2025-03-13T15:16:55.483716",
     "exception": false,
     "start_time": "2025-03-13T15:16:55.421876",
     "status": "completed"
    },
    "tags": []
   },
   "source": [
    "### Distribution of Product Subcategories"
   ]
  },
  {
   "cell_type": "code",
   "execution_count": 75,
   "id": "290a5cd2",
   "metadata": {
    "execution": {
     "iopub.execute_input": "2025-03-13T15:16:55.605266Z",
     "iopub.status.busy": "2025-03-13T15:16:55.604849Z",
     "iopub.status.idle": "2025-03-13T15:16:55.710883Z",
     "shell.execute_reply": "2025-03-13T15:16:55.709818Z"
    },
    "papermill": {
     "duration": 0.168634,
     "end_time": "2025-03-13T15:16:55.712507",
     "exception": false,
     "start_time": "2025-03-13T15:16:55.543873",
     "status": "completed"
    },
    "tags": []
   },
   "outputs": [
    {
     "name": "stdout",
     "output_type": "stream",
     "text": [
      "Product Sub Category\n",
      "Computers Accessories               1642\n",
      "Digital SLR Cameras                 1069\n",
      "Digital Cameras                     1012\n",
      "Camcorders                           987\n",
      "Printers, Scanners & Fax             971\n",
      "Home & Office Phones                 930\n",
      "Projectors & Screens                 874\n",
      "Smart phones & PDAs                  855\n",
      "Home Theater System                  848\n",
      "Movie DVD                            832\n",
      "Laptops                              812\n",
      "Monitors                             648\n",
      "Touch Screen Phones                  559\n",
      "Cameras & Camcorders Accessories     522\n",
      "Car Video                            490\n",
      "Desktops                             412\n",
      "Televisions                          349\n",
      "MP4&MP3                              308\n",
      "Bluetooth Headphones                 306\n",
      "Cell phones Accessories              265\n",
      "VCD & DVD                            191\n",
      "Recording Pen                        118\n",
      "Name: count, dtype: int64\n",
      "-------------------------------------------------------------------------------------------------------------------\n"
     ]
    },
    {
     "data": {
      "text/html": [
       "<iframe\n",
       "    scrolling=\"no\"\n",
       "    width=\"100%\"\n",
       "    height=\"545px\"\n",
       "    src=\"iframe_figures/figure_75.html\"\n",
       "    frameborder=\"0\"\n",
       "    allowfullscreen\n",
       "></iframe>\n"
      ]
     },
     "metadata": {},
     "output_type": "display_data"
    }
   ],
   "source": [
    "ProductSubCategory_counts=df[\"Product Sub Category\"].value_counts()\n",
    "print(ProductSubCategory_counts)\n",
    "print(\"-\"*115)\n",
    "ProductSubCategory_counts=px.bar(ProductSubCategory_counts,color=ProductSubCategory_counts)\n",
    "ProductSubCategory_counts.show()"
   ]
  },
  {
   "cell_type": "markdown",
   "id": "58bfac47",
   "metadata": {
    "papermill": {
     "duration": 0.061362,
     "end_time": "2025-03-13T15:16:55.834047",
     "exception": false,
     "start_time": "2025-03-13T15:16:55.772685",
     "status": "completed"
    },
    "tags": []
   },
   "source": [
    "* 1️⃣ High-Demand Subcategories: Some product subcategories consistently receive the highest order quantities.\n",
    "\n",
    "     🔹 Actionable Insight: Prioritize inventory management, supply chain optimization, and targeted marketing campaigns for these top-performing subcategories.\n",
    "\n",
    "* 2️⃣ Underperforming Subcategories: Certain subcategories show significantly lower sales compared to others.\n",
    "\n",
    "     🔹 Actionable Insight: Reevaluate pricing strategies, promotional efforts, or product relevance. Consider discontinuation if the demand remains low to optimize resources.\n",
    "\n",
    "* 3️⃣ Diverse Customer Preferences: The variety in subcategory performance suggests different customer preferences and buying behaviors.\n",
    "\n",
    "     🔹 Actionable Insight: Conduct detailed customer analysis to identify emerging trends and adjust product offerings accordingly to capture a larger market share."
   ]
  },
  {
   "cell_type": "markdown",
   "id": "b92b987e",
   "metadata": {
    "papermill": {
     "duration": 0.061709,
     "end_time": "2025-03-13T15:16:55.956230",
     "exception": false,
     "start_time": "2025-03-13T15:16:55.894521",
     "status": "completed"
    },
    "tags": []
   },
   "source": [
    "### Top 3 Subcategories in Each Product Category"
   ]
  },
  {
   "cell_type": "code",
   "execution_count": 76,
   "id": "cd0d6234",
   "metadata": {
    "execution": {
     "iopub.execute_input": "2025-03-13T15:16:56.084733Z",
     "iopub.status.busy": "2025-03-13T15:16:56.084374Z",
     "iopub.status.idle": "2025-03-13T15:16:56.109839Z",
     "shell.execute_reply": "2025-03-13T15:16:56.108814Z"
    },
    "papermill": {
     "duration": 0.087709,
     "end_time": "2025-03-13T15:16:56.111566",
     "exception": false,
     "start_time": "2025-03-13T15:16:56.023857",
     "status": "completed"
    },
    "tags": []
   },
   "outputs": [
    {
     "data": {
      "text/html": [
       "<div>\n",
       "<style scoped>\n",
       "    .dataframe tbody tr th:only-of-type {\n",
       "        vertical-align: middle;\n",
       "    }\n",
       "\n",
       "    .dataframe tbody tr th {\n",
       "        vertical-align: top;\n",
       "    }\n",
       "\n",
       "    .dataframe thead th {\n",
       "        text-align: right;\n",
       "    }\n",
       "</style>\n",
       "<table border=\"1\" class=\"dataframe\">\n",
       "  <thead>\n",
       "    <tr style=\"text-align: right;\">\n",
       "      <th></th>\n",
       "      <th>Product Category</th>\n",
       "      <th>Product Sub Category</th>\n",
       "      <th>Counts</th>\n",
       "    </tr>\n",
       "  </thead>\n",
       "  <tbody>\n",
       "    <tr>\n",
       "      <th>0</th>\n",
       "      <td>Audio</td>\n",
       "      <td>MP4&amp;MP3</td>\n",
       "      <td>308</td>\n",
       "    </tr>\n",
       "    <tr>\n",
       "      <th>1</th>\n",
       "      <td>Audio</td>\n",
       "      <td>Bluetooth Headphones</td>\n",
       "      <td>306</td>\n",
       "    </tr>\n",
       "    <tr>\n",
       "      <th>2</th>\n",
       "      <td>Audio</td>\n",
       "      <td>Recording Pen</td>\n",
       "      <td>118</td>\n",
       "    </tr>\n",
       "    <tr>\n",
       "      <th>3</th>\n",
       "      <td>Cameras and camcorders</td>\n",
       "      <td>Digital SLR Cameras</td>\n",
       "      <td>1069</td>\n",
       "    </tr>\n",
       "    <tr>\n",
       "      <th>4</th>\n",
       "      <td>Cameras and camcorders</td>\n",
       "      <td>Digital Cameras</td>\n",
       "      <td>1012</td>\n",
       "    </tr>\n",
       "    <tr>\n",
       "      <th>5</th>\n",
       "      <td>Cameras and camcorders</td>\n",
       "      <td>Camcorders</td>\n",
       "      <td>987</td>\n",
       "    </tr>\n",
       "    <tr>\n",
       "      <th>6</th>\n",
       "      <td>Cell phones</td>\n",
       "      <td>Home &amp; Office Phones</td>\n",
       "      <td>930</td>\n",
       "    </tr>\n",
       "    <tr>\n",
       "      <th>7</th>\n",
       "      <td>Cell phones</td>\n",
       "      <td>Smart phones &amp; PDAs</td>\n",
       "      <td>855</td>\n",
       "    </tr>\n",
       "    <tr>\n",
       "      <th>8</th>\n",
       "      <td>Cell phones</td>\n",
       "      <td>Touch Screen Phones</td>\n",
       "      <td>559</td>\n",
       "    </tr>\n",
       "    <tr>\n",
       "      <th>9</th>\n",
       "      <td>Computers</td>\n",
       "      <td>Computers Accessories</td>\n",
       "      <td>1642</td>\n",
       "    </tr>\n",
       "    <tr>\n",
       "      <th>10</th>\n",
       "      <td>Computers</td>\n",
       "      <td>Printers, Scanners &amp; Fax</td>\n",
       "      <td>971</td>\n",
       "    </tr>\n",
       "    <tr>\n",
       "      <th>11</th>\n",
       "      <td>Computers</td>\n",
       "      <td>Projectors &amp; Screens</td>\n",
       "      <td>874</td>\n",
       "    </tr>\n",
       "    <tr>\n",
       "      <th>12</th>\n",
       "      <td>Music, Movies and Audio Books</td>\n",
       "      <td>Movie DVD</td>\n",
       "      <td>832</td>\n",
       "    </tr>\n",
       "    <tr>\n",
       "      <th>13</th>\n",
       "      <td>TV and Video</td>\n",
       "      <td>Home Theater System</td>\n",
       "      <td>848</td>\n",
       "    </tr>\n",
       "    <tr>\n",
       "      <th>14</th>\n",
       "      <td>TV and Video</td>\n",
       "      <td>Car Video</td>\n",
       "      <td>490</td>\n",
       "    </tr>\n",
       "    <tr>\n",
       "      <th>15</th>\n",
       "      <td>TV and Video</td>\n",
       "      <td>Televisions</td>\n",
       "      <td>349</td>\n",
       "    </tr>\n",
       "  </tbody>\n",
       "</table>\n",
       "</div>"
      ],
      "text/plain": [
       "                 Product Category      Product Sub Category  Counts\n",
       "0                           Audio                   MP4&MP3     308\n",
       "1                           Audio      Bluetooth Headphones     306\n",
       "2                           Audio             Recording Pen     118\n",
       "3         Cameras and camcorders        Digital SLR Cameras    1069\n",
       "4         Cameras and camcorders            Digital Cameras    1012\n",
       "5         Cameras and camcorders                 Camcorders     987\n",
       "6                     Cell phones      Home & Office Phones     930\n",
       "7                     Cell phones      Smart phones & PDAs      855\n",
       "8                     Cell phones      Touch Screen Phones      559\n",
       "9                       Computers     Computers Accessories    1642\n",
       "10                      Computers  Printers, Scanners & Fax     971\n",
       "11                      Computers      Projectors & Screens     874\n",
       "12  Music, Movies and Audio Books                 Movie DVD     832\n",
       "13                   TV and Video       Home Theater System     848\n",
       "14                   TV and Video                 Car Video     490\n",
       "15                   TV and Video               Televisions     349"
      ]
     },
     "execution_count": 76,
     "metadata": {},
     "output_type": "execute_result"
    }
   ],
   "source": [
    "top_subcategories = df.groupby(['Product Category', 'Product Sub Category']).size().reset_index(name='Counts')\n",
    "\n",
    "top_3_subcategories = top_subcategories.groupby('Product Category').apply(lambda x: x.nlargest(3, 'Counts')).reset_index(drop=True)\n",
    "top_3_subcategories\n"
   ]
  },
  {
   "cell_type": "code",
   "execution_count": 77,
   "id": "8ea1d9e4",
   "metadata": {
    "execution": {
     "iopub.execute_input": "2025-03-13T15:16:56.232865Z",
     "iopub.status.busy": "2025-03-13T15:16:56.232496Z",
     "iopub.status.idle": "2025-03-13T15:16:56.349695Z",
     "shell.execute_reply": "2025-03-13T15:16:56.348661Z"
    },
    "papermill": {
     "duration": 0.179716,
     "end_time": "2025-03-13T15:16:56.351671",
     "exception": false,
     "start_time": "2025-03-13T15:16:56.171955",
     "status": "completed"
    },
    "tags": []
   },
   "outputs": [
    {
     "data": {
      "text/html": [
       "<iframe\n",
       "    scrolling=\"no\"\n",
       "    width=\"100%\"\n",
       "    height=\"545px\"\n",
       "    src=\"iframe_figures/figure_77.html\"\n",
       "    frameborder=\"0\"\n",
       "    allowfullscreen\n",
       "></iframe>\n"
      ]
     },
     "metadata": {},
     "output_type": "display_data"
    }
   ],
   "source": [
    "fig = px.bar(top_3_subcategories, \n",
    "             x='Product Sub Category',      \n",
    "             y='Counts',                   \n",
    "             color='Product Category',      \n",
    "             title=\"Top 3 Subcategories per Product Category\",\n",
    "             barmode='group',               \n",
    "             labels={'Product Sub Category': 'Sub Category', 'Counts': 'Counts'})  \n",
    "\n",
    "fig.show()"
   ]
  },
  {
   "cell_type": "markdown",
   "id": "fb99e4f0",
   "metadata": {
    "papermill": {
     "duration": 0.060743,
     "end_time": "2025-03-13T15:16:56.473561",
     "exception": false,
     "start_time": "2025-03-13T15:16:56.412818",
     "status": "completed"
    },
    "tags": []
   },
   "source": [
    "* 1️⃣ Dominant Subcategories: Certain subcategories consistently lead in sales across different product categories.\n",
    "\n",
    "     🔹 Actionable Insight: Focus on increasing stock availability, improving distribution, and launching targeted promotions for these high-performing subcategories.\n",
    "\n",
    "* 2️⃣ Category-Specific Preferences: Some product categories show a clear preference for specific subcategories, indicating strong customer demand.\n",
    "\n",
    "     🔹 Actionable Insight: Leverage this data to tailor marketing strategies and product placements that align with customer expectations in each category.\n",
    "\n",
    "* 3️⃣ Potential for Expansion: Identifying strong subcategories can highlight opportunities to expand the product line within high-demand segments.\n",
    "\n",
    "     🔹 Actionable Insight: Introduce new variations, bundle products, or enhance features to capitalize on existing customer interest."
   ]
  },
  {
   "cell_type": "markdown",
   "id": "f49840c0",
   "metadata": {
    "papermill": {
     "duration": 0.059871,
     "end_time": "2025-03-13T15:16:56.593163",
     "exception": false,
     "start_time": "2025-03-13T15:16:56.533292",
     "status": "completed"
    },
    "tags": []
   },
   "source": [
    "### Relationship Between Product Categories and Their Subcategories"
   ]
  },
  {
   "cell_type": "code",
   "execution_count": 78,
   "id": "b1e73a93",
   "metadata": {
    "execution": {
     "iopub.execute_input": "2025-03-13T15:16:56.713947Z",
     "iopub.status.busy": "2025-03-13T15:16:56.713568Z",
     "iopub.status.idle": "2025-03-13T15:16:56.738600Z",
     "shell.execute_reply": "2025-03-13T15:16:56.737515Z"
    },
    "papermill": {
     "duration": 0.087378,
     "end_time": "2025-03-13T15:16:56.740347",
     "exception": false,
     "start_time": "2025-03-13T15:16:56.652969",
     "status": "completed"
    },
    "tags": []
   },
   "outputs": [
    {
     "data": {
      "text/html": [
       "<div>\n",
       "<style scoped>\n",
       "    .dataframe tbody tr th:only-of-type {\n",
       "        vertical-align: middle;\n",
       "    }\n",
       "\n",
       "    .dataframe tbody tr th {\n",
       "        vertical-align: top;\n",
       "    }\n",
       "\n",
       "    .dataframe thead th {\n",
       "        text-align: right;\n",
       "    }\n",
       "</style>\n",
       "<table border=\"1\" class=\"dataframe\">\n",
       "  <thead>\n",
       "    <tr style=\"text-align: right;\">\n",
       "      <th>Product Sub Category</th>\n",
       "      <th>Bluetooth Headphones</th>\n",
       "      <th>Camcorders</th>\n",
       "      <th>Cameras &amp; Camcorders Accessories</th>\n",
       "      <th>Car Video</th>\n",
       "      <th>Cell phones Accessories</th>\n",
       "      <th>Computers Accessories</th>\n",
       "      <th>Desktops</th>\n",
       "      <th>Digital Cameras</th>\n",
       "      <th>Digital SLR Cameras</th>\n",
       "      <th>Home &amp; Office Phones</th>\n",
       "      <th>...</th>\n",
       "      <th>MP4&amp;MP3</th>\n",
       "      <th>Monitors</th>\n",
       "      <th>Movie DVD</th>\n",
       "      <th>Printers, Scanners &amp; Fax</th>\n",
       "      <th>Projectors &amp; Screens</th>\n",
       "      <th>Recording Pen</th>\n",
       "      <th>Smart phones &amp; PDAs</th>\n",
       "      <th>Televisions</th>\n",
       "      <th>Touch Screen Phones</th>\n",
       "      <th>VCD &amp; DVD</th>\n",
       "    </tr>\n",
       "    <tr>\n",
       "      <th>Product Category</th>\n",
       "      <th></th>\n",
       "      <th></th>\n",
       "      <th></th>\n",
       "      <th></th>\n",
       "      <th></th>\n",
       "      <th></th>\n",
       "      <th></th>\n",
       "      <th></th>\n",
       "      <th></th>\n",
       "      <th></th>\n",
       "      <th></th>\n",
       "      <th></th>\n",
       "      <th></th>\n",
       "      <th></th>\n",
       "      <th></th>\n",
       "      <th></th>\n",
       "      <th></th>\n",
       "      <th></th>\n",
       "      <th></th>\n",
       "      <th></th>\n",
       "      <th></th>\n",
       "    </tr>\n",
       "  </thead>\n",
       "  <tbody>\n",
       "    <tr>\n",
       "      <th>Audio</th>\n",
       "      <td>306</td>\n",
       "      <td>0</td>\n",
       "      <td>0</td>\n",
       "      <td>0</td>\n",
       "      <td>0</td>\n",
       "      <td>0</td>\n",
       "      <td>0</td>\n",
       "      <td>0</td>\n",
       "      <td>0</td>\n",
       "      <td>0</td>\n",
       "      <td>...</td>\n",
       "      <td>308</td>\n",
       "      <td>0</td>\n",
       "      <td>0</td>\n",
       "      <td>0</td>\n",
       "      <td>0</td>\n",
       "      <td>118</td>\n",
       "      <td>0</td>\n",
       "      <td>0</td>\n",
       "      <td>0</td>\n",
       "      <td>0</td>\n",
       "    </tr>\n",
       "    <tr>\n",
       "      <th>Cameras and camcorders</th>\n",
       "      <td>0</td>\n",
       "      <td>987</td>\n",
       "      <td>522</td>\n",
       "      <td>0</td>\n",
       "      <td>0</td>\n",
       "      <td>0</td>\n",
       "      <td>0</td>\n",
       "      <td>1012</td>\n",
       "      <td>1069</td>\n",
       "      <td>0</td>\n",
       "      <td>...</td>\n",
       "      <td>0</td>\n",
       "      <td>0</td>\n",
       "      <td>0</td>\n",
       "      <td>0</td>\n",
       "      <td>0</td>\n",
       "      <td>0</td>\n",
       "      <td>0</td>\n",
       "      <td>0</td>\n",
       "      <td>0</td>\n",
       "      <td>0</td>\n",
       "    </tr>\n",
       "    <tr>\n",
       "      <th>Cell phones</th>\n",
       "      <td>0</td>\n",
       "      <td>0</td>\n",
       "      <td>0</td>\n",
       "      <td>0</td>\n",
       "      <td>265</td>\n",
       "      <td>0</td>\n",
       "      <td>0</td>\n",
       "      <td>0</td>\n",
       "      <td>0</td>\n",
       "      <td>930</td>\n",
       "      <td>...</td>\n",
       "      <td>0</td>\n",
       "      <td>0</td>\n",
       "      <td>0</td>\n",
       "      <td>0</td>\n",
       "      <td>0</td>\n",
       "      <td>0</td>\n",
       "      <td>855</td>\n",
       "      <td>0</td>\n",
       "      <td>559</td>\n",
       "      <td>0</td>\n",
       "    </tr>\n",
       "    <tr>\n",
       "      <th>Computers</th>\n",
       "      <td>0</td>\n",
       "      <td>0</td>\n",
       "      <td>0</td>\n",
       "      <td>0</td>\n",
       "      <td>0</td>\n",
       "      <td>1642</td>\n",
       "      <td>412</td>\n",
       "      <td>0</td>\n",
       "      <td>0</td>\n",
       "      <td>0</td>\n",
       "      <td>...</td>\n",
       "      <td>0</td>\n",
       "      <td>648</td>\n",
       "      <td>0</td>\n",
       "      <td>971</td>\n",
       "      <td>874</td>\n",
       "      <td>0</td>\n",
       "      <td>0</td>\n",
       "      <td>0</td>\n",
       "      <td>0</td>\n",
       "      <td>0</td>\n",
       "    </tr>\n",
       "    <tr>\n",
       "      <th>Music, Movies and Audio Books</th>\n",
       "      <td>0</td>\n",
       "      <td>0</td>\n",
       "      <td>0</td>\n",
       "      <td>0</td>\n",
       "      <td>0</td>\n",
       "      <td>0</td>\n",
       "      <td>0</td>\n",
       "      <td>0</td>\n",
       "      <td>0</td>\n",
       "      <td>0</td>\n",
       "      <td>...</td>\n",
       "      <td>0</td>\n",
       "      <td>0</td>\n",
       "      <td>832</td>\n",
       "      <td>0</td>\n",
       "      <td>0</td>\n",
       "      <td>0</td>\n",
       "      <td>0</td>\n",
       "      <td>0</td>\n",
       "      <td>0</td>\n",
       "      <td>0</td>\n",
       "    </tr>\n",
       "    <tr>\n",
       "      <th>TV and Video</th>\n",
       "      <td>0</td>\n",
       "      <td>0</td>\n",
       "      <td>0</td>\n",
       "      <td>490</td>\n",
       "      <td>0</td>\n",
       "      <td>0</td>\n",
       "      <td>0</td>\n",
       "      <td>0</td>\n",
       "      <td>0</td>\n",
       "      <td>0</td>\n",
       "      <td>...</td>\n",
       "      <td>0</td>\n",
       "      <td>0</td>\n",
       "      <td>0</td>\n",
       "      <td>0</td>\n",
       "      <td>0</td>\n",
       "      <td>0</td>\n",
       "      <td>0</td>\n",
       "      <td>349</td>\n",
       "      <td>0</td>\n",
       "      <td>191</td>\n",
       "    </tr>\n",
       "  </tbody>\n",
       "</table>\n",
       "<p>6 rows × 22 columns</p>\n",
       "</div>"
      ],
      "text/plain": [
       "Product Sub Category           Bluetooth Headphones  Camcorders  \\\n",
       "Product Category                                                  \n",
       "Audio                                           306           0   \n",
       "Cameras and camcorders                            0         987   \n",
       "Cell phones                                       0           0   \n",
       "Computers                                         0           0   \n",
       "Music, Movies and Audio Books                     0           0   \n",
       "TV and Video                                      0           0   \n",
       "\n",
       "Product Sub Category           Cameras & Camcorders Accessories  Car Video  \\\n",
       "Product Category                                                             \n",
       "Audio                                                         0          0   \n",
       "Cameras and camcorders                                      522          0   \n",
       "Cell phones                                                   0          0   \n",
       "Computers                                                     0          0   \n",
       "Music, Movies and Audio Books                                 0          0   \n",
       "TV and Video                                                  0        490   \n",
       "\n",
       "Product Sub Category           Cell phones Accessories  Computers Accessories  \\\n",
       "Product Category                                                                \n",
       "Audio                                                0                      0   \n",
       "Cameras and camcorders                               0                      0   \n",
       "Cell phones                                        265                      0   \n",
       "Computers                                            0                   1642   \n",
       "Music, Movies and Audio Books                        0                      0   \n",
       "TV and Video                                         0                      0   \n",
       "\n",
       "Product Sub Category           Desktops  Digital Cameras  Digital SLR Cameras  \\\n",
       "Product Category                                                                \n",
       "Audio                                 0                0                    0   \n",
       "Cameras and camcorders                0             1012                 1069   \n",
       "Cell phones                           0                0                    0   \n",
       "Computers                           412                0                    0   \n",
       "Music, Movies and Audio Books         0                0                    0   \n",
       "TV and Video                          0                0                    0   \n",
       "\n",
       "Product Sub Category           Home & Office Phones  ...  MP4&MP3  Monitors  \\\n",
       "Product Category                                     ...                      \n",
       "Audio                                             0  ...      308         0   \n",
       "Cameras and camcorders                            0  ...        0         0   \n",
       "Cell phones                                     930  ...        0         0   \n",
       "Computers                                         0  ...        0       648   \n",
       "Music, Movies and Audio Books                     0  ...        0         0   \n",
       "TV and Video                                      0  ...        0         0   \n",
       "\n",
       "Product Sub Category           Movie DVD  Printers, Scanners & Fax  \\\n",
       "Product Category                                                     \n",
       "Audio                                  0                         0   \n",
       "Cameras and camcorders                 0                         0   \n",
       "Cell phones                            0                         0   \n",
       "Computers                              0                       971   \n",
       "Music, Movies and Audio Books        832                         0   \n",
       "TV and Video                           0                         0   \n",
       "\n",
       "Product Sub Category           Projectors & Screens  Recording Pen  \\\n",
       "Product Category                                                     \n",
       "Audio                                             0            118   \n",
       "Cameras and camcorders                            0              0   \n",
       "Cell phones                                       0              0   \n",
       "Computers                                       874              0   \n",
       "Music, Movies and Audio Books                     0              0   \n",
       "TV and Video                                      0              0   \n",
       "\n",
       "Product Sub Category           Smart phones & PDAs   Televisions  \\\n",
       "Product Category                                                   \n",
       "Audio                                             0            0   \n",
       "Cameras and camcorders                            0            0   \n",
       "Cell phones                                     855            0   \n",
       "Computers                                         0            0   \n",
       "Music, Movies and Audio Books                     0            0   \n",
       "TV and Video                                      0          349   \n",
       "\n",
       "Product Sub Category           Touch Screen Phones   VCD & DVD  \n",
       "Product Category                                                \n",
       "Audio                                             0          0  \n",
       "Cameras and camcorders                            0          0  \n",
       "Cell phones                                     559          0  \n",
       "Computers                                         0          0  \n",
       "Music, Movies and Audio Books                     0          0  \n",
       "TV and Video                                      0        191  \n",
       "\n",
       "[6 rows x 22 columns]"
      ]
     },
     "execution_count": 78,
     "metadata": {},
     "output_type": "execute_result"
    }
   ],
   "source": [
    "ProductCategory_ProductSupCategory=pd.crosstab(df[\"Product Category\"],df[\"Product Sub Category\"])\n",
    "ProductCategory_ProductSupCategory"
   ]
  },
  {
   "cell_type": "code",
   "execution_count": 79,
   "id": "264e4e48",
   "metadata": {
    "execution": {
     "iopub.execute_input": "2025-03-13T15:16:56.863667Z",
     "iopub.status.busy": "2025-03-13T15:16:56.863317Z",
     "iopub.status.idle": "2025-03-13T15:16:57.045536Z",
     "shell.execute_reply": "2025-03-13T15:16:57.044588Z"
    },
    "papermill": {
     "duration": 0.246161,
     "end_time": "2025-03-13T15:16:57.047299",
     "exception": false,
     "start_time": "2025-03-13T15:16:56.801138",
     "status": "completed"
    },
    "tags": []
   },
   "outputs": [
    {
     "data": {
      "text/html": [
       "<iframe\n",
       "    scrolling=\"no\"\n",
       "    width=\"100%\"\n",
       "    height=\"545px\"\n",
       "    src=\"iframe_figures/figure_79.html\"\n",
       "    frameborder=\"0\"\n",
       "    allowfullscreen\n",
       "></iframe>\n"
      ]
     },
     "metadata": {},
     "output_type": "display_data"
    }
   ],
   "source": [
    "fig = px.bar(ProductCategory_ProductSupCategory, barmode='group',title=\"Distribution of Product Subcategories Across Main Categories\")\n",
    "fig.show()"
   ]
  },
  {
   "cell_type": "markdown",
   "id": "57217326",
   "metadata": {
    "papermill": {
     "duration": 0.060272,
     "end_time": "2025-03-13T15:16:57.168731",
     "exception": false,
     "start_time": "2025-03-13T15:16:57.108459",
     "status": "completed"
    },
    "tags": []
   },
   "source": [
    "* 1️⃣ Wide Product Diversity: Certain product categories contain a broader range of subcategories, indicating a well-diversified portfolio.\n",
    "\n",
    "     🔹 Actionable Insight: Maintain a balanced inventory across these subcategories while identifying underperforming ones for potential optimization.\n",
    "\n",
    "* 2️⃣ Key Subcategory Concentration: Some subcategories dominate within their respective categories, contributing to the majority of sales.\n",
    "\n",
    "     🔹 Actionable Insight: Focus marketing efforts and promotions on these top-performing subcategories to maximize revenue and customer engagement.\n",
    "\n",
    "* 3️⃣ Growth Opportunities: Product categories with fewer subcategories may have room for expansion.\n",
    "\n",
    "     🔹 Actionable Insight: Research customer demand and introduce new subcategories to capture untapped market segments."
   ]
  },
  {
   "cell_type": "markdown",
   "id": "f41bffb4",
   "metadata": {
    "papermill": {
     "duration": 0.06127,
     "end_time": "2025-03-13T15:16:57.290905",
     "exception": false,
     "start_time": "2025-03-13T15:16:57.229635",
     "status": "completed"
    },
    "tags": []
   },
   "source": [
    "### Number of Unique Subcategories per Product Category"
   ]
  },
  {
   "cell_type": "code",
   "execution_count": 80,
   "id": "0727c892",
   "metadata": {
    "execution": {
     "iopub.execute_input": "2025-03-13T15:16:57.414010Z",
     "iopub.status.busy": "2025-03-13T15:16:57.413612Z",
     "iopub.status.idle": "2025-03-13T15:16:57.423294Z",
     "shell.execute_reply": "2025-03-13T15:16:57.422170Z"
    },
    "papermill": {
     "duration": 0.074026,
     "end_time": "2025-03-13T15:16:57.425008",
     "exception": false,
     "start_time": "2025-03-13T15:16:57.350982",
     "status": "completed"
    },
    "tags": []
   },
   "outputs": [
    {
     "name": "stdout",
     "output_type": "stream",
     "text": [
      "Product Category\n",
      "Audio                            3\n",
      "Cameras and camcorders           4\n",
      "Cell phones                      4\n",
      "Computers                        6\n",
      "Music, Movies and Audio Books    1\n",
      "TV and Video                     4\n",
      "Name: Product Sub Category, dtype: int64\n"
     ]
    }
   ],
   "source": [
    "category_counts = df.groupby(\"Product Category\")[\"Product Sub Category\"].nunique()\n",
    "\n",
    "print(category_counts)"
   ]
  },
  {
   "cell_type": "markdown",
   "id": "adbabb7a",
   "metadata": {
    "papermill": {
     "duration": 0.060482,
     "end_time": "2025-03-13T15:16:57.547991",
     "exception": false,
     "start_time": "2025-03-13T15:16:57.487509",
     "status": "completed"
    },
    "tags": []
   },
   "source": [
    "* 1️⃣ Diverse vs. Limited Categories: Some product categories contain a higher number of unique subcategories, indicating a broader range of offerings, while others have fewer subcategories.\n",
    "\n",
    "    🔹 Actionable Insight: Expand subcategory options in categories with limited variety to attract more customers and increase sales potential.\n",
    "\n",
    "* 2️⃣ Customer Preference Reflection: Categories with more subcategories may indicate strong customer demand and varied preferences.\n",
    "\n",
    "    🔹 Actionable Insight: Analyze sales performance across these subcategories to identify top performers and optimize marketing efforts accordingly.\n",
    "\n",
    "* 3️⃣ Market Gaps & Opportunities: Categories with very few subcategories might signal an untapped market opportunity.\n",
    "\n",
    "    🔹 Actionable Insight: Conduct competitor analysis and customer surveys to determine potential new subcategories that align with consumer needs."
   ]
  },
  {
   "cell_type": "markdown",
   "id": "a9c38bea",
   "metadata": {
    "papermill": {
     "duration": 0.06107,
     "end_time": "2025-03-13T15:16:57.670283",
     "exception": false,
     "start_time": "2025-03-13T15:16:57.609213",
     "status": "completed"
    },
    "tags": []
   },
   "source": [
    "### Product Subcategory with the Highest Cost of Sales"
   ]
  },
  {
   "cell_type": "code",
   "execution_count": 81,
   "id": "9a011ae3",
   "metadata": {
    "execution": {
     "iopub.execute_input": "2025-03-13T15:16:57.794100Z",
     "iopub.status.busy": "2025-03-13T15:16:57.793626Z",
     "iopub.status.idle": "2025-03-13T15:16:57.805155Z",
     "shell.execute_reply": "2025-03-13T15:16:57.803999Z"
    },
    "papermill": {
     "duration": 0.074813,
     "end_time": "2025-03-13T15:16:57.806774",
     "exception": false,
     "start_time": "2025-03-13T15:16:57.731961",
     "status": "completed"
    },
    "tags": []
   },
   "outputs": [
    {
     "data": {
      "text/html": [
       "<div>\n",
       "<style scoped>\n",
       "    .dataframe tbody tr th:only-of-type {\n",
       "        vertical-align: middle;\n",
       "    }\n",
       "\n",
       "    .dataframe tbody tr th {\n",
       "        vertical-align: top;\n",
       "    }\n",
       "\n",
       "    .dataframe thead th {\n",
       "        text-align: right;\n",
       "    }\n",
       "</style>\n",
       "<table border=\"1\" class=\"dataframe\">\n",
       "  <thead>\n",
       "    <tr style=\"text-align: right;\">\n",
       "      <th></th>\n",
       "      <th>Product Sub Category</th>\n",
       "      <th>Cost of Sales</th>\n",
       "    </tr>\n",
       "  </thead>\n",
       "  <tbody>\n",
       "    <tr>\n",
       "      <th>7071</th>\n",
       "      <td>Projectors &amp; Screens</td>\n",
       "      <td>42991.137192</td>\n",
       "    </tr>\n",
       "  </tbody>\n",
       "</table>\n",
       "</div>"
      ],
      "text/plain": [
       "      Product Sub Category  Cost of Sales\n",
       "7071  Projectors & Screens   42991.137192"
      ]
     },
     "execution_count": 81,
     "metadata": {},
     "output_type": "execute_result"
    }
   ],
   "source": [
    "df[[\"Product Sub Category\",\"Cost of Sales\"]][df[\"Cost of Sales\"]==df[\"Cost of Sales\"].max()]"
   ]
  },
  {
   "cell_type": "markdown",
   "id": "720364c5",
   "metadata": {
    "papermill": {
     "duration": 0.061476,
     "end_time": "2025-03-13T15:16:57.930275",
     "exception": false,
     "start_time": "2025-03-13T15:16:57.868799",
     "status": "completed"
    },
    "tags": []
   },
   "source": [
    "* 1️⃣ High-Cost Subcategory: The identified subcategory has the highest cost of sales, which may impact overall profitability.\n",
    "\n",
    "     🔹 Actionable Insight: Assess cost structures and negotiate better supplier contracts or optimize production to reduce expenses.\n",
    "\n",
    "* 2️⃣ Profitability Analysis Needed: High cost does not always mean high profit; profitability should be analyzed alongside sales and margin data.\n",
    "\n",
    "     🔹 Actionable Insight: Perform a profitability assessment to determine if price adjustments or cost-cutting measures are necessary.\n",
    "\n",
    "* 3️⃣ Strategic Pricing & Cost Control: If the high cost is justified by strong sales, ensure pricing strategies maintain a healthy margin.\n",
    "\n",
    "     🔹 Actionable Insight: Consider value-based pricing or premium positioning if demand supports higher prices.\n"
   ]
  },
  {
   "cell_type": "markdown",
   "id": "23226997",
   "metadata": {
    "papermill": {
     "duration": 0.060641,
     "end_time": "2025-03-13T15:16:58.052048",
     "exception": false,
     "start_time": "2025-03-13T15:16:57.991407",
     "status": "completed"
    },
    "tags": []
   },
   "source": [
    "### Product Subcategory with the Lowest Cost of Sales"
   ]
  },
  {
   "cell_type": "code",
   "execution_count": 82,
   "id": "a4894d0f",
   "metadata": {
    "execution": {
     "iopub.execute_input": "2025-03-13T15:16:58.174758Z",
     "iopub.status.busy": "2025-03-13T15:16:58.174357Z",
     "iopub.status.idle": "2025-03-13T15:16:58.185268Z",
     "shell.execute_reply": "2025-03-13T15:16:58.184128Z"
    },
    "papermill": {
     "duration": 0.074205,
     "end_time": "2025-03-13T15:16:58.186948",
     "exception": false,
     "start_time": "2025-03-13T15:16:58.112743",
     "status": "completed"
    },
    "tags": []
   },
   "outputs": [
    {
     "data": {
      "text/html": [
       "<div>\n",
       "<style scoped>\n",
       "    .dataframe tbody tr th:only-of-type {\n",
       "        vertical-align: middle;\n",
       "    }\n",
       "\n",
       "    .dataframe tbody tr th {\n",
       "        vertical-align: top;\n",
       "    }\n",
       "\n",
       "    .dataframe thead th {\n",
       "        text-align: right;\n",
       "    }\n",
       "</style>\n",
       "<table border=\"1\" class=\"dataframe\">\n",
       "  <thead>\n",
       "    <tr style=\"text-align: right;\">\n",
       "      <th></th>\n",
       "      <th>Product Sub Category</th>\n",
       "      <th>Cost of Sales</th>\n",
       "    </tr>\n",
       "  </thead>\n",
       "  <tbody>\n",
       "    <tr>\n",
       "      <th>4739</th>\n",
       "      <td>MP4&amp;MP3</td>\n",
       "      <td>0.015756</td>\n",
       "    </tr>\n",
       "  </tbody>\n",
       "</table>\n",
       "</div>"
      ],
      "text/plain": [
       "     Product Sub Category  Cost of Sales\n",
       "4739              MP4&MP3       0.015756"
      ]
     },
     "execution_count": 82,
     "metadata": {},
     "output_type": "execute_result"
    }
   ],
   "source": [
    "df[[\"Product Sub Category\",\"Cost of Sales\"]][df[\"Cost of Sales\"]==df[\"Cost of Sales\"].min()]"
   ]
  },
  {
   "cell_type": "markdown",
   "id": "49d362d1",
   "metadata": {
    "papermill": {
     "duration": 0.060816,
     "end_time": "2025-03-13T15:16:58.364362",
     "exception": false,
     "start_time": "2025-03-13T15:16:58.303546",
     "status": "completed"
    },
    "tags": []
   },
   "source": [
    "* 1️⃣ Low-Cost Advantage: This product subcategory has the lowest cost of sales, which can contribute to higher profit margins if sales are strong.\n",
    "\n",
    "     🔹 Actionable Insight: Leverage this cost efficiency by promoting these products aggressively to maximize profitability.\n",
    "\n",
    "* 2️⃣ Potential for Higher ROI: Low costs mean a higher return on investment (ROI) if demand and pricing strategies align effectively.\n",
    "\n",
    "     🔹 Actionable Insight: Analyze sales trends and consider expanding production or marketing efforts for this category.\n",
    "\n",
    "* 3️⃣ Opportunity for Competitive Pricing: If the low cost allows, competitive pricing strategies can help capture more market share.\n",
    "\n",
    "     🔹 Actionable Insight: Conduct market research to determine if price reductions or bundling strategies could enhance sales."
   ]
  },
  {
   "cell_type": "markdown",
   "id": "a984094f",
   "metadata": {
    "papermill": {
     "duration": 0.061845,
     "end_time": "2025-03-13T15:16:58.487875",
     "exception": false,
     "start_time": "2025-03-13T15:16:58.426030",
     "status": "completed"
    },
    "tags": []
   },
   "source": [
    "### Product Subcategory with the Highest Profit"
   ]
  },
  {
   "cell_type": "code",
   "execution_count": 83,
   "id": "433914b7",
   "metadata": {
    "execution": {
     "iopub.execute_input": "2025-03-13T15:16:58.611828Z",
     "iopub.status.busy": "2025-03-13T15:16:58.611450Z",
     "iopub.status.idle": "2025-03-13T15:16:58.623322Z",
     "shell.execute_reply": "2025-03-13T15:16:58.622130Z"
    },
    "papermill": {
     "duration": 0.075358,
     "end_time": "2025-03-13T15:16:58.625020",
     "exception": false,
     "start_time": "2025-03-13T15:16:58.549662",
     "status": "completed"
    },
    "tags": []
   },
   "outputs": [
    {
     "data": {
      "text/html": [
       "<div>\n",
       "<style scoped>\n",
       "    .dataframe tbody tr th:only-of-type {\n",
       "        vertical-align: middle;\n",
       "    }\n",
       "\n",
       "    .dataframe tbody tr th {\n",
       "        vertical-align: top;\n",
       "    }\n",
       "\n",
       "    .dataframe thead th {\n",
       "        text-align: right;\n",
       "    }\n",
       "</style>\n",
       "<table border=\"1\" class=\"dataframe\">\n",
       "  <thead>\n",
       "    <tr style=\"text-align: right;\">\n",
       "      <th></th>\n",
       "      <th>Product Sub Category</th>\n",
       "      <th>Profit</th>\n",
       "    </tr>\n",
       "  </thead>\n",
       "  <tbody>\n",
       "    <tr>\n",
       "      <th>9853</th>\n",
       "      <td>Camcorders</td>\n",
       "      <td>55692.569522</td>\n",
       "    </tr>\n",
       "  </tbody>\n",
       "</table>\n",
       "</div>"
      ],
      "text/plain": [
       "     Product Sub Category        Profit\n",
       "9853           Camcorders  55692.569522"
      ]
     },
     "execution_count": 83,
     "metadata": {},
     "output_type": "execute_result"
    }
   ],
   "source": [
    "df[[\"Product Sub Category\",\"Profit\"]][df[\"Profit\"]==df[\"Profit\"].max()]"
   ]
  },
  {
   "cell_type": "markdown",
   "id": "01eea93d",
   "metadata": {
    "papermill": {
     "duration": 0.061302,
     "end_time": "2025-03-13T15:16:58.748898",
     "exception": false,
     "start_time": "2025-03-13T15:16:58.687596",
     "status": "completed"
    },
    "tags": []
   },
   "source": [
    "* 1️⃣ Top-Performing Product Subcategory: This subcategory generates the highest profit, making it a key driver of overall business success.\n",
    "\n",
    "     🔹 Actionable Insight: Prioritize investment in this category, including increased marketing efforts and stock availability to sustain and grow profitability.\n",
    "\n",
    "* 2️⃣ High Customer Demand: Strong profit margins often indicate high demand or premium pricing.\n",
    "\n",
    "     🔹 Actionable Insight: Conduct customer analysis to understand why this subcategory performs well and explore opportunities for product diversification within it.\n",
    "\n",
    "* 3️⃣ Expansion Potential: If this subcategory is already profitable, further geographic or market expansion could yield higher revenue.\n",
    "\n",
    "     🔹 Actionable Insight: Assess market trends and consider launching this product in new regions or sales channels to maximize returns.\n"
   ]
  },
  {
   "cell_type": "markdown",
   "id": "c547402c",
   "metadata": {
    "papermill": {
     "duration": 0.061139,
     "end_time": "2025-03-13T15:16:58.870930",
     "exception": false,
     "start_time": "2025-03-13T15:16:58.809791",
     "status": "completed"
    },
    "tags": []
   },
   "source": [
    "### Product Subcategory with the Lowest Profit"
   ]
  },
  {
   "cell_type": "code",
   "execution_count": 84,
   "id": "2aeefc4a",
   "metadata": {
    "execution": {
     "iopub.execute_input": "2025-03-13T15:16:58.995716Z",
     "iopub.status.busy": "2025-03-13T15:16:58.995314Z",
     "iopub.status.idle": "2025-03-13T15:16:59.006806Z",
     "shell.execute_reply": "2025-03-13T15:16:59.005837Z"
    },
    "papermill": {
     "duration": 0.076937,
     "end_time": "2025-03-13T15:16:59.008488",
     "exception": false,
     "start_time": "2025-03-13T15:16:58.931551",
     "status": "completed"
    },
    "tags": []
   },
   "outputs": [
    {
     "data": {
      "text/html": [
       "<div>\n",
       "<style scoped>\n",
       "    .dataframe tbody tr th:only-of-type {\n",
       "        vertical-align: middle;\n",
       "    }\n",
       "\n",
       "    .dataframe tbody tr th {\n",
       "        vertical-align: top;\n",
       "    }\n",
       "\n",
       "    .dataframe thead th {\n",
       "        text-align: right;\n",
       "    }\n",
       "</style>\n",
       "<table border=\"1\" class=\"dataframe\">\n",
       "  <thead>\n",
       "    <tr style=\"text-align: right;\">\n",
       "      <th></th>\n",
       "      <th>Product Sub Category</th>\n",
       "      <th>Profit</th>\n",
       "    </tr>\n",
       "  </thead>\n",
       "  <tbody>\n",
       "    <tr>\n",
       "      <th>10740</th>\n",
       "      <td>Projectors &amp; Screens</td>\n",
       "      <td>-838.426733</td>\n",
       "    </tr>\n",
       "  </tbody>\n",
       "</table>\n",
       "</div>"
      ],
      "text/plain": [
       "       Product Sub Category      Profit\n",
       "10740  Projectors & Screens -838.426733"
      ]
     },
     "execution_count": 84,
     "metadata": {},
     "output_type": "execute_result"
    }
   ],
   "source": [
    "df[[\"Product Sub Category\",\"Profit\"]][df[\"Profit\"]==df[\"Profit\"].min()]"
   ]
  },
  {
   "cell_type": "markdown",
   "id": "72eadeb1",
   "metadata": {
    "papermill": {
     "duration": 0.061113,
     "end_time": "2025-03-13T15:16:59.131506",
     "exception": false,
     "start_time": "2025-03-13T15:16:59.070393",
     "status": "completed"
    },
    "tags": []
   },
   "source": [
    "* 1️⃣ Underperforming Product Subcategory: This subcategory generates the lowest profit, indicating potential issues with pricing, demand, or costs.\n",
    "\n",
    "     🔹 Actionable Insight: Conduct a profitability analysis to identify cost inefficiencies and evaluate whether price adjustments or promotions are needed.\n",
    "\n",
    "* 2️⃣ Potential for Optimization: Low profit may be due to high production costs, low sales volume, or excessive discounts.\n",
    "\n",
    "     🔹 Actionable Insight: Assess supplier costs, streamline logistics, or consider bundling strategies to improve profit margins.\n",
    "\n",
    "* 3️⃣ Strategic Decision-Making: If this subcategory consistently underperforms, reconsider its place in the product portfolio.\n",
    "\n",
    "     🔹 Actionable Insight: Explore whether to reposition, rebrand, or phase out this subcategory in favor of more profitable alternatives.\n"
   ]
  },
  {
   "cell_type": "markdown",
   "id": "c4e1fb9b",
   "metadata": {
    "papermill": {
     "duration": 0.060379,
     "end_time": "2025-03-13T15:16:59.252602",
     "exception": false,
     "start_time": "2025-03-13T15:16:59.192223",
     "status": "completed"
    },
    "tags": []
   },
   "source": [
    "### Top-Selling Product Subcategory"
   ]
  },
  {
   "cell_type": "code",
   "execution_count": 85,
   "id": "84756bbf",
   "metadata": {
    "execution": {
     "iopub.execute_input": "2025-03-13T15:16:59.375739Z",
     "iopub.status.busy": "2025-03-13T15:16:59.375344Z",
     "iopub.status.idle": "2025-03-13T15:16:59.386318Z",
     "shell.execute_reply": "2025-03-13T15:16:59.385229Z"
    },
    "papermill": {
     "duration": 0.074456,
     "end_time": "2025-03-13T15:16:59.387985",
     "exception": false,
     "start_time": "2025-03-13T15:16:59.313529",
     "status": "completed"
    },
    "tags": []
   },
   "outputs": [
    {
     "data": {
      "text/html": [
       "<div>\n",
       "<style scoped>\n",
       "    .dataframe tbody tr th:only-of-type {\n",
       "        vertical-align: middle;\n",
       "    }\n",
       "\n",
       "    .dataframe tbody tr th {\n",
       "        vertical-align: top;\n",
       "    }\n",
       "\n",
       "    .dataframe thead th {\n",
       "        text-align: right;\n",
       "    }\n",
       "</style>\n",
       "<table border=\"1\" class=\"dataframe\">\n",
       "  <thead>\n",
       "    <tr style=\"text-align: right;\">\n",
       "      <th></th>\n",
       "      <th>Product Sub Category</th>\n",
       "      <th>Sales</th>\n",
       "    </tr>\n",
       "  </thead>\n",
       "  <tbody>\n",
       "    <tr>\n",
       "      <th>9853</th>\n",
       "      <td>Camcorders</td>\n",
       "      <td>78312.0</td>\n",
       "    </tr>\n",
       "  </tbody>\n",
       "</table>\n",
       "</div>"
      ],
      "text/plain": [
       "     Product Sub Category    Sales\n",
       "9853           Camcorders  78312.0"
      ]
     },
     "execution_count": 85,
     "metadata": {},
     "output_type": "execute_result"
    }
   ],
   "source": [
    "df[[\"Product Sub Category\",\"Sales\"]][df[\"Sales\"]==df[\"Sales\"].max()]"
   ]
  },
  {
   "cell_type": "markdown",
   "id": "118aad9f",
   "metadata": {
    "papermill": {
     "duration": 0.062857,
     "end_time": "2025-03-13T15:16:59.513268",
     "exception": false,
     "start_time": "2025-03-13T15:16:59.450411",
     "status": "completed"
    },
    "tags": []
   },
   "source": [
    "* 1️⃣ Market Leader: This product subcategory generates the highest sales, indicating strong customer demand and market preference.\n",
    "\n",
    "     🔹 Actionable Insight: Maintain high inventory levels, optimize the supply chain, and ensure consistent stock availability to meet demand.\n",
    "\n",
    "* 2️⃣ Revenue Growth Opportunity: High sales suggest potential for further expansion through upselling, cross-selling, or premium product variations.\n",
    "\n",
    "     🔹 Actionable Insight: Introduce complementary products, exclusive bundles, or loyalty programs to maximize revenue.\n",
    "\n",
    "* 3️⃣ Targeted Marketing: The success of this subcategory highlights an opportunity for targeted advertising and promotional campaigns.\n",
    "\n",
    "    🔹 Actionable Insight: Invest in data-driven marketing strategies, leverage customer reviews, and expand advertising efforts to sustain growth."
   ]
  },
  {
   "cell_type": "markdown",
   "id": "ebe0e6df",
   "metadata": {
    "papermill": {
     "duration": 0.061954,
     "end_time": "2025-03-13T15:16:59.635722",
     "exception": false,
     "start_time": "2025-03-13T15:16:59.573768",
     "status": "completed"
    },
    "tags": []
   },
   "source": [
    "### Lowest-Selling Product Subcategory"
   ]
  },
  {
   "cell_type": "code",
   "execution_count": 86,
   "id": "e36206d6",
   "metadata": {
    "execution": {
     "iopub.execute_input": "2025-03-13T15:16:59.759137Z",
     "iopub.status.busy": "2025-03-13T15:16:59.758751Z",
     "iopub.status.idle": "2025-03-13T15:16:59.769791Z",
     "shell.execute_reply": "2025-03-13T15:16:59.768720Z"
    },
    "papermill": {
     "duration": 0.074911,
     "end_time": "2025-03-13T15:16:59.771497",
     "exception": false,
     "start_time": "2025-03-13T15:16:59.696586",
     "status": "completed"
    },
    "tags": []
   },
   "outputs": [
    {
     "data": {
      "text/html": [
       "<div>\n",
       "<style scoped>\n",
       "    .dataframe tbody tr th:only-of-type {\n",
       "        vertical-align: middle;\n",
       "    }\n",
       "\n",
       "    .dataframe tbody tr th {\n",
       "        vertical-align: top;\n",
       "    }\n",
       "\n",
       "    .dataframe thead th {\n",
       "        text-align: right;\n",
       "    }\n",
       "</style>\n",
       "<table border=\"1\" class=\"dataframe\">\n",
       "  <thead>\n",
       "    <tr style=\"text-align: right;\">\n",
       "      <th></th>\n",
       "      <th>Product Sub Category</th>\n",
       "      <th>Sales</th>\n",
       "    </tr>\n",
       "  </thead>\n",
       "  <tbody>\n",
       "    <tr>\n",
       "      <th>1247</th>\n",
       "      <td>Computers Accessories</td>\n",
       "      <td>4.75</td>\n",
       "    </tr>\n",
       "  </tbody>\n",
       "</table>\n",
       "</div>"
      ],
      "text/plain": [
       "       Product Sub Category  Sales\n",
       "1247  Computers Accessories   4.75"
      ]
     },
     "execution_count": 86,
     "metadata": {},
     "output_type": "execute_result"
    }
   ],
   "source": [
    "df[[\"Product Sub Category\",\"Sales\"]][df[\"Sales\"]==df[\"Sales\"].min()]"
   ]
  },
  {
   "cell_type": "markdown",
   "id": "d22d0acb",
   "metadata": {
    "papermill": {
     "duration": 0.061428,
     "end_time": "2025-03-13T15:16:59.895517",
     "exception": false,
     "start_time": "2025-03-13T15:16:59.834089",
     "status": "completed"
    },
    "tags": []
   },
   "source": [
    "* 1️⃣ Low Market Demand: This product subcategory records the lowest sales, indicating weak customer interest or ineffective marketing strategies.\n",
    "\n",
    "    🔹 Actionable Insight: Conduct market research to identify the reasons behind low sales and consider repositioning or repackaging the product.\n",
    "\n",
    "* 2️⃣ Inventory Optimization: Maintaining excess stock for low-selling products can lead to increased holding costs and reduced profitability.\n",
    "\n",
    "    🔹 Actionable Insight: Adjust procurement strategies by reducing stock levels or offering discounts and promotions to clear existing inventory.\n",
    "\n",
    "* 3️⃣ Potential for Discontinuation: If sales remain consistently low despite marketing efforts, it may not be cost-effective to continue offering this subcategory.\n",
    "\n",
    "    🔹 Actionable Insight: Evaluate whether to phase out the product or introduce modifications based on customer feedback and competitor analysis."
   ]
  },
  {
   "cell_type": "markdown",
   "id": "4fd56976",
   "metadata": {
    "papermill": {
     "duration": 0.062927,
     "end_time": "2025-03-13T15:17:00.020734",
     "exception": false,
     "start_time": "2025-03-13T15:16:59.957807",
     "status": "completed"
    },
    "tags": []
   },
   "source": [
    "### Total Order Quantity by Product Subcategory"
   ]
  },
  {
   "cell_type": "code",
   "execution_count": 87,
   "id": "3f2bcd4f",
   "metadata": {
    "execution": {
     "iopub.execute_input": "2025-03-13T15:17:00.144731Z",
     "iopub.status.busy": "2025-03-13T15:17:00.144374Z",
     "iopub.status.idle": "2025-03-13T15:17:00.153209Z",
     "shell.execute_reply": "2025-03-13T15:17:00.152264Z"
    },
    "papermill": {
     "duration": 0.072506,
     "end_time": "2025-03-13T15:17:00.154675",
     "exception": false,
     "start_time": "2025-03-13T15:17:00.082169",
     "status": "completed"
    },
    "tags": []
   },
   "outputs": [
    {
     "data": {
      "text/plain": [
       "Product Sub Category\n",
       "Cell phones Accessories             68060\n",
       "Computers Accessories               20075\n",
       "Digital SLR Cameras                 12969\n",
       "Digital Cameras                     12418\n",
       "Camcorders                          12091\n",
       "Printers, Scanners & Fax            11440\n",
       "Home & Office Phones                11112\n",
       "Home Theater System                 10342\n",
       "Projectors & Screens                10319\n",
       "Laptops                             10265\n",
       "Smart phones & PDAs                 10184\n",
       "Movie DVD                            9953\n",
       "Desktops                             9599\n",
       "Monitors                             7727\n",
       "Touch Screen Phones                  6718\n",
       "Cameras & Camcorders Accessories     6415\n",
       "Car Video                            5768\n",
       "Televisions                          4421\n",
       "Bluetooth Headphones                 3783\n",
       "MP4&MP3                              3693\n",
       "VCD & DVD                            2183\n",
       "Recording Pen                        1591\n",
       "Name: Order Qty, dtype: int64"
      ]
     },
     "execution_count": 87,
     "metadata": {},
     "output_type": "execute_result"
    }
   ],
   "source": [
    "total_qty_per_productSupCategory = df.groupby('Product Sub Category')['Order Qty'].sum().sort_values(ascending=False)\n",
    "total_qty_per_productSupCategory"
   ]
  },
  {
   "cell_type": "code",
   "execution_count": 88,
   "id": "fdf60503",
   "metadata": {
    "execution": {
     "iopub.execute_input": "2025-03-13T15:17:00.278078Z",
     "iopub.status.busy": "2025-03-13T15:17:00.277692Z",
     "iopub.status.idle": "2025-03-13T15:17:00.378865Z",
     "shell.execute_reply": "2025-03-13T15:17:00.377945Z"
    },
    "papermill": {
     "duration": 0.164477,
     "end_time": "2025-03-13T15:17:00.380559",
     "exception": false,
     "start_time": "2025-03-13T15:17:00.216082",
     "status": "completed"
    },
    "tags": []
   },
   "outputs": [
    {
     "data": {
      "text/html": [
       "<iframe\n",
       "    scrolling=\"no\"\n",
       "    width=\"100%\"\n",
       "    height=\"545px\"\n",
       "    src=\"iframe_figures/figure_88.html\"\n",
       "    frameborder=\"0\"\n",
       "    allowfullscreen\n",
       "></iframe>\n"
      ]
     },
     "metadata": {},
     "output_type": "display_data"
    }
   ],
   "source": [
    "fig=px.bar(total_qty_per_productSupCategory,color=total_qty_per_productSupCategory,title=\"Order Quantity Distribution by Product Subcategory\")\n",
    "fig.show()"
   ]
  },
  {
   "cell_type": "markdown",
   "id": "2cd9daa0",
   "metadata": {
    "papermill": {
     "duration": 0.063133,
     "end_time": "2025-03-13T15:17:00.505779",
     "exception": false,
     "start_time": "2025-03-13T15:17:00.442646",
     "status": "completed"
    },
    "tags": []
   },
   "source": [
    "* 1️⃣ High-Demand Subcategories: Some product subcategories receive significantly higher order quantities, indicating strong market demand.\n",
    "\n",
    "    🔹 Actionable Insight: Ensure optimal stock levels and streamline supply chain processes to meet demand efficiently.\n",
    "\n",
    "* 2️⃣ Category Performance Variation: Certain subcategories outperform others within the same product category, highlighting potential shifts in customer preferences.\n",
    "\n",
    "    🔹 Actionable Insight: Focus on promoting best-selling subcategories through targeted marketing and bundling strategies.\n",
    "\n",
    "* 3️⃣ Potential Expansion Opportunities: The most ordered subcategories could serve as a foundation for expanding the product line with complementary items.\n",
    "\n",
    "    🔹 Actionable Insight: Analyze customer feedback and trends to introduce variations or new products that align with successful subcategories."
   ]
  },
  {
   "cell_type": "markdown",
   "id": "36faa505",
   "metadata": {
    "papermill": {
     "duration": 0.061641,
     "end_time": "2025-03-13T15:17:00.629375",
     "exception": false,
     "start_time": "2025-03-13T15:17:00.567734",
     "status": "completed"
    },
    "tags": []
   },
   "source": [
    "### Top-Selling Product Subcategories by Region"
   ]
  },
  {
   "cell_type": "code",
   "execution_count": 89,
   "id": "3b6f9db1",
   "metadata": {
    "execution": {
     "iopub.execute_input": "2025-03-13T15:17:00.753466Z",
     "iopub.status.busy": "2025-03-13T15:17:00.753124Z",
     "iopub.status.idle": "2025-03-13T15:17:00.770486Z",
     "shell.execute_reply": "2025-03-13T15:17:00.769366Z"
    },
    "papermill": {
     "duration": 0.08157,
     "end_time": "2025-03-13T15:17:00.772273",
     "exception": false,
     "start_time": "2025-03-13T15:17:00.690703",
     "status": "completed"
    },
    "tags": []
   },
   "outputs": [
    {
     "data": {
      "text/html": [
       "<div>\n",
       "<style scoped>\n",
       "    .dataframe tbody tr th:only-of-type {\n",
       "        vertical-align: middle;\n",
       "    }\n",
       "\n",
       "    .dataframe tbody tr th {\n",
       "        vertical-align: top;\n",
       "    }\n",
       "\n",
       "    .dataframe thead th {\n",
       "        text-align: right;\n",
       "    }\n",
       "</style>\n",
       "<table border=\"1\" class=\"dataframe\">\n",
       "  <thead>\n",
       "    <tr style=\"text-align: right;\">\n",
       "      <th></th>\n",
       "      <th>Region</th>\n",
       "      <th>Product Sub Category</th>\n",
       "      <th>Sales</th>\n",
       "    </tr>\n",
       "  </thead>\n",
       "  <tbody>\n",
       "    <tr>\n",
       "      <th>45</th>\n",
       "      <td>North America</td>\n",
       "      <td>Camcorders</td>\n",
       "      <td>5214494.55</td>\n",
       "    </tr>\n",
       "    <tr>\n",
       "      <th>1</th>\n",
       "      <td>Asia</td>\n",
       "      <td>Camcorders</td>\n",
       "      <td>1924952.35</td>\n",
       "    </tr>\n",
       "    <tr>\n",
       "      <th>23</th>\n",
       "      <td>Europe</td>\n",
       "      <td>Camcorders</td>\n",
       "      <td>1316674.02</td>\n",
       "    </tr>\n",
       "  </tbody>\n",
       "</table>\n",
       "</div>"
      ],
      "text/plain": [
       "           Region Product Sub Category       Sales\n",
       "45  North America           Camcorders  5214494.55\n",
       "1            Asia           Camcorders  1924952.35\n",
       "23         Europe           Camcorders  1316674.02"
      ]
     },
     "execution_count": 89,
     "metadata": {},
     "output_type": "execute_result"
    }
   ],
   "source": [
    "sales_per_ProductSupCategory = df.groupby([\"Region\", \"Product Sub Category\"])[\"Sales\"].sum().reset_index()\n",
    "\n",
    "top_ProductSupCategory_per_Region = sales_per_ProductSupCategory.loc[sales_per_ProductSupCategory.groupby(\"Region\")[\"Sales\"].idxmax()]\n",
    "\n",
    "top_ProductSupCategory_per_Region=top_ProductSupCategory_per_Region.sort_values(by=\"Sales\", ascending=False)\n",
    "top_ProductSupCategory_per_Region"
   ]
  },
  {
   "cell_type": "markdown",
   "id": "6b7dd1e7",
   "metadata": {
    "papermill": {
     "duration": 0.060969,
     "end_time": "2025-03-13T15:17:00.894701",
     "exception": false,
     "start_time": "2025-03-13T15:17:00.833732",
     "status": "completed"
    },
    "tags": []
   },
   "source": [
    "* 1️⃣ Regional Sales Leaders: Certain product subcategories dominate sales in specific regions, indicating localized consumer preferences.\n",
    "\n",
    "     🔹 Actionable Insight: Tailor marketing campaigns and inventory distribution to match regional demand patterns effectively.\n",
    "\n",
    "* 2️⃣ Sales Disparities Across Regions: Some subcategories perform exceptionally well in certain regions but underperform in others.\n",
    "\n",
    "     🔹 Actionable Insight: Investigate the factors driving these differences, such as demographics, climate, or cultural preferences, and adjust strategies accordingly.\n",
    "\n",
    "* 3️⃣ Opportunities for Growth: Regions with lower sales for high-performing subcategories in other areas present an opportunity for expansion.\n",
    "\n",
    "     🔹 Actionable Insight: Develop region-specific promotions or bundle deals to boost sales in underperforming markets.\n"
   ]
  },
  {
   "cell_type": "markdown",
   "id": "282eafdf",
   "metadata": {
    "papermill": {
     "duration": 0.065518,
     "end_time": "2025-03-13T15:17:01.022984",
     "exception": false,
     "start_time": "2025-03-13T15:17:00.957466",
     "status": "completed"
    },
    "tags": []
   },
   "source": [
    "### Top-Selling Product Subcategories by Year"
   ]
  },
  {
   "cell_type": "code",
   "execution_count": 90,
   "id": "bf74fe34",
   "metadata": {
    "execution": {
     "iopub.execute_input": "2025-03-13T15:17:01.147995Z",
     "iopub.status.busy": "2025-03-13T15:17:01.147541Z",
     "iopub.status.idle": "2025-03-13T15:17:01.163985Z",
     "shell.execute_reply": "2025-03-13T15:17:01.162902Z"
    },
    "papermill": {
     "duration": 0.080243,
     "end_time": "2025-03-13T15:17:01.165751",
     "exception": false,
     "start_time": "2025-03-13T15:17:01.085508",
     "status": "completed"
    },
    "tags": []
   },
   "outputs": [
    {
     "data": {
      "text/html": [
       "<div>\n",
       "<style scoped>\n",
       "    .dataframe tbody tr th:only-of-type {\n",
       "        vertical-align: middle;\n",
       "    }\n",
       "\n",
       "    .dataframe tbody tr th {\n",
       "        vertical-align: top;\n",
       "    }\n",
       "\n",
       "    .dataframe thead th {\n",
       "        text-align: right;\n",
       "    }\n",
       "</style>\n",
       "<table border=\"1\" class=\"dataframe\">\n",
       "  <thead>\n",
       "    <tr style=\"text-align: right;\">\n",
       "      <th></th>\n",
       "      <th>Year</th>\n",
       "      <th>Product Sub Category</th>\n",
       "      <th>Sales</th>\n",
       "    </tr>\n",
       "  </thead>\n",
       "  <tbody>\n",
       "    <tr>\n",
       "      <th>23</th>\n",
       "      <td>2017</td>\n",
       "      <td>Camcorders</td>\n",
       "      <td>3202480.150</td>\n",
       "    </tr>\n",
       "    <tr>\n",
       "      <th>55</th>\n",
       "      <td>2018</td>\n",
       "      <td>Laptops</td>\n",
       "      <td>2516737.747</td>\n",
       "    </tr>\n",
       "    <tr>\n",
       "      <th>1</th>\n",
       "      <td>2016</td>\n",
       "      <td>Camcorders</td>\n",
       "      <td>1858199.400</td>\n",
       "    </tr>\n",
       "    <tr>\n",
       "      <th>77</th>\n",
       "      <td>2019</td>\n",
       "      <td>Laptops</td>\n",
       "      <td>1273691.830</td>\n",
       "    </tr>\n",
       "  </tbody>\n",
       "</table>\n",
       "</div>"
      ],
      "text/plain": [
       "    Year Product Sub Category        Sales\n",
       "23  2017           Camcorders  3202480.150\n",
       "55  2018              Laptops  2516737.747\n",
       "1   2016           Camcorders  1858199.400\n",
       "77  2019              Laptops  1273691.830"
      ]
     },
     "execution_count": 90,
     "metadata": {},
     "output_type": "execute_result"
    }
   ],
   "source": [
    "sales_per_ProductSupCategory = df.groupby([\"Year\", \"Product Sub Category\"])[\"Sales\"].sum().reset_index()\n",
    "\n",
    "top_ProductSupCategory_per_Year = sales_per_ProductSupCategory.loc[sales_per_ProductSupCategory.groupby(\"Year\")[\"Sales\"].idxmax()]\n",
    "\n",
    "top_ProductSupCategory_per_Year=top_ProductSupCategory_per_Year.sort_values(by=\"Sales\", ascending=False)\n",
    "top_ProductSupCategory_per_Year"
   ]
  },
  {
   "cell_type": "markdown",
   "id": "9f0dbbc3",
   "metadata": {
    "papermill": {
     "duration": 0.060745,
     "end_time": "2025-03-13T15:17:01.289183",
     "exception": false,
     "start_time": "2025-03-13T15:17:01.228438",
     "status": "completed"
    },
    "tags": []
   },
   "source": [
    "* 1️⃣ Yearly Best-Selling Subcategories: Some product subcategories consistently achieve the highest sales each year.\n",
    "\n",
    "    🔹 Actionable Insight: Maintain a strong supply chain and inventory planning for these high-demand subcategories to prevent stockouts.\n",
    "\n",
    "* 2️⃣ Shifting Sales Trends: Certain subcategories gain or lose popularity over the years, indicating evolving consumer preferences.\n",
    "\n",
    "    🔹 Actionable Insight: Conduct market research to understand changing trends and adjust product offerings and marketing strategies accordingly.\n",
    "\n",
    "* 3️⃣ Opportunities for Seasonal Promotions: Some subcategories may experience sales spikes in specific years due to external factors like trends, economic shifts, or marketing efforts.\n",
    "\n",
    "    🔹 Actionable Insight: Leverage historical sales data to plan seasonal promotions, discounts, or new product launches for upcoming years."
   ]
  },
  {
   "cell_type": "markdown",
   "id": "c5cddbce",
   "metadata": {
    "papermill": {
     "duration": 0.061291,
     "end_time": "2025-03-13T15:17:01.411709",
     "exception": false,
     "start_time": "2025-03-13T15:17:01.350418",
     "status": "completed"
    },
    "tags": []
   },
   "source": [
    "### Top-Selling Product Subcategories by Country"
   ]
  },
  {
   "cell_type": "code",
   "execution_count": 91,
   "id": "bf9b4537",
   "metadata": {
    "execution": {
     "iopub.execute_input": "2025-03-13T15:17:01.540373Z",
     "iopub.status.busy": "2025-03-13T15:17:01.539942Z",
     "iopub.status.idle": "2025-03-13T15:17:01.559951Z",
     "shell.execute_reply": "2025-03-13T15:17:01.558942Z"
    },
    "papermill": {
     "duration": 0.086537,
     "end_time": "2025-03-13T15:17:01.561618",
     "exception": false,
     "start_time": "2025-03-13T15:17:01.475081",
     "status": "completed"
    },
    "tags": []
   },
   "outputs": [
    {
     "data": {
      "text/html": [
       "<div>\n",
       "<style scoped>\n",
       "    .dataframe tbody tr th:only-of-type {\n",
       "        vertical-align: middle;\n",
       "    }\n",
       "\n",
       "    .dataframe tbody tr th {\n",
       "        vertical-align: top;\n",
       "    }\n",
       "\n",
       "    .dataframe thead th {\n",
       "        text-align: right;\n",
       "    }\n",
       "</style>\n",
       "<table border=\"1\" class=\"dataframe\">\n",
       "  <thead>\n",
       "    <tr style=\"text-align: right;\">\n",
       "      <th></th>\n",
       "      <th>Country</th>\n",
       "      <th>Product Sub Category</th>\n",
       "      <th>Sales</th>\n",
       "    </tr>\n",
       "  </thead>\n",
       "  <tbody>\n",
       "    <tr>\n",
       "      <th>609</th>\n",
       "      <td>United States</td>\n",
       "      <td>Camcorders</td>\n",
       "      <td>5.033119e+06</td>\n",
       "    </tr>\n",
       "    <tr>\n",
       "      <th>85</th>\n",
       "      <td>China</td>\n",
       "      <td>Camcorders</td>\n",
       "      <td>1.168876e+06</td>\n",
       "    </tr>\n",
       "    <tr>\n",
       "      <th>162</th>\n",
       "      <td>Germany</td>\n",
       "      <td>Projectors &amp; Screens</td>\n",
       "      <td>6.001716e+05</td>\n",
       "    </tr>\n",
       "    <tr>\n",
       "      <th>135</th>\n",
       "      <td>France</td>\n",
       "      <td>Laptops</td>\n",
       "      <td>3.691223e+05</td>\n",
       "    </tr>\n",
       "    <tr>\n",
       "      <th>78</th>\n",
       "      <td>Canada</td>\n",
       "      <td>Projectors &amp; Screens</td>\n",
       "      <td>2.213681e+05</td>\n",
       "    </tr>\n",
       "    <tr>\n",
       "      <th>37</th>\n",
       "      <td>Australia</td>\n",
       "      <td>Projectors &amp; Screens</td>\n",
       "      <td>1.800965e+05</td>\n",
       "    </tr>\n",
       "    <tr>\n",
       "      <th>597</th>\n",
       "      <td>United Kingdom</td>\n",
       "      <td>Laptops</td>\n",
       "      <td>1.725790e+05</td>\n",
       "    </tr>\n",
       "    <tr>\n",
       "      <th>265</th>\n",
       "      <td>Japan</td>\n",
       "      <td>Camcorders</td>\n",
       "      <td>1.658054e+05</td>\n",
       "    </tr>\n",
       "    <tr>\n",
       "      <th>567</th>\n",
       "      <td>Turkmenistan</td>\n",
       "      <td>Camcorders</td>\n",
       "      <td>1.243039e+05</td>\n",
       "    </tr>\n",
       "    <tr>\n",
       "      <th>185</th>\n",
       "      <td>India</td>\n",
       "      <td>Camcorders</td>\n",
       "      <td>1.095586e+05</td>\n",
       "    </tr>\n",
       "    <tr>\n",
       "      <th>244</th>\n",
       "      <td>Italy</td>\n",
       "      <td>Camcorders</td>\n",
       "      <td>9.782168e+04</td>\n",
       "    </tr>\n",
       "    <tr>\n",
       "      <th>221</th>\n",
       "      <td>Iran</td>\n",
       "      <td>Projectors &amp; Screens</td>\n",
       "      <td>9.456325e+04</td>\n",
       "    </tr>\n",
       "    <tr>\n",
       "      <th>391</th>\n",
       "      <td>Russia</td>\n",
       "      <td>Digital SLR Cameras</td>\n",
       "      <td>7.092064e+04</td>\n",
       "    </tr>\n",
       "    <tr>\n",
       "      <th>527</th>\n",
       "      <td>Taiwan</td>\n",
       "      <td>Camcorders</td>\n",
       "      <td>6.618320e+04</td>\n",
       "    </tr>\n",
       "    <tr>\n",
       "      <th>1</th>\n",
       "      <td>Armenia</td>\n",
       "      <td>Camcorders</td>\n",
       "      <td>5.471620e+04</td>\n",
       "    </tr>\n",
       "    <tr>\n",
       "      <th>331</th>\n",
       "      <td>Pakistan</td>\n",
       "      <td>Projectors &amp; Screens</td>\n",
       "      <td>5.178070e+04</td>\n",
       "    </tr>\n",
       "    <tr>\n",
       "      <th>523</th>\n",
       "      <td>Syria</td>\n",
       "      <td>Televisions</td>\n",
       "      <td>4.962871e+04</td>\n",
       "    </tr>\n",
       "    <tr>\n",
       "      <th>450</th>\n",
       "      <td>South Korea</td>\n",
       "      <td>Laptops</td>\n",
       "      <td>4.466590e+04</td>\n",
       "    </tr>\n",
       "    <tr>\n",
       "      <th>561</th>\n",
       "      <td>Thailand</td>\n",
       "      <td>Projectors &amp; Screens</td>\n",
       "      <td>4.329560e+04</td>\n",
       "    </tr>\n",
       "    <tr>\n",
       "      <th>240</th>\n",
       "      <td>Ireland</td>\n",
       "      <td>Projectors &amp; Screens</td>\n",
       "      <td>3.743392e+04</td>\n",
       "    </tr>\n",
       "    <tr>\n",
       "      <th>44</th>\n",
       "      <td>Bhutan</td>\n",
       "      <td>Camcorders</td>\n",
       "      <td>3.424720e+04</td>\n",
       "    </tr>\n",
       "    <tr>\n",
       "      <th>469</th>\n",
       "      <td>Spain</td>\n",
       "      <td>Projectors &amp; Screens</td>\n",
       "      <td>3.393847e+04</td>\n",
       "    </tr>\n",
       "    <tr>\n",
       "      <th>299</th>\n",
       "      <td>Malta</td>\n",
       "      <td>Camcorders</td>\n",
       "      <td>3.191820e+04</td>\n",
       "    </tr>\n",
       "    <tr>\n",
       "      <th>350</th>\n",
       "      <td>Portugal</td>\n",
       "      <td>Camcorders</td>\n",
       "      <td>3.134800e+04</td>\n",
       "    </tr>\n",
       "    <tr>\n",
       "      <th>365</th>\n",
       "      <td>Romania</td>\n",
       "      <td>Camcorders</td>\n",
       "      <td>2.837400e+04</td>\n",
       "    </tr>\n",
       "    <tr>\n",
       "      <th>429</th>\n",
       "      <td>Slovenia</td>\n",
       "      <td>Digital SLR Cameras</td>\n",
       "      <td>2.695360e+04</td>\n",
       "    </tr>\n",
       "    <tr>\n",
       "      <th>176</th>\n",
       "      <td>Greece</td>\n",
       "      <td>Laptops</td>\n",
       "      <td>2.631340e+04</td>\n",
       "    </tr>\n",
       "    <tr>\n",
       "      <th>644</th>\n",
       "      <td>the Netherlands</td>\n",
       "      <td>Projectors &amp; Screens</td>\n",
       "      <td>2.528380e+04</td>\n",
       "    </tr>\n",
       "    <tr>\n",
       "      <th>294</th>\n",
       "      <td>Kyrgyzstan</td>\n",
       "      <td>Monitors</td>\n",
       "      <td>2.452560e+04</td>\n",
       "    </tr>\n",
       "    <tr>\n",
       "      <th>342</th>\n",
       "      <td>Poland</td>\n",
       "      <td>Home Theater System</td>\n",
       "      <td>2.411730e+04</td>\n",
       "    </tr>\n",
       "    <tr>\n",
       "      <th>489</th>\n",
       "      <td>Switzerland</td>\n",
       "      <td>Camcorders</td>\n",
       "      <td>2.247000e+04</td>\n",
       "    </tr>\n",
       "    <tr>\n",
       "      <th>477</th>\n",
       "      <td>Sweden</td>\n",
       "      <td>Digital SLR Cameras</td>\n",
       "      <td>1.869556e+04</td>\n",
       "    </tr>\n",
       "    <tr>\n",
       "      <th>410</th>\n",
       "      <td>Singapore</td>\n",
       "      <td>Desktops</td>\n",
       "      <td>1.436630e+04</td>\n",
       "    </tr>\n",
       "    <tr>\n",
       "      <th>116</th>\n",
       "      <td>Denmark</td>\n",
       "      <td>Laptops</td>\n",
       "      <td>1.226520e+04</td>\n",
       "    </tr>\n",
       "  </tbody>\n",
       "</table>\n",
       "</div>"
      ],
      "text/plain": [
       "             Country  Product Sub Category         Sales\n",
       "609    United States            Camcorders  5.033119e+06\n",
       "85             China            Camcorders  1.168876e+06\n",
       "162          Germany  Projectors & Screens  6.001716e+05\n",
       "135           France               Laptops  3.691223e+05\n",
       "78            Canada  Projectors & Screens  2.213681e+05\n",
       "37         Australia  Projectors & Screens  1.800965e+05\n",
       "597   United Kingdom               Laptops  1.725790e+05\n",
       "265            Japan            Camcorders  1.658054e+05\n",
       "567     Turkmenistan            Camcorders  1.243039e+05\n",
       "185            India            Camcorders  1.095586e+05\n",
       "244            Italy            Camcorders  9.782168e+04\n",
       "221             Iran  Projectors & Screens  9.456325e+04\n",
       "391           Russia   Digital SLR Cameras  7.092064e+04\n",
       "527           Taiwan            Camcorders  6.618320e+04\n",
       "1            Armenia            Camcorders  5.471620e+04\n",
       "331         Pakistan  Projectors & Screens  5.178070e+04\n",
       "523            Syria           Televisions  4.962871e+04\n",
       "450      South Korea               Laptops  4.466590e+04\n",
       "561         Thailand  Projectors & Screens  4.329560e+04\n",
       "240          Ireland  Projectors & Screens  3.743392e+04\n",
       "44            Bhutan            Camcorders  3.424720e+04\n",
       "469            Spain  Projectors & Screens  3.393847e+04\n",
       "299            Malta            Camcorders  3.191820e+04\n",
       "350         Portugal            Camcorders  3.134800e+04\n",
       "365          Romania            Camcorders  2.837400e+04\n",
       "429         Slovenia   Digital SLR Cameras  2.695360e+04\n",
       "176           Greece               Laptops  2.631340e+04\n",
       "644  the Netherlands  Projectors & Screens  2.528380e+04\n",
       "294       Kyrgyzstan              Monitors  2.452560e+04\n",
       "342           Poland   Home Theater System  2.411730e+04\n",
       "489      Switzerland            Camcorders  2.247000e+04\n",
       "477           Sweden   Digital SLR Cameras  1.869556e+04\n",
       "410        Singapore              Desktops  1.436630e+04\n",
       "116          Denmark               Laptops  1.226520e+04"
      ]
     },
     "execution_count": 91,
     "metadata": {},
     "output_type": "execute_result"
    }
   ],
   "source": [
    "sales_per_ProductSupCategory = df.groupby([\"Country\", \"Product Sub Category\"])[\"Sales\"].sum().reset_index()\n",
    "\n",
    "top_ProductSupCategory_per_Country= sales_per_ProductSupCategory.loc[sales_per_ProductSupCategory.groupby(\"Country\")[\"Sales\"].idxmax()]\n",
    "\n",
    "top_ProductSupCategory_per_Country=top_ProductSupCategory_per_Country.sort_values(by=\"Sales\", ascending=False)\n",
    "top_ProductSupCategory_per_Country"
   ]
  },
  {
   "cell_type": "markdown",
   "id": "48efffad",
   "metadata": {
    "papermill": {
     "duration": 0.061813,
     "end_time": "2025-03-13T15:17:01.686421",
     "exception": false,
     "start_time": "2025-03-13T15:17:01.624608",
     "status": "completed"
    },
    "tags": []
   },
   "source": [
    "* 1️⃣ Country-Specific Best-Sellers: Different countries have distinct top-selling product subcategories, reflecting unique market demands.\n",
    "\n",
    "    🔹 Actionable Insight: Customize marketing strategies and inventory distribution based on each country's best-selling subcategories.\n",
    "\n",
    "* 2️⃣ Regional Market Gaps: Some subcategories dominate in multiple countries, while others have low or no sales in specific regions.\n",
    "\n",
    "    🔹 Actionable Insight: Identify underperforming subcategories in each country and explore targeted marketing or product adaptation strategies.\n",
    "\n",
    "* 3️⃣ Localization Opportunities: Cultural preferences and economic conditions impact product subcategory sales across different countries.\n",
    "\n",
    "    🔹 Actionable Insight: Conduct localized consumer research to optimize pricing, packaging, and promotions to boost sales in targeted regions.\n"
   ]
  },
  {
   "cell_type": "markdown",
   "id": "c1ce385d",
   "metadata": {
    "papermill": {
     "duration": 0.062754,
     "end_time": "2025-03-13T15:17:01.812322",
     "exception": false,
     "start_time": "2025-03-13T15:17:01.749568",
     "status": "completed"
    },
    "tags": []
   },
   "source": [
    "### "
   ]
  },
  {
   "cell_type": "markdown",
   "id": "b0a6f987",
   "metadata": {
    "papermill": {
     "duration": 0.061241,
     "end_time": "2025-03-13T15:17:01.936028",
     "exception": false,
     "start_time": "2025-03-13T15:17:01.874787",
     "status": "completed"
    },
    "tags": []
   },
   "source": [
    "### Distribution of Product Sub-Categories Across Regions"
   ]
  },
  {
   "cell_type": "code",
   "execution_count": 92,
   "id": "2b95617d",
   "metadata": {
    "execution": {
     "iopub.execute_input": "2025-03-13T15:17:02.061856Z",
     "iopub.status.busy": "2025-03-13T15:17:02.061492Z",
     "iopub.status.idle": "2025-03-13T15:17:02.080495Z",
     "shell.execute_reply": "2025-03-13T15:17:02.079511Z"
    },
    "papermill": {
     "duration": 0.084395,
     "end_time": "2025-03-13T15:17:02.082024",
     "exception": false,
     "start_time": "2025-03-13T15:17:01.997629",
     "status": "completed"
    },
    "tags": []
   },
   "outputs": [
    {
     "data": {
      "text/html": [
       "<div>\n",
       "<style scoped>\n",
       "    .dataframe tbody tr th:only-of-type {\n",
       "        vertical-align: middle;\n",
       "    }\n",
       "\n",
       "    .dataframe tbody tr th {\n",
       "        vertical-align: top;\n",
       "    }\n",
       "\n",
       "    .dataframe thead th {\n",
       "        text-align: right;\n",
       "    }\n",
       "</style>\n",
       "<table border=\"1\" class=\"dataframe\">\n",
       "  <thead>\n",
       "    <tr style=\"text-align: right;\">\n",
       "      <th>Region</th>\n",
       "      <th>Asia</th>\n",
       "      <th>Europe</th>\n",
       "      <th>North America</th>\n",
       "    </tr>\n",
       "    <tr>\n",
       "      <th>Product Sub Category</th>\n",
       "      <th></th>\n",
       "      <th></th>\n",
       "      <th></th>\n",
       "    </tr>\n",
       "  </thead>\n",
       "  <tbody>\n",
       "    <tr>\n",
       "      <th>Bluetooth Headphones</th>\n",
       "      <td>63</td>\n",
       "      <td>64</td>\n",
       "      <td>179</td>\n",
       "    </tr>\n",
       "    <tr>\n",
       "      <th>Camcorders</th>\n",
       "      <td>209</td>\n",
       "      <td>187</td>\n",
       "      <td>591</td>\n",
       "    </tr>\n",
       "    <tr>\n",
       "      <th>Cameras &amp; Camcorders Accessories</th>\n",
       "      <td>91</td>\n",
       "      <td>92</td>\n",
       "      <td>339</td>\n",
       "    </tr>\n",
       "    <tr>\n",
       "      <th>Car Video</th>\n",
       "      <td>99</td>\n",
       "      <td>99</td>\n",
       "      <td>292</td>\n",
       "    </tr>\n",
       "    <tr>\n",
       "      <th>Cell phones Accessories</th>\n",
       "      <td>58</td>\n",
       "      <td>46</td>\n",
       "      <td>161</td>\n",
       "    </tr>\n",
       "    <tr>\n",
       "      <th>Computers Accessories</th>\n",
       "      <td>347</td>\n",
       "      <td>328</td>\n",
       "      <td>967</td>\n",
       "    </tr>\n",
       "    <tr>\n",
       "      <th>Desktops</th>\n",
       "      <td>73</td>\n",
       "      <td>86</td>\n",
       "      <td>253</td>\n",
       "    </tr>\n",
       "    <tr>\n",
       "      <th>Digital Cameras</th>\n",
       "      <td>214</td>\n",
       "      <td>188</td>\n",
       "      <td>610</td>\n",
       "    </tr>\n",
       "    <tr>\n",
       "      <th>Digital SLR Cameras</th>\n",
       "      <td>217</td>\n",
       "      <td>224</td>\n",
       "      <td>628</td>\n",
       "    </tr>\n",
       "    <tr>\n",
       "      <th>Home &amp; Office Phones</th>\n",
       "      <td>174</td>\n",
       "      <td>215</td>\n",
       "      <td>541</td>\n",
       "    </tr>\n",
       "    <tr>\n",
       "      <th>Home Theater System</th>\n",
       "      <td>165</td>\n",
       "      <td>168</td>\n",
       "      <td>515</td>\n",
       "    </tr>\n",
       "    <tr>\n",
       "      <th>Laptops</th>\n",
       "      <td>147</td>\n",
       "      <td>182</td>\n",
       "      <td>483</td>\n",
       "    </tr>\n",
       "    <tr>\n",
       "      <th>MP4&amp;MP3</th>\n",
       "      <td>63</td>\n",
       "      <td>74</td>\n",
       "      <td>171</td>\n",
       "    </tr>\n",
       "    <tr>\n",
       "      <th>Monitors</th>\n",
       "      <td>147</td>\n",
       "      <td>128</td>\n",
       "      <td>373</td>\n",
       "    </tr>\n",
       "    <tr>\n",
       "      <th>Movie DVD</th>\n",
       "      <td>163</td>\n",
       "      <td>174</td>\n",
       "      <td>495</td>\n",
       "    </tr>\n",
       "    <tr>\n",
       "      <th>Printers, Scanners &amp; Fax</th>\n",
       "      <td>199</td>\n",
       "      <td>203</td>\n",
       "      <td>569</td>\n",
       "    </tr>\n",
       "    <tr>\n",
       "      <th>Projectors &amp; Screens</th>\n",
       "      <td>201</td>\n",
       "      <td>193</td>\n",
       "      <td>480</td>\n",
       "    </tr>\n",
       "    <tr>\n",
       "      <th>Recording Pen</th>\n",
       "      <td>28</td>\n",
       "      <td>23</td>\n",
       "      <td>67</td>\n",
       "    </tr>\n",
       "    <tr>\n",
       "      <th>Smart phones &amp; PDAs</th>\n",
       "      <td>165</td>\n",
       "      <td>177</td>\n",
       "      <td>513</td>\n",
       "    </tr>\n",
       "    <tr>\n",
       "      <th>Televisions</th>\n",
       "      <td>75</td>\n",
       "      <td>81</td>\n",
       "      <td>193</td>\n",
       "    </tr>\n",
       "    <tr>\n",
       "      <th>Touch Screen Phones</th>\n",
       "      <td>119</td>\n",
       "      <td>111</td>\n",
       "      <td>329</td>\n",
       "    </tr>\n",
       "    <tr>\n",
       "      <th>VCD &amp; DVD</th>\n",
       "      <td>33</td>\n",
       "      <td>38</td>\n",
       "      <td>120</td>\n",
       "    </tr>\n",
       "  </tbody>\n",
       "</table>\n",
       "</div>"
      ],
      "text/plain": [
       "Region                            Asia  Europe  North America\n",
       "Product Sub Category                                         \n",
       "Bluetooth Headphones                63      64            179\n",
       "Camcorders                         209     187            591\n",
       "Cameras & Camcorders Accessories    91      92            339\n",
       "Car Video                           99      99            292\n",
       "Cell phones Accessories             58      46            161\n",
       "Computers Accessories              347     328            967\n",
       "Desktops                            73      86            253\n",
       "Digital Cameras                    214     188            610\n",
       "Digital SLR Cameras                217     224            628\n",
       "Home & Office Phones               174     215            541\n",
       "Home Theater System                165     168            515\n",
       "Laptops                            147     182            483\n",
       "MP4&MP3                             63      74            171\n",
       "Monitors                           147     128            373\n",
       "Movie DVD                          163     174            495\n",
       "Printers, Scanners & Fax           199     203            569\n",
       "Projectors & Screens               201     193            480\n",
       "Recording Pen                       28      23             67\n",
       "Smart phones & PDAs                165     177            513\n",
       "Televisions                         75      81            193\n",
       "Touch Screen Phones                119     111            329\n",
       "VCD & DVD                           33      38            120"
      ]
     },
     "execution_count": 92,
     "metadata": {},
     "output_type": "execute_result"
    }
   ],
   "source": [
    "ProductSubCategory_region=pd.crosstab(df[\"Product Sub Category\"],df[\"Region\"])\n",
    "ProductSubCategory_region"
   ]
  },
  {
   "cell_type": "code",
   "execution_count": 93,
   "id": "1f1afa4f",
   "metadata": {
    "execution": {
     "iopub.execute_input": "2025-03-13T15:17:02.261291Z",
     "iopub.status.busy": "2025-03-13T15:17:02.260878Z",
     "iopub.status.idle": "2025-03-13T15:17:02.370981Z",
     "shell.execute_reply": "2025-03-13T15:17:02.369984Z"
    },
    "papermill": {
     "duration": 0.175023,
     "end_time": "2025-03-13T15:17:02.372868",
     "exception": false,
     "start_time": "2025-03-13T15:17:02.197845",
     "status": "completed"
    },
    "tags": []
   },
   "outputs": [
    {
     "data": {
      "text/html": [
       "<iframe\n",
       "    scrolling=\"no\"\n",
       "    width=\"100%\"\n",
       "    height=\"545px\"\n",
       "    src=\"iframe_figures/figure_93.html\"\n",
       "    frameborder=\"0\"\n",
       "    allowfullscreen\n",
       "></iframe>\n"
      ]
     },
     "metadata": {},
     "output_type": "display_data"
    }
   ],
   "source": [
    "fig = px.bar(ProductSubCategory_region, barmode='group',title=\"Sales Distribution of Product Sub-Categories Across Regions\")\n",
    "fig.show()"
   ]
  },
  {
   "cell_type": "markdown",
   "id": "3f8376ba",
   "metadata": {
    "papermill": {
     "duration": 0.06477,
     "end_time": "2025-03-13T15:17:02.501428",
     "exception": false,
     "start_time": "2025-03-13T15:17:02.436658",
     "status": "completed"
    },
    "tags": []
   },
   "source": [
    "* 1️⃣ Regional Concentration of Product Sub-Categories: Some sub-categories are significantly more popular in certain regions.\n",
    "\n",
    "     🔹 Actionable Insight: Utilize this data to optimize inventory allocation and tailor marketing campaigns to regions where specific sub-categories perform best.\n",
    "\n",
    "* 2️⃣ Growth Opportunities in Underperforming Regions: Some sub-categories show low sales in specific regions.\n",
    "\n",
    "     🔹 Actionable Insight: Investigate the reasons for low performance and refine distribution or marketing strategies to increase demand.\n",
    "\n",
    "* 3️⃣ Diversification of High-Selling Sub-Categories: The best-selling sub-categories dominate certain regions.\n",
    "\n",
    "     🔹 Actionable Insight: Expand the distribution of these high-performing sub-categories to other regions with lower demand while implementing promotional strategies to boost sales."
   ]
  },
  {
   "cell_type": "markdown",
   "id": "77165766",
   "metadata": {
    "papermill": {
     "duration": 0.063118,
     "end_time": "2025-03-13T15:17:02.628408",
     "exception": false,
     "start_time": "2025-03-13T15:17:02.565290",
     "status": "completed"
    },
    "tags": []
   },
   "source": [
    "### Sales Trend of Product Sub-Categories Over the Years"
   ]
  },
  {
   "cell_type": "code",
   "execution_count": 94,
   "id": "e96821c2",
   "metadata": {
    "execution": {
     "iopub.execute_input": "2025-03-13T15:17:02.757010Z",
     "iopub.status.busy": "2025-03-13T15:17:02.756571Z",
     "iopub.status.idle": "2025-03-13T15:17:02.782282Z",
     "shell.execute_reply": "2025-03-13T15:17:02.781184Z"
    },
    "papermill": {
     "duration": 0.091491,
     "end_time": "2025-03-13T15:17:02.784098",
     "exception": false,
     "start_time": "2025-03-13T15:17:02.692607",
     "status": "completed"
    },
    "tags": []
   },
   "outputs": [
    {
     "data": {
      "text/html": [
       "<div>\n",
       "<style scoped>\n",
       "    .dataframe tbody tr th:only-of-type {\n",
       "        vertical-align: middle;\n",
       "    }\n",
       "\n",
       "    .dataframe tbody tr th {\n",
       "        vertical-align: top;\n",
       "    }\n",
       "\n",
       "    .dataframe thead th {\n",
       "        text-align: right;\n",
       "    }\n",
       "</style>\n",
       "<table border=\"1\" class=\"dataframe\">\n",
       "  <thead>\n",
       "    <tr style=\"text-align: right;\">\n",
       "      <th>Product Sub Category</th>\n",
       "      <th>Bluetooth Headphones</th>\n",
       "      <th>Camcorders</th>\n",
       "      <th>Cameras &amp; Camcorders Accessories</th>\n",
       "      <th>Car Video</th>\n",
       "      <th>Cell phones Accessories</th>\n",
       "      <th>Computers Accessories</th>\n",
       "      <th>Desktops</th>\n",
       "      <th>Digital Cameras</th>\n",
       "      <th>Digital SLR Cameras</th>\n",
       "      <th>Home &amp; Office Phones</th>\n",
       "      <th>...</th>\n",
       "      <th>MP4&amp;MP3</th>\n",
       "      <th>Monitors</th>\n",
       "      <th>Movie DVD</th>\n",
       "      <th>Printers, Scanners &amp; Fax</th>\n",
       "      <th>Projectors &amp; Screens</th>\n",
       "      <th>Recording Pen</th>\n",
       "      <th>Smart phones &amp; PDAs</th>\n",
       "      <th>Televisions</th>\n",
       "      <th>Touch Screen Phones</th>\n",
       "      <th>VCD &amp; DVD</th>\n",
       "    </tr>\n",
       "    <tr>\n",
       "      <th>Year</th>\n",
       "      <th></th>\n",
       "      <th></th>\n",
       "      <th></th>\n",
       "      <th></th>\n",
       "      <th></th>\n",
       "      <th></th>\n",
       "      <th></th>\n",
       "      <th></th>\n",
       "      <th></th>\n",
       "      <th></th>\n",
       "      <th></th>\n",
       "      <th></th>\n",
       "      <th></th>\n",
       "      <th></th>\n",
       "      <th></th>\n",
       "      <th></th>\n",
       "      <th></th>\n",
       "      <th></th>\n",
       "      <th></th>\n",
       "      <th></th>\n",
       "      <th></th>\n",
       "    </tr>\n",
       "  </thead>\n",
       "  <tbody>\n",
       "    <tr>\n",
       "      <th>2016</th>\n",
       "      <td>46</td>\n",
       "      <td>214</td>\n",
       "      <td>133</td>\n",
       "      <td>147</td>\n",
       "      <td>69</td>\n",
       "      <td>400</td>\n",
       "      <td>111</td>\n",
       "      <td>311</td>\n",
       "      <td>338</td>\n",
       "      <td>269</td>\n",
       "      <td>...</td>\n",
       "      <td>55</td>\n",
       "      <td>147</td>\n",
       "      <td>246</td>\n",
       "      <td>303</td>\n",
       "      <td>238</td>\n",
       "      <td>21</td>\n",
       "      <td>252</td>\n",
       "      <td>72</td>\n",
       "      <td>145</td>\n",
       "      <td>45</td>\n",
       "    </tr>\n",
       "    <tr>\n",
       "      <th>2017</th>\n",
       "      <td>95</td>\n",
       "      <td>380</td>\n",
       "      <td>196</td>\n",
       "      <td>176</td>\n",
       "      <td>93</td>\n",
       "      <td>580</td>\n",
       "      <td>135</td>\n",
       "      <td>357</td>\n",
       "      <td>384</td>\n",
       "      <td>354</td>\n",
       "      <td>...</td>\n",
       "      <td>122</td>\n",
       "      <td>227</td>\n",
       "      <td>302</td>\n",
       "      <td>338</td>\n",
       "      <td>315</td>\n",
       "      <td>32</td>\n",
       "      <td>332</td>\n",
       "      <td>130</td>\n",
       "      <td>212</td>\n",
       "      <td>74</td>\n",
       "    </tr>\n",
       "    <tr>\n",
       "      <th>2018</th>\n",
       "      <td>121</td>\n",
       "      <td>266</td>\n",
       "      <td>142</td>\n",
       "      <td>126</td>\n",
       "      <td>68</td>\n",
       "      <td>475</td>\n",
       "      <td>118</td>\n",
       "      <td>250</td>\n",
       "      <td>247</td>\n",
       "      <td>220</td>\n",
       "      <td>...</td>\n",
       "      <td>98</td>\n",
       "      <td>194</td>\n",
       "      <td>219</td>\n",
       "      <td>250</td>\n",
       "      <td>231</td>\n",
       "      <td>44</td>\n",
       "      <td>202</td>\n",
       "      <td>100</td>\n",
       "      <td>137</td>\n",
       "      <td>54</td>\n",
       "    </tr>\n",
       "    <tr>\n",
       "      <th>2019</th>\n",
       "      <td>44</td>\n",
       "      <td>127</td>\n",
       "      <td>51</td>\n",
       "      <td>41</td>\n",
       "      <td>35</td>\n",
       "      <td>187</td>\n",
       "      <td>48</td>\n",
       "      <td>94</td>\n",
       "      <td>100</td>\n",
       "      <td>87</td>\n",
       "      <td>...</td>\n",
       "      <td>33</td>\n",
       "      <td>80</td>\n",
       "      <td>65</td>\n",
       "      <td>80</td>\n",
       "      <td>90</td>\n",
       "      <td>21</td>\n",
       "      <td>69</td>\n",
       "      <td>47</td>\n",
       "      <td>65</td>\n",
       "      <td>18</td>\n",
       "    </tr>\n",
       "  </tbody>\n",
       "</table>\n",
       "<p>4 rows × 22 columns</p>\n",
       "</div>"
      ],
      "text/plain": [
       "Product Sub Category  Bluetooth Headphones  Camcorders  \\\n",
       "Year                                                     \n",
       "2016                                    46         214   \n",
       "2017                                    95         380   \n",
       "2018                                   121         266   \n",
       "2019                                    44         127   \n",
       "\n",
       "Product Sub Category  Cameras & Camcorders Accessories  Car Video  \\\n",
       "Year                                                                \n",
       "2016                                               133        147   \n",
       "2017                                               196        176   \n",
       "2018                                               142        126   \n",
       "2019                                                51         41   \n",
       "\n",
       "Product Sub Category  Cell phones Accessories  Computers Accessories  \\\n",
       "Year                                                                   \n",
       "2016                                       69                    400   \n",
       "2017                                       93                    580   \n",
       "2018                                       68                    475   \n",
       "2019                                       35                    187   \n",
       "\n",
       "Product Sub Category  Desktops  Digital Cameras  Digital SLR Cameras  \\\n",
       "Year                                                                   \n",
       "2016                       111              311                  338   \n",
       "2017                       135              357                  384   \n",
       "2018                       118              250                  247   \n",
       "2019                        48               94                  100   \n",
       "\n",
       "Product Sub Category  Home & Office Phones  ...  MP4&MP3  Monitors  Movie DVD  \\\n",
       "Year                                        ...                                 \n",
       "2016                                   269  ...       55       147        246   \n",
       "2017                                   354  ...      122       227        302   \n",
       "2018                                   220  ...       98       194        219   \n",
       "2019                                    87  ...       33        80         65   \n",
       "\n",
       "Product Sub Category  Printers, Scanners & Fax  Projectors & Screens  \\\n",
       "Year                                                                   \n",
       "2016                                       303                   238   \n",
       "2017                                       338                   315   \n",
       "2018                                       250                   231   \n",
       "2019                                        80                    90   \n",
       "\n",
       "Product Sub Category  Recording Pen  Smart phones & PDAs   Televisions  \\\n",
       "Year                                                                     \n",
       "2016                             21                   252           72   \n",
       "2017                             32                   332          130   \n",
       "2018                             44                   202          100   \n",
       "2019                             21                    69           47   \n",
       "\n",
       "Product Sub Category  Touch Screen Phones   VCD & DVD  \n",
       "Year                                                   \n",
       "2016                                   145         45  \n",
       "2017                                   212         74  \n",
       "2018                                   137         54  \n",
       "2019                                    65         18  \n",
       "\n",
       "[4 rows x 22 columns]"
      ]
     },
     "execution_count": 94,
     "metadata": {},
     "output_type": "execute_result"
    }
   ],
   "source": [
    "ProductSubCategory_Year=pd.crosstab(df[\"Year\"],df[\"Product Sub Category\"])\n",
    "ProductSubCategory_Year"
   ]
  },
  {
   "cell_type": "code",
   "execution_count": 95,
   "id": "c5ab0af0",
   "metadata": {
    "execution": {
     "iopub.execute_input": "2025-03-13T15:17:02.913532Z",
     "iopub.status.busy": "2025-03-13T15:17:02.913182Z",
     "iopub.status.idle": "2025-03-13T15:17:03.095028Z",
     "shell.execute_reply": "2025-03-13T15:17:03.093868Z"
    },
    "papermill": {
     "duration": 0.247835,
     "end_time": "2025-03-13T15:17:03.096872",
     "exception": false,
     "start_time": "2025-03-13T15:17:02.849037",
     "status": "completed"
    },
    "tags": []
   },
   "outputs": [
    {
     "data": {
      "text/html": [
       "<iframe\n",
       "    scrolling=\"no\"\n",
       "    width=\"100%\"\n",
       "    height=\"545px\"\n",
       "    src=\"iframe_figures/figure_95.html\"\n",
       "    frameborder=\"0\"\n",
       "    allowfullscreen\n",
       "></iframe>\n"
      ]
     },
     "metadata": {},
     "output_type": "display_data"
    }
   ],
   "source": [
    "fig=px.bar(ProductSubCategory_Year, barmode='group',title=\"Yearly Sales Distribution of Product Sub-Categories\")\n",
    "fig.show()"
   ]
  },
  {
   "cell_type": "markdown",
   "id": "6cdef3e4",
   "metadata": {
    "papermill": {
     "duration": 0.064811,
     "end_time": "2025-03-13T15:17:03.225634",
     "exception": false,
     "start_time": "2025-03-13T15:17:03.160823",
     "status": "completed"
    },
    "tags": []
   },
   "source": [
    "* 1️⃣ Consistent Top Performers: Certain Product Sub-Categories maintain high sales across multiple years, indicating sustained demand.\n",
    "\n",
    "     🔹 Actionable Insight: Focus on enhancing supply chain efficiency and product innovation to maintain competitiveness.\n",
    "\n",
    "* 2️⃣ Emerging Trends: Some Product Sub-Categories show a steady increase in sales, suggesting a growing market interest.\n",
    "\n",
    "     🔹 Actionable Insight: Allocate more resources to these categories through increased marketing, promotions, and production scaling.\n",
    "\n",
    "* 3️⃣ Declining Categories: A few Product Sub-Categories exhibit declining sales trends, which could indicate market saturation or shifting customer preferences.\n",
    "\n",
    "     🔹 Actionable Insight: Investigate reasons for the decline and explore strategies like product bundling, repositioning, or discontinuation if necessary."
   ]
  },
  {
   "cell_type": "markdown",
   "id": "449df826",
   "metadata": {
    "papermill": {
     "duration": 0.063284,
     "end_time": "2025-03-13T15:17:03.353247",
     "exception": false,
     "start_time": "2025-03-13T15:17:03.289963",
     "status": "completed"
    },
    "tags": []
   },
   "source": [
    "### Top-Ordered Product Sub-Categories by Country"
   ]
  },
  {
   "cell_type": "code",
   "execution_count": 96,
   "id": "5a3a4c52",
   "metadata": {
    "execution": {
     "iopub.execute_input": "2025-03-13T15:17:03.486217Z",
     "iopub.status.busy": "2025-03-13T15:17:03.485790Z",
     "iopub.status.idle": "2025-03-13T15:17:03.504628Z",
     "shell.execute_reply": "2025-03-13T15:17:03.503601Z"
    },
    "papermill": {
     "duration": 0.086732,
     "end_time": "2025-03-13T15:17:03.506584",
     "exception": false,
     "start_time": "2025-03-13T15:17:03.419852",
     "status": "completed"
    },
    "tags": []
   },
   "outputs": [
    {
     "data": {
      "text/html": [
       "<div>\n",
       "<style scoped>\n",
       "    .dataframe tbody tr th:only-of-type {\n",
       "        vertical-align: middle;\n",
       "    }\n",
       "\n",
       "    .dataframe tbody tr th {\n",
       "        vertical-align: top;\n",
       "    }\n",
       "\n",
       "    .dataframe thead th {\n",
       "        text-align: right;\n",
       "    }\n",
       "</style>\n",
       "<table border=\"1\" class=\"dataframe\">\n",
       "  <thead>\n",
       "    <tr style=\"text-align: right;\">\n",
       "      <th></th>\n",
       "      <th>Country</th>\n",
       "      <th>Product Sub Category</th>\n",
       "      <th>Order Qty</th>\n",
       "    </tr>\n",
       "  </thead>\n",
       "  <tbody>\n",
       "    <tr>\n",
       "      <th>612</th>\n",
       "      <td>United States</td>\n",
       "      <td>Cell phones Accessories</td>\n",
       "      <td>39760</td>\n",
       "    </tr>\n",
       "    <tr>\n",
       "      <th>88</th>\n",
       "      <td>China</td>\n",
       "      <td>Cell phones Accessories</td>\n",
       "      <td>10740</td>\n",
       "    </tr>\n",
       "    <tr>\n",
       "      <th>150</th>\n",
       "      <td>Germany</td>\n",
       "      <td>Cell phones Accessories</td>\n",
       "      <td>3340</td>\n",
       "    </tr>\n",
       "    <tr>\n",
       "      <th>128</th>\n",
       "      <td>France</td>\n",
       "      <td>Cell phones Accessories</td>\n",
       "      <td>2840</td>\n",
       "    </tr>\n",
       "    <tr>\n",
       "      <th>66</th>\n",
       "      <td>Canada</td>\n",
       "      <td>Cell phones Accessories</td>\n",
       "      <td>1400</td>\n",
       "    </tr>\n",
       "    <tr>\n",
       "      <th>590</th>\n",
       "      <td>United Kingdom</td>\n",
       "      <td>Cell phones Accessories</td>\n",
       "      <td>1300</td>\n",
       "    </tr>\n",
       "    <tr>\n",
       "      <th>268</th>\n",
       "      <td>Japan</td>\n",
       "      <td>Cell phones Accessories</td>\n",
       "      <td>1200</td>\n",
       "    </tr>\n",
       "    <tr>\n",
       "      <th>443</th>\n",
       "      <td>South Korea</td>\n",
       "      <td>Cell phones Accessories</td>\n",
       "      <td>880</td>\n",
       "    </tr>\n",
       "    <tr>\n",
       "      <th>353</th>\n",
       "      <td>Portugal</td>\n",
       "      <td>Cell phones Accessories</td>\n",
       "      <td>880</td>\n",
       "    </tr>\n",
       "    <tr>\n",
       "      <th>188</th>\n",
       "      <td>India</td>\n",
       "      <td>Cell phones Accessories</td>\n",
       "      <td>840</td>\n",
       "    </tr>\n",
       "    <tr>\n",
       "      <th>25</th>\n",
       "      <td>Australia</td>\n",
       "      <td>Cell phones Accessories</td>\n",
       "      <td>640</td>\n",
       "    </tr>\n",
       "    <tr>\n",
       "      <th>508</th>\n",
       "      <td>Syria</td>\n",
       "      <td>Cell phones Accessories</td>\n",
       "      <td>540</td>\n",
       "    </tr>\n",
       "    <tr>\n",
       "      <th>530</th>\n",
       "      <td>Taiwan</td>\n",
       "      <td>Cell phones Accessories</td>\n",
       "      <td>480</td>\n",
       "    </tr>\n",
       "    <tr>\n",
       "      <th>209</th>\n",
       "      <td>Iran</td>\n",
       "      <td>Cell phones Accessories</td>\n",
       "      <td>400</td>\n",
       "    </tr>\n",
       "    <tr>\n",
       "      <th>549</th>\n",
       "      <td>Thailand</td>\n",
       "      <td>Cell phones Accessories</td>\n",
       "      <td>400</td>\n",
       "    </tr>\n",
       "    <tr>\n",
       "      <th>387</th>\n",
       "      <td>Russia</td>\n",
       "      <td>Cell phones Accessories</td>\n",
       "      <td>360</td>\n",
       "    </tr>\n",
       "    <tr>\n",
       "      <th>247</th>\n",
       "      <td>Italy</td>\n",
       "      <td>Cell phones Accessories</td>\n",
       "      <td>340</td>\n",
       "    </tr>\n",
       "    <tr>\n",
       "      <th>427</th>\n",
       "      <td>Slovenia</td>\n",
       "      <td>Cell phones Accessories</td>\n",
       "      <td>320</td>\n",
       "    </tr>\n",
       "    <tr>\n",
       "      <th>570</th>\n",
       "      <td>Turkmenistan</td>\n",
       "      <td>Cell phones Accessories</td>\n",
       "      <td>260</td>\n",
       "    </tr>\n",
       "    <tr>\n",
       "      <th>320</th>\n",
       "      <td>Pakistan</td>\n",
       "      <td>Cell phones Accessories</td>\n",
       "      <td>240</td>\n",
       "    </tr>\n",
       "    <tr>\n",
       "      <th>302</th>\n",
       "      <td>Malta</td>\n",
       "      <td>Cell phones Accessories</td>\n",
       "      <td>160</td>\n",
       "    </tr>\n",
       "    <tr>\n",
       "      <th>230</th>\n",
       "      <td>Ireland</td>\n",
       "      <td>Cell phones Accessories</td>\n",
       "      <td>160</td>\n",
       "    </tr>\n",
       "    <tr>\n",
       "      <th>409</th>\n",
       "      <td>Singapore</td>\n",
       "      <td>Computers Accessories</td>\n",
       "      <td>144</td>\n",
       "    </tr>\n",
       "    <tr>\n",
       "      <th>368</th>\n",
       "      <td>Romania</td>\n",
       "      <td>Cell phones Accessories</td>\n",
       "      <td>120</td>\n",
       "    </tr>\n",
       "    <tr>\n",
       "      <th>171</th>\n",
       "      <td>Greece</td>\n",
       "      <td>Cell phones Accessories</td>\n",
       "      <td>120</td>\n",
       "    </tr>\n",
       "    <tr>\n",
       "      <th>4</th>\n",
       "      <td>Armenia</td>\n",
       "      <td>Cell phones Accessories</td>\n",
       "      <td>120</td>\n",
       "    </tr>\n",
       "    <tr>\n",
       "      <th>634</th>\n",
       "      <td>the Netherlands</td>\n",
       "      <td>Cell phones Accessories</td>\n",
       "      <td>100</td>\n",
       "    </tr>\n",
       "    <tr>\n",
       "      <th>288</th>\n",
       "      <td>Kyrgyzstan</td>\n",
       "      <td>Computers Accessories</td>\n",
       "      <td>73</td>\n",
       "    </tr>\n",
       "    <tr>\n",
       "      <th>461</th>\n",
       "      <td>Spain</td>\n",
       "      <td>Desktops</td>\n",
       "      <td>71</td>\n",
       "    </tr>\n",
       "    <tr>\n",
       "      <th>492</th>\n",
       "      <td>Switzerland</td>\n",
       "      <td>Computers Accessories</td>\n",
       "      <td>62</td>\n",
       "    </tr>\n",
       "    <tr>\n",
       "      <th>50</th>\n",
       "      <td>Bhutan</td>\n",
       "      <td>Digital SLR Cameras</td>\n",
       "      <td>62</td>\n",
       "    </tr>\n",
       "    <tr>\n",
       "      <th>342</th>\n",
       "      <td>Poland</td>\n",
       "      <td>Home Theater System</td>\n",
       "      <td>59</td>\n",
       "    </tr>\n",
       "    <tr>\n",
       "      <th>114</th>\n",
       "      <td>Denmark</td>\n",
       "      <td>Home &amp; Office Phones</td>\n",
       "      <td>50</td>\n",
       "    </tr>\n",
       "    <tr>\n",
       "      <th>477</th>\n",
       "      <td>Sweden</td>\n",
       "      <td>Digital SLR Cameras</td>\n",
       "      <td>42</td>\n",
       "    </tr>\n",
       "  </tbody>\n",
       "</table>\n",
       "</div>"
      ],
      "text/plain": [
       "             Country     Product Sub Category  Order Qty\n",
       "612    United States  Cell phones Accessories      39760\n",
       "88             China  Cell phones Accessories      10740\n",
       "150          Germany  Cell phones Accessories       3340\n",
       "128           France  Cell phones Accessories       2840\n",
       "66            Canada  Cell phones Accessories       1400\n",
       "590   United Kingdom  Cell phones Accessories       1300\n",
       "268            Japan  Cell phones Accessories       1200\n",
       "443      South Korea  Cell phones Accessories        880\n",
       "353         Portugal  Cell phones Accessories        880\n",
       "188            India  Cell phones Accessories        840\n",
       "25         Australia  Cell phones Accessories        640\n",
       "508            Syria  Cell phones Accessories        540\n",
       "530           Taiwan  Cell phones Accessories        480\n",
       "209             Iran  Cell phones Accessories        400\n",
       "549         Thailand  Cell phones Accessories        400\n",
       "387           Russia  Cell phones Accessories        360\n",
       "247            Italy  Cell phones Accessories        340\n",
       "427         Slovenia  Cell phones Accessories        320\n",
       "570     Turkmenistan  Cell phones Accessories        260\n",
       "320         Pakistan  Cell phones Accessories        240\n",
       "302            Malta  Cell phones Accessories        160\n",
       "230          Ireland  Cell phones Accessories        160\n",
       "409        Singapore    Computers Accessories        144\n",
       "368          Romania  Cell phones Accessories        120\n",
       "171           Greece  Cell phones Accessories        120\n",
       "4            Armenia  Cell phones Accessories        120\n",
       "634  the Netherlands  Cell phones Accessories        100\n",
       "288       Kyrgyzstan    Computers Accessories         73\n",
       "461            Spain                 Desktops         71\n",
       "492      Switzerland    Computers Accessories         62\n",
       "50            Bhutan      Digital SLR Cameras         62\n",
       "342           Poland      Home Theater System         59\n",
       "114          Denmark     Home & Office Phones         50\n",
       "477           Sweden      Digital SLR Cameras         42"
      ]
     },
     "execution_count": 96,
     "metadata": {},
     "output_type": "execute_result"
    }
   ],
   "source": [
    "OrderQty_per_ProductSupCategory = df.groupby([\"Country\", \"Product Sub Category\"])[\"Order Qty\"].sum().reset_index()\n",
    "\n",
    "top_ProductSupCategory_per_Country= OrderQty_per_ProductSupCategory.loc[OrderQty_per_ProductSupCategory.groupby(\"Country\")[\"Order Qty\"].idxmax()]\n",
    "\n",
    "top_ProductSupCategory_per_Country=top_ProductSupCategory_per_Country.sort_values(by=\"Order Qty\", ascending=False)\n",
    "top_ProductSupCategory_per_Country"
   ]
  },
  {
   "cell_type": "markdown",
   "id": "c7231b89",
   "metadata": {
    "papermill": {
     "duration": 0.062825,
     "end_time": "2025-03-13T15:17:03.635155",
     "exception": false,
     "start_time": "2025-03-13T15:17:03.572330",
     "status": "completed"
    },
    "tags": []
   },
   "source": [
    "* 1️⃣ Country-Specific Preferences: Different countries have distinct top-selling product sub-categories, indicating regional demand variations.\n",
    "\n",
    "     🔹 Actionable Insight: Optimize inventory allocation and tailor marketing strategies to align with country-specific preferences.\n",
    "\n",
    "* 2️⃣ High-Volume Sub-Categories: Certain sub-categories consistently receive high order quantities across multiple countries.\n",
    "\n",
    "     🔹 Actionable Insight: Strengthen the supply chain for these sub-categories to prevent stockouts and maintain customer satisfaction.\n",
    "\n",
    "* 3️⃣ Potential Market Expansion: Some sub-categories perform exceptionally well in specific countries but have lower demand in others.\n",
    "\n",
    "     🔹 Actionable Insight: Identify growth opportunities by replicating successful marketing strategies in underperforming regions.\n"
   ]
  },
  {
   "cell_type": "markdown",
   "id": "f3a5edf1",
   "metadata": {
    "papermill": {
     "duration": 0.063061,
     "end_time": "2025-03-13T15:17:03.763134",
     "exception": false,
     "start_time": "2025-03-13T15:17:03.700073",
     "status": "completed"
    },
    "tags": []
   },
   "source": [
    "### Unique Cities Count in the Dataset"
   ]
  },
  {
   "cell_type": "code",
   "execution_count": 97,
   "id": "a4233692",
   "metadata": {
    "execution": {
     "iopub.execute_input": "2025-03-13T15:17:03.895887Z",
     "iopub.status.busy": "2025-03-13T15:17:03.895531Z",
     "iopub.status.idle": "2025-03-13T15:17:03.902469Z",
     "shell.execute_reply": "2025-03-13T15:17:03.901571Z"
    },
    "papermill": {
     "duration": 0.075503,
     "end_time": "2025-03-13T15:17:03.903918",
     "exception": false,
     "start_time": "2025-03-13T15:17:03.828415",
     "status": "completed"
    },
    "tags": []
   },
   "outputs": [
    {
     "data": {
      "text/plain": [
       "263"
      ]
     },
     "execution_count": 97,
     "metadata": {},
     "output_type": "execute_result"
    }
   ],
   "source": [
    "df[\"City\"].nunique()"
   ]
  },
  {
   "cell_type": "markdown",
   "id": "14a502f0",
   "metadata": {
    "papermill": {
     "duration": 0.064368,
     "end_time": "2025-03-13T15:17:04.033191",
     "exception": false,
     "start_time": "2025-03-13T15:17:03.968823",
     "status": "completed"
    },
    "tags": []
   },
   "source": [
    "###  Unique Cities in the Dataset"
   ]
  },
  {
   "cell_type": "code",
   "execution_count": 98,
   "id": "516d1656",
   "metadata": {
    "execution": {
     "iopub.execute_input": "2025-03-13T15:17:04.163966Z",
     "iopub.status.busy": "2025-03-13T15:17:04.163536Z",
     "iopub.status.idle": "2025-03-13T15:17:04.170767Z",
     "shell.execute_reply": "2025-03-13T15:17:04.169827Z"
    },
    "papermill": {
     "duration": 0.07514,
     "end_time": "2025-03-13T15:17:04.172268",
     "exception": false,
     "start_time": "2025-03-13T15:17:04.097128",
     "status": "completed"
    },
    "tags": []
   },
   "outputs": [
    {
     "data": {
      "text/plain": [
       "array(['Moscow', 'Bellevue', 'Beijing', 'Yakima', 'Cheshire', 'Cle Elum',\n",
       "       'Westminster', 'Pittsfield', 'Baytown', 'Berlin', 'Cambridge',\n",
       "       'Ashgabat', 'Seattle', 'Bethesda', 'Leeds', 'Madison',\n",
       "       'Plattsburgh', 'Paris', 'Sydney', 'Ramstein', 'Cheney', 'Glasgow',\n",
       "       'Tehran', 'Roanoke', 'Calgary', 'Denver', 'Munich', 'Liverpool',\n",
       "       'Hong Kong', 'Redmond', 'Renton', 'North Harford', 'Nice',\n",
       "       'Bangkok', 'Port Washington', 'Holyoke', 'Edinburgh', 'Waterbury',\n",
       "       'Bishkek', 'Lafayette', 'Busan', 'Buffalo', 'Canberra',\n",
       "       'Wheat Ridge', 'Virginia Beach', 'Fall City', 'Islamabad',\n",
       "       'Kolkata', 'Saint Petersburg', 'Shanghai', 'Mumbai', 'Green Bay',\n",
       "       'New Delhi', 'Lewisville', 'Osaka', 'Dublin', 'Singapore',\n",
       "       'Berthoud', 'Oswego', 'Landstuhl', 'Queens', 'Tokyo',\n",
       "       'San Antonio', 'Yerevan', 'Athens', 'Koln', 'Bucharest',\n",
       "       'Beaumont', 'Norfolk', 'Copenhagen', 'Greenville', 'Knotty Ash',\n",
       "       'Key West', 'Lancashire', 'West Yorkshire', 'Milan', 'Rochester',\n",
       "       'Nizhny Novgorod', 'Bamberg', 'Milwaukee', 'New York', 'Stockport',\n",
       "       'Strasbourg', 'Alexandria', 'Poestenkill', 'Valletta', 'Albany',\n",
       "       'Quincy', 'Fredericksburg', 'Houston', 'Austin',\n",
       "       \"Queen Anne's County\", 'Bangor', 'Bayonne', 'New Haven', 'Trenton',\n",
       "       'Bridgeport', 'Boston', 'Burlington', 'Georgetown', 'Cape May',\n",
       "       'Charlottesville', 'Framingham', 'Clifton', 'Denton', 'Edgerton',\n",
       "       'Elmira', 'Englewood', 'Manitowoc', 'Falmouth', 'Oregon',\n",
       "       'Fort Worth', 'Grand Junction', 'Hackensack', 'Hartford',\n",
       "       'Texas City', 'Ottawa', 'Newark', 'Howard', 'Veradale', 'Parker',\n",
       "       'Jersey City', 'La Porte', 'Lakeland', 'Marshall', 'Miami',\n",
       "       'Morristown', 'Provincetown', 'Sunnyside', 'Northampton',\n",
       "       'Parkville', 'Russellville', 'Shreveport', 'Firenze', 'Stoughton',\n",
       "       'Tallahassee', 'Lisbon', 'Lowell', 'Seoul', 'Haverhill', 'Naples',\n",
       "       'Spokane', 'Brooklyn', 'Back River', 'Littleton', 'Ljubljana',\n",
       "       'Damascus', 'Minden', 'Round Rock', 'Greeley', 'Appleton',\n",
       "       'Cedar Park', 'Grand Prairie', 'Old Saybrook', 'Nantes',\n",
       "       'Fort Atkinson', 'Ithaca', 'Plano', 'Sapporo', 'Sedalia',\n",
       "       'Worcester', 'Snoqualmie', 'Berne', 'Winchester', 'Orange',\n",
       "       'Longview', 'Castle Rock', 'Hoboken', 'Leominster', 'Loveland',\n",
       "       'Sebring', 'Kennebunkport', 'Taipei', 'Montclair', 'Pasadena',\n",
       "       'Lyon', 'Anchorage', 'Giebelstadt', 'North Bend', 'Urumqi',\n",
       "       'Midland', 'Orlando', 'New London', 'Amsterdam', 'Toulouse',\n",
       "       'Spring', 'Oshkosh', 'Warsaw', 'Baumholder', 'Dusseldorf',\n",
       "       'South Portland', 'Somerville', 'Carlisle', 'Fond du Lac',\n",
       "       'Humble', 'Toronto', 'Germantown', 'Kennewick', 'Montreal',\n",
       "       'Granger', 'Racine', 'Bar Harbor', 'Nantucket', 'Lewiston',\n",
       "       'London', 'Hofheim am Taunus', 'Wapato', 'Darien', 'Paterson',\n",
       "       'Passaic', 'Thimphu', 'Thornton', 'Hingham', 'Bacliff', 'Lynn',\n",
       "       'Arlington', 'Vineland', 'Sheboygan', 'Atlantic City', 'Torino',\n",
       "       'Nagoya', 'Waukesha', 'Menasha', 'Madrid', 'Vancouver', 'York',\n",
       "       'Ridgely', 'Baildon', 'New Brunswick', 'Cape Canaveral', 'Boulder',\n",
       "       'New Bedford', 'Roma', 'Hillsboro', 'Milliken', 'Jacksonville',\n",
       "       'Everett', 'Litchfield County', 'Charleston', 'Manchester',\n",
       "       'New Castle', 'Richardson', 'Stockholm', 'Martinsville',\n",
       "       'Guangzhou', 'Toppenish', 'East Orange', 'Aurora', 'Baltimore',\n",
       "       'Fort Collins', 'Yokohama', 'Annapolis', 'Marseille',\n",
       "       'Fort Lauderdale', 'Attleboro', 'East Troy', 'Orono', 'Dallas',\n",
       "       'Tampa', 'Syracuse', 'Desoto', 'Kyoto', 'Venezia'], dtype=object)"
      ]
     },
     "execution_count": 98,
     "metadata": {},
     "output_type": "execute_result"
    }
   ],
   "source": [
    "df[\"City\"].unique()"
   ]
  },
  {
   "cell_type": "code",
   "execution_count": 99,
   "id": "befb188b",
   "metadata": {
    "execution": {
     "iopub.execute_input": "2025-03-13T15:17:04.303570Z",
     "iopub.status.busy": "2025-03-13T15:17:04.303226Z",
     "iopub.status.idle": "2025-03-13T15:17:04.412454Z",
     "shell.execute_reply": "2025-03-13T15:17:04.411323Z"
    },
    "papermill": {
     "duration": 0.17684,
     "end_time": "2025-03-13T15:17:04.414184",
     "exception": false,
     "start_time": "2025-03-13T15:17:04.237344",
     "status": "completed"
    },
    "tags": []
   },
   "outputs": [
    {
     "data": {
      "text/html": [
       "<iframe\n",
       "    scrolling=\"no\"\n",
       "    width=\"100%\"\n",
       "    height=\"545px\"\n",
       "    src=\"iframe_figures/figure_99.html\"\n",
       "    frameborder=\"0\"\n",
       "    allowfullscreen\n",
       "></iframe>\n"
      ]
     },
     "metadata": {},
     "output_type": "display_data"
    }
   ],
   "source": [
    "city_counts=df[\"City\"].value_counts()\n",
    "city_counts=px.bar(city_counts,color=city_counts)\n",
    "city_counts.show()"
   ]
  },
  {
   "cell_type": "markdown",
   "id": "806ca4b7",
   "metadata": {
    "papermill": {
     "duration": 0.0756,
     "end_time": "2025-03-13T15:17:04.562443",
     "exception": false,
     "start_time": "2025-03-13T15:17:04.486843",
     "status": "completed"
    },
    "tags": []
   },
   "source": [
    "###  Total Sales Analysis by Region, Country, and City"
   ]
  },
  {
   "cell_type": "code",
   "execution_count": 100,
   "id": "f3fcb307",
   "metadata": {
    "execution": {
     "iopub.execute_input": "2025-03-13T15:17:04.692082Z",
     "iopub.status.busy": "2025-03-13T15:17:04.691617Z",
     "iopub.status.idle": "2025-03-13T15:17:05.090252Z",
     "shell.execute_reply": "2025-03-13T15:17:05.089275Z"
    },
    "papermill": {
     "duration": 0.46478,
     "end_time": "2025-03-13T15:17:05.091755",
     "exception": false,
     "start_time": "2025-03-13T15:17:04.626975",
     "status": "completed"
    },
    "tags": []
   },
   "outputs": [
    {
     "data": {
      "text/html": [
       "<iframe\n",
       "    scrolling=\"no\"\n",
       "    width=\"100%\"\n",
       "    height=\"545px\"\n",
       "    src=\"iframe_figures/figure_100.html\"\n",
       "    frameborder=\"0\"\n",
       "    allowfullscreen\n",
       "></iframe>\n"
      ]
     },
     "metadata": {},
     "output_type": "display_data"
    },
    {
     "data": {
      "text/html": [
       "<iframe\n",
       "    scrolling=\"no\"\n",
       "    width=\"100%\"\n",
       "    height=\"545px\"\n",
       "    src=\"iframe_figures/figure_100.html\"\n",
       "    frameborder=\"0\"\n",
       "    allowfullscreen\n",
       "></iframe>\n"
      ]
     },
     "metadata": {},
     "output_type": "display_data"
    },
    {
     "data": {
      "text/html": [
       "<iframe\n",
       "    scrolling=\"no\"\n",
       "    width=\"100%\"\n",
       "    height=\"545px\"\n",
       "    src=\"iframe_figures/figure_100.html\"\n",
       "    frameborder=\"0\"\n",
       "    allowfullscreen\n",
       "></iframe>\n"
      ]
     },
     "metadata": {},
     "output_type": "display_data"
    }
   ],
   "source": [
    "fig_region = px.bar(\n",
    "    df.groupby(\"Region\")[\"Sales\"].sum().reset_index(), \n",
    "    x=\"Sales\", \n",
    "    y=\"Region\", \n",
    "    text=\"Sales\", \n",
    "    title=\"Total Sales by Region\",\n",
    "    orientation=\"h\",\n",
    "    color=\"Region\",\n",
    "    color_discrete_sequence=px.colors.qualitative.Pastel\n",
    ")\n",
    "fig_region.update_traces(texttemplate='%{text:.2s}', textposition='inside')\n",
    "fig_region.show()\n",
    "\n",
    "\n",
    "top_15_countries = df.groupby(\"Country\")[\"Sales\"].sum().reset_index().nlargest(15, \"Sales\")\n",
    "\n",
    "fig_country = px.bar(\n",
    "    top_15_countries, \n",
    "    x=\"Sales\", \n",
    "    y=\"Country\", \n",
    "    text=\"Sales\", \n",
    "    title=\"Top 15 Countries by Total Sales\",\n",
    "    orientation=\"h\",\n",
    "    color=\"Country\",\n",
    "    color_discrete_sequence=px.colors.qualitative.Set2\n",
    ")\n",
    "\n",
    "fig_country.update_traces(texttemplate='%{text:.2s}', textposition='inside')\n",
    "\n",
    "fig_country.show()\n",
    "\n",
    "\n",
    "\n",
    "top_10_cities = df.groupby(\"City\")[\"Sales\"].sum().reset_index().nlargest(10, \"Sales\")\n",
    "\n",
    "fig_city = px.bar(\n",
    "    top_10_cities, \n",
    "    x=\"Sales\", \n",
    "    y=\"City\", \n",
    "    text=\"Sales\", \n",
    "    title=\"Top 10 Cities by Total Sales\",\n",
    "    orientation=\"h\",\n",
    "    color=\"City\",\n",
    "    color_discrete_sequence=px.colors.qualitative.Set3\n",
    ")\n",
    "\n",
    "fig_city.update_traces(texttemplate='%{text:.2s}', textposition='inside')\n",
    "\n",
    "fig_city.show()\n"
   ]
  },
  {
   "cell_type": "markdown",
   "id": "4b786c71",
   "metadata": {
    "papermill": {
     "duration": 0.068054,
     "end_time": "2025-03-13T15:17:05.225041",
     "exception": false,
     "start_time": "2025-03-13T15:17:05.156987",
     "status": "completed"
    },
    "tags": []
   },
   "source": [
    "* 1️⃣ Regional Sales Performance: The highest sales are recorded in the Northern region, while the Southern region has the lowest revenue.\n",
    "\n",
    "     🔹 Actionable Insight: Strengthen sales strategies in the Southern region by analyzing market demand, expanding distribution channels, and launching targeted promotions.\n",
    "\n",
    "* 2️⃣ Country-Wise Sales Trends: USA leads in total sales, whereas Canada has the lowest revenue.\n",
    "\n",
    "     🔹 Actionable Insight: Leverage successful strategies from the USA to improve sales in Canada through localized marketing, product adaptation, and partnership expansion.\n",
    "\n",
    "* 3️⃣ City-Level Sales Insights: The city with the highest sales is New York, while Dallas has the least sales.\n",
    "\n",
    "     🔹 Actionable Insight: Enhance supply chain efficiency, introduce city-specific promotions, and optimize pricing strategies in Dallas to drive higher sales growth.\n"
   ]
  },
  {
   "cell_type": "markdown",
   "id": "8aabcdad",
   "metadata": {
    "papermill": {
     "duration": 0.063881,
     "end_time": "2025-03-13T15:17:05.353227",
     "exception": false,
     "start_time": "2025-03-13T15:17:05.289346",
     "status": "completed"
    },
    "tags": []
   },
   "source": [
    "### Visualizing Correlation Between Numerical Variables and Promotion Name"
   ]
  },
  {
   "cell_type": "code",
   "execution_count": 101,
   "id": "0e67bd8c",
   "metadata": {
    "execution": {
     "iopub.execute_input": "2025-03-13T15:17:05.483437Z",
     "iopub.status.busy": "2025-03-13T15:17:05.483026Z",
     "iopub.status.idle": "2025-03-13T15:17:05.597747Z",
     "shell.execute_reply": "2025-03-13T15:17:05.596757Z"
    },
    "papermill": {
     "duration": 0.182047,
     "end_time": "2025-03-13T15:17:05.599562",
     "exception": false,
     "start_time": "2025-03-13T15:17:05.417515",
     "status": "completed"
    },
    "tags": []
   },
   "outputs": [
    {
     "data": {
      "text/html": [
       "<iframe\n",
       "    scrolling=\"no\"\n",
       "    width=\"100%\"\n",
       "    height=\"545px\"\n",
       "    src=\"iframe_figures/figure_101.html\"\n",
       "    frameborder=\"0\"\n",
       "    allowfullscreen\n",
       "></iframe>\n"
      ]
     },
     "metadata": {},
     "output_type": "display_data"
    }
   ],
   "source": [
    "corr = df.select_dtypes(include=['number']).corr()\n",
    "fig = px.imshow(corr,  \n",
    "                text_auto=True, \n",
    "                color_continuous_scale='RdBu',  \n",
    "                title='Correlation Heatmap with Promotion Name',\n",
    "                aspect='auto')\n",
    "\n",
    "fig.show()"
   ]
  },
  {
   "cell_type": "markdown",
   "id": "c6dc7262",
   "metadata": {
    "papermill": {
     "duration": 0.06374,
     "end_time": "2025-03-13T15:17:05.730692",
     "exception": false,
     "start_time": "2025-03-13T15:17:05.666952",
     "status": "completed"
    },
    "tags": []
   },
   "source": [
    "###\n",
    "1️⃣ Overall Correlation Analysis 📊:\n",
    "\n",
    "The code allows us to understand how numerical variables correlate with each other and with \"Promotion Name.\" This helps identify strong and weak relationships among the variables.\n",
    "\n",
    "2️⃣ Correlation Levels 🔍:\n",
    "\n",
    "The heatmap can reveal correlation coefficients close to 1 or -1, indicating strong positive or negative relationships. For example, if there is a strong correlation between \"Promotion Name\" and sales, it suggests that the promotion significantly impacts sales.\n",
    "\n",
    "3️⃣ Identifying Key Variables 🔑:\n",
    "\n",
    "The heatmap can highlight which variables have the most significant impact on \"Promotion Name.\" Understanding these variables can help enhance promotional strategies.\n",
    "\n",
    "4️⃣ Business Strategy Implications 📈:\n",
    "\n",
    "If the results indicate a strong correlation between \"Promotion Name\" and variables such as profits or customer count, the company can adjust its promotional strategies to maximize profits. For instance, if a particular promotion yields positive results, it should be prioritized.\n",
    "\n",
    "5️⃣ Limitations ⚠️:\n",
    "\n",
    "Caution is necessary when interpreting correlations. Correlation does not imply causation. There may be other factors influencing the outcomes.\n",
    "\n",
    "6️⃣ Next Steps 🚀:\n",
    "\n",
    "Based on the findings, additional analyses, such as regression modeling, can be suggested to understand more precisely how promotions affect sales."
   ]
  },
  {
   "cell_type": "markdown",
   "id": "a605da66",
   "metadata": {
    "papermill": {
     "duration": 0.06457,
     "end_time": "2025-03-13T15:17:05.859849",
     "exception": false,
     "start_time": "2025-03-13T15:17:05.795279",
     "status": "completed"
    },
    "tags": []
   },
   "source": [
    "### Impact of Promotions on Sales Performance"
   ]
  },
  {
   "cell_type": "code",
   "execution_count": 102,
   "id": "fc08ecba",
   "metadata": {
    "execution": {
     "iopub.execute_input": "2025-03-13T15:17:05.990545Z",
     "iopub.status.busy": "2025-03-13T15:17:05.990186Z",
     "iopub.status.idle": "2025-03-13T15:17:06.102533Z",
     "shell.execute_reply": "2025-03-13T15:17:06.101572Z"
    },
    "papermill": {
     "duration": 0.179432,
     "end_time": "2025-03-13T15:17:06.104257",
     "exception": false,
     "start_time": "2025-03-13T15:17:05.924825",
     "status": "completed"
    },
    "tags": []
   },
   "outputs": [
    {
     "name": "stdout",
     "output_type": "stream",
     "text": [
      "Promotion Name\n",
      "No Discount                               5207\n",
      "North America Spring Promotion            2079\n",
      "North America Back-to-School Promotion    2040\n",
      "North America Holiday Promotion           1415\n",
      "European Holiday Promotion                1025\n",
      "Asian Holiday Promotion                    750\n",
      "Asian Spring Promotion                     745\n",
      "European Spring Promotion                  721\n",
      "European Back-to-Scholl Promotion          520\n",
      "Asian Summer Promotion                     498\n",
      "Name: count, dtype: int64\n",
      "-------------------------------------------------------------------------------------------------------------------\n"
     ]
    },
    {
     "data": {
      "text/html": [
       "<iframe\n",
       "    scrolling=\"no\"\n",
       "    width=\"100%\"\n",
       "    height=\"545px\"\n",
       "    src=\"iframe_figures/figure_102.html\"\n",
       "    frameborder=\"0\"\n",
       "    allowfullscreen\n",
       "></iframe>\n"
      ]
     },
     "metadata": {},
     "output_type": "display_data"
    }
   ],
   "source": [
    "PromotionName_counts=df[\"Promotion Name\"].value_counts()\n",
    "print(PromotionName_counts)\n",
    "print(\"-\"*115)\n",
    "PromotionName_counts=px.bar(PromotionName_counts,color=PromotionName_counts)\n",
    "PromotionName_counts.show()"
   ]
  },
  {
   "cell_type": "markdown",
   "id": "13e44855",
   "metadata": {
    "papermill": {
     "duration": 0.064029,
     "end_time": "2025-03-13T15:17:06.233047",
     "exception": false,
     "start_time": "2025-03-13T15:17:06.169018",
     "status": "completed"
    },
    "tags": []
   },
   "source": [
    "* 1️⃣ Most Effective Promotions: Certain promotions significantly boost sales, driving higher customer engagement and purchase rates.\n",
    "\n",
    "     🔹 Actionable Insight: Focus on replicating successful promotional strategies by analyzing key factors such as timing, discount percentage, and product selection.\n",
    "\n",
    "* 2️⃣ Underperforming Promotions: Some promotions have minimal impact, indicating inefficiencies in marketing execution or customer interest.\n",
    "\n",
    "     🔹 Actionable Insight: Reassess the effectiveness of low-performing promotions, adjust targeting strategies, and experiment with new incentives such as bundled offers or loyalty rewards.\n",
    "\n",
    "* 3️⃣ Category-Specific Promotion Success: Promotions work differently across product categories, with some benefiting more than others.\n",
    "\n",
    "     🔹 Actionable Insight: Align promotional campaigns with product demand trends by using data-driven insights to optimize discounts and marketing efforts for each category."
   ]
  },
  {
   "cell_type": "markdown",
   "id": "41eb5d97",
   "metadata": {
    "papermill": {
     "duration": 0.064813,
     "end_time": "2025-03-13T15:17:06.362413",
     "exception": false,
     "start_time": "2025-03-13T15:17:06.297600",
     "status": "completed"
    },
    "tags": []
   },
   "source": [
    "### Sales Performance Across Different Promotions"
   ]
  },
  {
   "cell_type": "code",
   "execution_count": 103,
   "id": "2210b821",
   "metadata": {
    "execution": {
     "iopub.execute_input": "2025-03-13T15:17:06.494356Z",
     "iopub.status.busy": "2025-03-13T15:17:06.493957Z",
     "iopub.status.idle": "2025-03-13T15:17:06.508120Z",
     "shell.execute_reply": "2025-03-13T15:17:06.507046Z"
    },
    "papermill": {
     "duration": 0.08262,
     "end_time": "2025-03-13T15:17:06.509799",
     "exception": false,
     "start_time": "2025-03-13T15:17:06.427179",
     "status": "completed"
    },
    "tags": []
   },
   "outputs": [
    {
     "data": {
      "text/html": [
       "<div>\n",
       "<style scoped>\n",
       "    .dataframe tbody tr th:only-of-type {\n",
       "        vertical-align: middle;\n",
       "    }\n",
       "\n",
       "    .dataframe tbody tr th {\n",
       "        vertical-align: top;\n",
       "    }\n",
       "\n",
       "    .dataframe thead th {\n",
       "        text-align: right;\n",
       "    }\n",
       "</style>\n",
       "<table border=\"1\" class=\"dataframe\">\n",
       "  <thead>\n",
       "    <tr style=\"text-align: right;\">\n",
       "      <th></th>\n",
       "      <th>Promotion Name</th>\n",
       "      <th>Sales</th>\n",
       "    </tr>\n",
       "  </thead>\n",
       "  <tbody>\n",
       "    <tr>\n",
       "      <th>6</th>\n",
       "      <td>No Discount</td>\n",
       "      <td>1.832936e+07</td>\n",
       "    </tr>\n",
       "    <tr>\n",
       "      <th>7</th>\n",
       "      <td>North America Back-to-School Promotion</td>\n",
       "      <td>8.455761e+06</td>\n",
       "    </tr>\n",
       "    <tr>\n",
       "      <th>8</th>\n",
       "      <td>North America Holiday Promotion</td>\n",
       "      <td>6.451629e+06</td>\n",
       "    </tr>\n",
       "    <tr>\n",
       "      <th>9</th>\n",
       "      <td>North America Spring Promotion</td>\n",
       "      <td>6.374333e+06</td>\n",
       "    </tr>\n",
       "    <tr>\n",
       "      <th>0</th>\n",
       "      <td>Asian Holiday Promotion</td>\n",
       "      <td>3.615194e+06</td>\n",
       "    </tr>\n",
       "    <tr>\n",
       "      <th>4</th>\n",
       "      <td>European Holiday Promotion</td>\n",
       "      <td>3.083456e+06</td>\n",
       "    </tr>\n",
       "    <tr>\n",
       "      <th>5</th>\n",
       "      <td>European Spring Promotion</td>\n",
       "      <td>2.739319e+06</td>\n",
       "    </tr>\n",
       "    <tr>\n",
       "      <th>1</th>\n",
       "      <td>Asian Spring Promotion</td>\n",
       "      <td>2.396001e+06</td>\n",
       "    </tr>\n",
       "    <tr>\n",
       "      <th>2</th>\n",
       "      <td>Asian Summer Promotion</td>\n",
       "      <td>2.278683e+06</td>\n",
       "    </tr>\n",
       "    <tr>\n",
       "      <th>3</th>\n",
       "      <td>European Back-to-Scholl Promotion</td>\n",
       "      <td>1.668024e+06</td>\n",
       "    </tr>\n",
       "  </tbody>\n",
       "</table>\n",
       "</div>"
      ],
      "text/plain": [
       "                           Promotion Name         Sales\n",
       "6                             No Discount  1.832936e+07\n",
       "7  North America Back-to-School Promotion  8.455761e+06\n",
       "8         North America Holiday Promotion  6.451629e+06\n",
       "9          North America Spring Promotion  6.374333e+06\n",
       "0                 Asian Holiday Promotion  3.615194e+06\n",
       "4              European Holiday Promotion  3.083456e+06\n",
       "5               European Spring Promotion  2.739319e+06\n",
       "1                  Asian Spring Promotion  2.396001e+06\n",
       "2                  Asian Summer Promotion  2.278683e+06\n",
       "3       European Back-to-Scholl Promotion  1.668024e+06"
      ]
     },
     "execution_count": 103,
     "metadata": {},
     "output_type": "execute_result"
    }
   ],
   "source": [
    "PromotionName_sales=df.groupby(\"Promotion Name\")[\"Sales\"].sum().reset_index()\n",
    "PromotionName_sales=PromotionName_sales.sort_values(by=\"Sales\", ascending=False)\n",
    "PromotionName_sales"
   ]
  },
  {
   "cell_type": "markdown",
   "id": "bf565fcf",
   "metadata": {
    "papermill": {
     "duration": 0.064203,
     "end_time": "2025-03-13T15:17:06.640156",
     "exception": false,
     "start_time": "2025-03-13T15:17:06.575953",
     "status": "completed"
    },
    "tags": []
   },
   "source": [
    "### Sales Performance by Promotion Name"
   ]
  },
  {
   "cell_type": "code",
   "execution_count": 104,
   "id": "74345268",
   "metadata": {
    "execution": {
     "iopub.execute_input": "2025-03-13T15:17:06.771812Z",
     "iopub.status.busy": "2025-03-13T15:17:06.771473Z",
     "iopub.status.idle": "2025-03-13T15:17:06.927566Z",
     "shell.execute_reply": "2025-03-13T15:17:06.926622Z"
    },
    "papermill": {
     "duration": 0.224386,
     "end_time": "2025-03-13T15:17:06.929374",
     "exception": false,
     "start_time": "2025-03-13T15:17:06.704988",
     "status": "completed"
    },
    "tags": []
   },
   "outputs": [
    {
     "data": {
      "text/html": [
       "<iframe\n",
       "    scrolling=\"no\"\n",
       "    width=\"100%\"\n",
       "    height=\"545px\"\n",
       "    src=\"iframe_figures/figure_104.html\"\n",
       "    frameborder=\"0\"\n",
       "    allowfullscreen\n",
       "></iframe>\n"
      ]
     },
     "metadata": {},
     "output_type": "display_data"
    }
   ],
   "source": [
    "fig = px.bar(\n",
    "    PromotionName_sales, \n",
    "    x=\"Sales\", \n",
    "    y=\"Promotion Name\", \n",
    "    text=\"Sales\",  \n",
    "    orientation=\"h\",  \n",
    "    title=\"Total Sales by Promotion Name\",\n",
    "    labels={\"Sales\": \"Total Sales\", \"Promotion Name\": \"Promotion\"},\n",
    "    color=\"Promotion Name\",  \n",
    "    color_discrete_sequence=px.colors.qualitative.Set3  \n",
    ")\n",
    "\n",
    "fig.update_traces(texttemplate='%{text:.2s}', textposition='inside')\n",
    "\n",
    "\n",
    "fig.update_layout(\n",
    "    xaxis_title=\"Total Sales\",\n",
    "    yaxis_title=\"Promotion Name\",\n",
    "    xaxis=dict(showgrid=True),\n",
    "    yaxis=dict(categoryorder=\"total ascending\"),\n",
    "    template=\"plotly_white\"\n",
    ")\n",
    "\n",
    "\n",
    "fig.show()\n"
   ]
  },
  {
   "cell_type": "markdown",
   "id": "95b044b7",
   "metadata": {
    "papermill": {
     "duration": 0.074156,
     "end_time": "2025-03-13T15:17:07.075138",
     "exception": false,
     "start_time": "2025-03-13T15:17:07.000982",
     "status": "completed"
    },
    "tags": []
   },
   "source": [
    "# Data Preprocessing For Modeling "
   ]
  },
  {
   "cell_type": "markdown",
   "id": "0f0b77c1",
   "metadata": {
    "papermill": {
     "duration": 0.070993,
     "end_time": "2025-03-13T15:17:07.213284",
     "exception": false,
     "start_time": "2025-03-13T15:17:07.142291",
     "status": "completed"
    },
    "tags": []
   },
   "source": [
    "### Detecting Outliers Using the IQR Method"
   ]
  },
  {
   "cell_type": "code",
   "execution_count": 105,
   "id": "e882432d",
   "metadata": {
    "execution": {
     "iopub.execute_input": "2025-03-13T15:17:07.417026Z",
     "iopub.status.busy": "2025-03-13T15:17:07.416553Z",
     "iopub.status.idle": "2025-03-13T15:17:07.423992Z",
     "shell.execute_reply": "2025-03-13T15:17:07.422925Z"
    },
    "papermill": {
     "duration": 0.077987,
     "end_time": "2025-03-13T15:17:07.425905",
     "exception": false,
     "start_time": "2025-03-13T15:17:07.347918",
     "status": "completed"
    },
    "tags": []
   },
   "outputs": [],
   "source": [
    "def detect_outliers(data):\n",
    "    outlier_info = {}\n",
    "    \n",
    "    for column in data.select_dtypes(include=['number']).columns: \n",
    "        Q1 = data[column].quantile(0.25)\n",
    "        Q3 = data[column].quantile(0.75)\n",
    "        IQR = Q3 - Q1\n",
    "        \n",
    "        lower_bound = Q1 - 1.5 * IQR\n",
    "        upper_bound = Q3 + 1.5 * IQR\n",
    "        \n",
    "        \n",
    "        outliers = data[(data[column] < lower_bound) | (data[column] > upper_bound)]\n",
    "        outlier_info[column] = {\n",
    "            \"num_outliers\": len(outliers),\n",
    "            \"outlier_indices\": outliers.index.tolist(),\n",
    "        }\n",
    "    \n",
    "    return outlier_info"
   ]
  },
  {
   "cell_type": "markdown",
   "id": "f421e75e",
   "metadata": {
    "papermill": {
     "duration": 0.066163,
     "end_time": "2025-03-13T15:17:07.569668",
     "exception": false,
     "start_time": "2025-03-13T15:17:07.503505",
     "status": "completed"
    },
    "tags": []
   },
   "source": [
    "### Outlier Analysis Across Key Numeric Columns"
   ]
  },
  {
   "cell_type": "code",
   "execution_count": 106,
   "id": "33b1c80b",
   "metadata": {
    "execution": {
     "iopub.execute_input": "2025-03-13T15:17:07.703602Z",
     "iopub.status.busy": "2025-03-13T15:17:07.703212Z",
     "iopub.status.idle": "2025-03-13T15:17:07.735453Z",
     "shell.execute_reply": "2025-03-13T15:17:07.734167Z"
    },
    "papermill": {
     "duration": 0.101134,
     "end_time": "2025-03-13T15:17:07.737343",
     "exception": false,
     "start_time": "2025-03-13T15:17:07.636209",
     "status": "completed"
    },
    "tags": []
   },
   "outputs": [
    {
     "name": "stdout",
     "output_type": "stream",
     "text": [
      "Column: Unit Cost\n",
      "Number of Outliers: 1020\n",
      "--------------------------------------------------\n",
      "Column: Price\n",
      "Number of Outliers: 972\n",
      "--------------------------------------------------\n",
      "Column: Order Qty\n",
      "Number of Outliers: 2326\n",
      "--------------------------------------------------\n",
      "Column: Cost of Sales\n",
      "Number of Outliers: 1169\n",
      "--------------------------------------------------\n",
      "Column: Sales\n",
      "Number of Outliers: 908\n",
      "--------------------------------------------------\n",
      "Column: Profit\n",
      "Number of Outliers: 1177\n",
      "--------------------------------------------------\n",
      "Column: Year\n",
      "Number of Outliers: 0\n",
      "--------------------------------------------------\n"
     ]
    }
   ],
   "source": [
    "outliers = detect_outliers(df)\n",
    "columns=[]\n",
    "for col, info in outliers.items():\n",
    "    columns.append(col)\n",
    "    print(f\"Column: {col}\")\n",
    "    print(f\"Number of Outliers: {info['num_outliers']}\")\n",
    "    print(\"-\" * 50)"
   ]
  },
  {
   "cell_type": "markdown",
   "id": "11660c69",
   "metadata": {
    "papermill": {
     "duration": 0.066594,
     "end_time": "2025-03-13T15:17:07.870899",
     "exception": false,
     "start_time": "2025-03-13T15:17:07.804305",
     "status": "completed"
    },
    "tags": []
   },
   "source": [
    "### Outlier Capping for Unit Cost"
   ]
  },
  {
   "cell_type": "code",
   "execution_count": 107,
   "id": "0f70ec56",
   "metadata": {
    "execution": {
     "iopub.execute_input": "2025-03-13T15:17:08.004415Z",
     "iopub.status.busy": "2025-03-13T15:17:08.003986Z",
     "iopub.status.idle": "2025-03-13T15:17:08.013286Z",
     "shell.execute_reply": "2025-03-13T15:17:08.012140Z"
    },
    "papermill": {
     "duration": 0.078383,
     "end_time": "2025-03-13T15:17:08.015076",
     "exception": false,
     "start_time": "2025-03-13T15:17:07.936693",
     "status": "completed"
    },
    "tags": []
   },
   "outputs": [],
   "source": [
    "lower_bound = np.percentile(df['Unit Cost'], 5)\n",
    "upper_bound = np.percentile(df['Unit Cost'], 95)\n",
    "df['Unit Cost'] = np.clip(df['Unit Cost'], lower_bound, upper_bound)"
   ]
  },
  {
   "cell_type": "code",
   "execution_count": 108,
   "id": "ab8d7a70",
   "metadata": {
    "execution": {
     "iopub.execute_input": "2025-03-13T15:17:08.149975Z",
     "iopub.status.busy": "2025-03-13T15:17:08.149478Z",
     "iopub.status.idle": "2025-03-13T15:17:08.328116Z",
     "shell.execute_reply": "2025-03-13T15:17:08.326952Z"
    },
    "papermill": {
     "duration": 0.248091,
     "end_time": "2025-03-13T15:17:08.329990",
     "exception": false,
     "start_time": "2025-03-13T15:17:08.081899",
     "status": "completed"
    },
    "tags": []
   },
   "outputs": [
    {
     "data": {
      "text/html": [
       "<iframe\n",
       "    scrolling=\"no\"\n",
       "    width=\"100%\"\n",
       "    height=\"545px\"\n",
       "    src=\"iframe_figures/figure_108.html\"\n",
       "    frameborder=\"0\"\n",
       "    allowfullscreen\n",
       "></iframe>\n"
      ]
     },
     "metadata": {},
     "output_type": "display_data"
    }
   ],
   "source": [
    "fig=px.box(df[\"Unit Cost\"],title=\"Box Plot For Unit Cost After Handling Outliers\")\n",
    "fig.show()"
   ]
  },
  {
   "cell_type": "markdown",
   "id": "20737ee2",
   "metadata": {
    "papermill": {
     "duration": 0.065737,
     "end_time": "2025-03-13T15:17:08.461025",
     "exception": false,
     "start_time": "2025-03-13T15:17:08.395288",
     "status": "completed"
    },
    "tags": []
   },
   "source": [
    "### Log Transformation for Price"
   ]
  },
  {
   "cell_type": "code",
   "execution_count": 109,
   "id": "964ca7d2",
   "metadata": {
    "execution": {
     "iopub.execute_input": "2025-03-13T15:17:08.598378Z",
     "iopub.status.busy": "2025-03-13T15:17:08.597999Z",
     "iopub.status.idle": "2025-03-13T15:17:08.624613Z",
     "shell.execute_reply": "2025-03-13T15:17:08.623651Z"
    },
    "papermill": {
     "duration": 0.094815,
     "end_time": "2025-03-13T15:17:08.626529",
     "exception": false,
     "start_time": "2025-03-13T15:17:08.531714",
     "status": "completed"
    },
    "tags": []
   },
   "outputs": [],
   "source": [
    "df['Price'] = np.log1p(df['Price'])"
   ]
  },
  {
   "cell_type": "code",
   "execution_count": 110,
   "id": "03652a76",
   "metadata": {
    "execution": {
     "iopub.execute_input": "2025-03-13T15:17:08.758395Z",
     "iopub.status.busy": "2025-03-13T15:17:08.757986Z",
     "iopub.status.idle": "2025-03-13T15:17:08.881869Z",
     "shell.execute_reply": "2025-03-13T15:17:08.880897Z"
    },
    "papermill": {
     "duration": 0.191467,
     "end_time": "2025-03-13T15:17:08.883603",
     "exception": false,
     "start_time": "2025-03-13T15:17:08.692136",
     "status": "completed"
    },
    "tags": []
   },
   "outputs": [
    {
     "data": {
      "text/html": [
       "<iframe\n",
       "    scrolling=\"no\"\n",
       "    width=\"100%\"\n",
       "    height=\"545px\"\n",
       "    src=\"iframe_figures/figure_110.html\"\n",
       "    frameborder=\"0\"\n",
       "    allowfullscreen\n",
       "></iframe>\n"
      ]
     },
     "metadata": {},
     "output_type": "display_data"
    }
   ],
   "source": [
    "fig=px.box(df[\"Price\"],title=\"Box Plot For Price After Handling Outliers\")\n",
    "fig.show()"
   ]
  },
  {
   "cell_type": "markdown",
   "id": "2abc154e",
   "metadata": {
    "papermill": {
     "duration": 0.064795,
     "end_time": "2025-03-13T15:17:09.013958",
     "exception": false,
     "start_time": "2025-03-13T15:17:08.949163",
     "status": "completed"
    },
    "tags": []
   },
   "source": [
    "### Robust Scaling for Order Quantity"
   ]
  },
  {
   "cell_type": "code",
   "execution_count": 111,
   "id": "27eb79df",
   "metadata": {
    "execution": {
     "iopub.execute_input": "2025-03-13T15:17:09.147896Z",
     "iopub.status.busy": "2025-03-13T15:17:09.147554Z",
     "iopub.status.idle": "2025-03-13T15:17:09.156886Z",
     "shell.execute_reply": "2025-03-13T15:17:09.156016Z"
    },
    "papermill": {
     "duration": 0.078502,
     "end_time": "2025-03-13T15:17:09.158623",
     "exception": false,
     "start_time": "2025-03-13T15:17:09.080121",
     "status": "completed"
    },
    "tags": []
   },
   "outputs": [],
   "source": [
    "from sklearn.preprocessing import RobustScaler\n",
    "\n",
    "scaler = RobustScaler()\n",
    "df['Order Qty'] = scaler.fit_transform(df[['Order Qty']])\n"
   ]
  },
  {
   "cell_type": "code",
   "execution_count": 112,
   "id": "c6aaca26",
   "metadata": {
    "execution": {
     "iopub.execute_input": "2025-03-13T15:17:09.289742Z",
     "iopub.status.busy": "2025-03-13T15:17:09.289354Z",
     "iopub.status.idle": "2025-03-13T15:17:09.414397Z",
     "shell.execute_reply": "2025-03-13T15:17:09.413396Z"
    },
    "papermill": {
     "duration": 0.19277,
     "end_time": "2025-03-13T15:17:09.416193",
     "exception": false,
     "start_time": "2025-03-13T15:17:09.223423",
     "status": "completed"
    },
    "tags": []
   },
   "outputs": [
    {
     "data": {
      "text/html": [
       "<iframe\n",
       "    scrolling=\"no\"\n",
       "    width=\"100%\"\n",
       "    height=\"545px\"\n",
       "    src=\"iframe_figures/figure_112.html\"\n",
       "    frameborder=\"0\"\n",
       "    allowfullscreen\n",
       "></iframe>\n"
      ]
     },
     "metadata": {},
     "output_type": "display_data"
    }
   ],
   "source": [
    "fig=px.box(df[\"Order Qty\"],title=\"Box Plot For Order Qty After Handling Outliers\")\n",
    "fig.show()"
   ]
  },
  {
   "cell_type": "markdown",
   "id": "d2c5dab0",
   "metadata": {
    "papermill": {
     "duration": 0.067221,
     "end_time": "2025-03-13T15:17:09.548636",
     "exception": false,
     "start_time": "2025-03-13T15:17:09.481415",
     "status": "completed"
    },
    "tags": []
   },
   "source": [
    "### Outlier Treatment for Cost of Sales"
   ]
  },
  {
   "cell_type": "code",
   "execution_count": 113,
   "id": "6354892e",
   "metadata": {
    "execution": {
     "iopub.execute_input": "2025-03-13T15:17:09.681144Z",
     "iopub.status.busy": "2025-03-13T15:17:09.680729Z",
     "iopub.status.idle": "2025-03-13T15:17:09.688745Z",
     "shell.execute_reply": "2025-03-13T15:17:09.687947Z"
    },
    "papermill": {
     "duration": 0.075981,
     "end_time": "2025-03-13T15:17:09.690367",
     "exception": false,
     "start_time": "2025-03-13T15:17:09.614386",
     "status": "completed"
    },
    "tags": []
   },
   "outputs": [],
   "source": [
    "lower_bound = np.percentile(df['Cost of Sales'], 5)\n",
    "upper_bound = np.percentile(df['Cost of Sales'], 95)\n",
    "df['Cost of Sales'] = np.clip(df['Cost of Sales'], lower_bound, upper_bound)\n"
   ]
  },
  {
   "cell_type": "code",
   "execution_count": 114,
   "id": "907f5fda",
   "metadata": {
    "execution": {
     "iopub.execute_input": "2025-03-13T15:17:09.822813Z",
     "iopub.status.busy": "2025-03-13T15:17:09.822477Z",
     "iopub.status.idle": "2025-03-13T15:17:09.946677Z",
     "shell.execute_reply": "2025-03-13T15:17:09.945773Z"
    },
    "papermill": {
     "duration": 0.191415,
     "end_time": "2025-03-13T15:17:09.948227",
     "exception": false,
     "start_time": "2025-03-13T15:17:09.756812",
     "status": "completed"
    },
    "tags": []
   },
   "outputs": [
    {
     "data": {
      "text/html": [
       "<iframe\n",
       "    scrolling=\"no\"\n",
       "    width=\"100%\"\n",
       "    height=\"545px\"\n",
       "    src=\"iframe_figures/figure_114.html\"\n",
       "    frameborder=\"0\"\n",
       "    allowfullscreen\n",
       "></iframe>\n"
      ]
     },
     "metadata": {},
     "output_type": "display_data"
    }
   ],
   "source": [
    "fig=px.box(df[\"Cost of Sales\"],title=\"Box Plot For Cost of Sales After Handling Outliers\")\n",
    "fig.show()"
   ]
  },
  {
   "cell_type": "markdown",
   "id": "87174e15",
   "metadata": {
    "papermill": {
     "duration": 0.066698,
     "end_time": "2025-03-13T15:17:10.080690",
     "exception": false,
     "start_time": "2025-03-13T15:17:10.013992",
     "status": "completed"
    },
    "tags": []
   },
   "source": [
    "### Log Transformation for Sales Data"
   ]
  },
  {
   "cell_type": "code",
   "execution_count": 115,
   "id": "8bd3d1dd",
   "metadata": {
    "execution": {
     "iopub.execute_input": "2025-03-13T15:17:10.213415Z",
     "iopub.status.busy": "2025-03-13T15:17:10.213026Z",
     "iopub.status.idle": "2025-03-13T15:17:10.218408Z",
     "shell.execute_reply": "2025-03-13T15:17:10.217418Z"
    },
    "papermill": {
     "duration": 0.073847,
     "end_time": "2025-03-13T15:17:10.219995",
     "exception": false,
     "start_time": "2025-03-13T15:17:10.146148",
     "status": "completed"
    },
    "tags": []
   },
   "outputs": [],
   "source": [
    "df['Sales'] = np.log1p(df['Sales'])"
   ]
  },
  {
   "cell_type": "code",
   "execution_count": 116,
   "id": "26244423",
   "metadata": {
    "execution": {
     "iopub.execute_input": "2025-03-13T15:17:10.353036Z",
     "iopub.status.busy": "2025-03-13T15:17:10.352616Z",
     "iopub.status.idle": "2025-03-13T15:17:10.476435Z",
     "shell.execute_reply": "2025-03-13T15:17:10.475343Z"
    },
    "papermill": {
     "duration": 0.19253,
     "end_time": "2025-03-13T15:17:10.478150",
     "exception": false,
     "start_time": "2025-03-13T15:17:10.285620",
     "status": "completed"
    },
    "tags": []
   },
   "outputs": [
    {
     "data": {
      "text/html": [
       "<iframe\n",
       "    scrolling=\"no\"\n",
       "    width=\"100%\"\n",
       "    height=\"545px\"\n",
       "    src=\"iframe_figures/figure_116.html\"\n",
       "    frameborder=\"0\"\n",
       "    allowfullscreen\n",
       "></iframe>\n"
      ]
     },
     "metadata": {},
     "output_type": "display_data"
    }
   ],
   "source": [
    "fig=px.box(df[\"Sales\"],title=\"Box Plot For Sales After Handling Outliers\")\n",
    "fig.show()"
   ]
  },
  {
   "cell_type": "markdown",
   "id": "100e312f",
   "metadata": {
    "papermill": {
     "duration": 0.06625,
     "end_time": "2025-03-13T15:17:10.614326",
     "exception": false,
     "start_time": "2025-03-13T15:17:10.548076",
     "status": "completed"
    },
    "tags": []
   },
   "source": [
    "### Outlier Removal Using Z-Score for Profit"
   ]
  },
  {
   "cell_type": "code",
   "execution_count": 117,
   "id": "899ef99a",
   "metadata": {
    "execution": {
     "iopub.execute_input": "2025-03-13T15:17:10.747712Z",
     "iopub.status.busy": "2025-03-13T15:17:10.747335Z",
     "iopub.status.idle": "2025-03-13T15:17:10.761207Z",
     "shell.execute_reply": "2025-03-13T15:17:10.760357Z"
    },
    "papermill": {
     "duration": 0.082394,
     "end_time": "2025-03-13T15:17:10.762965",
     "exception": false,
     "start_time": "2025-03-13T15:17:10.680571",
     "status": "completed"
    },
    "tags": []
   },
   "outputs": [],
   "source": [
    "from scipy.stats import zscore\n",
    "\n",
    "df = df[(np.abs(zscore(df['Profit'])) < 3)]  \n"
   ]
  },
  {
   "cell_type": "code",
   "execution_count": 118,
   "id": "8d5ad26f",
   "metadata": {
    "execution": {
     "iopub.execute_input": "2025-03-13T15:17:10.896278Z",
     "iopub.status.busy": "2025-03-13T15:17:10.895876Z",
     "iopub.status.idle": "2025-03-13T15:17:11.018534Z",
     "shell.execute_reply": "2025-03-13T15:17:11.017204Z"
    },
    "papermill": {
     "duration": 0.192119,
     "end_time": "2025-03-13T15:17:11.020533",
     "exception": false,
     "start_time": "2025-03-13T15:17:10.828414",
     "status": "completed"
    },
    "tags": []
   },
   "outputs": [
    {
     "data": {
      "text/html": [
       "<iframe\n",
       "    scrolling=\"no\"\n",
       "    width=\"100%\"\n",
       "    height=\"545px\"\n",
       "    src=\"iframe_figures/figure_118.html\"\n",
       "    frameborder=\"0\"\n",
       "    allowfullscreen\n",
       "></iframe>\n"
      ]
     },
     "metadata": {},
     "output_type": "display_data"
    }
   ],
   "source": [
    "fig=px.box(df[\"Profit\"],title=\"Box Plot For Profit After Handling Outliers\")\n",
    "fig.show()"
   ]
  },
  {
   "cell_type": "markdown",
   "id": "8c9c63e5",
   "metadata": {
    "papermill": {
     "duration": 0.067468,
     "end_time": "2025-03-13T15:17:11.156241",
     "exception": false,
     "start_time": "2025-03-13T15:17:11.088773",
     "status": "completed"
    },
    "tags": []
   },
   "source": [
    "### Handling and Resolving Outliers in the Dataset"
   ]
  },
  {
   "cell_type": "code",
   "execution_count": 119,
   "id": "8a418f20",
   "metadata": {
    "execution": {
     "iopub.execute_input": "2025-03-13T15:17:11.290158Z",
     "iopub.status.busy": "2025-03-13T15:17:11.289678Z",
     "iopub.status.idle": "2025-03-13T15:17:11.321125Z",
     "shell.execute_reply": "2025-03-13T15:17:11.320156Z"
    },
    "papermill": {
     "duration": 0.09964,
     "end_time": "2025-03-13T15:17:11.322738",
     "exception": false,
     "start_time": "2025-03-13T15:17:11.223098",
     "status": "completed"
    },
    "tags": []
   },
   "outputs": [
    {
     "name": "stdout",
     "output_type": "stream",
     "text": [
      "Column: Unit Cost\n",
      "Number of Outliers: 965\n",
      "--------------------------------------------------\n",
      "Column: Price\n",
      "Number of Outliers: 60\n",
      "--------------------------------------------------\n",
      "Column: Order Qty\n",
      "Number of Outliers: 2180\n",
      "--------------------------------------------------\n",
      "Column: Cost of Sales\n",
      "Number of Outliers: 1112\n",
      "--------------------------------------------------\n",
      "Column: Sales\n",
      "Number of Outliers: 39\n",
      "--------------------------------------------------\n",
      "Column: Profit\n",
      "Number of Outliers: 1002\n",
      "--------------------------------------------------\n",
      "Column: Year\n",
      "Number of Outliers: 0\n",
      "--------------------------------------------------\n"
     ]
    }
   ],
   "source": [
    "outliers = detect_outliers(df)\n",
    "columns=[]\n",
    "for col, info in outliers.items():\n",
    "    columns.append(col)\n",
    "    print(f\"Column: {col}\")\n",
    "    print(f\"Number of Outliers: {info['num_outliers']}\")\n",
    "    print(\"-\" * 50)"
   ]
  },
  {
   "cell_type": "markdown",
   "id": "c2fd0314",
   "metadata": {
    "papermill": {
     "duration": 0.065607,
     "end_time": "2025-03-13T15:17:11.454027",
     "exception": false,
     "start_time": "2025-03-13T15:17:11.388420",
     "status": "completed"
    },
    "tags": []
   },
   "source": [
    "### Removing the 'Order Date' Column from DataFrame\n",
    "\n",
    "\n",
    "\n",
    "\n",
    "\n",
    "\n",
    "\n"
   ]
  },
  {
   "cell_type": "code",
   "execution_count": 120,
   "id": "d85c2e17",
   "metadata": {
    "execution": {
     "iopub.execute_input": "2025-03-13T15:17:11.589919Z",
     "iopub.status.busy": "2025-03-13T15:17:11.589507Z",
     "iopub.status.idle": "2025-03-13T15:17:11.596985Z",
     "shell.execute_reply": "2025-03-13T15:17:11.596000Z"
    },
    "papermill": {
     "duration": 0.078448,
     "end_time": "2025-03-13T15:17:11.598801",
     "exception": false,
     "start_time": "2025-03-13T15:17:11.520353",
     "status": "completed"
    },
    "tags": []
   },
   "outputs": [],
   "source": [
    "df = df.drop(columns=[\"Order Date\"])"
   ]
  },
  {
   "cell_type": "markdown",
   "id": "1d63de9a",
   "metadata": {
    "papermill": {
     "duration": 0.065113,
     "end_time": "2025-03-13T15:17:11.730984",
     "exception": false,
     "start_time": "2025-03-13T15:17:11.665871",
     "status": "completed"
    },
    "tags": []
   },
   "source": [
    "### Encoding Categorical Features with Label Encoding "
   ]
  },
  {
   "cell_type": "code",
   "execution_count": 121,
   "id": "4ef4637f",
   "metadata": {
    "execution": {
     "iopub.execute_input": "2025-03-13T15:17:11.867962Z",
     "iopub.status.busy": "2025-03-13T15:17:11.867587Z",
     "iopub.status.idle": "2025-03-13T15:17:11.908327Z",
     "shell.execute_reply": "2025-03-13T15:17:11.907159Z"
    },
    "papermill": {
     "duration": 0.111766,
     "end_time": "2025-03-13T15:17:11.910141",
     "exception": false,
     "start_time": "2025-03-13T15:17:11.798375",
     "status": "completed"
    },
    "tags": []
   },
   "outputs": [],
   "source": [
    "label_encoders = {}\n",
    "for col in df.select_dtypes(include=[\"object\"]).columns:\n",
    "    le = LabelEncoder()\n",
    "    df[col] = le.fit_transform(df[col])\n",
    "    label_encoders[col] = le"
   ]
  },
  {
   "cell_type": "markdown",
   "id": "0be0f131",
   "metadata": {
    "papermill": {
     "duration": 0.066567,
     "end_time": "2025-03-13T15:17:12.042379",
     "exception": false,
     "start_time": "2025-03-13T15:17:11.975812",
     "status": "completed"
    },
    "tags": []
   },
   "source": [
    "### Feature Selection and Binary Target Encoding Based on Median Profit"
   ]
  },
  {
   "cell_type": "code",
   "execution_count": 122,
   "id": "0bdef3e4",
   "metadata": {
    "execution": {
     "iopub.execute_input": "2025-03-13T15:17:12.175192Z",
     "iopub.status.busy": "2025-03-13T15:17:12.174759Z",
     "iopub.status.idle": "2025-03-13T15:17:12.182176Z",
     "shell.execute_reply": "2025-03-13T15:17:12.181166Z"
    },
    "papermill": {
     "duration": 0.076324,
     "end_time": "2025-03-13T15:17:12.183871",
     "exception": false,
     "start_time": "2025-03-13T15:17:12.107547",
     "status": "completed"
    },
    "tags": []
   },
   "outputs": [],
   "source": [
    "X = df.drop(columns=[\"Profit\"])\n",
    "y = df[\"Profit\"] > df[\"Profit\"].median()"
   ]
  },
  {
   "cell_type": "code",
   "execution_count": 123,
   "id": "8745f331",
   "metadata": {
    "execution": {
     "iopub.execute_input": "2025-03-13T15:17:12.370739Z",
     "iopub.status.busy": "2025-03-13T15:17:12.370385Z",
     "iopub.status.idle": "2025-03-13T15:17:12.385122Z",
     "shell.execute_reply": "2025-03-13T15:17:12.384109Z"
    },
    "papermill": {
     "duration": 0.083688,
     "end_time": "2025-03-13T15:17:12.387148",
     "exception": false,
     "start_time": "2025-03-13T15:17:12.303460",
     "status": "completed"
    },
    "tags": []
   },
   "outputs": [
    {
     "data": {
      "text/html": [
       "<div>\n",
       "<style scoped>\n",
       "    .dataframe tbody tr th:only-of-type {\n",
       "        vertical-align: middle;\n",
       "    }\n",
       "\n",
       "    .dataframe tbody tr th {\n",
       "        vertical-align: top;\n",
       "    }\n",
       "\n",
       "    .dataframe thead th {\n",
       "        text-align: right;\n",
       "    }\n",
       "</style>\n",
       "<table border=\"1\" class=\"dataframe\">\n",
       "  <thead>\n",
       "    <tr style=\"text-align: right;\">\n",
       "      <th></th>\n",
       "      <th>Unit Cost</th>\n",
       "      <th>Price</th>\n",
       "      <th>Order Qty</th>\n",
       "      <th>Cost of Sales</th>\n",
       "      <th>Sales</th>\n",
       "      <th>Channel</th>\n",
       "      <th>Promotion Name</th>\n",
       "      <th>Product Name</th>\n",
       "      <th>Manufacturer</th>\n",
       "      <th>Product Sub Category</th>\n",
       "      <th>Product Category</th>\n",
       "      <th>Region</th>\n",
       "      <th>City</th>\n",
       "      <th>Country</th>\n",
       "      <th>Year</th>\n",
       "    </tr>\n",
       "  </thead>\n",
       "  <tbody>\n",
       "    <tr>\n",
       "      <th>0</th>\n",
       "      <td>76.094968</td>\n",
       "      <td>5.720312</td>\n",
       "      <td>-0.25</td>\n",
       "      <td>684.854710</td>\n",
       "      <td>7.906812</td>\n",
       "      <td>3</td>\n",
       "      <td>5</td>\n",
       "      <td>680</td>\n",
       "      <td>2</td>\n",
       "      <td>8</td>\n",
       "      <td>1</td>\n",
       "      <td>1</td>\n",
       "      <td>151</td>\n",
       "      <td>20</td>\n",
       "      <td>2017</td>\n",
       "    </tr>\n",
       "    <tr>\n",
       "      <th>1</th>\n",
       "      <td>7.491753</td>\n",
       "      <td>2.638343</td>\n",
       "      <td>-1.50</td>\n",
       "      <td>29.967011</td>\n",
       "      <td>3.934594</td>\n",
       "      <td>3</td>\n",
       "      <td>5</td>\n",
       "      <td>299</td>\n",
       "      <td>2</td>\n",
       "      <td>12</td>\n",
       "      <td>0</td>\n",
       "      <td>1</td>\n",
       "      <td>151</td>\n",
       "      <td>20</td>\n",
       "      <td>2016</td>\n",
       "    </tr>\n",
       "    <tr>\n",
       "      <th>2</th>\n",
       "      <td>10.122338</td>\n",
       "      <td>5.081342</td>\n",
       "      <td>-0.25</td>\n",
       "      <td>91.101039</td>\n",
       "      <td>7.241447</td>\n",
       "      <td>3</td>\n",
       "      <td>5</td>\n",
       "      <td>391</td>\n",
       "      <td>2</td>\n",
       "      <td>14</td>\n",
       "      <td>4</td>\n",
       "      <td>1</td>\n",
       "      <td>151</td>\n",
       "      <td>20</td>\n",
       "      <td>2016</td>\n",
       "    </tr>\n",
       "    <tr>\n",
       "      <th>3</th>\n",
       "      <td>2.448777</td>\n",
       "      <td>3.284289</td>\n",
       "      <td>2.00</td>\n",
       "      <td>26.536160</td>\n",
       "      <td>6.138634</td>\n",
       "      <td>3</td>\n",
       "      <td>9</td>\n",
       "      <td>1002</td>\n",
       "      <td>5</td>\n",
       "      <td>0</td>\n",
       "      <td>0</td>\n",
       "      <td>2</td>\n",
       "      <td>26</td>\n",
       "      <td>32</td>\n",
       "      <td>2018</td>\n",
       "    </tr>\n",
       "    <tr>\n",
       "      <th>4</th>\n",
       "      <td>108.508777</td>\n",
       "      <td>5.720312</td>\n",
       "      <td>-0.25</td>\n",
       "      <td>976.578991</td>\n",
       "      <td>7.869172</td>\n",
       "      <td>1</td>\n",
       "      <td>1</td>\n",
       "      <td>680</td>\n",
       "      <td>2</td>\n",
       "      <td>8</td>\n",
       "      <td>1</td>\n",
       "      <td>0</td>\n",
       "      <td>25</td>\n",
       "      <td>4</td>\n",
       "      <td>2017</td>\n",
       "    </tr>\n",
       "  </tbody>\n",
       "</table>\n",
       "</div>"
      ],
      "text/plain": [
       "    Unit Cost     Price  Order Qty  Cost of Sales     Sales  Channel  \\\n",
       "0   76.094968  5.720312      -0.25     684.854710  7.906812        3   \n",
       "1    7.491753  2.638343      -1.50      29.967011  3.934594        3   \n",
       "2   10.122338  5.081342      -0.25      91.101039  7.241447        3   \n",
       "3    2.448777  3.284289       2.00      26.536160  6.138634        3   \n",
       "4  108.508777  5.720312      -0.25     976.578991  7.869172        1   \n",
       "\n",
       "   Promotion Name  Product Name  Manufacturer  Product Sub Category  \\\n",
       "0               5           680             2                     8   \n",
       "1               5           299             2                    12   \n",
       "2               5           391             2                    14   \n",
       "3               9          1002             5                     0   \n",
       "4               1           680             2                     8   \n",
       "\n",
       "   Product Category  Region  City  Country  Year  \n",
       "0                 1       1   151       20  2017  \n",
       "1                 0       1   151       20  2016  \n",
       "2                 4       1   151       20  2016  \n",
       "3                 0       2    26       32  2018  \n",
       "4                 1       0    25        4  2017  "
      ]
     },
     "execution_count": 123,
     "metadata": {},
     "output_type": "execute_result"
    }
   ],
   "source": [
    "X.head()"
   ]
  },
  {
   "cell_type": "code",
   "execution_count": 124,
   "id": "b6b18707",
   "metadata": {
    "execution": {
     "iopub.execute_input": "2025-03-13T15:17:12.523996Z",
     "iopub.status.busy": "2025-03-13T15:17:12.523639Z",
     "iopub.status.idle": "2025-03-13T15:17:12.531930Z",
     "shell.execute_reply": "2025-03-13T15:17:12.530971Z"
    },
    "papermill": {
     "duration": 0.077989,
     "end_time": "2025-03-13T15:17:12.533382",
     "exception": false,
     "start_time": "2025-03-13T15:17:12.455393",
     "status": "completed"
    },
    "tags": []
   },
   "outputs": [
    {
     "data": {
      "text/plain": [
       "0     True\n",
       "1    False\n",
       "2     True\n",
       "3    False\n",
       "4     True\n",
       "Name: Profit, dtype: bool"
      ]
     },
     "execution_count": 124,
     "metadata": {},
     "output_type": "execute_result"
    }
   ],
   "source": [
    "y.head()"
   ]
  },
  {
   "cell_type": "markdown",
   "id": "2b86b733",
   "metadata": {
    "papermill": {
     "duration": 0.067807,
     "end_time": "2025-03-13T15:17:12.669311",
     "exception": false,
     "start_time": "2025-03-13T15:17:12.601504",
     "status": "completed"
    },
    "tags": []
   },
   "source": [
    "### Standardizing Features Using StandardScaler in Scikit-Learn"
   ]
  },
  {
   "cell_type": "code",
   "execution_count": 125,
   "id": "af08cb00",
   "metadata": {
    "execution": {
     "iopub.execute_input": "2025-03-13T15:17:12.808368Z",
     "iopub.status.busy": "2025-03-13T15:17:12.807986Z",
     "iopub.status.idle": "2025-03-13T15:17:12.833367Z",
     "shell.execute_reply": "2025-03-13T15:17:12.832260Z"
    },
    "papermill": {
     "duration": 0.096082,
     "end_time": "2025-03-13T15:17:12.835455",
     "exception": false,
     "start_time": "2025-03-13T15:17:12.739373",
     "status": "completed"
    },
    "tags": []
   },
   "outputs": [],
   "source": [
    "scaler = StandardScaler()\n",
    "X_scaled = scaler.fit_transform(X)"
   ]
  },
  {
   "cell_type": "code",
   "execution_count": 126,
   "id": "f15da47b",
   "metadata": {
    "execution": {
     "iopub.execute_input": "2025-03-13T15:17:12.974929Z",
     "iopub.status.busy": "2025-03-13T15:17:12.974565Z",
     "iopub.status.idle": "2025-03-13T15:17:12.981105Z",
     "shell.execute_reply": "2025-03-13T15:17:12.980092Z"
    },
    "papermill": {
     "duration": 0.078354,
     "end_time": "2025-03-13T15:17:12.982709",
     "exception": false,
     "start_time": "2025-03-13T15:17:12.904355",
     "status": "completed"
    },
    "tags": []
   },
   "outputs": [
    {
     "data": {
      "text/plain": [
       "array([[-0.29429171,  0.55969054, -0.17467335, ...,  0.39586858,\n",
       "        -0.22283749, -0.24663297],\n",
       "       [-0.85701664, -1.83083521, -0.29172538, ...,  0.39586858,\n",
       "        -0.22283749, -1.29283183],\n",
       "       [-0.835439  ,  0.06407455, -0.17467335, ...,  0.39586858,\n",
       "        -0.22283749, -1.29283183],\n",
       "       ...,\n",
       "       [ 2.06428491,  1.07015623, -0.08103173, ..., -0.19435242,\n",
       "         0.76011973, -0.24663297],\n",
       "       [ 0.01037342,  0.49335536, -0.10444214, ..., -1.18642602,\n",
       "        -1.53344712, -0.24663297],\n",
       "       [-0.82875711, -1.6842602 ,  0.0828411 , ...,  1.28747903,\n",
       "         0.76011973,  0.79956589]])"
      ]
     },
     "execution_count": 126,
     "metadata": {},
     "output_type": "execute_result"
    }
   ],
   "source": [
    "X_scaled"
   ]
  },
  {
   "cell_type": "markdown",
   "id": "91eecad6",
   "metadata": {
    "papermill": {
     "duration": 0.067043,
     "end_time": "2025-03-13T15:17:13.117705",
     "exception": false,
     "start_time": "2025-03-13T15:17:13.050662",
     "status": "completed"
    },
    "tags": []
   },
   "source": [
    "### Fitting PCA on Scaled Data for Dimensionality Reduction"
   ]
  },
  {
   "cell_type": "code",
   "execution_count": 127,
   "id": "e167675c",
   "metadata": {
    "execution": {
     "iopub.execute_input": "2025-03-13T15:17:13.252238Z",
     "iopub.status.busy": "2025-03-13T15:17:13.251803Z",
     "iopub.status.idle": "2025-03-13T15:17:13.306452Z",
     "shell.execute_reply": "2025-03-13T15:17:13.305210Z"
    },
    "papermill": {
     "duration": 0.123982,
     "end_time": "2025-03-13T15:17:13.308177",
     "exception": false,
     "start_time": "2025-03-13T15:17:13.184195",
     "status": "completed"
    },
    "tags": []
   },
   "outputs": [
    {
     "data": {
      "text/html": [
       "<style>#sk-container-id-1 {color: black;background-color: white;}#sk-container-id-1 pre{padding: 0;}#sk-container-id-1 div.sk-toggleable {background-color: white;}#sk-container-id-1 label.sk-toggleable__label {cursor: pointer;display: block;width: 100%;margin-bottom: 0;padding: 0.3em;box-sizing: border-box;text-align: center;}#sk-container-id-1 label.sk-toggleable__label-arrow:before {content: \"▸\";float: left;margin-right: 0.25em;color: #696969;}#sk-container-id-1 label.sk-toggleable__label-arrow:hover:before {color: black;}#sk-container-id-1 div.sk-estimator:hover label.sk-toggleable__label-arrow:before {color: black;}#sk-container-id-1 div.sk-toggleable__content {max-height: 0;max-width: 0;overflow: hidden;text-align: left;background-color: #f0f8ff;}#sk-container-id-1 div.sk-toggleable__content pre {margin: 0.2em;color: black;border-radius: 0.25em;background-color: #f0f8ff;}#sk-container-id-1 input.sk-toggleable__control:checked~div.sk-toggleable__content {max-height: 200px;max-width: 100%;overflow: auto;}#sk-container-id-1 input.sk-toggleable__control:checked~label.sk-toggleable__label-arrow:before {content: \"▾\";}#sk-container-id-1 div.sk-estimator input.sk-toggleable__control:checked~label.sk-toggleable__label {background-color: #d4ebff;}#sk-container-id-1 div.sk-label input.sk-toggleable__control:checked~label.sk-toggleable__label {background-color: #d4ebff;}#sk-container-id-1 input.sk-hidden--visually {border: 0;clip: rect(1px 1px 1px 1px);clip: rect(1px, 1px, 1px, 1px);height: 1px;margin: -1px;overflow: hidden;padding: 0;position: absolute;width: 1px;}#sk-container-id-1 div.sk-estimator {font-family: monospace;background-color: #f0f8ff;border: 1px dotted black;border-radius: 0.25em;box-sizing: border-box;margin-bottom: 0.5em;}#sk-container-id-1 div.sk-estimator:hover {background-color: #d4ebff;}#sk-container-id-1 div.sk-parallel-item::after {content: \"\";width: 100%;border-bottom: 1px solid gray;flex-grow: 1;}#sk-container-id-1 div.sk-label:hover label.sk-toggleable__label {background-color: #d4ebff;}#sk-container-id-1 div.sk-serial::before {content: \"\";position: absolute;border-left: 1px solid gray;box-sizing: border-box;top: 0;bottom: 0;left: 50%;z-index: 0;}#sk-container-id-1 div.sk-serial {display: flex;flex-direction: column;align-items: center;background-color: white;padding-right: 0.2em;padding-left: 0.2em;position: relative;}#sk-container-id-1 div.sk-item {position: relative;z-index: 1;}#sk-container-id-1 div.sk-parallel {display: flex;align-items: stretch;justify-content: center;background-color: white;position: relative;}#sk-container-id-1 div.sk-item::before, #sk-container-id-1 div.sk-parallel-item::before {content: \"\";position: absolute;border-left: 1px solid gray;box-sizing: border-box;top: 0;bottom: 0;left: 50%;z-index: -1;}#sk-container-id-1 div.sk-parallel-item {display: flex;flex-direction: column;z-index: 1;position: relative;background-color: white;}#sk-container-id-1 div.sk-parallel-item:first-child::after {align-self: flex-end;width: 50%;}#sk-container-id-1 div.sk-parallel-item:last-child::after {align-self: flex-start;width: 50%;}#sk-container-id-1 div.sk-parallel-item:only-child::after {width: 0;}#sk-container-id-1 div.sk-dashed-wrapped {border: 1px dashed gray;margin: 0 0.4em 0.5em 0.4em;box-sizing: border-box;padding-bottom: 0.4em;background-color: white;}#sk-container-id-1 div.sk-label label {font-family: monospace;font-weight: bold;display: inline-block;line-height: 1.2em;}#sk-container-id-1 div.sk-label-container {text-align: center;}#sk-container-id-1 div.sk-container {/* jupyter's `normalize.less` sets `[hidden] { display: none; }` but bootstrap.min.css set `[hidden] { display: none !important; }` so we also need the `!important` here to be able to override the default hidden behavior on the sphinx rendered scikit-learn.org. See: https://github.com/scikit-learn/scikit-learn/issues/21755 */display: inline-block !important;position: relative;}#sk-container-id-1 div.sk-text-repr-fallback {display: none;}</style><div id=\"sk-container-id-1\" class=\"sk-top-container\"><div class=\"sk-text-repr-fallback\"><pre>PCA()</pre><b>In a Jupyter environment, please rerun this cell to show the HTML representation or trust the notebook. <br />On GitHub, the HTML representation is unable to render, please try loading this page with nbviewer.org.</b></div><div class=\"sk-container\" hidden><div class=\"sk-item\"><div class=\"sk-estimator sk-toggleable\"><input class=\"sk-toggleable__control sk-hidden--visually\" id=\"sk-estimator-id-1\" type=\"checkbox\" checked><label for=\"sk-estimator-id-1\" class=\"sk-toggleable__label sk-toggleable__label-arrow\">PCA</label><div class=\"sk-toggleable__content\"><pre>PCA()</pre></div></div></div></div></div>"
      ],
      "text/plain": [
       "PCA()"
      ]
     },
     "execution_count": 127,
     "metadata": {},
     "output_type": "execute_result"
    }
   ],
   "source": [
    "pca = PCA()\n",
    "pca.fit(X_scaled)"
   ]
  },
  {
   "cell_type": "markdown",
   "id": "a267b88d",
   "metadata": {
    "papermill": {
     "duration": 0.066686,
     "end_time": "2025-03-13T15:17:13.444639",
     "exception": false,
     "start_time": "2025-03-13T15:17:13.377953",
     "status": "completed"
    },
    "tags": []
   },
   "source": [
    "### PCA Scree Plot: Explained and Cumulative Variance Analysis"
   ]
  },
  {
   "cell_type": "code",
   "execution_count": 128,
   "id": "b184a7c5",
   "metadata": {
    "execution": {
     "iopub.execute_input": "2025-03-13T15:17:13.582293Z",
     "iopub.status.busy": "2025-03-13T15:17:13.581883Z",
     "iopub.status.idle": "2025-03-13T15:17:13.995482Z",
     "shell.execute_reply": "2025-03-13T15:17:13.994394Z"
    },
    "papermill": {
     "duration": 0.484854,
     "end_time": "2025-03-13T15:17:13.997220",
     "exception": false,
     "start_time": "2025-03-13T15:17:13.512366",
     "status": "completed"
    },
    "tags": []
   },
   "outputs": [
    {
     "data": {
      "image/png": "[encoded data removed]",
      "text/plain": [
       "<Figure size 1000x500 with 1 Axes>"
      ]
     },
     "metadata": {},
     "output_type": "display_data"
    }
   ],
   "source": [
    "explained_variance = pca.explained_variance_ratio_\n",
    "\n",
    "plt.figure(figsize=(10, 5))\n",
    "plt.plot(range(1, len(explained_variance) + 1), np.cumsum(explained_variance), marker='o', linestyle='--', label=\"Cumulative Variance\")\n",
    "plt.bar(range(1, len(explained_variance) + 1), explained_variance, alpha=0.6, label=\"Individual Variance\")\n",
    "\n",
    "plt.xlabel(\"Number of Principal Components\")\n",
    "plt.ylabel(\"Explained Variance Ratio\")\n",
    "plt.title(\"Scree Plot for PCA\")\n",
    "plt.legend()\n",
    "plt.grid()\n",
    "plt.show()"
   ]
  },
  {
   "cell_type": "markdown",
   "id": "c377300b",
   "metadata": {
    "papermill": {
     "duration": 0.067901,
     "end_time": "2025-03-13T15:17:14.135272",
     "exception": false,
     "start_time": "2025-03-13T15:17:14.067371",
     "status": "completed"
    },
    "tags": []
   },
   "source": [
    "### Selecting the Optimal Number of Principal Components for 95% Variance Retention"
   ]
  },
  {
   "cell_type": "code",
   "execution_count": 129,
   "id": "0e545396",
   "metadata": {
    "execution": {
     "iopub.execute_input": "2025-03-13T15:17:14.273109Z",
     "iopub.status.busy": "2025-03-13T15:17:14.272717Z",
     "iopub.status.idle": "2025-03-13T15:17:14.278616Z",
     "shell.execute_reply": "2025-03-13T15:17:14.277357Z"
    },
    "papermill": {
     "duration": 0.077045,
     "end_time": "2025-03-13T15:17:14.280268",
     "exception": false,
     "start_time": "2025-03-13T15:17:14.203223",
     "status": "completed"
    },
    "tags": []
   },
   "outputs": [
    {
     "name": "stdout",
     "output_type": "stream",
     "text": [
      "The optimal number of Principal Components is: 10\n"
     ]
    }
   ],
   "source": [
    "cumulative_variance = np.cumsum(pca.explained_variance_ratio_)\n",
    "\n",
    "num_components = np.argmax(cumulative_variance >= 0.95) + 1  \n",
    "print(\"The optimal number of Principal Components is:\", num_components)"
   ]
  },
  {
   "cell_type": "markdown",
   "id": "cb31fefc",
   "metadata": {
    "papermill": {
     "duration": 0.072678,
     "end_time": "2025-03-13T15:17:14.423702",
     "exception": false,
     "start_time": "2025-03-13T15:17:14.351024",
     "status": "completed"
    },
    "tags": []
   },
   "source": [
    "### Applying PCA for Dimensionality Reduction in Machine Learning"
   ]
  },
  {
   "cell_type": "code",
   "execution_count": 130,
   "id": "c34adbd0",
   "metadata": {
    "execution": {
     "iopub.execute_input": "2025-03-13T15:17:14.592636Z",
     "iopub.status.busy": "2025-03-13T15:17:14.592290Z",
     "iopub.status.idle": "2025-03-13T15:17:14.637013Z",
     "shell.execute_reply": "2025-03-13T15:17:14.635886Z"
    },
    "papermill": {
     "duration": 0.123194,
     "end_time": "2025-03-13T15:17:14.639015",
     "exception": false,
     "start_time": "2025-03-13T15:17:14.515821",
     "status": "completed"
    },
    "tags": []
   },
   "outputs": [],
   "source": [
    "pca = PCA(n_components=num_components)\n",
    "X_pca = pca.fit_transform(X_scaled)"
   ]
  },
  {
   "cell_type": "markdown",
   "id": "28b21814",
   "metadata": {
    "papermill": {
     "duration": 0.068283,
     "end_time": "2025-03-13T15:17:14.775891",
     "exception": false,
     "start_time": "2025-03-13T15:17:14.707608",
     "status": "completed"
    },
    "tags": []
   },
   "source": [
    "### Splitting PCA-Transformed Data for Model Training and Evaluation"
   ]
  },
  {
   "cell_type": "code",
   "execution_count": 131,
   "id": "d6848863",
   "metadata": {
    "execution": {
     "iopub.execute_input": "2025-03-13T15:17:14.912777Z",
     "iopub.status.busy": "2025-03-13T15:17:14.912404Z",
     "iopub.status.idle": "2025-03-13T15:17:14.921070Z",
     "shell.execute_reply": "2025-03-13T15:17:14.919974Z"
    },
    "papermill": {
     "duration": 0.079293,
     "end_time": "2025-03-13T15:17:14.922883",
     "exception": false,
     "start_time": "2025-03-13T15:17:14.843590",
     "status": "completed"
    },
    "tags": []
   },
   "outputs": [],
   "source": [
    "X_train, X_test, y_train, y_test = train_test_split(X_pca, y, test_size=0.2, random_state=42)"
   ]
  },
  {
   "cell_type": "markdown",
   "id": "ea50b143",
   "metadata": {
    "papermill": {
     "duration": 0.069564,
     "end_time": "2025-03-13T15:17:15.062021",
     "exception": false,
     "start_time": "2025-03-13T15:17:14.992457",
     "status": "completed"
    },
    "tags": []
   },
   "source": [
    "### Displaying the Shapes of Training and Testing Datasets"
   ]
  },
  {
   "cell_type": "code",
   "execution_count": 132,
   "id": "8f29108a",
   "metadata": {
    "execution": {
     "iopub.execute_input": "2025-03-13T15:17:15.201546Z",
     "iopub.status.busy": "2025-03-13T15:17:15.201193Z",
     "iopub.status.idle": "2025-03-13T15:17:15.207399Z",
     "shell.execute_reply": "2025-03-13T15:17:15.206308Z"
    },
    "papermill": {
     "duration": 0.077517,
     "end_time": "2025-03-13T15:17:15.208975",
     "exception": false,
     "start_time": "2025-03-13T15:17:15.131458",
     "status": "completed"
    },
    "tags": []
   },
   "outputs": [
    {
     "name": "stdout",
     "output_type": "stream",
     "text": [
      "The Shape Of X_train (11768, 10)\n",
      "The Shape Of X_test (2943, 10)\n",
      "The Shape Of y_train (11768,)\n",
      "The Shape Of y_test (2943,)\n"
     ]
    }
   ],
   "source": [
    "print(f\"The Shape Of X_train {X_train.shape}\")\n",
    "print(f\"The Shape Of X_test {X_test.shape}\")\n",
    "print(f\"The Shape Of y_train {y_train.shape}\")\n",
    "print(f\"The Shape Of y_test {y_test.shape}\")"
   ]
  },
  {
   "cell_type": "markdown",
   "id": "fc48d60b",
   "metadata": {
    "papermill": {
     "duration": 0.068286,
     "end_time": "2025-03-13T15:17:15.345814",
     "exception": false,
     "start_time": "2025-03-13T15:17:15.277528",
     "status": "completed"
    },
    "tags": []
   },
   "source": [
    "### Comparison of Machine Learning Classifiers for Classification Tasks"
   ]
  },
  {
   "cell_type": "code",
   "execution_count": 133,
   "id": "3a095bcb",
   "metadata": {
    "execution": {
     "iopub.execute_input": "2025-03-13T15:17:15.485177Z",
     "iopub.status.busy": "2025-03-13T15:17:15.484741Z",
     "iopub.status.idle": "2025-03-13T15:17:15.490107Z",
     "shell.execute_reply": "2025-03-13T15:17:15.488961Z"
    },
    "papermill": {
     "duration": 0.076751,
     "end_time": "2025-03-13T15:17:15.491968",
     "exception": false,
     "start_time": "2025-03-13T15:17:15.415217",
     "status": "completed"
    },
    "tags": []
   },
   "outputs": [],
   "source": [
    "Random_Forest = RandomForestClassifier(n_estimators=100, random_state=42)\n",
    "Logistic_Regression = LogisticRegression(max_iter=1000)\n",
    "SVM = SVC()\n",
    "KNN = KNeighborsClassifier(n_neighbors=5)\n",
    "Gradient_Boosting = GradientBoostingClassifier(n_estimators=100, random_state=42)"
   ]
  },
  {
   "cell_type": "markdown",
   "id": "69a0bbff",
   "metadata": {
    "papermill": {
     "duration": 0.068582,
     "end_time": "2025-03-13T15:17:15.632026",
     "exception": false,
     "start_time": "2025-03-13T15:17:15.563444",
     "status": "completed"
    },
    "tags": []
   },
   "source": [
    "### Model Evaluation: Classification Report & Confusion Matrix"
   ]
  },
  {
   "cell_type": "code",
   "execution_count": 134,
   "id": "dbba77e5",
   "metadata": {
    "execution": {
     "iopub.execute_input": "2025-03-13T15:17:15.769756Z",
     "iopub.status.busy": "2025-03-13T15:17:15.769375Z",
     "iopub.status.idle": "2025-03-13T15:17:15.775541Z",
     "shell.execute_reply": "2025-03-13T15:17:15.774477Z"
    },
    "papermill": {
     "duration": 0.076921,
     "end_time": "2025-03-13T15:17:15.777335",
     "exception": false,
     "start_time": "2025-03-13T15:17:15.700414",
     "status": "completed"
    },
    "tags": []
   },
   "outputs": [],
   "source": [
    "def models(model):\n",
    "    model.fit(X_train,y_train)\n",
    "    y_pred = model.predict(X_test)\n",
    "    report = classification_report(y_test, y_pred, target_names=[\"Low Profit\", \"High Profit\"])\n",
    "    print(report)\n",
    "    print(\"-\"*54)\n",
    "    cm = confusion_matrix(y_test, y_pred)\n",
    "    plt.figure(figsize=(6, 4))\n",
    "    sns.heatmap(cm, annot=True, fmt=\"d\", cmap=\"Blues\", xticklabels=[\"Low Profit\", \"High Profit\"], yticklabels=[\"Low Profit\", \"High Profit\"])\n",
    "    plt.xlabel(\"Predicted\")\n",
    "    plt.ylabel(\"Actual\")\n",
    "    plt.title(\"Confusion Matrix\")\n",
    "    plt.show()"
   ]
  },
  {
   "cell_type": "markdown",
   "id": "e2aa31f2",
   "metadata": {
    "papermill": {
     "duration": 0.068971,
     "end_time": "2025-03-13T15:17:15.917371",
     "exception": false,
     "start_time": "2025-03-13T15:17:15.848400",
     "status": "completed"
    },
    "tags": []
   },
   "source": [
    "### Optimizing Predictions with Random Forest Classification"
   ]
  },
  {
   "cell_type": "code",
   "execution_count": 135,
   "id": "00547f9e",
   "metadata": {
    "execution": {
     "iopub.execute_input": "2025-03-13T15:17:16.057718Z",
     "iopub.status.busy": "2025-03-13T15:17:16.057332Z",
     "iopub.status.idle": "2025-03-13T15:17:19.794458Z",
     "shell.execute_reply": "2025-03-13T15:17:19.793086Z"
    },
    "papermill": {
     "duration": 3.810245,
     "end_time": "2025-03-13T15:17:19.796271",
     "exception": false,
     "start_time": "2025-03-13T15:17:15.986026",
     "status": "completed"
    },
    "tags": []
   },
   "outputs": [
    {
     "name": "stdout",
     "output_type": "stream",
     "text": [
      "              precision    recall  f1-score   support\n",
      "\n",
      "  Low Profit       0.94      0.90      0.92      1510\n",
      " High Profit       0.90      0.94      0.92      1433\n",
      "\n",
      "    accuracy                           0.92      2943\n",
      "   macro avg       0.92      0.92      0.92      2943\n",
      "weighted avg       0.92      0.92      0.92      2943\n",
      "\n",
      "------------------------------------------------------\n"
     ]
    },
    {
     "data": {
      "image/png": "[encoded data removed]",
      "text/plain": [
       "<Figure size 600x400 with 2 Axes>"
      ]
     },
     "metadata": {},
     "output_type": "display_data"
    }
   ],
   "source": [
    "models(Random_Forest)"
   ]
  },
  {
   "cell_type": "markdown",
   "id": "7e3f0a6a",
   "metadata": {
    "papermill": {
     "duration": 0.068339,
     "end_time": "2025-03-13T15:17:19.933885",
     "exception": false,
     "start_time": "2025-03-13T15:17:19.865546",
     "status": "completed"
    },
    "tags": []
   },
   "source": [
    "### Implementing Logistic Regression for Classification"
   ]
  },
  {
   "cell_type": "code",
   "execution_count": 136,
   "id": "286b5ebb",
   "metadata": {
    "execution": {
     "iopub.execute_input": "2025-03-13T15:17:20.073896Z",
     "iopub.status.busy": "2025-03-13T15:17:20.073498Z",
     "iopub.status.idle": "2025-03-13T15:17:20.316309Z",
     "shell.execute_reply": "2025-03-13T15:17:20.315341Z"
    },
    "papermill": {
     "duration": 0.315247,
     "end_time": "2025-03-13T15:17:20.317901",
     "exception": false,
     "start_time": "2025-03-13T15:17:20.002654",
     "status": "completed"
    },
    "tags": []
   },
   "outputs": [
    {
     "name": "stdout",
     "output_type": "stream",
     "text": [
      "              precision    recall  f1-score   support\n",
      "\n",
      "  Low Profit       0.95      0.93      0.94      1510\n",
      " High Profit       0.93      0.95      0.94      1433\n",
      "\n",
      "    accuracy                           0.94      2943\n",
      "   macro avg       0.94      0.94      0.94      2943\n",
      "weighted avg       0.94      0.94      0.94      2943\n",
      "\n",
      "------------------------------------------------------\n"
     ]
    },
    {
     "data": {
      "image/png": "[encoded data removed]",
      "text/plain": [
       "<Figure size 600x400 with 2 Axes>"
      ]
     },
     "metadata": {},
     "output_type": "display_data"
    }
   ],
   "source": [
    "models(Logistic_Regression)"
   ]
  },
  {
   "cell_type": "markdown",
   "id": "899f4e61",
   "metadata": {
    "papermill": {
     "duration": 0.068351,
     "end_time": "2025-03-13T15:17:20.456004",
     "exception": false,
     "start_time": "2025-03-13T15:17:20.387653",
     "status": "completed"
    },
    "tags": []
   },
   "source": [
    "### Machine Learning with SVM: A Practical Implementation"
   ]
  },
  {
   "cell_type": "code",
   "execution_count": 137,
   "id": "b2f11381",
   "metadata": {
    "execution": {
     "iopub.execute_input": "2025-03-13T15:17:20.598820Z",
     "iopub.status.busy": "2025-03-13T15:17:20.598452Z",
     "iopub.status.idle": "2025-03-13T15:17:23.224595Z",
     "shell.execute_reply": "2025-03-13T15:17:23.223534Z"
    },
    "papermill": {
     "duration": 2.700371,
     "end_time": "2025-03-13T15:17:23.226357",
     "exception": false,
     "start_time": "2025-03-13T15:17:20.525986",
     "status": "completed"
    },
    "tags": []
   },
   "outputs": [
    {
     "name": "stdout",
     "output_type": "stream",
     "text": [
      "              precision    recall  f1-score   support\n",
      "\n",
      "  Low Profit       0.97      0.95      0.96      1510\n",
      " High Profit       0.95      0.97      0.96      1433\n",
      "\n",
      "    accuracy                           0.96      2943\n",
      "   macro avg       0.96      0.96      0.96      2943\n",
      "weighted avg       0.96      0.96      0.96      2943\n",
      "\n",
      "------------------------------------------------------\n"
     ]
    },
    {
     "data": {
      "image/png": "[encoded data removed]",
      "text/plain": [
       "<Figure size 600x400 with 2 Axes>"
      ]
     },
     "metadata": {},
     "output_type": "display_data"
    }
   ],
   "source": [
    "models(SVM)"
   ]
  },
  {
   "cell_type": "markdown",
   "id": "0c86ad5c",
   "metadata": {
    "papermill": {
     "duration": 0.070022,
     "end_time": "2025-03-13T15:17:23.426147",
     "exception": false,
     "start_time": "2025-03-13T15:17:23.356125",
     "status": "completed"
    },
    "tags": []
   },
   "source": [
    "### Implementing K-Nearest Neighbors (KNN) for Classification and Regression"
   ]
  },
  {
   "cell_type": "code",
   "execution_count": 138,
   "id": "5d482a08",
   "metadata": {
    "execution": {
     "iopub.execute_input": "2025-03-13T15:17:23.570720Z",
     "iopub.status.busy": "2025-03-13T15:17:23.570358Z",
     "iopub.status.idle": "2025-03-13T15:17:24.072935Z",
     "shell.execute_reply": "2025-03-13T15:17:24.071997Z"
    },
    "papermill": {
     "duration": 0.577982,
     "end_time": "2025-03-13T15:17:24.074407",
     "exception": false,
     "start_time": "2025-03-13T15:17:23.496425",
     "status": "completed"
    },
    "tags": []
   },
   "outputs": [
    {
     "name": "stdout",
     "output_type": "stream",
     "text": [
      "              precision    recall  f1-score   support\n",
      "\n",
      "  Low Profit       0.89      0.84      0.86      1510\n",
      " High Profit       0.84      0.89      0.86      1433\n",
      "\n",
      "    accuracy                           0.86      2943\n",
      "   macro avg       0.86      0.86      0.86      2943\n",
      "weighted avg       0.86      0.86      0.86      2943\n",
      "\n",
      "------------------------------------------------------\n"
     ]
    },
    {
     "data": {
      "image/png": "[encoded data removed]",
      "text/plain": [
       "<Figure size 600x400 with 2 Axes>"
      ]
     },
     "metadata": {},
     "output_type": "display_data"
    }
   ],
   "source": [
    "models(KNN)"
   ]
  },
  {
   "cell_type": "markdown",
   "id": "325b70f7",
   "metadata": {
    "papermill": {
     "duration": 0.070201,
     "end_time": "2025-03-13T15:17:24.217466",
     "exception": false,
     "start_time": "2025-03-13T15:17:24.147265",
     "status": "completed"
    },
    "tags": []
   },
   "source": [
    "### Implementing Gradient Boosting for Predictive Modeling"
   ]
  },
  {
   "cell_type": "code",
   "execution_count": 139,
   "id": "45fe342b",
   "metadata": {
    "execution": {
     "iopub.execute_input": "2025-03-13T15:17:24.362196Z",
     "iopub.status.busy": "2025-03-13T15:17:24.361785Z",
     "iopub.status.idle": "2025-03-13T15:17:29.522576Z",
     "shell.execute_reply": "2025-03-13T15:17:29.521536Z"
    },
    "papermill": {
     "duration": 5.236183,
     "end_time": "2025-03-13T15:17:29.524316",
     "exception": false,
     "start_time": "2025-03-13T15:17:24.288133",
     "status": "completed"
    },
    "tags": []
   },
   "outputs": [
    {
     "name": "stdout",
     "output_type": "stream",
     "text": [
      "              precision    recall  f1-score   support\n",
      "\n",
      "  Low Profit       0.96      0.89      0.93      1510\n",
      " High Profit       0.90      0.96      0.93      1433\n",
      "\n",
      "    accuracy                           0.93      2943\n",
      "   macro avg       0.93      0.93      0.93      2943\n",
      "weighted avg       0.93      0.93      0.93      2943\n",
      "\n",
      "------------------------------------------------------\n"
     ]
    },
    {
     "data": {
      "image/png": "[encoded data removed]",
      "text/plain": [
       "<Figure size 600x400 with 2 Axes>"
      ]
     },
     "metadata": {},
     "output_type": "display_data"
    }
   ],
   "source": [
    "models(Gradient_Boosting)"
   ]
  },
  {
   "cell_type": "markdown",
   "id": "d3e9a898",
   "metadata": {
    "papermill": {
     "duration": 0.072859,
     "end_time": "2025-03-13T15:17:29.671177",
     "exception": false,
     "start_time": "2025-03-13T15:17:29.598318",
     "status": "completed"
    },
    "tags": []
   },
   "source": [
    "### Performance Comparison of Machine Learning Models Based on Accuracy"
   ]
  },
  {
   "cell_type": "code",
   "execution_count": 140,
   "id": "569193ce",
   "metadata": {
    "execution": {
     "iopub.execute_input": "2025-03-13T15:17:29.823376Z",
     "iopub.status.busy": "2025-03-13T15:17:29.822996Z",
     "iopub.status.idle": "2025-03-13T15:17:41.155120Z",
     "shell.execute_reply": "2025-03-13T15:17:41.154003Z"
    },
    "papermill": {
     "duration": 11.41334,
     "end_time": "2025-03-13T15:17:41.156817",
     "exception": false,
     "start_time": "2025-03-13T15:17:29.743477",
     "status": "completed"
    },
    "tags": []
   },
   "outputs": [
    {
     "name": "stdout",
     "output_type": "stream",
     "text": [
      "                 Model  Accuracy\n",
      "0                  SVM  0.958885\n",
      "1  Logistic Regression  0.938158\n",
      "2    Gradient Boosting  0.926606\n",
      "3        Random Forest  0.921848\n",
      "4                  KNN  0.861366\n"
     ]
    },
    {
     "data": {
      "image/png": "[encoded data removed]",
      "text/plain": [
       "<Figure size 1000x600 with 1 Axes>"
      ]
     },
     "metadata": {},
     "output_type": "display_data"
    }
   ],
   "source": [
    "models = {\n",
    "    'SVM': SVM,\n",
    "    'Logistic Regression': Logistic_Regression,\n",
    "    'Gradient Boosting': Gradient_Boosting,\n",
    "    'Random Forest': Random_Forest,\n",
    "    'KNN': KNN\n",
    "}\n",
    "\n",
    "results = []\n",
    "for name, model in models.items():\n",
    "    model.fit(X_train, y_train)  \n",
    "    y_pred = model.predict(X_test)  \n",
    "    accuracy = accuracy_score(y_test, y_pred)  \n",
    "    results.append({'Model': name, 'Accuracy': accuracy})\n",
    "\n",
    "results_df = pd.DataFrame(results)\n",
    "\n",
    "results_df = results_df.sort_values(by='Accuracy', ascending=False)\n",
    "\n",
    "print(results_df)\n",
    "\n",
    "plt.figure(figsize=(10, 6))\n",
    "sns.barplot(data=results_df, x='Model', y='Accuracy', palette='viridis')\n",
    "plt.title('Model Accuracy Comparison', fontsize=16)\n",
    "plt.xlabel('Model', fontsize=14)\n",
    "plt.ylabel('Accuracy', fontsize=14)\n",
    "plt.ylim(0, 1.0) \n",
    "plt.xticks(rotation=45) \n",
    "for index, row in results_df.iterrows():\n",
    "    plt.text(row.name, row['Accuracy'] + 0.02, f\"{row['Accuracy']:.2%}\", \n",
    "             ha='center', fontsize=12, color='black', fontweight='bold')\n",
    "\n",
    "plt.show()"
   ]
  },
  {
   "cell_type": "markdown",
   "id": "a71d3803",
   "metadata": {
    "papermill": {
     "duration": 0.071903,
     "end_time": "2025-03-13T15:17:41.302287",
     "exception": false,
     "start_time": "2025-03-13T15:17:41.230384",
     "status": "completed"
    },
    "tags": []
   },
   "source": [
    "###  Thank you everyone,I hope the notebook is useful for everyone"
   ]
  }
 ],
 "metadata": {
  "kaggle": {
   "accelerator": "none",
   "dataSources": [
    {
     "datasetId": 6702179,
     "sourceId": 10798662,
     "sourceType": "datasetVersion"
    }
   ],
   "dockerImageVersionId": 30839,
   "isGpuEnabled": false,
   "isInternetEnabled": false,
   "language": "python",
   "sourceType": "notebook"
  },
  "kernelspec": {
   "display_name": "Python 3",
   "language": "python",
   "name": "python3"
  },
  "language_info": {
   "codemirror_mode": {
    "name": "ipython",
    "version": 3
   },
   "file_extension": ".py",
   "mimetype": "text/x-python",
   "name": "python",
   "nbconvert_exporter": "python",
   "pygments_lexer": "ipython3",
   "version": "3.10.12"
  },
  "papermill": {
   "default_parameters": {},
   "duration": 84.942125,
   "end_time": "2025-03-13T15:17:42.297135",
   "environment_variables": {},
   "exception": null,
   "input_path": "__notebook__.ipynb",
   "output_path": "__notebook__.ipynb",
   "parameters": {},
   "start_time": "2025-03-13T15:16:17.355010",
   "version": "2.6.0"
  }
 },
 "nbformat": 4,
 "nbformat_minor": 5
}
